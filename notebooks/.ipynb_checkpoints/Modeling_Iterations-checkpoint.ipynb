{
 "cells": [
  {
   "cell_type": "code",
<<<<<<< HEAD
<<<<<<< HEAD
   "execution_count": 91,
=======
   "execution_count": 46,
>>>>>>> 99ad7cca37deb622d3e9c9c20442d31094159b18
=======
   "execution_count": 46,
>>>>>>> 99ad7cca37deb622d3e9c9c20442d31094159b18
   "metadata": {
    "colab": {},
    "colab_type": "code",
    "id": "NsyVL27dBlWI"
   },
   "outputs": [],
   "source": [
    "# importing standard packages\n",
    "import pandas as pd\n",
    "import numpy as np \n",
    "from scipy import stats \n",
    "\n",
    "# importing the plot funnctions\n",
    "import seaborn as sns \n",
    "import matplotlib.pyplot as plt\n",
    "%matplotlib inline \n",
    "\n",
    "# preprocessing/ model selection \n",
    "from sklearn.model_selection import train_test_split\n",
    "from sklearn.model_selection import cross_val_score\n",
    "\n",
    "# importing the classifiers \n",
    "from lightgbm import LGBMClassifier\n",
    "from xgboost import XGBClassifier\n",
    "from sklearn.ensemble import GradientBoostingClassifier\n",
<<<<<<< HEAD
<<<<<<< HEAD
=======
    "from sklearn.ensemble import RandomForestClassifier\n",
>>>>>>> 99ad7cca37deb622d3e9c9c20442d31094159b18
=======
    "from sklearn.ensemble import RandomForestClassifier\n",
>>>>>>> 99ad7cca37deb622d3e9c9c20442d31094159b18
    "\n",
    "# importing the metrics \n",
    "from sklearn.metrics import roc_auc_score\n",
    "from sklearn.metrics import confusion_matrix, accuracy_score, precision_score, recall_score, classification_report,f1_score\n",
    "from sklearn.metrics import roc_curve\n",
    "\n",
    "# oversampling techniques \n",
    "from imblearn.over_sampling import SMOTE\n",
    "\n",
    "# importing model saving package \n",
    "from joblib import dump, load\n"
   ]
  },
  {
   "cell_type": "markdown",
   "metadata": {},
   "source": [
    "## Functions for Notebooks"
   ]
  },
  {
   "cell_type": "code",
<<<<<<< HEAD
<<<<<<< HEAD
   "execution_count": 92,
=======
   "execution_count": 47,
>>>>>>> 99ad7cca37deb622d3e9c9c20442d31094159b18
=======
   "execution_count": 47,
>>>>>>> 99ad7cca37deb622d3e9c9c20442d31094159b18
   "metadata": {
    "colab": {},
    "colab_type": "code",
    "id": "rH25auEUCxb3"
   },
   "outputs": [],
   "source": [
    "def draw_conf_mat(mat):\n",
    "    \n",
    "    \"\"\"\n",
    "    Draw confusion matrix\n",
    "    \n",
    "    Parameters:\n",
    "    ------------------\n",
    "    mat:                ndarray of shape (n_classes, n_classes) \n",
    "                        confusion matrix\n",
    "\n",
    "    \"\"\"\n",
    "    \n",
    "    import matplotlib.pyplot as plt \n",
    "    import seaborn as sns\n",
    "    \n",
    "    fig, ax = plt.subplots(figsize=(10, 10))\n",
    "    sns.heatmap(mat, annot=True, fmt=\"d\",\n",
    "            xticklabels=['0', '1'],\n",
    "            yticklabels=['0', '1'])\n",
    "    plt.ylabel(\"Actual\")\n",
    "    plt.xlabel(\"Predicted\")\n",
    "    \n",
    "    return ax"
   ]
  },
  {
   "cell_type": "code",
<<<<<<< HEAD
<<<<<<< HEAD
   "execution_count": 93,
=======
   "execution_count": 48,
>>>>>>> 99ad7cca37deb622d3e9c9c20442d31094159b18
=======
   "execution_count": 48,
>>>>>>> 99ad7cca37deb622d3e9c9c20442d31094159b18
   "metadata": {
    "colab": {},
    "colab_type": "code",
    "id": "HPZbfv6KCxgE"
   },
   "outputs": [],
   "source": [
    "def draw_roc_curve(y_true, y_proba):\n",
    "    \n",
    "    \"\"\"\n",
    "    Draw baseline and model roc curve\n",
    "    \n",
    "    Parameters:\n",
    "    ------------------\n",
    "    y_true:             array-like of shape (n_samples,) \n",
    "                        True label of target (y)\n",
    "                        \n",
    "    y_proba             array-like of shape (n_samples,)\n",
    "                        The predicted probability of target (y)\n",
    "    \"\"\"\n",
    "    \n",
    "    \n",
    "    base_fpr, base_tpr, _ = roc_curve(y_true, [1 for _ in range(len(y_true))])\n",
    "    model_fpr, model_tpr, _ = roc_curve(y_true, y_proba)\n",
    "    \n",
    "    fig, ax = plt.subplots(figsize=(10, 6))\n",
    "    plt.plot(base_fpr, base_tpr, 'b', label = 'baseline')\n",
    "    plt.plot(model_fpr, model_tpr, 'r', label = 'model')\n",
    "    plt.legend();\n",
    "    plt.xlabel('False Positive Rate'); plt.ylabel('True Positive Rate'); plt.title('ROC Curves');\n",
    "    \n",
    "    return ax"
   ]
  },
  {
   "cell_type": "code",
<<<<<<< HEAD
<<<<<<< HEAD
   "execution_count": 94,
=======
   "execution_count": 49,
>>>>>>> 99ad7cca37deb622d3e9c9c20442d31094159b18
=======
   "execution_count": 49,
>>>>>>> 99ad7cca37deb622d3e9c9c20442d31094159b18
   "metadata": {
    "colab": {},
    "colab_type": "code",
    "id": "_eWOeVWsCxjc"
   },
   "outputs": [],
   "source": [
    "def metrics_imbalanced(your_confusion_matrix, y_true, y_proba):\n",
    "    \n",
    "    \"\"\"\n",
    "    Print precision, recall, fallout and auroc score based on the confusion matrix. \n",
    "    \n",
    "    Parameters:\n",
    "    ------------------\n",
    "    your_confusion_matrix:                ndarray of shape (n_classes, n_classes) \n",
    "                                          confusion matrix\n",
    "                                          \n",
    "    y_true:                               array-like of shape (n_samples,) \n",
    "                                          True label of target (y)\n",
    "                                          \n",
    "    y_proba:                              y_proba             array-like of shape (n_samples,)\n",
    "                                          The predicted probability of target (y)\n",
    "    \"\"\"\n",
    "    \n",
    "    # Model evaluation metrics. \n",
    "    tp = your_confusion_matrix[1,1]\n",
    "    fn = your_confusion_matrix[1,0]\n",
    "    fp = your_confusion_matrix[0,1]\n",
    "    tn = your_confusion_matrix[0,0]\n",
    "    auroc = roc_auc_score(y_true, y_proba)\n",
    "    \n",
    "    print('Precision = %0.3f'%(tp/(tp+fp)))\n",
    "    print('Recall (TPR) = %0.3f'%(tp/(tp+fn)))\n",
    "    print('Fallout (FPR) = %0.3f'%(fp/(fp+tn)))\n",
    "    print('Roc_auc_score = %0.3f'%auroc)"
   ]
  },
  {
   "cell_type": "code",
<<<<<<< HEAD
<<<<<<< HEAD
   "execution_count": 95,
=======
   "execution_count": 50,
>>>>>>> 99ad7cca37deb622d3e9c9c20442d31094159b18
=======
   "execution_count": 50,
>>>>>>> 99ad7cca37deb622d3e9c9c20442d31094159b18
   "metadata": {
    "colab": {},
    "colab_type": "code",
    "id": "CeWJxOh_FRXT"
   },
   "outputs": [],
   "source": [
    "def resampling_unbalanced(train_x, train_y, sample_method):\n",
    "    \"\"\" \n",
    "\n",
    "    Parameters\n",
    "    ----------\n",
    "    train_x : test_x \n",
    "            pd.DataFrame\n",
    "    train_y : train_y \n",
    "            pd.DataFrame\n",
    "    sample_method: 'over' or 'under'\n",
    "            string\n",
    "\n",
    "    Returns\n",
    "    -------\n",
    "    train_x : resampled train_x\n",
    "                pd.DataFrame\n",
    "    train_y : resampled train_y\n",
    "                pd.DataFrame\n",
    "        \n",
    "\n",
    "    \"\"\"\n",
    "    \n",
    "    \n",
    "    if sample_method == \"over\":\n",
    "        oversample = SMOTE()\n",
    "        train_x_ros, train_y_ros = oversample.fit_resample(X_train, y_train)\n",
    "        \n",
    "        return train_x_ros, train_y_ros\n",
    "        \n",
    "    if sample_method == \"under\":\n",
    "        # Concate X and Y train\n",
    "        trainData = pd.concat([train_x, train_y],axis=1)\n",
    "        # Class count\n",
    "        count_class_0, count_class_1 = trainData[\"hospital_death\"].value_counts()\n",
    "\n",
    "        # Divide by class\n",
    "        df_class_0 = trainData[trainData['hospital_death'] == 0]\n",
    "        df_class_1 = trainData[trainData['hospital_death'] == 1]\n",
    "        \n",
    "        # Sample the majority class\n",
    "        df_class_0_under = df_class_0.sample(count_class_1)\n",
    "        \n",
    "        # Put the train dataset together\n",
    "        train_rus = pd.concat([df_class_0_under, df_class_1], axis=0)\n",
    "        train_x_rus = train_rus.drop(\"hospital_death\", axis = 1)\n",
    "        train_y_rus = pd.DataFrame(train_rus['hospital_death'])\n",
    "        \n",
    "        return train_x_rus, train_y_rus"
   ]
  },
  {
   "cell_type": "markdown",
   "metadata": {},
   "source": [
    "## Bring in the X_wids and y_wids from the WIDS_Feature_Engineer.ipynb\n",
    "Run the WIDS Feature Engineer Notebook first in order to grab the dataframes"
   ]
  },
  {
   "cell_type": "code",
<<<<<<< HEAD
<<<<<<< HEAD
   "execution_count": 96,
=======
   "execution_count": 51,
>>>>>>> 99ad7cca37deb622d3e9c9c20442d31094159b18
=======
   "execution_count": 51,
>>>>>>> 99ad7cca37deb622d3e9c9c20442d31094159b18
   "metadata": {},
   "outputs": [],
   "source": [
    "# grab the stored data frames\n",
    "%store -r X_wids\n",
    "%store -r y_wids"
   ]
  },
  {
   "cell_type": "code",
<<<<<<< HEAD
<<<<<<< HEAD
   "execution_count": 97,
=======
   "execution_count": 52,
>>>>>>> 99ad7cca37deb622d3e9c9c20442d31094159b18
=======
   "execution_count": 52,
>>>>>>> 99ad7cca37deb622d3e9c9c20442d31094159b18
   "metadata": {},
   "outputs": [
    {
     "data": {
      "text/plain": [
       "((91713, 453), (91713, 1))"
      ]
     },
<<<<<<< HEAD
<<<<<<< HEAD
     "execution_count": 97,
=======
     "execution_count": 52,
>>>>>>> 99ad7cca37deb622d3e9c9c20442d31094159b18
=======
     "execution_count": 52,
>>>>>>> 99ad7cca37deb622d3e9c9c20442d31094159b18
     "metadata": {},
     "output_type": "execute_result"
    }
   ],
   "source": [
    "X_wids.shape, y_wids.shape"
   ]
  },
  {
   "cell_type": "markdown",
   "metadata": {},
   "source": [
    "## Train Test Split without Correction of Imbalanced Data"
   ]
  },
  {
   "cell_type": "code",
<<<<<<< HEAD
<<<<<<< HEAD
   "execution_count": 98,
=======
   "execution_count": 53,
>>>>>>> 99ad7cca37deb622d3e9c9c20442d31094159b18
=======
   "execution_count": 53,
>>>>>>> 99ad7cca37deb622d3e9c9c20442d31094159b18
   "metadata": {
    "colab": {},
    "colab_type": "code",
    "id": "IW5A_6luGi1J"
   },
   "outputs": [
    {
     "name": "stdout",
     "output_type": "stream",
     "text": [
      "(73370, 453) (18343, 453) (73370, 1) (18343, 1)\n"
     ]
    }
   ],
   "source": [
    "# Split train-test dataset \n",
    "from sklearn.model_selection import train_test_split\n",
    "\n",
    "X_train, X_test, y_train, y_test = train_test_split(X_wids, y_wids, test_size = 0.2, random_state = 31, stratify = y_wids)\n",
    "\n",
    "print(X_train.shape, X_test.shape, y_train.shape, y_test.shape)"
   ]
  },
  {
   "cell_type": "markdown",
   "metadata": {},
   "source": [
    "## Models with No Correction Of Imbalanced Data"
   ]
  },
  {
   "cell_type": "code",
<<<<<<< HEAD
<<<<<<< HEAD
   "execution_count": 0,
=======
   "execution_count": 54,
>>>>>>> 99ad7cca37deb622d3e9c9c20442d31094159b18
=======
   "execution_count": 54,
>>>>>>> 99ad7cca37deb622d3e9c9c20442d31094159b18
   "metadata": {
    "colab": {},
    "colab_type": "code",
    "id": "3Q7I7h51DZLh"
   },
   "outputs": [],
   "source": [
    "# create a dictionary of classifers with the hyperparameters you would like to try \n",
<<<<<<< HEAD
<<<<<<< HEAD
    "classifiers = {'XG': XGBClassifier(n_jobs = 1, learning_rate = .1, n_estimators = 100, objective = 'binary', booster='gbtree', max_depth = 7 ),\n",
=======
    "classifiers = {'XG': XGBClassifier(n_jobs = 1, learning_rate = .1, n_estimators = 100, objective = 'binary:hinge', booster='gbtree', max_depth = 7 ),\n",
>>>>>>> 99ad7cca37deb622d3e9c9c20442d31094159b18
=======
    "classifiers = {'XG': XGBClassifier(n_jobs = 1, learning_rate = .1, n_estimators = 100, objective = 'binary:hinge', booster='gbtree', max_depth = 7 ),\n",
>>>>>>> 99ad7cca37deb622d3e9c9c20442d31094159b18
    "              'RF': RandomForestClassifier(n_estimators= 100, max_depth = 7),\n",
    "              'LGB': LGBMClassifier(booster ='gbtree', n_estimators = 100, learning_rate = .1, max_depth = 7, objective ='binary')}"
   ]
  },
  {
   "cell_type": "code",
<<<<<<< HEAD
<<<<<<< HEAD
   "execution_count": 0,
=======
   "execution_count": 55,
>>>>>>> 99ad7cca37deb622d3e9c9c20442d31094159b18
=======
   "execution_count": 55,
>>>>>>> 99ad7cca37deb622d3e9c9c20442d31094159b18
   "metadata": {
    "colab": {},
    "colab_type": "code",
    "id": "0IQvBAsODZTj"
   },
   "outputs": [],
   "source": [
    "# keys of the classifiers \n",
    "selected_clfs = ['XG', 'RF', 'LGB']"
   ]
  },
  {
   "cell_type": "code",
<<<<<<< HEAD
<<<<<<< HEAD
   "execution_count": 0,
   "metadata": {
    "colab": {},
    "colab_type": "code",
    "id": "JmUV-PlKDZap"
   },
   "outputs": [],
=======
=======
>>>>>>> 99ad7cca37deb622d3e9c9c20442d31094159b18
   "execution_count": 56,
   "metadata": {
    "colab": {},
    "colab_type": "code",
    "id": "JmUV-PlKDZap",
    "scrolled": false
   },
   "outputs": [
    {
     "name": "stdout",
     "output_type": "stream",
     "text": [
      "-------- classifier being run is XG ---------\n",
      "-------- saving the the model ---------\n",
      "-------- computing y_predict, y_prob, y_train_predict ---------\n",
      "-------- creating the confusion matrix ---------\n",
      "-------- calculating the metrics ---------\n",
      "Cross Validation is on 4 folds.\n",
      "-------- append values to the model matrix  ---------\n",
      "-------- classifier being run is RF ---------\n",
      "-------- saving the the model ---------\n",
      "-------- computing y_predict, y_prob, y_train_predict ---------\n",
      "-------- creating the confusion matrix ---------\n",
      "-------- calculating the metrics ---------\n",
      "Cross Validation is on 4 folds.\n",
      "-------- append values to the model matrix  ---------\n",
      "-------- classifier being run is LGB ---------\n",
      "-------- saving the the model ---------\n",
      "-------- computing y_predict, y_prob, y_train_predict ---------\n",
      "-------- creating the confusion matrix ---------\n",
      "-------- calculating the metrics ---------\n",
      "Cross Validation is on 4 folds.\n",
      "-------- append values to the model matrix  ---------\n"
     ]
    }
   ],
<<<<<<< HEAD
>>>>>>> 99ad7cca37deb622d3e9c9c20442d31094159b18
=======
>>>>>>> 99ad7cca37deb622d3e9c9c20442d31094159b18
   "source": [
    "# create the clf_matrix \n",
    "clf_matrix = pd.DataFrame(columns = ['model', 'precision_test', 'recall_test', 'FPR_test', 'AUROC_test',\n",
    "                                     'f1_test', 'f1_train', 'f1_CV'])\n",
    "\n",
    "# for every classifer in the selected classifers list\n",
    "for idx, classifier in enumerate(selected_clfs):\n",
    "\n",
    "    # get the classifer and hyperparameters from the model\n",
    "    clf = classifiers[classifier]\n",
    "\n",
    "    # fit the model \n",
<<<<<<< HEAD
<<<<<<< HEAD
    "    clf.fit(X_train,y_train)\n",
=======
    "    clf.fit(X_train,y_train.values.ravel())\n",
>>>>>>> 99ad7cca37deb622d3e9c9c20442d31094159b18
=======
    "    clf.fit(X_train,y_train.values.ravel())\n",
>>>>>>> 99ad7cca37deb622d3e9c9c20442d31094159b18
    "    print(f\"-------- classifier being run is {classifier} ---------\")\n",
    "\n",
    "    print(f\"-------- saving the the model ---------\")\n",
    "    # Write the model to file\n",
    "    dump(clf, '{}.joblib'.format(classifier)) \n",
    "\n",
    "    print(f\"-------- computing y_predict, y_prob, y_train_predict ---------\")\n",
    "    # prediction of y based on X_test\n",
    "    y_predict = clf.predict(X_test)\n",
    "    # prediction of y probability based on X_test\n",
    "    y_proba = clf.predict_proba(X_test)[:,1]\n",
    "    # prediction of y based on X_train\n",
    "    y_train_predict = clf.predict(X_train)\n",
    "\n",
    "    print(f\"-------- creating the confusion matrix ---------\") \n",
    "    # confusion matrix \n",
<<<<<<< HEAD
<<<<<<< HEAD
    "    cmat = confusion_matrix(y_test, y_predict)\n",
=======
    "    cmat = confusion_matrix(y_test.values.ravel(), y_predict)\n",
>>>>>>> 99ad7cca37deb622d3e9c9c20442d31094159b18
=======
    "    cmat = confusion_matrix(y_test.values.ravel(), y_predict)\n",
>>>>>>> 99ad7cca37deb622d3e9c9c20442d31094159b18
    "    # tp, fn, fp, tn\n",
    "    tp = cmat[1,1]\n",
    "    fn = cmat[1,0]\n",
    "    fp = cmat[0,1]\n",
    "    tn = cmat[0,0]\n",
    "\n",
    "    print(f\"-------- calculating the metrics ---------\") \n",
    "    #precision score on test\n",
<<<<<<< HEAD
<<<<<<< HEAD
    "    p_score_test = precision_score(y_test, y_predict)\n",
=======
    "    p_score_test = precision_score(y_test.values.ravel(), y_predict)\n",
>>>>>>> 99ad7cca37deb622d3e9c9c20442d31094159b18
=======
    "    p_score_test = precision_score(y_test.values.ravel(), y_predict)\n",
>>>>>>> 99ad7cca37deb622d3e9c9c20442d31094159b18
    "\n",
    "    #recall score on test\n",
    "    r_score_test = tp/(tp+fn) \n",
    "\n",
    "    #FPR score on test\n",
    "    fpr_test = fp/(fp+tn)\n",
    "\n",
    "    #AUROC score on test\n",
<<<<<<< HEAD
<<<<<<< HEAD
    "    auroc_test = roc_auc_score(y_test, y_proba)\n",
    "\n",
    "    #f1 score on test\n",
    "    f1_test = f1_score(y_test, y_predict)\n",
    "\n",
    "    #f1 score on train\n",
    "    f1_train = f1_score(y_train, y_train_predict)\n",
    "\n",
    "    #f1 score on cross validation \n",
    "    k_fold = 4\n",
    "    f1_cv = cross_val_score(clf, X_train, y_train, cv=k_fold, scoring = 'f1')\n",
=======
=======
>>>>>>> 99ad7cca37deb622d3e9c9c20442d31094159b18
    "    auroc_test = roc_auc_score(y_test.values.ravel(), y_proba)\n",
    "\n",
    "    #f1 score on test\n",
    "    f1_test = f1_score(y_test.values.ravel(), y_predict)\n",
    "\n",
    "    #f1 score on train\n",
    "    f1_train = f1_score(y_train.values.ravel(), y_train_predict)\n",
    "\n",
    "    #f1 score on cross validation \n",
    "    k_fold = 4\n",
    "    f1_cv = cross_val_score(clf, X_train, y_train.values.ravel(), cv=k_fold, scoring = 'f1')\n",
<<<<<<< HEAD
>>>>>>> 99ad7cca37deb622d3e9c9c20442d31094159b18
=======
>>>>>>> 99ad7cca37deb622d3e9c9c20442d31094159b18
    "    print(f\"Cross Validation is on {k_fold} folds.\")\n",
    "\n",
    "    print(f\"-------- append values to the model matrix  ---------\") \n",
    "\n",
    "    # append to matrix\n",
<<<<<<< HEAD
<<<<<<< HEAD
    "    df2 = pd.DataFrame([[classifier,p_score_test,r_score_test, fpr_test, auroc_test, f1_test, f1_train, f1_cv]], columns=['model', 'precision_test', 'recall_test', 'FPR_test', 'AUROC_test',\n",
=======
    "    df2 = pd.DataFrame([[classifier,p_score_test,r_score_test, fpr_test, auroc_test, f1_test, f1_train, f1_cv]], \n",
    "                       columns=['model', 'precision_test', 'recall_test', 'FPR_test', 'AUROC_test',\n",
>>>>>>> 99ad7cca37deb622d3e9c9c20442d31094159b18
=======
    "    df2 = pd.DataFrame([[classifier,p_score_test,r_score_test, fpr_test, auroc_test, f1_test, f1_train, f1_cv]], \n",
    "                       columns=['model', 'precision_test', 'recall_test', 'FPR_test', 'AUROC_test',\n",
>>>>>>> 99ad7cca37deb622d3e9c9c20442d31094159b18
    "                                     'f1_test', 'f1_train', 'f1_CV'])\n",
    "    \n",
    "    clf_matrix = pd.concat([df2, clf_matrix])\n"
   ]
  },
  {
   "cell_type": "code",
<<<<<<< HEAD
<<<<<<< HEAD
   "execution_count": 0,
   "metadata": {
    "colab": {},
    "colab_type": "code",
    "id": "KKpE21Dod-y_"
   },
   "outputs": [],
=======
=======
>>>>>>> 99ad7cca37deb622d3e9c9c20442d31094159b18
   "execution_count": 57,
   "metadata": {
    "colab": {},
    "colab_type": "code",
    "id": "KKpE21Dod-y_",
    "scrolled": false
   },
   "outputs": [
    {
     "name": "stdout",
     "output_type": "stream",
     "text": [
      "XG\n",
      "RF\n",
      "LGB\n"
     ]
    },
    {
     "data": {
      "image/png": "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\n",
      "text/plain": [
       "<Figure size 720x720 with 2 Axes>"
      ]
     },
     "metadata": {
      "needs_background": "light"
     },
     "output_type": "display_data"
    },
    {
     "data": {
      "image/png": "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\n",
      "text/plain": [
       "<Figure size 720x720 with 2 Axes>"
      ]
     },
     "metadata": {
      "needs_background": "light"
     },
     "output_type": "display_data"
    },
    {
     "data": {
      "image/png": "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\n",
      "text/plain": [
       "<Figure size 720x720 with 2 Axes>"
      ]
     },
     "metadata": {
      "needs_background": "light"
     },
     "output_type": "display_data"
    }
   ],
<<<<<<< HEAD
>>>>>>> 99ad7cca37deb622d3e9c9c20442d31094159b18
=======
>>>>>>> 99ad7cca37deb622d3e9c9c20442d31094159b18
   "source": [
    "# Draw confusion matrix for each model \n",
    "for classifier in selected_clfs:\n",
    "\n",
    "  # Load model saved\n",
    "  clf = load('{}.joblib'.format(classifier)) \n",
    "\n",
    "  # Predict y based on X_test\n",
    "  y_predict = clf.predict(X_test)\n",
    "\n",
    "  # confusion matrix\n",
    "  cm = confusion_matrix(y_test, y_predict)\n",
    "\n",
    "  # Draw\n",
    "  print(classifier)\n",
    "  draw_conf_mat(cm)\n"
   ]
  },
  {
   "cell_type": "markdown",
   "metadata": {},
   "source": [
    "## Models with Correction Of Imbalanced Data Using Undersampling"
   ]
  },
  {
   "cell_type": "code",
<<<<<<< HEAD
<<<<<<< HEAD
   "execution_count": 0,
=======
   "execution_count": 58,
>>>>>>> 99ad7cca37deb622d3e9c9c20442d31094159b18
=======
   "execution_count": 58,
>>>>>>> 99ad7cca37deb622d3e9c9c20442d31094159b18
   "metadata": {
    "colab": {},
    "colab_type": "code",
    "id": "VAQNTHxyCxqh"
   },
   "outputs": [],
   "source": [
<<<<<<< HEAD
<<<<<<< HEAD
    "# # create a dictionary of classifers with the hyperparameters you would like to try \n",
    "# classifiers = {'XG_U': XGBClassifier(n_jobs = 1, learning_rate = .1, n_estimators = 100, objective = 'binary', booster='gbtree', max_depth = 7 ),\n",
    "#               'RF_U': RandomForestClassifier(n_estimators= 100, max_depth = 7),\n",
    "#               'LGB_U': LGBMClassifier(booster ='gbtree', n_estimators = 100, learning_rate = .1, max_depth = 7, objective ='binary')}"
=======
=======
>>>>>>> 99ad7cca37deb622d3e9c9c20442d31094159b18
    "# create a dictionary of classifers with the hyperparameters you would like to try \n",
    "classifiers = {'XG_U': XGBClassifier(n_jobs = 1, learning_rate = .1, n_estimators = 100, objective = 'binary:hinge', booster='gbtree', max_depth = 7 ),\n",
    "              'RF_U': RandomForestClassifier(n_estimators= 100, max_depth = 7),\n",
    "              'LGB_U': LGBMClassifier(booster ='gbtree', n_estimators = 100, learning_rate = .1, max_depth = 7, objective ='binary')}"
<<<<<<< HEAD
>>>>>>> 99ad7cca37deb622d3e9c9c20442d31094159b18
=======
>>>>>>> 99ad7cca37deb622d3e9c9c20442d31094159b18
   ]
  },
  {
   "cell_type": "code",
<<<<<<< HEAD
<<<<<<< HEAD
   "execution_count": 0,
=======
   "execution_count": 59,
>>>>>>> 99ad7cca37deb622d3e9c9c20442d31094159b18
=======
   "execution_count": 59,
>>>>>>> 99ad7cca37deb622d3e9c9c20442d31094159b18
   "metadata": {
    "colab": {},
    "colab_type": "code",
    "id": "Aeu5vtTECxmm"
   },
   "outputs": [],
   "source": [
<<<<<<< HEAD
<<<<<<< HEAD
    "# # keys for the classifiers \n",
    "# selected_clfs = ['XG_U', 'RF_U', 'LGB_U']"
   ]
  },
  {
   "cell_type": "code",
   "execution_count": 99,
   "metadata": {},
   "outputs": [],
   "source": [
    "# create a dictionary of classifers with the hyperparameters you would like to try \n",
    "classifiers = {'LGB_U': LGBMClassifier(booster ='gbtree', n_estimators = 100, learning_rate = .1, max_depth = 7, objective ='binary')}"
   ]
  },
  {
   "cell_type": "code",
   "execution_count": 100,
   "metadata": {},
   "outputs": [],
   "source": [
    "# keys for the classifiers \n",
    "selected_clfs = ['LGB_U']"
=======
    "# keys for the classifiers \n",
    "selected_clfs = ['XG_U', 'RF_U', 'LGB_U']"
>>>>>>> 99ad7cca37deb622d3e9c9c20442d31094159b18
=======
    "# keys for the classifiers \n",
    "selected_clfs = ['XG_U', 'RF_U', 'LGB_U']"
>>>>>>> 99ad7cca37deb622d3e9c9c20442d31094159b18
   ]
  },
  {
   "cell_type": "markdown",
   "metadata": {},
   "source": [
    "new train test split for imbalanced data. Undersampling Data!"
   ]
  },
  {
   "cell_type": "code",
<<<<<<< HEAD
<<<<<<< HEAD
   "execution_count": 101,
=======
   "execution_count": 60,
>>>>>>> 99ad7cca37deb622d3e9c9c20442d31094159b18
=======
   "execution_count": 60,
>>>>>>> 99ad7cca37deb622d3e9c9c20442d31094159b18
   "metadata": {},
   "outputs": [],
   "source": [
    "X_train_U, y_train_U = resampling_unbalanced(X_train, y_train, \"under\")"
   ]
  },
  {
   "cell_type": "code",
<<<<<<< HEAD
<<<<<<< HEAD
   "execution_count": 102,
=======
   "execution_count": 61,
>>>>>>> 99ad7cca37deb622d3e9c9c20442d31094159b18
=======
   "execution_count": 61,
>>>>>>> 99ad7cca37deb622d3e9c9c20442d31094159b18
   "metadata": {},
   "outputs": [
    {
     "data": {
      "text/plain": [
       "((12664, 453), (12664, 1))"
      ]
     },
<<<<<<< HEAD
<<<<<<< HEAD
     "execution_count": 102,
=======
     "execution_count": 61,
>>>>>>> 99ad7cca37deb622d3e9c9c20442d31094159b18
=======
     "execution_count": 61,
>>>>>>> 99ad7cca37deb622d3e9c9c20442d31094159b18
     "metadata": {},
     "output_type": "execute_result"
    }
   ],
   "source": [
    "X_train_U.shape, y_train_U.shape"
   ]
  },
  {
   "cell_type": "code",
<<<<<<< HEAD
<<<<<<< HEAD
   "execution_count": 103,
   "metadata": {},
   "outputs": [
    {
     "name": "stderr",
     "output_type": "stream",
     "text": [
      "/Users/vivianahernandez/anaconda3/envs/uchi/lib/python3.7/site-packages/sklearn/preprocessing/_label.py:235: DataConversionWarning: A column-vector y was passed when a 1d array was expected. Please change the shape of y to (n_samples, ), for example using ravel().\n",
      "  y = column_or_1d(y, warn=True)\n",
      "/Users/vivianahernandez/anaconda3/envs/uchi/lib/python3.7/site-packages/sklearn/preprocessing/_label.py:268: DataConversionWarning: A column-vector y was passed when a 1d array was expected. Please change the shape of y to (n_samples, ), for example using ravel().\n",
      "  y = column_or_1d(y, warn=True)\n"
     ]
    },
    {
     "name": "stdout",
     "output_type": "stream",
     "text": [
=======
=======
>>>>>>> 99ad7cca37deb622d3e9c9c20442d31094159b18
   "execution_count": 62,
   "metadata": {},
   "outputs": [
    {
     "name": "stdout",
     "output_type": "stream",
     "text": [
      "-------- classifier being run is XG_U ---------\n",
      "-------- saving the the model ---------\n",
      "-------- computing y_predict, y_prob, y_train_predict ---------\n",
      "-------- creating the confusion matrix ---------\n",
      "-------- calculating the metrics ---------\n",
      "Cross Validation is on 4 folds.\n",
      "-------- append values to the model matrix  ---------\n",
      "-------- classifier being run is RF_U ---------\n",
      "-------- saving the the model ---------\n",
      "-------- computing y_predict, y_prob, y_train_predict ---------\n",
      "-------- creating the confusion matrix ---------\n",
      "-------- calculating the metrics ---------\n",
      "Cross Validation is on 4 folds.\n",
      "-------- append values to the model matrix  ---------\n",
<<<<<<< HEAD
>>>>>>> 99ad7cca37deb622d3e9c9c20442d31094159b18
=======
>>>>>>> 99ad7cca37deb622d3e9c9c20442d31094159b18
      "-------- classifier being run is LGB_U ---------\n",
      "-------- saving the the model ---------\n",
      "-------- computing y_predict, y_prob, y_train_predict ---------\n",
      "-------- creating the confusion matrix ---------\n",
<<<<<<< HEAD
<<<<<<< HEAD
      "-------- calculating the metrics ---------\n"
     ]
    },
    {
     "name": "stderr",
     "output_type": "stream",
     "text": [
      "/Users/vivianahernandez/anaconda3/envs/uchi/lib/python3.7/site-packages/sklearn/preprocessing/_label.py:235: DataConversionWarning: A column-vector y was passed when a 1d array was expected. Please change the shape of y to (n_samples, ), for example using ravel().\n",
      "  y = column_or_1d(y, warn=True)\n",
      "/Users/vivianahernandez/anaconda3/envs/uchi/lib/python3.7/site-packages/sklearn/preprocessing/_label.py:268: DataConversionWarning: A column-vector y was passed when a 1d array was expected. Please change the shape of y to (n_samples, ), for example using ravel().\n",
      "  y = column_or_1d(y, warn=True)\n"
     ]
    },
    {
     "name": "stdout",
     "output_type": "stream",
     "text": [
=======
      "-------- calculating the metrics ---------\n",
>>>>>>> 99ad7cca37deb622d3e9c9c20442d31094159b18
=======
      "-------- calculating the metrics ---------\n",
>>>>>>> 99ad7cca37deb622d3e9c9c20442d31094159b18
      "Cross Validation is on 4 folds.\n",
      "-------- append values to the model matrix  ---------\n"
     ]
    }
   ],
   "source": [
    "clf_under_matrix = pd.DataFrame(columns = ['model', 'precision_test', 'recall_test', 'FPR_test', 'AUROC_test',\n",
    "                                     'f1_test', 'f1_train', 'f1_CV'])\n",
    "\n",
    "# for every classifer in the selected classifers list\n",
    "for idx, classifier in enumerate(selected_clfs):\n",
    "\n",
    "    # get the classifer and hyperparameters from the model\n",
    "    clf = classifiers[classifier]\n",
    "\n",
    "    # fit the model \n",
<<<<<<< HEAD
<<<<<<< HEAD
    "    clf.fit(X_train_U, y_train_U)\n",
=======
    "    clf.fit(X_train_U, y_train_U.values.ravel())\n",
>>>>>>> 99ad7cca37deb622d3e9c9c20442d31094159b18
=======
    "    clf.fit(X_train_U, y_train_U.values.ravel())\n",
>>>>>>> 99ad7cca37deb622d3e9c9c20442d31094159b18
    "    print(f\"-------- classifier being run is {classifier} ---------\")\n",
    "\n",
    "    print(f\"-------- saving the the model ---------\")\n",
    "    # Write the model to file\n",
    "    dump(clf, '{}.joblib'.format(classifier)) \n",
    "\n",
    "    print(f\"-------- computing y_predict, y_prob, y_train_predict ---------\")\n",
    "    # prediction of y based on X_test\n",
    "    y_predict = clf.predict(X_test)\n",
    "    # prediction of y probability based on X_test\n",
    "    y_proba = clf.predict_proba(X_test)[:,1]\n",
    "    # prediction of y based on X_train\n",
    "    y_train_predict = clf.predict(X_train_U)\n",
    "\n",
    "    print(f\"-------- creating the confusion matrix ---------\") \n",
    "    # confusion matrix \n",
<<<<<<< HEAD
<<<<<<< HEAD
    "    cmat = confusion_matrix(y_test, y_predict)\n",
=======
    "    cmat = confusion_matrix(y_test.values.ravel(), y_predict)\n",
>>>>>>> 99ad7cca37deb622d3e9c9c20442d31094159b18
=======
    "    cmat = confusion_matrix(y_test.values.ravel(), y_predict)\n",
>>>>>>> 99ad7cca37deb622d3e9c9c20442d31094159b18
    "    # tp, fn, fp, tn\n",
    "    tp = cmat[1,1]\n",
    "    fn = cmat[1,0]\n",
    "    fp = cmat[0,1]\n",
    "    tn = cmat[0,0]\n",
    "\n",
    "    print(f\"-------- calculating the metrics ---------\") \n",
    "    #precision score on test\n",
<<<<<<< HEAD
<<<<<<< HEAD
    "    p_score_test = precision_score(y_test, y_predict)\n",
=======
    "    p_score_test = precision_score(y_test.values.ravel(), y_predict)\n",
>>>>>>> 99ad7cca37deb622d3e9c9c20442d31094159b18
=======
    "    p_score_test = precision_score(y_test.values.ravel(), y_predict)\n",
>>>>>>> 99ad7cca37deb622d3e9c9c20442d31094159b18
    "\n",
    "    #recall score on test\n",
    "    r_score_test = tp/(tp+fn) \n",
    "\n",
    "    #FPR score on test\n",
    "    fpr_test = fp/(fp+tn)\n",
    "\n",
    "    #AUROC score on test\n",
<<<<<<< HEAD
<<<<<<< HEAD
    "    auroc_test = roc_auc_score(y_test, y_proba)\n",
    "\n",
    "    #f1 score on test\n",
    "    f1_test = f1_score(y_test, y_predict)\n",
    "\n",
    "    #f1 score on train\n",
    "    f1_train = f1_score(y_train_U, y_train_predict)\n",
    "\n",
    "    #f1 score on cross validation \n",
    "    k_fold = 4\n",
    "    f1_cv = cross_val_score(clf, X_train_U, y_train_U, cv=k_fold, scoring = 'f1')\n",
=======
=======
>>>>>>> 99ad7cca37deb622d3e9c9c20442d31094159b18
    "    auroc_test = roc_auc_score(y_test.values.ravel(), y_proba)\n",
    "\n",
    "    #f1 score on test\n",
    "    f1_test = f1_score(y_test.values.ravel(), y_predict)\n",
    "\n",
    "    #f1 score on train\n",
    "    f1_train = f1_score(y_train_U.values.ravel(), y_train_predict)\n",
    "\n",
    "    #f1 score on cross validation \n",
    "    k_fold = 4\n",
    "    f1_cv = cross_val_score(clf, X_train_U, y_train_U.values.ravel(), cv=k_fold, scoring = 'f1')\n",
<<<<<<< HEAD
>>>>>>> 99ad7cca37deb622d3e9c9c20442d31094159b18
=======
>>>>>>> 99ad7cca37deb622d3e9c9c20442d31094159b18
    "    print(f\"Cross Validation is on {k_fold} folds.\")\n",
    "\n",
    "    print(f\"-------- append values to the model matrix  ---------\") \n",
    "\n",
    "    # append to matrix\n",
<<<<<<< HEAD
<<<<<<< HEAD
    "    df2 = pd.DataFrame([[classifier,p_score_test,r_score_test, fpr_test, auroc_test, f1_test, f1_train, f1_cv]], columns=['model', 'precision_test', 'recall_test', 'FPR_test', 'AUROC_test',\n",
=======
    "    df2 = pd.DataFrame([[classifier,p_score_test,r_score_test, fpr_test, auroc_test, f1_test, f1_train, f1_cv]], \n",
    "                       columns=['model', 'precision_test', 'recall_test', 'FPR_test', 'AUROC_test',\n",
>>>>>>> 99ad7cca37deb622d3e9c9c20442d31094159b18
=======
    "    df2 = pd.DataFrame([[classifier,p_score_test,r_score_test, fpr_test, auroc_test, f1_test, f1_train, f1_cv]], \n",
    "                       columns=['model', 'precision_test', 'recall_test', 'FPR_test', 'AUROC_test',\n",
>>>>>>> 99ad7cca37deb622d3e9c9c20442d31094159b18
    "                                     'f1_test', 'f1_train', 'f1_CV'])\n",
    "    \n",
    "    clf_under_matrix = pd.concat([df2, clf_under_matrix])\n"
   ]
  },
  {
   "cell_type": "code",
<<<<<<< HEAD
<<<<<<< HEAD
   "execution_count": 104,
   "metadata": {},
=======
=======
>>>>>>> 99ad7cca37deb622d3e9c9c20442d31094159b18
   "execution_count": 63,
   "metadata": {
    "scrolled": false
   },
<<<<<<< HEAD
>>>>>>> 99ad7cca37deb622d3e9c9c20442d31094159b18
=======
>>>>>>> 99ad7cca37deb622d3e9c9c20442d31094159b18
   "outputs": [
    {
     "name": "stdout",
     "output_type": "stream",
     "text": [
<<<<<<< HEAD
<<<<<<< HEAD
=======
      "XG_U\n",
      "RF_U\n",
>>>>>>> 99ad7cca37deb622d3e9c9c20442d31094159b18
=======
      "XG_U\n",
      "RF_U\n",
>>>>>>> 99ad7cca37deb622d3e9c9c20442d31094159b18
      "LGB_U\n"
     ]
    },
    {
     "data": {
<<<<<<< HEAD
<<<<<<< HEAD
      "image/png": "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\n",
=======
=======
>>>>>>> 99ad7cca37deb622d3e9c9c20442d31094159b18
      "image/png": "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\n",
      "text/plain": [
       "<Figure size 720x720 with 2 Axes>"
      ]
     },
     "metadata": {
      "needs_background": "light"
     },
     "output_type": "display_data"
    },
    {
     "data": {
      "image/png": "iVBORw0KGgoAAAANSUhEUgAAAkkAAAJSCAYAAADXkVFsAAAABHNCSVQICAgIfAhkiAAAAAlwSFlzAAALEgAACxIB0t1+/AAAADh0RVh0U29mdHdhcmUAbWF0cGxvdGxpYiB2ZXJzaW9uMy4xLjEsIGh0dHA6Ly9tYXRwbG90bGliLm9yZy8QZhcZAAAgAElEQVR4nO3de7hlVXkn6t8HKOAlB7wjEEGFbaNGBCWkPRqVCEi8xqQbTiegkq72Fm/RI2pOjFETEjUmPho7qERsDWiCRGLSIqG9RaEtQOS+A6JICQFRvHS84h7njzULt+WoSVnWvjHf93nWU2uNOddaY+Ozy69+45tjVmstAAD8uO1WegIAAKuRIgkAoEORBADQoUgCAOhQJAEAdCiSAAA6dljpCbB6zc3NnZjkCUlumJ+ff9Aw9pokT06ykOSGJE+fn5+/dm5ubtckJya5X5LvJnnm/Pz8xcN7dknyjiQPStKGY2cv+p6XJHl9krvPz8/fuFw/H6wReyZ5d5J7ZfZ7d0KSv0jyviRzwzm7JPl6kv2T3D7JXyV52HD+C5J8bDjv9knekuTRw7FXJjl16X8EWJskSYx5V5LDNxl7/fz8/C/Mz8/vn+RDSX5/GH9Fkgvm5+d/IcnRmf0lvtFfJPnw/Pz8A5I8JMllGw/Mzc3tmeRxSb60JD8BrH03J/ndJP8hycFJnptkvyT/ObOiaP/MCp0PDOf/1+HPB2f2u/XG/Ojv+ldm9o+bfYfP+PjSTx/WriVLkqrqAZklDrtnlh5cm+T01tplo29k1Zifn//E3NzcXpuMfXPRyztm9r9tMvsL94+Hcy6fm5vba25u7p5JvpPkUUmePhz7fpLvL/qMNyX5f5N8cAl+BLgtuG54JMm3MvtHxu5JLh3GKsl/SvLY4fV+Sc4ant+QWcL0sCSfSfLMJA8Yji0kkdzCiCVJkqrqZUlOyeyX9zNJ1g/PT66q45biO1k+c3Nzr5ubm7smyX/Jj5KkzyX5teH4QUnuk2SPJPdN8pUkfz03N/fZubm5d8zNzd1xOO9JSb48Pz//ueX+GWCN2ivJQ5P870Vjj0xyfZIrhtefy+wfqDsk2TvJgZkt2e0yHH9NkvOT/G2Sey75jGENW6rltmOTPLy1dnxr7T3D4/gkBw3HWMPm5+dfOT8/v2eS9yZ53jB8fJJd5+bmLkjyO0k+m9kywQ5JDkjytvn5+Ycm+fckx83Nzd0hs+j/9zf9fKDrTpktq70wyeJE96gkJy96fWKSDUnOTfLnST6dH/0u7pHkU5n9Tp6d5A1LPmtYw2op7t1WVZcnOay1dvUm4/dJ8pHW2txm3rcuybok+cs3vvbA3z76qG0+N346X77u+jz3pa/K37/nv//EsWv/7fo85yU/eay1lsN+/en5wLv/Mt/97vfy/6x7UT5y6klJkvMuuDjveM/786JnPyO//fyXZ6eddkySXP+VG3P3u901p7z9z3O3u95l6X8wNuvw/Z+10lNgE9vvsH1e967X5NyPn5e/e/uP+qy32367vP/ck/OsI56bG6/rr5y9+e/flDe+9E25+oov5UP/enqeOPfktNZy993unuPf87oce8i65fox2AJnbfhILef3/eDGq5btBq63u9t9l/Vn2xaWqifphUnOqqorklwzjP18kvvnR8nDT2itnZDZlRvL+j8cW+7qa76c++y5e5Lko588J3vfZ48kyTe/9X+y80475na3u11O/YcP58D9H5w73fGOudMd75h73ePu+cLVG7L3ffbIOeddkPvt9fPZ93575xP/eMotn3vo047J+9755uy6y/+1Ij8XrGYvecOL86Urv/RjBVKSHPjIA/Klz1/zYwXSjjvtmKrKd7/z3Rz4yAPyw5sXcvUVs+sizjnznDzklx6SCz59QQ74v/e/ZRzoW5IiqbX24araN7Pltd0z60fakGR9a+2HS/GdbHsvfdXxWf/ZC/P1r38zhzzlN/OcY38rnzx7fb74pQ2p7Sr3vtc98vsv/Z0kyVVXX5NXvOYN2X677XLfvX4+f/jyF97yOa940bPzslf/aX5w8w+y5713y2te8aKV+pFgzXnQwx+YQ3/9cbnqsqvyV2e8LUnyzj85MZ/5X+vzmCc9Ov/r7z/6Y+fvcrdd8ifv/aMsLLTc+G835o9f8Ce3HDvhj96Rl//Fy/LcVz8rX//qN/L6F1ttgzFLsty2LUiSYGVYboOVs+zLbTdcsXzLbffYZ80tt9knCQCgw47bADBVbWGlZ7CqSZIAADokSQAwVQuSpDGSJACADkkSAExU05M0SpIEANAhSQKAqdKTNEqSBADQIUkCgKnSkzRKkgQA0KFIAgDosNwGAFO18MOVnsGqJkkCAOiQJAHAVGncHiVJAgDokCQBwFTZTHKUJAkAoEOSBAAT5Qa34yRJAAAdkiQAmCo9SaMkSQAAHZIkAJgqPUmjJEkAAB2SJACYKvduGyVJAgDokCQBwFTpSRolSQIA6FAkAQB0WG4DgKmymeQoSRIAQIckCQCmSuP2KEkSAECHJAkApkpP0ihJEgBAhyQJACaqNbclGSNJAgDokCQBwFS5um2UJAkAoEOSBABT5eq2UZIkAIAOSRIATJWepFGSJACADkkSAEzVgn2SxkiSAAA6FEkAAB2W2wBgqjRuj5IkAQB0SJIAYKpsJjlKkgQA0CFJAoCp0pM0SpIEAKy4qjqxqm6oqosXjb2+qi6vqgur6rSq2mUY36uqvlNVFwyP/77oPQdW1UVVdWVVvbmqahi/S1WdWVVXDH/uemtzUiQBwFQtLCzf49a9K8nhm4ydmeRBrbVfSPKvSV6+6NjnW2v7D49nLRp/W5J1SfYZHhs/87gkZ7XW9kly1vB6lCIJAFhxrbVPJPnaJmMfaa3dPLw8J8keY59RVbsl+bnW2tmttZbk3UmeMhx+cpKThucnLRrfLD1JADBVa+vqtmcmed+i13tX1WeTfDPJ77XWPplk9yQbFp2zYRhLknu21q5LktbadVV1j1v7QkUSALDkqmpdZstgG53QWjthC9/7yiQ3J3nvMHRdkp9vrX21qg5M8vdV9cAk1Xl729o5K5IAYKJaW74b3A4F0RYVRYtV1TFJnpDkkGEJLa217yX53vD8vKr6fJJ9M0uOFi/J7ZHk2uH59VW125Ai7Zbkhlv7bj1JAMCqVFWHJ3lZkie11r69aPzuVbX98Py+mTVoXzUsp32rqg4ermo7OskHh7ednuSY4fkxi8Y3S5IEAFO1inqSqurkJI9Ocreq2pDkVZldzbZjkjOHK/nPGa5ke1SSP6yqm5P8MMmzWmsbm76fndmVcjsn+Z/DI0mOT/L+qjo2yZeS/MatzUmRBACsuNbaUZ3hd27m3FOTnLqZY+cmeVBn/KtJDvlp5qRIAoCpsuP2KD1JAAAdiiQAgA7LbQAwVauocXs1kiQBAHRIkgBgqjRuj5IkAQB0SJIAYKr0JI2SJAEAdEiSAGCq9CSNkiQBAHRIkgBgqvQkjZIkAQB0SJIAYKokSaMkSQAAHZIkAJgqV7eNkiQBAHRIkgBgqvQkjZIkAQB0KJIAADostwHAVGncHiVJAgDokCQBwFRp3B4lSQIA6JAkAcBU6UkaJUkCAOiQJAHAVOlJGiVJAgDokCQBwFRJkkZJkgAAOiRJADBVra30DFY1SRIAQIckCQCmSk/SKEkSAECHJAkApkqSNEqSBADQIUkCgKly77ZRkiQAgA5FEgBAh+U2AJgqjdujJEkAAB2SJACYKrclGSVJAgDokCQBwFTpSRolSQIA6JAkAcBUSZJGSZIAADokSQAwVW5LMkqSBADQIUkCgIlqC/ZJGiNJAgDokCQBwFS5um2UJAkAoEOSBABT5eq2UZIkAIAORRIAQIflNgCYKlsAjJIkAQB0SJIAYKpsATBKkgQA0CFJAoCpkiSNkiQBAHRIkgBgqpqr28ZIkgAAOiRJADBVepJGSZIAADokSQAwVXbcHiVJAgDokCQBwFQ1PUljJEkAAB2SJACYKj1JoyRJAAAdiiQAgA7LbQAwUc1mkqMkSQAAHZIkAJgqjdujJEkAAB2SJACYKptJjpIkAQB0SJIAYKr0JI2SJAEAdEiSAGCq7JM0SpIEANAhSQKAqdKTNEqSBADQIUkCgKmyT9IoSRIAQIckCQCmSk/SKEkSAECHIgkAoMNyGwBMVLOZ5ChJEgCw4qrqxKq6oaouXjR2l6o6s6quGP7cdRivqnpzVV1ZVRdW1QGL3nPMcP4VVXXMovEDq+qi4T1vrqq6tTkpkgBgqhba8j1u3buSHL7J2HFJzmqt7ZPkrOF1kjw+yT7DY12StyWzoirJq5L8YpKDkrxqY2E1nLNu0fs2/a6foEgCAFZca+0TSb62yfCTk5w0PD8pyVMWjb+7zZyTZJeq2i3JYUnObK19rbV2U5Izkxw+HPu51trZrbWW5N2LPmuz9CQBwFSt/i0A7tlauy5JWmvXVdU9hvHdk1yz6LwNw9jY+IbO+ChJEgCw5KpqXVWdu+ix7mf5uM5Y24rxUZIkAJiqZbwtSWvthCQn/JRvu76qdhtSpN2S3DCMb0iy56Lz9khy7TD+6E3GPzaM79E5f5QkCQBYrU5PsvEKtWOSfHDR+NHDVW4HJ/nGsCx3RpJDq2rXoWH70CRnDMe+VVUHD1e1Hb3oszZLkgQAU7WKepKq6uTMUqC7VdWGzK5SOz7J+6vq2CRfSvIbw+n/lOSIJFcm+XaSZyRJa+1rVfWaJOuH8/6wtbaxGfzZmV1Bt3OS/zk8RimSAIAV11o7ajOHDumc25I8dzOfc2KSEzvj5yZ50E8zJ0USAExUW0VJ0mqkJwkAoEOSBABTJUkaJUkCAOiQJAHAVC0s3z5Ja5EkCQCgQ5EEANBhuQ0Apkrj9ihJEgBAhyQJAKZKkjRKkgQA0CFJAoCJmt0Cjc2RJAEAdEiSAGCq9CSNkiQBAHRIkgBgqiRJoyRJAAAdkiQAmKgmSRolSQIA6JAkAcBUSZJGSZIAADokSQAwVQsrPYHVTZIEANChSAIA6LDcBgATZQuAcZIkAIAOSRIATJUkaZQkCQCgQ5IEAFNlC4BRkiQAgA5JEgBMlKvbxkmSAAA6JEkAMFV6kkZJkgAAOiRJADBRepLGSZIAADokSQAwVXqSRkmSAAA6JEkAMFFNkjRKkgQA0KFIAgDosNwGAFNluW2UJAkAoEOSBAATpXF7nCQJAKBDkgQAUyVJGiVJAgDokCQBwETpSRonSQIA6JAkAcBESZLGSZIAADokSQAwUZKkcZIkAIAOSRIATFWrlZ7BqiZJAgDokCQBwETpSRonSQIA6FAkAQB0WG4DgIlqCxq3x0iSAAA6JEkAMFEat8dJkgAAOiRJADBRzWaSoyRJAAAdkiQAmCg9SeMkSQAAHZIkAJgo+ySNkyQBAHRIkgBgolpb6RmsbpIkAIAOSRIATJSepHGSJACADkkSAEyUJGmcJAkAoEORBADQYbkNACbKFgDjJEkAAB2SJACYKI3b4yRJAAAdkiQAmKjWJEljJEkAAB2SJACYqLaw0jNY3SRJAAAdkiQAmKgFPUmjJEkAAB2SJACYKFe3jZMkAQB0SJIAYKLsuD1OkgQA0CFJAoCJam2lZ7C6SZIAADoUSQAAHYokAJiotlDL9hhTVXNVdcGixzer6oVV9QdV9eVF40cses/Lq+rKqpqvqsMWjR8+jF1ZVcf9LP999CQBACuqtTafZP8kqartk3w5yWlJnpHkTa21Nyw+v6r2S3JkkgcmuXeSf66qfYfDb03yuCQbkqyvqtNba5duzbwUSQAwUav0tiSHJPl8a+3qqs3O78lJTmmtfS/JF6rqyiQHDceubK1dlSRVdcpw7rYtkqrqH5Jstu+9tfakrflCAIARRyY5edHr51XV0UnOTfK7rbWbkuye5JxF52wYxpLkmk3Gf3FrJzKWJL1h5BgAsMYt521JqmpdknWLhk5orZ2wyTm3T/KkJC8fht6W5DWZhTavSfLGJM9M0pt4S7/Xeqs3OthskdRa+/jWfigAwGJDQXTCrZz2+CTnt9auH95z/cYDVfX2JB8aXm5Isuei9+2R5Nrh+ebGf2q3enVbVe1TVX9XVZdW1VUbH1v7hQDA6tDa8j220FFZtNRWVbstOvbUJBcPz09PcmRV7VhVeyfZJ8lnkqxPsk9V7T2kUkcO526VLWnc/uskr0rypiSPyazTfFV2egEAa1NV3SGzq9L+26LhP62q/TNbMvvixmOttUuq6v2ZNWTfnOS5rbUfDp/zvCRnJNk+yYmttUu2dk5bUiTt3Fo7q6qqtXZ1kj+oqk9mVjgBAGvUarq6rbX27SR33WTst0bOf12S13XG/ynJP22LOW1JkfTdqtouyRVDdfblJPfYFl8OALBabUmR9MIkd0jy/Mw6yx+b5JilnBQAsPSW8+q2tehWi6TW2vrh6f/JrB8JAOA271aLpKr6aDp7DLTWHrskMwIAlsVPcdXZJG3JcttLFj3fKcnTMuskBwC4zdqS5bbzNhn6VFXZaBIA1rjVdHXbarQly213WfRyuyQHJrnXks0IAGAV2JLltvMy60mqzJbZvpDk2KWcVJLsfO9HLvVXAB133fnOKz0FYJm4um3clhRJ/6G19t3FA1W14xLNBwBgVbjVe7cl+XRn7OxtPREAgNVks0lSVd0rye5Jdq6qh+ZH92v7ucw2lwQA1jCN2+PGltsOS/L0JHskeWN+VCR9M8krlnZaAAAra7NFUmvtpCQnVdXTWmunLuOcAIBlYC/JcVvSk3RgVe2y8UVV7VpVr13COQEArLgtKZIe31r7+sYXrbWbkhyxdFMCAJbDQqtle6xFW1Ikbb/4kv+q2jmJLQAAgNu0Ldkn6T1Jzqqqvx5ePyPJSUs3JQBgOdhMctyW3LvtT6vqwiS/ktkVbh9Ocp+lnhgAwErakiQpSf4tyUKS/5TZbUlc7QYAa9zCSk9glRvbTHLfJEcmOSrJV5O8L0m11h6zTHMDAFgxY0nS5Uk+meSJrbUrk6SqXrQsswIAllyLnqQxY1e3PS2zZbaPVtXbq+qQxH9NAGAaxnbcPi3JaVV1xyRPSfKiJPesqrclOa219pFlmiMAsAQWbLk96lb3SWqt/Xtr7b2ttSdkdh+3C5Ict+QzAwBYQVt6dVuSpLX2tSR/NTwAgDVsQRfNqC3ZcRsAYHIUSQAAHT/VchsAcNthC4BxkiQAgA5JEgBMlNuSjJMkAQB0SJIAYKL0JI2TJAEAdEiSAGCi9CSNkyQBAHRIkgBgoiRJ4yRJAAAdkiQAmChXt42TJAEAdEiSAGCiFgRJoyRJAAAdkiQAmKgFPUmjJEkAAB2KJACADsttADBRbaUnsMpJkgAAOiRJADBRbksyTpIEANAhSQKAiVooWwCMkSQBAHRIkgBgolzdNk6SBADQIUkCgIlydds4SRIAQIckCQAmasHFbaMkSQAAHZIkAJiohYiSxkiSAAA6JEkAMFH2SRonSQIA6FAkAQB0WG4DgImyBcA4SRIAQIckCQAmym1JxkmSAAA6JEkAMFG2ABgnSQIA6JAkAcBEubptnCQJAKBDkgQAE+XqtnGSJACADkkSAEyUJGmcJAkAoEOSBAAT1VzdNkqSBADQIUkCgInSkzROkgQA0KFIAgDosNwGABNluW2cJAkAoEOSBAAT1VZ6AqucJAkAoEOSBAATtWAzyVGSJACADkkSAEyUq9vGSZIAADokSQAwUZKkcZIkAIAOSRIATJR9ksZJkgAAOiRJADBR9kkaJ0kCAFZcVX2xqi6qqguq6txh7C5VdWZVXTH8ueswXlX15qq6sqourKoDFn3OMcP5V1TVMT/LnBRJADBRC8v42EKPaa3t31p72PD6uCRntdb2SXLW8DpJHp9kn+GxLsnbkllRleRVSX4xyUFJXrWxsNoaiiQAYLV6cpKThucnJXnKovF3t5lzkuxSVbslOSzJma21r7XWbkpyZpLDt/bLFUkAwGrQknykqs6rqnXD2D1ba9clyfDnPYbx3ZNcs+i9G4axzY1vFY3bADBRy7kFwFD4rFs0dEJr7YRFrx/RWru2qu6R5Myqunzs4zpjbWR8qyiSAIAlNxREJ4wcv3b484aqOi2znqLrq2q31tp1w3LaDcPpG5LsuejteyS5dhh/9CbjH9vaOVtuA4CJWkhbtseYqrpjVd154/Mkhya5OMnpSTZeoXZMkg8Oz09PcvRwldvBSb4xLMedkeTQqtp1aNg+dBjbKpIkAGCl3TPJaVWVzGqTv2mtfbiq1id5f1Udm+RLSX5jOP+fkhyR5Mok307yjCRprX2tql6TZP1w3h+21r62tZNSJAHARK2WG9y21q5K8pDO+FeTHNIZb0meu5nPOjHJidtiXpbbAAA6JEkAMFFucDtOkgQA0CFJAoCJWi09SauVJAkAoEOSBAATtdDbn5pbSJIAADokSQAwUbe2E/bUSZIAADokSQAwUXKkcZIkAIAORRIAQIflNgCYKJtJjpMkAQB0SJIAYKJsATBOkgQA0CFJAoCJkiONkyQBAHRIkgBgolzdNk6SBADQIUkCgIlydds4SRIAQIckCQAmSo40TpIEANAhSQKAiXJ12zhJEgBAhyQJACaq6UoaJUkCAOhQJAEAdFhuA4CJ0rg9TpIEANAhSQKAiXJbknGSJACADkkSAEyUHGmcJAkAoEOSBAATpSdpnCQJAKBDkgQAE2WfpHGSJACADkkSAEyUG9yOkyQBAHRIkgBgovQkjZMkAQB0SJIAYKL0JI2TJAEAdCiSAAA6LLcBwERp3B4nSQIA6JAkAcBELTSN22MkSQAAHZIkAJgoOdI4SRIAQIckCQAmakGWNEqSBADQIUkCgIlyW5JxkiQAgA5JEgBMlB23x0mSAAA6JEkAMFGubhsnSQIA6JAkAcBEubptnCQJAKBDkQQA0GG5DQAmyhYA4yRJAAAdkiQAmKjWNG6PkSQBAHRIkgBgomwmOU6SBADQIUkCgIlydds4SRIAQIckCQAmym1JxkmSAAA6JEkAMFGubhsnSQIA6JAkAcBE2XF7nCQJAKBDkgQAE2WfpHGSJACADkkSAEyUfZLGSZIAADoUSQAAHZbbAGCibCY5TpIEANAhSQKAibKZ5DhJEgBAhyQJACZKT9I4SRIAQIckCQAmymaS4yRJAAAdkiQAmKgFV7eNkiQBACuqqvasqo9W1WVVdUlVvWAY/4Oq+nJVXTA8jlj0npdX1ZVVNV9Vhy0aP3wYu7KqjvtZ5iVJAoCJWkU50s1Jfre1dn5V3TnJeVV15nDsTa21Nyw+uar2S3JkkgcmuXeSf66qfYfDb03yuCQbkqyvqtNba5duzaQUSQDAimqtXZfkuuH5t6rqsiS7j7zlyUlOaa19L8kXqurKJAcNx65srV2VJFV1ynDuVhVJltsAYKIW0pbtsaWqaq8kD03yv4eh51XVhVV1YlXtOoztnuSaRW/bMIxtbnyrKJIAgCVXVeuq6txFj3Wdc+6U5NQkL2ytfTPJ25LcL8n+mSVNb9x4aucr2sj4VrHcBgATtZw7brfWTkhywuaOV9XtMiuQ3tta+8DwnusXHX97kg8NLzck2XPR2/dIcu3wfHPjPzVJEgCwoqqqkrwzyWWttT9bNL7botOemuTi4fnpSY6sqh2rau8k+yT5TJL1Sfapqr2r6vaZNXefvrXzkiQBACvtEUl+K8lFVXXBMPaKJEdV1f6ZLZl9Mcl/S5LW2iVV9f7MGrJvTvLc1toPk6SqnpfkjCTbJzmxtXbJ1k6q2irdSGqH2+++OicGt3F33fnOKz0FmKzrv3F5r6dmyRx870cv2//XnnPtx5b1Z9sWLLcBAHRYbgOAiVrOxu21SJIEANAhSQKAiWqSpFGSJACADkkSAEzUar3CfbWQJAEAdEiSAGCiXN02TpIEANAhSQKAidKTNE6SBADQIUkCgInSkzROkgQA0CFJAoCJsuP2OEkSAECHIgkAoMNyGwBM1IItAEZJkgAAOiRJADBRGrfHSZIAADokSQAwUXqSxkmSAAA6JEkAMFF6ksZJkgAAOiRJADBRepLGSZIAADokSQAwUXqSxkmSAAA6JEkAMFF6ksZJkgAAOiRJADBRepLGSZIAADoUSQAAHZbbAGCiWltY6SmsapIkAIAOSRIATNSCxu1RkiQAgA5JEgBMVLOZ5ChJEgBAhyQJACZKT9I4SRIAQIckCQAmSk/SOEkSAECHJAkAJmpBkjRKkgQA0CFJAoCJaq5uGyVJAgDokCQBwES5um2cJAkAoEORBADQYbkNACbKbUnGSZIAADokSQAwURq3x0mSAAA6JEkAMFFuSzJOkgQA0CFJAoCJ0pM0TpIEANAhSQKAibJP0jhJEgBAhyQJACZKT9I4SRIAQIckCQAmyj5J4yRJAAAdkiQAmKjm6rZRkiQAgA5FEgBAh+U2AJgojdvjJEkAAB2SJACYKJtJjpMkAQB0SJIAYKJsATBOkgQA0CFJAoCJ0pM0TpLEVttuu+2y/jNn5IOnnZQkec6zn57LL/2X3Pz9L+eud931lvN++VG/lK9+5bKcu/4jOXf9R/J7r3zhSk0Z1pw/f8vrcsmVn8rHzz79lrEnPuWwfPycf8h1N12ahzz0QT92/n4P3Df/eOYp+fg5/5CPffr07Ljj7ZMkT33ar+Zjnz49H/3UB3PyqW/PXe6yy7L+HLAWKZLYas//nd/O5ZdfccvrT5+9Poc9/sh88YvX/MS5//Ivn8nDHn5oHvbwQ/Pa1/35ck4T1rRT/ua0HPm0//pjY5dfekWe+ZvPz9mfOvfHxrfffvu89YTX56UvelV++eAn5qm/enR+8IObs/322+e1f/KK/NoTjs5jHvHkXHrJfJ657jeX88dglWqtLdtjLVIksVV23323HPH4Q3LiiSffMnbBBZfk6qs3rOCs4LbnnE+fm6/f9I0fG7viX6/K56/8wk+c++jHPiKXXjKfSy+eT5LcdNPXs7CwkKpKqnKHO94hSXLnO98p1//bDUs/eVjjlr1IqqpnLPd3su392RtfneNe/tosLCxs0fkHH3xgzjv3zHzo9P+R/fbbd4lnB9N0v/vvldZaTvnAO3LmJ07Nc19wbJLk5ptvzpSG0yIAAAWSSURBVMte/Op87NOn58L5T2Tfufvlve/+uxWeLatBW8bHWrQSSdKrV+A72YZ+9YhfyQ033JjzP3vRFp1//mcvyn3vf1AOfNjj8ta//Ouc+rcnLvEMYZq232GH/OIvHZjn/PZL8qTD/kuOeMLj8shfPjg77LBDnn7skTnkUU/NL8w9Kpde8q95wYvXrfR0YdWrpVgnrKoLN3coyb6ttR038751STb+5p7QWjthm0+ObeGPk/xWkpuT7JTk55J8IMnGJocvPvjBD37zRRdd9Gebef8XkzwsyY1LPE+4rdgryYeSPGiT8Y8leUmSjc1JR55//vnPP+CAA/7j8Pr/S/Ld4bzjkxwyjD8qyXFJjliyGcNtwFJtAXDPJIcluWmT8Ury6c29aSiKFEar38uHR5I8OrO/pH+sC/TGG288OsnGIuleSa7PLHE9KLME86vLMVGYmDN22mmndya5Q5LvJ/nlJG9K8uUk+yW5e5KvJHlckstWapKwVizVctuHktyptXb1Jo8vZvYvGm6bnp9kQ5I9Pve5z+2X5B3D+K8nuTjJ55K8OcmRWbtL1LDcTk5ydpK5zH6/jk3y1OH5LyX5xyRnDOfe9Ja3vOX6JOuTXJDk/OH4tZm1OnwiyYVJ9k/yR8v3I8DatCTLbVBV57bWHrbS84Cp8bsH244tAFgqlk1hZfjdg21EkgQA0CFJAgDoUCSxTVXV4VU1X1VXVtVxKz0fmIqqOrGqbqiqi1d6LnBboUhim6mq7ZO8NcnjM7vc+Kiq2m9lZwWT8a4kh6/0JOC2RJHEtnRQkitba1e11r6f5JQkT17hOcEktNY+keRrKz0PuC1RJLEt7Z7kmkWvNwxjALDmKJLYlqoz5vJJANYkRRLb0oYkey56vUdmO/0CwJqjSGJbWp9kn6rau6pun9ntR05f4TkBwFZRJLHNtNZuTvK8zO4jdVmS97fWLlnZWcE0VNUt93irqg1VdexKzwnWOjtuAwB0SJIAADoUSQAAHYokAIAORRIAQIciCQCgQ5EEa1RV/bCqLqiqi6vqb6vqDj/DZz26qj40PH9SVR03cu4uVfWcrfiOP6iql2ztHAGWmyIJ1q7vtNb2b609KMn3kzxr8cGa+al/x1trp7fWjh85ZZckP3WRBLDWKJLgtuGTSe5fVXtV1WVV9ZdJzk+yZ1UdWlVnV9X5Q+J0pySpqsOr6vKq+pckv7bxg6rq6VX1luH5PavqtKr63PD4j0mOT3K/IcV6/XDeS6tqfVVdWFWvXvRZr6yq+ar65yRzy/ZfA2AbUCTBGldVOyR5fJKLhqG5JO9urT00yb8n+b0kv9JaOyDJuUleXFU7JXl7kicmeWSSe23m49+c5OOttYckOSDJJUmOS/L5IcV6aVUdmmSfJAcl2T/JgVX1qKo6MLNb0zw0syLs4dv4RwdYUjus9ASArbZzVV0wPP9kkncmuXeSq1tr5wzjByfZL8mnqipJbp/ZrSsekOQLrbUrkqSq3pNkXec7Hpvk6CRprf0wyTeqatdNzjl0eHx2eH2nzIqmOyc5rbX27eE73McPWFMUSbB2fae1tv/igaEQ+vfFQ0nObK0dtcl5+yfZVvckqiR/3Fr7q02+44Xb8DsAlp3lNrhtOyfJI6rq/klSVXeoqn2TXJ5k76q633DeUZt5/1lJnj28d/uq+rkk38osJdrojCTPXNTrtHtV3SPJJ5I8tap2rqo7Z7a0B7BmKJLgNqy19pUkT09yclVdmFnR9IDW2nczW177x6Fx++rNfMQLkjymqi5Kcl6SB7bWvprZ8t3FVfX61tpHkvxNkrOH8/4uyZ1ba+cneV+SC5KcmtmSIMCaUa1JwwEANiVJAgDoUCQBAHQokgAAOhRJAAAdiiQAgA5FEgBAhyIJAKBDkQQA0PH/A2VsvuyvNWjXAAAAAElFTkSuQmCC\n",
      "text/plain": [
       "<Figure size 720x720 with 2 Axes>"
      ]
     },
     "metadata": {
      "needs_background": "light"
     },
     "output_type": "display_data"
    },
    {
     "data": {
      "image/png": "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\n",
<<<<<<< HEAD
>>>>>>> 99ad7cca37deb622d3e9c9c20442d31094159b18
=======
>>>>>>> 99ad7cca37deb622d3e9c9c20442d31094159b18
      "text/plain": [
       "<Figure size 720x720 with 2 Axes>"
      ]
     },
     "metadata": {
      "needs_background": "light"
     },
     "output_type": "display_data"
    }
   ],
   "source": [
    "# Draw confusion matrix for each model \n",
    "for classifier in selected_clfs:\n",
    "\n",
    "  # Load model saved\n",
    "  clf = load('{}.joblib'.format(classifier)) \n",
    "\n",
    "  # Predict y based on X_test\n",
    "  y_predict = clf.predict(X_test)\n",
    "\n",
    "  # confusion matrix\n",
    "  cm = confusion_matrix(y_test, y_predict)\n",
    "\n",
    "  # Draw\n",
    "  print(classifier)\n",
    "  draw_conf_mat(cm)"
   ]
  },
  {
   "cell_type": "code",
<<<<<<< HEAD
<<<<<<< HEAD
   "execution_count": 105,
   "metadata": {},
=======
=======
>>>>>>> 99ad7cca37deb622d3e9c9c20442d31094159b18
   "execution_count": 64,
   "metadata": {
    "scrolled": true
   },
<<<<<<< HEAD
>>>>>>> 99ad7cca37deb622d3e9c9c20442d31094159b18
=======
>>>>>>> 99ad7cca37deb622d3e9c9c20442d31094159b18
   "outputs": [
    {
     "data": {
      "text/html": [
       "<div>\n",
       "<style scoped>\n",
       "    .dataframe tbody tr th:only-of-type {\n",
       "        vertical-align: middle;\n",
       "    }\n",
       "\n",
       "    .dataframe tbody tr th {\n",
       "        vertical-align: top;\n",
       "    }\n",
       "\n",
       "    .dataframe thead th {\n",
       "        text-align: right;\n",
       "    }\n",
       "</style>\n",
       "<table border=\"1\" class=\"dataframe\">\n",
       "  <thead>\n",
       "    <tr style=\"text-align: right;\">\n",
       "      <th></th>\n",
       "      <th>model</th>\n",
       "      <th>precision_test</th>\n",
       "      <th>recall_test</th>\n",
       "      <th>FPR_test</th>\n",
       "      <th>AUROC_test</th>\n",
       "      <th>f1_test</th>\n",
       "      <th>f1_train</th>\n",
       "      <th>f1_CV</th>\n",
       "    </tr>\n",
       "  </thead>\n",
       "  <tbody>\n",
       "    <tr>\n",
<<<<<<< HEAD
<<<<<<< HEAD
       "      <th>0</th>\n",
       "      <td>LGB_U</td>\n",
       "      <td>0.284392</td>\n",
       "      <td>0.814908</td>\n",
       "      <td>0.193675</td>\n",
       "      <td>0.896877</td>\n",
       "      <td>0.421638</td>\n",
       "      <td>0.912283</td>\n",
       "      <td>[0.7998719180275375, 0.8095387511766552, 0.806...</td>\n",
=======
=======
>>>>>>> 99ad7cca37deb622d3e9c9c20442d31094159b18
       "      <td>0</td>\n",
       "      <td>LGB_U</td>\n",
       "      <td>0.285587</td>\n",
       "      <td>0.807328</td>\n",
       "      <td>0.190752</td>\n",
       "      <td>0.894381</td>\n",
       "      <td>0.421921</td>\n",
       "      <td>0.911213</td>\n",
       "      <td>[0.7992388201712655, 0.8076083567196757, 0.811...</td>\n",
       "    </tr>\n",
       "    <tr>\n",
       "      <td>0</td>\n",
       "      <td>RF_U</td>\n",
       "      <td>0.294652</td>\n",
       "      <td>0.737840</td>\n",
       "      <td>0.166826</td>\n",
       "      <td>0.873539</td>\n",
       "      <td>0.421129</td>\n",
       "      <td>0.804928</td>\n",
       "      <td>[0.7649586776859504, 0.7788366743345383, 0.769...</td>\n",
       "    </tr>\n",
       "    <tr>\n",
       "      <td>0</td>\n",
       "      <td>XG_U</td>\n",
       "      <td>0.260530</td>\n",
       "      <td>0.801011</td>\n",
       "      <td>0.214737</td>\n",
       "      <td>0.793137</td>\n",
       "      <td>0.393178</td>\n",
       "      <td>0.941468</td>\n",
       "      <td>[0.769763779527559, 0.7836147592245154, 0.8018...</td>\n",
<<<<<<< HEAD
>>>>>>> 99ad7cca37deb622d3e9c9c20442d31094159b18
=======
>>>>>>> 99ad7cca37deb622d3e9c9c20442d31094159b18
       "    </tr>\n",
       "  </tbody>\n",
       "</table>\n",
       "</div>"
      ],
      "text/plain": [
       "   model  precision_test  recall_test  FPR_test  AUROC_test   f1_test  \\\n",
<<<<<<< HEAD
<<<<<<< HEAD
       "0  LGB_U        0.284392     0.814908  0.193675    0.896877  0.421638   \n",
       "\n",
       "   f1_train                                              f1_CV  \n",
       "0  0.912283  [0.7998719180275375, 0.8095387511766552, 0.806...  "
      ]
     },
     "execution_count": 105,
=======
=======
>>>>>>> 99ad7cca37deb622d3e9c9c20442d31094159b18
       "0  LGB_U        0.285587     0.807328  0.190752    0.894381  0.421921   \n",
       "0   RF_U        0.294652     0.737840  0.166826    0.873539  0.421129   \n",
       "0   XG_U        0.260530     0.801011  0.214737    0.793137  0.393178   \n",
       "\n",
       "   f1_train                                              f1_CV  \n",
       "0  0.911213  [0.7992388201712655, 0.8076083567196757, 0.811...  \n",
       "0  0.804928  [0.7649586776859504, 0.7788366743345383, 0.769...  \n",
       "0  0.941468  [0.769763779527559, 0.7836147592245154, 0.8018...  "
      ]
     },
     "execution_count": 64,
<<<<<<< HEAD
>>>>>>> 99ad7cca37deb622d3e9c9c20442d31094159b18
=======
>>>>>>> 99ad7cca37deb622d3e9c9c20442d31094159b18
     "metadata": {},
     "output_type": "execute_result"
    }
   ],
   "source": [
    "clf_under_matrix"
   ]
  },
  {
   "cell_type": "markdown",
   "metadata": {
    "colab": {},
    "colab_type": "code",
    "id": "AGQ9M93zCxz3"
   },
   "source": [
    "## Models with Correction Of Imbalanced Data Using Oversampling SMOTE "
   ]
  },
  {
   "cell_type": "code",
<<<<<<< HEAD
<<<<<<< HEAD
   "execution_count": 0,
=======
   "execution_count": 65,
>>>>>>> 99ad7cca37deb622d3e9c9c20442d31094159b18
=======
   "execution_count": 65,
>>>>>>> 99ad7cca37deb622d3e9c9c20442d31094159b18
   "metadata": {
    "colab": {},
    "colab_type": "code",
    "id": "PrZrc_zgCx6t"
   },
   "outputs": [],
   "source": [
<<<<<<< HEAD
<<<<<<< HEAD
    "# # create a dictionary of classifers with the hyperparameters you would like to try \n",
    "# classifiers = {'XG_O': XGBClassifier(n_jobs = 1, learning_rate = .1, n_estimators = 100, objective = 'binary', booster='gbtree', max_depth = 7 ),\n",
    "#               'RF_O': RandomForestClassifier(n_estimators= 100, max_depth = 7),\n",
    "#               'LGB_O': LGBMClassifier(booster ='gbtree', n_estimators = 100, learning_rate = .1, max_depth = 7, objective ='binary')}"
=======
=======
>>>>>>> 99ad7cca37deb622d3e9c9c20442d31094159b18
    "# create a dictionary of classifers with the hyperparameters you would like to try \n",
    "classifiers = {'XG_O': XGBClassifier(n_jobs = 1, learning_rate = .1, n_estimators = 100, objective = 'binary:hinge', booster='gbtree', max_depth = 7 ),\n",
    "              'RF_O': RandomForestClassifier(n_estimators= 100, max_depth = 7),\n",
    "              'LGB_O': LGBMClassifier(booster ='gbtree', n_estimators = 100, learning_rate = .1, max_depth = 7, objective ='binary')}"
<<<<<<< HEAD
>>>>>>> 99ad7cca37deb622d3e9c9c20442d31094159b18
=======
>>>>>>> 99ad7cca37deb622d3e9c9c20442d31094159b18
   ]
  },
  {
   "cell_type": "code",
<<<<<<< HEAD
<<<<<<< HEAD
   "execution_count": 0,
=======
   "execution_count": 66,
>>>>>>> 99ad7cca37deb622d3e9c9c20442d31094159b18
=======
   "execution_count": 66,
>>>>>>> 99ad7cca37deb622d3e9c9c20442d31094159b18
   "metadata": {
    "colab": {},
    "colab_type": "code",
    "id": "iF9wdNYVCx3T"
   },
   "outputs": [],
   "source": [
<<<<<<< HEAD
<<<<<<< HEAD
    "# select_clfs = ['XG_O', 'RF_O', 'LGB_O']"
=======
    "selected_clfs = ['XG_O', 'RF_O', 'LGB_O']"
>>>>>>> 99ad7cca37deb622d3e9c9c20442d31094159b18
   ]
  },
  {
   "cell_type": "code",
<<<<<<< HEAD
   "execution_count": 106,
   "metadata": {},
   "outputs": [],
   "source": [
    "# create a dictionary of classifers with the hyperparameters you would like to try \n",
    "classifiers = {'LGB_O': LGBMClassifier(booster ='gbtree', n_estimators = 100, learning_rate = .1, max_depth = 7, objective ='binary')}"
   ]
  },
  {
   "cell_type": "code",
   "execution_count": 107,
   "metadata": {},
   "outputs": [],
   "source": [
    "selected_clfs = ['LGB_O']"
=======
    "selected_clfs = ['XG_O', 'RF_O', 'LGB_O']"
>>>>>>> 99ad7cca37deb622d3e9c9c20442d31094159b18
   ]
  },
  {
   "cell_type": "code",
<<<<<<< HEAD
   "execution_count": 108,
=======
   "execution_count": 67,
>>>>>>> 99ad7cca37deb622d3e9c9c20442d31094159b18
=======
   "execution_count": 67,
>>>>>>> 99ad7cca37deb622d3e9c9c20442d31094159b18
   "metadata": {},
   "outputs": [],
   "source": [
    "X_train_O, y_train_O = resampling_unbalanced(X_train, y_train, \"over\")"
   ]
  },
  {
   "cell_type": "code",
<<<<<<< HEAD
<<<<<<< HEAD
   "execution_count": 109,
=======
   "execution_count": 68,
>>>>>>> 99ad7cca37deb622d3e9c9c20442d31094159b18
=======
   "execution_count": 68,
>>>>>>> 99ad7cca37deb622d3e9c9c20442d31094159b18
   "metadata": {},
   "outputs": [
    {
     "data": {
      "text/plain": [
       "((134076, 453), (134076, 1))"
      ]
     },
<<<<<<< HEAD
<<<<<<< HEAD
     "execution_count": 109,
=======
     "execution_count": 68,
>>>>>>> 99ad7cca37deb622d3e9c9c20442d31094159b18
=======
     "execution_count": 68,
>>>>>>> 99ad7cca37deb622d3e9c9c20442d31094159b18
     "metadata": {},
     "output_type": "execute_result"
    }
   ],
   "source": [
    "X_train_O.shape, y_train_O.shape"
   ]
  },
  {
   "cell_type": "code",
<<<<<<< HEAD
<<<<<<< HEAD
   "execution_count": 110,
=======
   "execution_count": 69,
>>>>>>> 99ad7cca37deb622d3e9c9c20442d31094159b18
=======
   "execution_count": 69,
>>>>>>> 99ad7cca37deb622d3e9c9c20442d31094159b18
   "metadata": {
    "colab": {},
    "colab_type": "code",
    "id": "pJmp0nhGCx-T"
   },
   "outputs": [
    {
     "name": "stdout",
     "output_type": "stream",
     "text": [
<<<<<<< HEAD
<<<<<<< HEAD
      "LGB_O\n"
     ]
    },
    {
     "name": "stderr",
     "output_type": "stream",
     "text": [
      "/Users/vivianahernandez/anaconda3/envs/uchi/lib/python3.7/site-packages/sklearn/preprocessing/_label.py:235: DataConversionWarning: A column-vector y was passed when a 1d array was expected. Please change the shape of y to (n_samples, ), for example using ravel().\n",
      "  y = column_or_1d(y, warn=True)\n",
      "/Users/vivianahernandez/anaconda3/envs/uchi/lib/python3.7/site-packages/sklearn/preprocessing/_label.py:268: DataConversionWarning: A column-vector y was passed when a 1d array was expected. Please change the shape of y to (n_samples, ), for example using ravel().\n",
      "  y = column_or_1d(y, warn=True)\n"
     ]
    },
    {
     "name": "stdout",
     "output_type": "stream",
     "text": [
      "-------- classifier being run is LGB_O ---------\n",
      "-------- saving the the model ---------\n",
      "-------- computing y_predict, y_prob, y_train_O_predict ---------\n",
      "-------- creating the confusion matrix ---------\n",
      "-------- calculating the metrics ---------\n"
     ]
    },
    {
     "name": "stderr",
     "output_type": "stream",
     "text": [
      "/Users/vivianahernandez/anaconda3/envs/uchi/lib/python3.7/site-packages/sklearn/preprocessing/_label.py:235: DataConversionWarning: A column-vector y was passed when a 1d array was expected. Please change the shape of y to (n_samples, ), for example using ravel().\n",
      "  y = column_or_1d(y, warn=True)\n",
      "/Users/vivianahernandez/anaconda3/envs/uchi/lib/python3.7/site-packages/sklearn/preprocessing/_label.py:268: DataConversionWarning: A column-vector y was passed when a 1d array was expected. Please change the shape of y to (n_samples, ), for example using ravel().\n",
      "  y = column_or_1d(y, warn=True)\n"
     ]
    },
    {
     "name": "stdout",
     "output_type": "stream",
     "text": [
=======
=======
>>>>>>> 99ad7cca37deb622d3e9c9c20442d31094159b18
      "XG_O\n",
      "-------- classifier being run is XG_O ---------\n",
      "-------- saving the the model ---------\n",
      "-------- computing y_predict, y_prob, y_train_predict ---------\n",
      "-------- creating the confusion matrix ---------\n",
      "-------- calculating the metrics ---------\n",
      "Cross Validation is on 4 folds.\n",
      "-------- append values to the model matrix  ---------\n",
      "RF_O\n",
      "-------- classifier being run is RF_O ---------\n",
      "-------- saving the the model ---------\n",
      "-------- computing y_predict, y_prob, y_train_predict ---------\n",
      "-------- creating the confusion matrix ---------\n",
      "-------- calculating the metrics ---------\n",
      "Cross Validation is on 4 folds.\n",
      "-------- append values to the model matrix  ---------\n",
      "LGB_O\n",
      "-------- classifier being run is LGB_O ---------\n",
      "-------- saving the the model ---------\n",
      "-------- computing y_predict, y_prob, y_train_predict ---------\n",
      "-------- creating the confusion matrix ---------\n",
      "-------- calculating the metrics ---------\n",
<<<<<<< HEAD
>>>>>>> 99ad7cca37deb622d3e9c9c20442d31094159b18
=======
>>>>>>> 99ad7cca37deb622d3e9c9c20442d31094159b18
      "Cross Validation is on 4 folds.\n",
      "-------- append values to the model matrix  ---------\n"
     ]
    }
   ],
   "source": [
    "clf_over_matrix = pd.DataFrame(columns = ['model', 'precision_test', 'recall_test', 'FPR_test', 'AUROC_test',\n",
    "                                     'f1_test', 'f1_train', 'f1_CV'])\n",
    "\n",
    "# for every classifer in the selected classifers list\n",
    "for idx, classifier in enumerate(selected_clfs):\n",
    "    print(classifier)\n",
    "    # get the classifer and hyperparameters from the model\n",
    "    clf = classifiers[classifier]\n",
    "\n",
    "    # fit the model \n",
<<<<<<< HEAD
<<<<<<< HEAD
    "    clf.fit(X_train_O,y_train_O)\n",
=======
    "    clf.fit(X_train_O,y_train_O.values.ravel())\n",
>>>>>>> 99ad7cca37deb622d3e9c9c20442d31094159b18
=======
    "    clf.fit(X_train_O,y_train_O.values.ravel())\n",
>>>>>>> 99ad7cca37deb622d3e9c9c20442d31094159b18
    "    print(f\"-------- classifier being run is {classifier} ---------\")\n",
    "\n",
    "    print(f\"-------- saving the the model ---------\")\n",
    "    # Write the model to file\n",
    "    dump(clf, '{}.joblib'.format(classifier)) \n",
    "\n",
    "    print(f\"-------- computing y_predict, y_prob, y_train_predict ---------\")\n",
    "    # prediction of y based on X_test\n",
    "    y_predict = clf.predict(X_test)\n",
    "    # prediction of y probability based on X_test\n",
    "    y_proba = clf.predict_proba(X_test)[:,1]\n",
    "    # prediction of y based on X_train_O\n",
    "    y_train_predict = clf.predict(X_train_O)\n",
    "\n",
    "    print(f\"-------- creating the confusion matrix ---------\") \n",
    "    # confusion matrix \n",
<<<<<<< HEAD
<<<<<<< HEAD
    "    cmat = confusion_matrix(y_test, y_predict)\n",
=======
    "    cmat = confusion_matrix(y_test.values.ravel(), y_predict)\n",
>>>>>>> 99ad7cca37deb622d3e9c9c20442d31094159b18
=======
    "    cmat = confusion_matrix(y_test.values.ravel(), y_predict)\n",
>>>>>>> 99ad7cca37deb622d3e9c9c20442d31094159b18
    "    # tp, fn, fp, tn\n",
    "    tp = cmat[1,1]\n",
    "    fn = cmat[1,0]\n",
    "    fp = cmat[0,1]\n",
    "    tn = cmat[0,0]\n",
    "\n",
    "    print(f\"-------- calculating the metrics ---------\") \n",
    "    #precision score on test\n",
<<<<<<< HEAD
<<<<<<< HEAD
    "    p_score_test = precision_score(y_test, y_predict)\n",
=======
    "    p_score_test = precision_score(y_test.values.ravel(), y_predict)\n",
>>>>>>> 99ad7cca37deb622d3e9c9c20442d31094159b18
=======
    "    p_score_test = precision_score(y_test.values.ravel(), y_predict)\n",
>>>>>>> 99ad7cca37deb622d3e9c9c20442d31094159b18
    "\n",
    "    #recall score on test\n",
    "    r_score_test = tp/(tp+fn) \n",
    "\n",
    "    #FPR score on test\n",
    "    fpr_test = fp/(fp+tn)\n",
    "\n",
    "    #AUROC score on test\n",
<<<<<<< HEAD
<<<<<<< HEAD
    "    auroc_test = roc_auc_score(y_test, y_proba)\n",
    "\n",
    "    #f1 score on test\n",
    "    f1_test = f1_score(y_test, y_predict)\n",
    "\n",
    "    #f1 score on train\n",
    "    f1_train = f1_score(y_train_O, y_train_predict)\n",
    "\n",
    "    #f1 score on cross validation \n",
    "    k_fold = 4\n",
    "    f1_cv = cross_val_score(clf, X_train_O, y_train_O, cv=k_fold, scoring = 'f1')\n",
=======
=======
>>>>>>> 99ad7cca37deb622d3e9c9c20442d31094159b18
    "    auroc_test = roc_auc_score(y_test.values.ravel(), y_proba)\n",
    "\n",
    "    #f1 score on test\n",
    "    f1_test = f1_score(y_test.values.ravel(), y_predict)\n",
    "\n",
    "    #f1 score on train\n",
    "    f1_train = f1_score(y_train_O.values.ravel(), y_train_predict)\n",
    "\n",
    "    #f1 score on cross validation \n",
    "    k_fold = 4\n",
    "    f1_cv = cross_val_score(clf, X_train_O, y_train_O.values.ravel(), cv=k_fold, scoring = 'f1')\n",
<<<<<<< HEAD
>>>>>>> 99ad7cca37deb622d3e9c9c20442d31094159b18
=======
>>>>>>> 99ad7cca37deb622d3e9c9c20442d31094159b18
    "    print(f\"Cross Validation is on {k_fold} folds.\")\n",
    "\n",
    "    print(f\"-------- append values to the model matrix  ---------\") \n",
    "\n",
    "    # append to matrix\n",
<<<<<<< HEAD
<<<<<<< HEAD
    "    df2 = pd.DataFrame([[classifier,p_score_test,r_score_test, fpr_test, auroc_test, f1_test, f1_train, f1_cv]], columns=['model', 'precision_test', 'recall_test', 'FPR_test', 'AUROC_test',\n",
=======
    "    df2 = pd.DataFrame([[classifier,p_score_test,r_score_test, fpr_test, auroc_test, f1_test, f1_train, f1_cv]], \n",
    "                       columns=['model', 'precision_test', 'recall_test', 'FPR_test', 'AUROC_test',\n",
>>>>>>> 99ad7cca37deb622d3e9c9c20442d31094159b18
=======
    "    df2 = pd.DataFrame([[classifier,p_score_test,r_score_test, fpr_test, auroc_test, f1_test, f1_train, f1_cv]], \n",
    "                       columns=['model', 'precision_test', 'recall_test', 'FPR_test', 'AUROC_test',\n",
>>>>>>> 99ad7cca37deb622d3e9c9c20442d31094159b18
    "                                     'f1_test', 'f1_train', 'f1_CV'])\n",
    "    \n",
    "    clf_over_matrix = pd.concat([df2, clf_over_matrix])\n"
   ]
  },
  {
   "cell_type": "code",
<<<<<<< HEAD
<<<<<<< HEAD
   "execution_count": 111,
   "metadata": {
    "colab": {},
    "colab_type": "code",
    "id": "xluRawugCyB2"
=======
=======
>>>>>>> 99ad7cca37deb622d3e9c9c20442d31094159b18
   "execution_count": 70,
   "metadata": {
    "colab": {},
    "colab_type": "code",
    "id": "xluRawugCyB2",
    "scrolled": false
<<<<<<< HEAD
>>>>>>> 99ad7cca37deb622d3e9c9c20442d31094159b18
=======
>>>>>>> 99ad7cca37deb622d3e9c9c20442d31094159b18
   },
   "outputs": [
    {
     "name": "stdout",
     "output_type": "stream",
     "text": [
<<<<<<< HEAD
<<<<<<< HEAD
=======
      "XG_O\n",
      "RF_O\n",
>>>>>>> 99ad7cca37deb622d3e9c9c20442d31094159b18
=======
      "XG_O\n",
      "RF_O\n",
>>>>>>> 99ad7cca37deb622d3e9c9c20442d31094159b18
      "LGB_O\n"
     ]
    },
    {
     "data": {
<<<<<<< HEAD
<<<<<<< HEAD
      "image/png": "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\n",
=======
=======
>>>>>>> 99ad7cca37deb622d3e9c9c20442d31094159b18
      "image/png": "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\n",
      "text/plain": [
       "<Figure size 720x720 with 2 Axes>"
      ]
     },
     "metadata": {
      "needs_background": "light"
     },
     "output_type": "display_data"
    },
    {
     "data": {
      "image/png": "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\n",
      "text/plain": [
       "<Figure size 720x720 with 2 Axes>"
      ]
     },
     "metadata": {
      "needs_background": "light"
     },
     "output_type": "display_data"
    },
    {
     "data": {
      "image/png": "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\n",
<<<<<<< HEAD
>>>>>>> 99ad7cca37deb622d3e9c9c20442d31094159b18
=======
>>>>>>> 99ad7cca37deb622d3e9c9c20442d31094159b18
      "text/plain": [
       "<Figure size 720x720 with 2 Axes>"
      ]
     },
     "metadata": {
      "needs_background": "light"
     },
     "output_type": "display_data"
    }
   ],
   "source": [
    "# Draw confusion matrix for each model \n",
    "for classifier in selected_clfs:\n",
    "\n",
    "  # Load model saved\n",
    "  clf = load('{}.joblib'.format(classifier)) \n",
    "\n",
    "  # Predict y based on X_test\n",
    "  y_predict = clf.predict(X_test)\n",
    "\n",
    "  # confusion matrix\n",
    "  cm = confusion_matrix(y_test, y_predict)\n",
    "\n",
    "  # Draw\n",
    "  print(classifier)\n",
    "  draw_conf_mat(cm)"
   ]
  },
  {
   "cell_type": "code",
<<<<<<< HEAD
<<<<<<< HEAD
   "execution_count": 116,
=======
   "execution_count": 71,
>>>>>>> 99ad7cca37deb622d3e9c9c20442d31094159b18
=======
   "execution_count": 71,
>>>>>>> 99ad7cca37deb622d3e9c9c20442d31094159b18
   "metadata": {
    "colab": {},
    "colab_type": "code",
    "id": "SZwOF1IzCyFL"
   },
   "outputs": [
    {
     "data": {
      "text/html": [
       "<div>\n",
       "<style scoped>\n",
       "    .dataframe tbody tr th:only-of-type {\n",
       "        vertical-align: middle;\n",
       "    }\n",
       "\n",
       "    .dataframe tbody tr th {\n",
       "        vertical-align: top;\n",
       "    }\n",
       "\n",
       "    .dataframe thead th {\n",
       "        text-align: right;\n",
       "    }\n",
       "</style>\n",
       "<table border=\"1\" class=\"dataframe\">\n",
       "  <thead>\n",
       "    <tr style=\"text-align: right;\">\n",
       "      <th></th>\n",
       "      <th>model</th>\n",
       "      <th>precision_test</th>\n",
       "      <th>recall_test</th>\n",
       "      <th>FPR_test</th>\n",
       "      <th>AUROC_test</th>\n",
       "      <th>f1_test</th>\n",
       "      <th>f1_train</th>\n",
       "      <th>f1_CV</th>\n",
       "    </tr>\n",
       "  </thead>\n",
       "  <tbody>\n",
       "    <tr>\n",
<<<<<<< HEAD
<<<<<<< HEAD
       "      <th>0</th>\n",
       "      <td>LGB_O</td>\n",
       "      <td>0.662291</td>\n",
       "      <td>0.3506</td>\n",
       "      <td>0.016885</td>\n",
       "      <td>0.894673</td>\n",
       "      <td>0.458488</td>\n",
       "      <td>0.96558</td>\n",
       "      <td>0.770224</td>\n",
       "    </tr>\n",
       "    <tr>\n",
       "      <th>0</th>\n",
       "      <td>LGB_O</td>\n",
       "      <td>0.662291</td>\n",
       "      <td>0.3506</td>\n",
       "      <td>0.016885</td>\n",
       "      <td>0.894673</td>\n",
       "      <td>0.458488</td>\n",
       "      <td>0.96558</td>\n",
       "      <td>0.988901</td>\n",
       "    </tr>\n",
       "    <tr>\n",
       "      <th>0</th>\n",
       "      <td>LGB_O</td>\n",
       "      <td>0.662291</td>\n",
       "      <td>0.3506</td>\n",
       "      <td>0.016885</td>\n",
       "      <td>0.894673</td>\n",
       "      <td>0.458488</td>\n",
       "      <td>0.96558</td>\n",
       "      <td>0.988283</td>\n",
       "    </tr>\n",
       "    <tr>\n",
       "      <th>0</th>\n",
       "      <td>LGB_O</td>\n",
       "      <td>0.662291</td>\n",
       "      <td>0.3506</td>\n",
       "      <td>0.016885</td>\n",
       "      <td>0.894673</td>\n",
       "      <td>0.458488</td>\n",
       "      <td>0.96558</td>\n",
       "      <td>0.987935</td>\n",
=======
=======
>>>>>>> 99ad7cca37deb622d3e9c9c20442d31094159b18
       "      <td>0</td>\n",
       "      <td>LGB_O</td>\n",
       "      <td>0.666271</td>\n",
       "      <td>0.354390</td>\n",
       "      <td>0.016766</td>\n",
       "      <td>0.894719</td>\n",
       "      <td>0.462680</td>\n",
       "      <td>0.965973</td>\n",
       "      <td>0.77045</td>\n",
       "    </tr>\n",
       "    <tr>\n",
       "      <td>0</td>\n",
       "      <td>LGB_O</td>\n",
       "      <td>0.666271</td>\n",
       "      <td>0.354390</td>\n",
       "      <td>0.016766</td>\n",
       "      <td>0.894719</td>\n",
       "      <td>0.462680</td>\n",
       "      <td>0.965973</td>\n",
       "      <td>0.98928</td>\n",
       "    </tr>\n",
       "    <tr>\n",
       "      <td>0</td>\n",
       "      <td>LGB_O</td>\n",
       "      <td>0.666271</td>\n",
       "      <td>0.354390</td>\n",
       "      <td>0.016766</td>\n",
       "      <td>0.894719</td>\n",
       "      <td>0.462680</td>\n",
       "      <td>0.965973</td>\n",
       "      <td>0.988636</td>\n",
       "    </tr>\n",
       "    <tr>\n",
       "      <td>0</td>\n",
       "      <td>LGB_O</td>\n",
       "      <td>0.666271</td>\n",
       "      <td>0.354390</td>\n",
       "      <td>0.016766</td>\n",
       "      <td>0.894719</td>\n",
       "      <td>0.462680</td>\n",
       "      <td>0.965973</td>\n",
       "      <td>0.987849</td>\n",
       "    </tr>\n",
       "    <tr>\n",
       "      <td>0</td>\n",
       "      <td>LGB_O</td>\n",
       "      <td>0.666271</td>\n",
       "      <td>0.354390</td>\n",
       "      <td>0.016766</td>\n",
       "      <td>0.894719</td>\n",
       "      <td>0.462680</td>\n",
       "      <td>0.965973</td>\n",
       "      <td>0.836015</td>\n",
       "    </tr>\n",
       "    <tr>\n",
       "      <td>0</td>\n",
       "      <td>LGB_O</td>\n",
       "      <td>0.666271</td>\n",
       "      <td>0.354390</td>\n",
       "      <td>0.016766</td>\n",
       "      <td>0.894719</td>\n",
       "      <td>0.462680</td>\n",
       "      <td>0.965973</td>\n",
       "      <td>0.897031</td>\n",
       "    </tr>\n",
       "    <tr>\n",
       "      <td>0</td>\n",
       "      <td>LGB_O</td>\n",
       "      <td>0.666271</td>\n",
       "      <td>0.354390</td>\n",
       "      <td>0.016766</td>\n",
       "      <td>0.894719</td>\n",
       "      <td>0.462680</td>\n",
       "      <td>0.965973</td>\n",
       "      <td>0.889623</td>\n",
       "    </tr>\n",
       "    <tr>\n",
       "      <td>0</td>\n",
       "      <td>LGB_O</td>\n",
       "      <td>0.666271</td>\n",
       "      <td>0.354390</td>\n",
       "      <td>0.016766</td>\n",
       "      <td>0.894719</td>\n",
       "      <td>0.462680</td>\n",
       "      <td>0.965973</td>\n",
       "      <td>0.892914</td>\n",
       "    </tr>\n",
       "    <tr>\n",
       "      <td>0</td>\n",
       "      <td>LGB_O</td>\n",
       "      <td>0.666271</td>\n",
       "      <td>0.354390</td>\n",
       "      <td>0.016766</td>\n",
       "      <td>0.894719</td>\n",
       "      <td>0.462680</td>\n",
       "      <td>0.965973</td>\n",
       "      <td>0.772171</td>\n",
       "    </tr>\n",
       "    <tr>\n",
       "      <td>0</td>\n",
       "      <td>LGB_O</td>\n",
       "      <td>0.666271</td>\n",
       "      <td>0.354390</td>\n",
       "      <td>0.016766</td>\n",
       "      <td>0.894719</td>\n",
       "      <td>0.462680</td>\n",
       "      <td>0.965973</td>\n",
       "      <td>0.990891</td>\n",
       "    </tr>\n",
       "    <tr>\n",
       "      <td>0</td>\n",
       "      <td>LGB_O</td>\n",
       "      <td>0.666271</td>\n",
       "      <td>0.354390</td>\n",
       "      <td>0.016766</td>\n",
       "      <td>0.894719</td>\n",
       "      <td>0.462680</td>\n",
       "      <td>0.965973</td>\n",
       "      <td>0.989925</td>\n",
       "    </tr>\n",
       "    <tr>\n",
       "      <td>0</td>\n",
       "      <td>LGB_O</td>\n",
       "      <td>0.666271</td>\n",
       "      <td>0.354390</td>\n",
       "      <td>0.016766</td>\n",
       "      <td>0.894719</td>\n",
       "      <td>0.462680</td>\n",
       "      <td>0.965973</td>\n",
       "      <td>0.988931</td>\n",
       "    </tr>\n",
       "    <tr>\n",
       "      <td>0</td>\n",
       "      <td>RF_O</td>\n",
       "      <td>0.336280</td>\n",
       "      <td>0.624763</td>\n",
       "      <td>0.116468</td>\n",
       "      <td>0.861705</td>\n",
       "      <td>0.437224</td>\n",
       "      <td>0.886372</td>\n",
       "      <td>0.77045</td>\n",
       "    </tr>\n",
       "    <tr>\n",
       "      <td>0</td>\n",
       "      <td>RF_O</td>\n",
       "      <td>0.336280</td>\n",
       "      <td>0.624763</td>\n",
       "      <td>0.116468</td>\n",
       "      <td>0.861705</td>\n",
       "      <td>0.437224</td>\n",
       "      <td>0.886372</td>\n",
       "      <td>0.98928</td>\n",
       "    </tr>\n",
       "    <tr>\n",
       "      <td>0</td>\n",
       "      <td>RF_O</td>\n",
       "      <td>0.336280</td>\n",
       "      <td>0.624763</td>\n",
       "      <td>0.116468</td>\n",
       "      <td>0.861705</td>\n",
       "      <td>0.437224</td>\n",
       "      <td>0.886372</td>\n",
       "      <td>0.988636</td>\n",
       "    </tr>\n",
       "    <tr>\n",
       "      <td>0</td>\n",
       "      <td>RF_O</td>\n",
       "      <td>0.336280</td>\n",
       "      <td>0.624763</td>\n",
       "      <td>0.116468</td>\n",
       "      <td>0.861705</td>\n",
       "      <td>0.437224</td>\n",
       "      <td>0.886372</td>\n",
       "      <td>0.987849</td>\n",
       "    </tr>\n",
       "    <tr>\n",
       "      <td>0</td>\n",
       "      <td>RF_O</td>\n",
       "      <td>0.336280</td>\n",
       "      <td>0.624763</td>\n",
       "      <td>0.116468</td>\n",
       "      <td>0.861705</td>\n",
       "      <td>0.437224</td>\n",
       "      <td>0.886372</td>\n",
       "      <td>0.836015</td>\n",
       "    </tr>\n",
       "    <tr>\n",
       "      <td>0</td>\n",
       "      <td>RF_O</td>\n",
       "      <td>0.336280</td>\n",
       "      <td>0.624763</td>\n",
       "      <td>0.116468</td>\n",
       "      <td>0.861705</td>\n",
       "      <td>0.437224</td>\n",
       "      <td>0.886372</td>\n",
       "      <td>0.897031</td>\n",
       "    </tr>\n",
       "    <tr>\n",
       "      <td>0</td>\n",
       "      <td>RF_O</td>\n",
       "      <td>0.336280</td>\n",
       "      <td>0.624763</td>\n",
       "      <td>0.116468</td>\n",
       "      <td>0.861705</td>\n",
       "      <td>0.437224</td>\n",
       "      <td>0.886372</td>\n",
       "      <td>0.889623</td>\n",
       "    </tr>\n",
       "    <tr>\n",
       "      <td>0</td>\n",
       "      <td>RF_O</td>\n",
       "      <td>0.336280</td>\n",
       "      <td>0.624763</td>\n",
       "      <td>0.116468</td>\n",
       "      <td>0.861705</td>\n",
       "      <td>0.437224</td>\n",
       "      <td>0.886372</td>\n",
       "      <td>0.892914</td>\n",
       "    </tr>\n",
       "    <tr>\n",
       "      <td>0</td>\n",
       "      <td>RF_O</td>\n",
       "      <td>0.336280</td>\n",
       "      <td>0.624763</td>\n",
       "      <td>0.116468</td>\n",
       "      <td>0.861705</td>\n",
       "      <td>0.437224</td>\n",
       "      <td>0.886372</td>\n",
       "      <td>0.772171</td>\n",
       "    </tr>\n",
       "    <tr>\n",
       "      <td>0</td>\n",
       "      <td>RF_O</td>\n",
       "      <td>0.336280</td>\n",
       "      <td>0.624763</td>\n",
       "      <td>0.116468</td>\n",
       "      <td>0.861705</td>\n",
       "      <td>0.437224</td>\n",
       "      <td>0.886372</td>\n",
       "      <td>0.990891</td>\n",
       "    </tr>\n",
       "    <tr>\n",
       "      <td>0</td>\n",
       "      <td>RF_O</td>\n",
       "      <td>0.336280</td>\n",
       "      <td>0.624763</td>\n",
       "      <td>0.116468</td>\n",
       "      <td>0.861705</td>\n",
       "      <td>0.437224</td>\n",
       "      <td>0.886372</td>\n",
       "      <td>0.989925</td>\n",
       "    </tr>\n",
       "    <tr>\n",
       "      <td>0</td>\n",
       "      <td>RF_O</td>\n",
       "      <td>0.336280</td>\n",
       "      <td>0.624763</td>\n",
       "      <td>0.116468</td>\n",
       "      <td>0.861705</td>\n",
       "      <td>0.437224</td>\n",
       "      <td>0.886372</td>\n",
       "      <td>0.988931</td>\n",
       "    </tr>\n",
       "    <tr>\n",
       "      <td>0</td>\n",
       "      <td>XG_O</td>\n",
       "      <td>0.696379</td>\n",
       "      <td>0.315856</td>\n",
       "      <td>0.013007</td>\n",
       "      <td>0.651424</td>\n",
       "      <td>0.434594</td>\n",
       "      <td>0.972429</td>\n",
       "      <td>0.77045</td>\n",
       "    </tr>\n",
       "    <tr>\n",
       "      <td>0</td>\n",
       "      <td>XG_O</td>\n",
       "      <td>0.696379</td>\n",
       "      <td>0.315856</td>\n",
       "      <td>0.013007</td>\n",
       "      <td>0.651424</td>\n",
       "      <td>0.434594</td>\n",
       "      <td>0.972429</td>\n",
       "      <td>0.98928</td>\n",
       "    </tr>\n",
       "    <tr>\n",
       "      <td>0</td>\n",
       "      <td>XG_O</td>\n",
       "      <td>0.696379</td>\n",
       "      <td>0.315856</td>\n",
       "      <td>0.013007</td>\n",
       "      <td>0.651424</td>\n",
       "      <td>0.434594</td>\n",
       "      <td>0.972429</td>\n",
       "      <td>0.988636</td>\n",
       "    </tr>\n",
       "    <tr>\n",
       "      <td>0</td>\n",
       "      <td>XG_O</td>\n",
       "      <td>0.696379</td>\n",
       "      <td>0.315856</td>\n",
       "      <td>0.013007</td>\n",
       "      <td>0.651424</td>\n",
       "      <td>0.434594</td>\n",
       "      <td>0.972429</td>\n",
       "      <td>0.987849</td>\n",
       "    </tr>\n",
       "    <tr>\n",
       "      <td>0</td>\n",
       "      <td>XG_O</td>\n",
       "      <td>0.696379</td>\n",
       "      <td>0.315856</td>\n",
       "      <td>0.013007</td>\n",
       "      <td>0.651424</td>\n",
       "      <td>0.434594</td>\n",
       "      <td>0.972429</td>\n",
       "      <td>0.836015</td>\n",
       "    </tr>\n",
       "    <tr>\n",
       "      <td>0</td>\n",
       "      <td>XG_O</td>\n",
       "      <td>0.696379</td>\n",
       "      <td>0.315856</td>\n",
       "      <td>0.013007</td>\n",
       "      <td>0.651424</td>\n",
       "      <td>0.434594</td>\n",
       "      <td>0.972429</td>\n",
       "      <td>0.897031</td>\n",
       "    </tr>\n",
       "    <tr>\n",
       "      <td>0</td>\n",
       "      <td>XG_O</td>\n",
       "      <td>0.696379</td>\n",
       "      <td>0.315856</td>\n",
       "      <td>0.013007</td>\n",
       "      <td>0.651424</td>\n",
       "      <td>0.434594</td>\n",
       "      <td>0.972429</td>\n",
       "      <td>0.889623</td>\n",
       "    </tr>\n",
       "    <tr>\n",
       "      <td>0</td>\n",
       "      <td>XG_O</td>\n",
       "      <td>0.696379</td>\n",
       "      <td>0.315856</td>\n",
       "      <td>0.013007</td>\n",
       "      <td>0.651424</td>\n",
       "      <td>0.434594</td>\n",
       "      <td>0.972429</td>\n",
       "      <td>0.892914</td>\n",
       "    </tr>\n",
       "    <tr>\n",
       "      <td>0</td>\n",
       "      <td>XG_O</td>\n",
       "      <td>0.696379</td>\n",
       "      <td>0.315856</td>\n",
       "      <td>0.013007</td>\n",
       "      <td>0.651424</td>\n",
       "      <td>0.434594</td>\n",
       "      <td>0.972429</td>\n",
       "      <td>0.772171</td>\n",
       "    </tr>\n",
       "    <tr>\n",
       "      <td>0</td>\n",
       "      <td>XG_O</td>\n",
       "      <td>0.696379</td>\n",
       "      <td>0.315856</td>\n",
       "      <td>0.013007</td>\n",
       "      <td>0.651424</td>\n",
       "      <td>0.434594</td>\n",
       "      <td>0.972429</td>\n",
       "      <td>0.990891</td>\n",
       "    </tr>\n",
       "    <tr>\n",
       "      <td>0</td>\n",
       "      <td>XG_O</td>\n",
       "      <td>0.696379</td>\n",
       "      <td>0.315856</td>\n",
       "      <td>0.013007</td>\n",
       "      <td>0.651424</td>\n",
       "      <td>0.434594</td>\n",
       "      <td>0.972429</td>\n",
       "      <td>0.989925</td>\n",
       "    </tr>\n",
       "    <tr>\n",
       "      <td>0</td>\n",
       "      <td>XG_O</td>\n",
       "      <td>0.696379</td>\n",
       "      <td>0.315856</td>\n",
       "      <td>0.013007</td>\n",
       "      <td>0.651424</td>\n",
       "      <td>0.434594</td>\n",
       "      <td>0.972429</td>\n",
       "      <td>0.988931</td>\n",
<<<<<<< HEAD
>>>>>>> 99ad7cca37deb622d3e9c9c20442d31094159b18
=======
>>>>>>> 99ad7cca37deb622d3e9c9c20442d31094159b18
       "    </tr>\n",
       "  </tbody>\n",
       "</table>\n",
       "</div>"
      ],
      "text/plain": [
       "   model  precision_test  recall_test  FPR_test  AUROC_test   f1_test  \\\n",
<<<<<<< HEAD
<<<<<<< HEAD
       "0  LGB_O        0.662291       0.3506  0.016885    0.894673  0.458488   \n",
       "0  LGB_O        0.662291       0.3506  0.016885    0.894673  0.458488   \n",
       "0  LGB_O        0.662291       0.3506  0.016885    0.894673  0.458488   \n",
       "0  LGB_O        0.662291       0.3506  0.016885    0.894673  0.458488   \n",
       "\n",
       "   f1_train     f1_CV  \n",
       "0   0.96558  0.770224  \n",
       "0   0.96558  0.988901  \n",
       "0   0.96558  0.988283  \n",
       "0   0.96558  0.987935  "
      ]
     },
     "execution_count": 116,
=======
=======
>>>>>>> 99ad7cca37deb622d3e9c9c20442d31094159b18
       "0  LGB_O        0.666271     0.354390  0.016766    0.894719  0.462680   \n",
       "0  LGB_O        0.666271     0.354390  0.016766    0.894719  0.462680   \n",
       "0  LGB_O        0.666271     0.354390  0.016766    0.894719  0.462680   \n",
       "0  LGB_O        0.666271     0.354390  0.016766    0.894719  0.462680   \n",
       "0  LGB_O        0.666271     0.354390  0.016766    0.894719  0.462680   \n",
       "0  LGB_O        0.666271     0.354390  0.016766    0.894719  0.462680   \n",
       "0  LGB_O        0.666271     0.354390  0.016766    0.894719  0.462680   \n",
       "0  LGB_O        0.666271     0.354390  0.016766    0.894719  0.462680   \n",
       "0  LGB_O        0.666271     0.354390  0.016766    0.894719  0.462680   \n",
       "0  LGB_O        0.666271     0.354390  0.016766    0.894719  0.462680   \n",
       "0  LGB_O        0.666271     0.354390  0.016766    0.894719  0.462680   \n",
       "0  LGB_O        0.666271     0.354390  0.016766    0.894719  0.462680   \n",
       "0   RF_O        0.336280     0.624763  0.116468    0.861705  0.437224   \n",
       "0   RF_O        0.336280     0.624763  0.116468    0.861705  0.437224   \n",
       "0   RF_O        0.336280     0.624763  0.116468    0.861705  0.437224   \n",
       "0   RF_O        0.336280     0.624763  0.116468    0.861705  0.437224   \n",
       "0   RF_O        0.336280     0.624763  0.116468    0.861705  0.437224   \n",
       "0   RF_O        0.336280     0.624763  0.116468    0.861705  0.437224   \n",
       "0   RF_O        0.336280     0.624763  0.116468    0.861705  0.437224   \n",
       "0   RF_O        0.336280     0.624763  0.116468    0.861705  0.437224   \n",
       "0   RF_O        0.336280     0.624763  0.116468    0.861705  0.437224   \n",
       "0   RF_O        0.336280     0.624763  0.116468    0.861705  0.437224   \n",
       "0   RF_O        0.336280     0.624763  0.116468    0.861705  0.437224   \n",
       "0   RF_O        0.336280     0.624763  0.116468    0.861705  0.437224   \n",
       "0   XG_O        0.696379     0.315856  0.013007    0.651424  0.434594   \n",
       "0   XG_O        0.696379     0.315856  0.013007    0.651424  0.434594   \n",
       "0   XG_O        0.696379     0.315856  0.013007    0.651424  0.434594   \n",
       "0   XG_O        0.696379     0.315856  0.013007    0.651424  0.434594   \n",
       "0   XG_O        0.696379     0.315856  0.013007    0.651424  0.434594   \n",
       "0   XG_O        0.696379     0.315856  0.013007    0.651424  0.434594   \n",
       "0   XG_O        0.696379     0.315856  0.013007    0.651424  0.434594   \n",
       "0   XG_O        0.696379     0.315856  0.013007    0.651424  0.434594   \n",
       "0   XG_O        0.696379     0.315856  0.013007    0.651424  0.434594   \n",
       "0   XG_O        0.696379     0.315856  0.013007    0.651424  0.434594   \n",
       "0   XG_O        0.696379     0.315856  0.013007    0.651424  0.434594   \n",
       "0   XG_O        0.696379     0.315856  0.013007    0.651424  0.434594   \n",
       "\n",
       "   f1_train     f1_CV  \n",
       "0  0.965973   0.77045  \n",
       "0  0.965973   0.98928  \n",
       "0  0.965973  0.988636  \n",
       "0  0.965973  0.987849  \n",
       "0  0.965973  0.836015  \n",
       "0  0.965973  0.897031  \n",
       "0  0.965973  0.889623  \n",
       "0  0.965973  0.892914  \n",
       "0  0.965973  0.772171  \n",
       "0  0.965973  0.990891  \n",
       "0  0.965973  0.989925  \n",
       "0  0.965973  0.988931  \n",
       "0  0.886372   0.77045  \n",
       "0  0.886372   0.98928  \n",
       "0  0.886372  0.988636  \n",
       "0  0.886372  0.987849  \n",
       "0  0.886372  0.836015  \n",
       "0  0.886372  0.897031  \n",
       "0  0.886372  0.889623  \n",
       "0  0.886372  0.892914  \n",
       "0  0.886372  0.772171  \n",
       "0  0.886372  0.990891  \n",
       "0  0.886372  0.989925  \n",
       "0  0.886372  0.988931  \n",
       "0  0.972429   0.77045  \n",
       "0  0.972429   0.98928  \n",
       "0  0.972429  0.988636  \n",
       "0  0.972429  0.987849  \n",
       "0  0.972429  0.836015  \n",
       "0  0.972429  0.897031  \n",
       "0  0.972429  0.889623  \n",
       "0  0.972429  0.892914  \n",
       "0  0.972429  0.772171  \n",
       "0  0.972429  0.990891  \n",
       "0  0.972429  0.989925  \n",
       "0  0.972429  0.988931  "
      ]
     },
     "execution_count": 71,
<<<<<<< HEAD
>>>>>>> 99ad7cca37deb622d3e9c9c20442d31094159b18
=======
>>>>>>> 99ad7cca37deb622d3e9c9c20442d31094159b18
     "metadata": {},
     "output_type": "execute_result"
    }
   ],
   "source": [
    "clf_over_matrix.explode('f1_CV')"
   ]
  },
  {
   "cell_type": "code",
<<<<<<< HEAD
<<<<<<< HEAD
   "execution_count": 117,
=======
   "execution_count": 72,
>>>>>>> 99ad7cca37deb622d3e9c9c20442d31094159b18
=======
   "execution_count": 72,
>>>>>>> 99ad7cca37deb622d3e9c9c20442d31094159b18
   "metadata": {},
   "outputs": [
    {
     "data": {
      "text/html": [
       "<div>\n",
       "<style scoped>\n",
       "    .dataframe tbody tr th:only-of-type {\n",
       "        vertical-align: middle;\n",
       "    }\n",
       "\n",
       "    .dataframe tbody tr th {\n",
       "        vertical-align: top;\n",
       "    }\n",
       "\n",
       "    .dataframe thead th {\n",
       "        text-align: right;\n",
       "    }\n",
       "</style>\n",
       "<table border=\"1\" class=\"dataframe\">\n",
       "  <thead>\n",
       "    <tr style=\"text-align: right;\">\n",
       "      <th></th>\n",
       "      <th>model</th>\n",
       "      <th>precision_test</th>\n",
       "      <th>recall_test</th>\n",
       "      <th>FPR_test</th>\n",
       "      <th>AUROC_test</th>\n",
       "      <th>f1_test</th>\n",
       "      <th>f1_train</th>\n",
       "      <th>f1_CV</th>\n",
       "    </tr>\n",
       "  </thead>\n",
       "  <tbody>\n",
       "    <tr>\n",
<<<<<<< HEAD
<<<<<<< HEAD
       "      <th>0</th>\n",
       "      <td>LGB_U</td>\n",
       "      <td>0.284392</td>\n",
       "      <td>0.814908</td>\n",
       "      <td>0.193675</td>\n",
       "      <td>0.896877</td>\n",
       "      <td>0.421638</td>\n",
       "      <td>0.912283</td>\n",
       "      <td>0.799872</td>\n",
       "    </tr>\n",
       "    <tr>\n",
       "      <th>0</th>\n",
       "      <td>LGB_U</td>\n",
       "      <td>0.284392</td>\n",
       "      <td>0.814908</td>\n",
       "      <td>0.193675</td>\n",
       "      <td>0.896877</td>\n",
       "      <td>0.421638</td>\n",
       "      <td>0.912283</td>\n",
       "      <td>0.809539</td>\n",
       "    </tr>\n",
       "    <tr>\n",
       "      <th>0</th>\n",
       "      <td>LGB_U</td>\n",
       "      <td>0.284392</td>\n",
       "      <td>0.814908</td>\n",
       "      <td>0.193675</td>\n",
       "      <td>0.896877</td>\n",
       "      <td>0.421638</td>\n",
       "      <td>0.912283</td>\n",
       "      <td>0.806221</td>\n",
       "    </tr>\n",
       "    <tr>\n",
       "      <th>0</th>\n",
       "      <td>LGB_U</td>\n",
       "      <td>0.284392</td>\n",
       "      <td>0.814908</td>\n",
       "      <td>0.193675</td>\n",
       "      <td>0.896877</td>\n",
       "      <td>0.421638</td>\n",
       "      <td>0.912283</td>\n",
       "      <td>0.810725</td>\n",
=======
=======
>>>>>>> 99ad7cca37deb622d3e9c9c20442d31094159b18
       "      <td>0</td>\n",
       "      <td>LGB_U</td>\n",
       "      <td>0.285587</td>\n",
       "      <td>0.807328</td>\n",
       "      <td>0.190752</td>\n",
       "      <td>0.894381</td>\n",
       "      <td>0.421921</td>\n",
       "      <td>0.911213</td>\n",
       "      <td>0.799239</td>\n",
       "    </tr>\n",
       "    <tr>\n",
       "      <td>0</td>\n",
       "      <td>LGB_U</td>\n",
       "      <td>0.285587</td>\n",
       "      <td>0.807328</td>\n",
       "      <td>0.190752</td>\n",
       "      <td>0.894381</td>\n",
       "      <td>0.421921</td>\n",
       "      <td>0.911213</td>\n",
       "      <td>0.807608</td>\n",
       "    </tr>\n",
       "    <tr>\n",
       "      <td>0</td>\n",
       "      <td>LGB_U</td>\n",
       "      <td>0.285587</td>\n",
       "      <td>0.807328</td>\n",
       "      <td>0.190752</td>\n",
       "      <td>0.894381</td>\n",
       "      <td>0.421921</td>\n",
       "      <td>0.911213</td>\n",
       "      <td>0.811101</td>\n",
       "    </tr>\n",
       "    <tr>\n",
       "      <td>0</td>\n",
       "      <td>LGB_U</td>\n",
       "      <td>0.285587</td>\n",
       "      <td>0.807328</td>\n",
       "      <td>0.190752</td>\n",
       "      <td>0.894381</td>\n",
       "      <td>0.421921</td>\n",
       "      <td>0.911213</td>\n",
       "      <td>0.808632</td>\n",
       "    </tr>\n",
       "    <tr>\n",
       "      <td>0</td>\n",
       "      <td>LGB_U</td>\n",
       "      <td>0.285587</td>\n",
       "      <td>0.807328</td>\n",
       "      <td>0.190752</td>\n",
       "      <td>0.894381</td>\n",
       "      <td>0.421921</td>\n",
       "      <td>0.911213</td>\n",
       "      <td>0.764959</td>\n",
       "    </tr>\n",
       "    <tr>\n",
       "      <td>0</td>\n",
       "      <td>LGB_U</td>\n",
       "      <td>0.285587</td>\n",
       "      <td>0.807328</td>\n",
       "      <td>0.190752</td>\n",
       "      <td>0.894381</td>\n",
       "      <td>0.421921</td>\n",
       "      <td>0.911213</td>\n",
       "      <td>0.778837</td>\n",
       "    </tr>\n",
       "    <tr>\n",
       "      <td>0</td>\n",
       "      <td>LGB_U</td>\n",
       "      <td>0.285587</td>\n",
       "      <td>0.807328</td>\n",
       "      <td>0.190752</td>\n",
       "      <td>0.894381</td>\n",
       "      <td>0.421921</td>\n",
       "      <td>0.911213</td>\n",
       "      <td>0.769741</td>\n",
       "    </tr>\n",
       "    <tr>\n",
       "      <td>0</td>\n",
       "      <td>LGB_U</td>\n",
       "      <td>0.285587</td>\n",
       "      <td>0.807328</td>\n",
       "      <td>0.190752</td>\n",
       "      <td>0.894381</td>\n",
       "      <td>0.421921</td>\n",
       "      <td>0.911213</td>\n",
       "      <td>0.774215</td>\n",
       "    </tr>\n",
       "    <tr>\n",
       "      <td>0</td>\n",
       "      <td>LGB_U</td>\n",
       "      <td>0.285587</td>\n",
       "      <td>0.807328</td>\n",
       "      <td>0.190752</td>\n",
       "      <td>0.894381</td>\n",
       "      <td>0.421921</td>\n",
       "      <td>0.911213</td>\n",
       "      <td>0.769764</td>\n",
       "    </tr>\n",
       "    <tr>\n",
       "      <td>0</td>\n",
       "      <td>LGB_U</td>\n",
       "      <td>0.285587</td>\n",
       "      <td>0.807328</td>\n",
       "      <td>0.190752</td>\n",
       "      <td>0.894381</td>\n",
       "      <td>0.421921</td>\n",
       "      <td>0.911213</td>\n",
       "      <td>0.783615</td>\n",
       "    </tr>\n",
       "    <tr>\n",
       "      <td>0</td>\n",
       "      <td>LGB_U</td>\n",
       "      <td>0.285587</td>\n",
       "      <td>0.807328</td>\n",
       "      <td>0.190752</td>\n",
       "      <td>0.894381</td>\n",
       "      <td>0.421921</td>\n",
       "      <td>0.911213</td>\n",
       "      <td>0.80189</td>\n",
       "    </tr>\n",
       "    <tr>\n",
       "      <td>0</td>\n",
       "      <td>LGB_U</td>\n",
       "      <td>0.285587</td>\n",
       "      <td>0.807328</td>\n",
       "      <td>0.190752</td>\n",
       "      <td>0.894381</td>\n",
       "      <td>0.421921</td>\n",
       "      <td>0.911213</td>\n",
       "      <td>0.794249</td>\n",
       "    </tr>\n",
       "    <tr>\n",
       "      <td>0</td>\n",
       "      <td>RF_U</td>\n",
       "      <td>0.294652</td>\n",
       "      <td>0.737840</td>\n",
       "      <td>0.166826</td>\n",
       "      <td>0.873539</td>\n",
       "      <td>0.421129</td>\n",
       "      <td>0.804928</td>\n",
       "      <td>0.799239</td>\n",
       "    </tr>\n",
       "    <tr>\n",
       "      <td>0</td>\n",
       "      <td>RF_U</td>\n",
       "      <td>0.294652</td>\n",
       "      <td>0.737840</td>\n",
       "      <td>0.166826</td>\n",
       "      <td>0.873539</td>\n",
       "      <td>0.421129</td>\n",
       "      <td>0.804928</td>\n",
       "      <td>0.807608</td>\n",
       "    </tr>\n",
       "    <tr>\n",
       "      <td>0</td>\n",
       "      <td>RF_U</td>\n",
       "      <td>0.294652</td>\n",
       "      <td>0.737840</td>\n",
       "      <td>0.166826</td>\n",
       "      <td>0.873539</td>\n",
       "      <td>0.421129</td>\n",
       "      <td>0.804928</td>\n",
       "      <td>0.811101</td>\n",
       "    </tr>\n",
       "    <tr>\n",
       "      <td>0</td>\n",
       "      <td>RF_U</td>\n",
       "      <td>0.294652</td>\n",
       "      <td>0.737840</td>\n",
       "      <td>0.166826</td>\n",
       "      <td>0.873539</td>\n",
       "      <td>0.421129</td>\n",
       "      <td>0.804928</td>\n",
       "      <td>0.808632</td>\n",
       "    </tr>\n",
       "    <tr>\n",
       "      <td>0</td>\n",
       "      <td>RF_U</td>\n",
       "      <td>0.294652</td>\n",
       "      <td>0.737840</td>\n",
       "      <td>0.166826</td>\n",
       "      <td>0.873539</td>\n",
       "      <td>0.421129</td>\n",
       "      <td>0.804928</td>\n",
       "      <td>0.764959</td>\n",
       "    </tr>\n",
       "    <tr>\n",
       "      <td>0</td>\n",
       "      <td>RF_U</td>\n",
       "      <td>0.294652</td>\n",
       "      <td>0.737840</td>\n",
       "      <td>0.166826</td>\n",
       "      <td>0.873539</td>\n",
       "      <td>0.421129</td>\n",
       "      <td>0.804928</td>\n",
       "      <td>0.778837</td>\n",
       "    </tr>\n",
       "    <tr>\n",
       "      <td>0</td>\n",
       "      <td>RF_U</td>\n",
       "      <td>0.294652</td>\n",
       "      <td>0.737840</td>\n",
       "      <td>0.166826</td>\n",
       "      <td>0.873539</td>\n",
       "      <td>0.421129</td>\n",
       "      <td>0.804928</td>\n",
       "      <td>0.769741</td>\n",
       "    </tr>\n",
       "    <tr>\n",
       "      <td>0</td>\n",
       "      <td>RF_U</td>\n",
       "      <td>0.294652</td>\n",
       "      <td>0.737840</td>\n",
       "      <td>0.166826</td>\n",
       "      <td>0.873539</td>\n",
       "      <td>0.421129</td>\n",
       "      <td>0.804928</td>\n",
       "      <td>0.774215</td>\n",
       "    </tr>\n",
       "    <tr>\n",
       "      <td>0</td>\n",
       "      <td>RF_U</td>\n",
       "      <td>0.294652</td>\n",
       "      <td>0.737840</td>\n",
       "      <td>0.166826</td>\n",
       "      <td>0.873539</td>\n",
       "      <td>0.421129</td>\n",
       "      <td>0.804928</td>\n",
       "      <td>0.769764</td>\n",
       "    </tr>\n",
       "    <tr>\n",
       "      <td>0</td>\n",
       "      <td>RF_U</td>\n",
       "      <td>0.294652</td>\n",
       "      <td>0.737840</td>\n",
       "      <td>0.166826</td>\n",
       "      <td>0.873539</td>\n",
       "      <td>0.421129</td>\n",
       "      <td>0.804928</td>\n",
       "      <td>0.783615</td>\n",
       "    </tr>\n",
       "    <tr>\n",
       "      <td>0</td>\n",
       "      <td>RF_U</td>\n",
       "      <td>0.294652</td>\n",
       "      <td>0.737840</td>\n",
       "      <td>0.166826</td>\n",
       "      <td>0.873539</td>\n",
       "      <td>0.421129</td>\n",
       "      <td>0.804928</td>\n",
       "      <td>0.80189</td>\n",
       "    </tr>\n",
       "    <tr>\n",
       "      <td>0</td>\n",
       "      <td>RF_U</td>\n",
       "      <td>0.294652</td>\n",
       "      <td>0.737840</td>\n",
       "      <td>0.166826</td>\n",
       "      <td>0.873539</td>\n",
       "      <td>0.421129</td>\n",
       "      <td>0.804928</td>\n",
       "      <td>0.794249</td>\n",
       "    </tr>\n",
       "    <tr>\n",
       "      <td>0</td>\n",
       "      <td>XG_U</td>\n",
       "      <td>0.260530</td>\n",
       "      <td>0.801011</td>\n",
       "      <td>0.214737</td>\n",
       "      <td>0.793137</td>\n",
       "      <td>0.393178</td>\n",
       "      <td>0.941468</td>\n",
       "      <td>0.799239</td>\n",
       "    </tr>\n",
       "    <tr>\n",
       "      <td>0</td>\n",
       "      <td>XG_U</td>\n",
       "      <td>0.260530</td>\n",
       "      <td>0.801011</td>\n",
       "      <td>0.214737</td>\n",
       "      <td>0.793137</td>\n",
       "      <td>0.393178</td>\n",
       "      <td>0.941468</td>\n",
       "      <td>0.807608</td>\n",
       "    </tr>\n",
       "    <tr>\n",
       "      <td>0</td>\n",
       "      <td>XG_U</td>\n",
       "      <td>0.260530</td>\n",
       "      <td>0.801011</td>\n",
       "      <td>0.214737</td>\n",
       "      <td>0.793137</td>\n",
       "      <td>0.393178</td>\n",
       "      <td>0.941468</td>\n",
       "      <td>0.811101</td>\n",
       "    </tr>\n",
       "    <tr>\n",
       "      <td>0</td>\n",
       "      <td>XG_U</td>\n",
       "      <td>0.260530</td>\n",
       "      <td>0.801011</td>\n",
       "      <td>0.214737</td>\n",
       "      <td>0.793137</td>\n",
       "      <td>0.393178</td>\n",
       "      <td>0.941468</td>\n",
       "      <td>0.808632</td>\n",
       "    </tr>\n",
       "    <tr>\n",
       "      <td>0</td>\n",
       "      <td>XG_U</td>\n",
       "      <td>0.260530</td>\n",
       "      <td>0.801011</td>\n",
       "      <td>0.214737</td>\n",
       "      <td>0.793137</td>\n",
       "      <td>0.393178</td>\n",
       "      <td>0.941468</td>\n",
       "      <td>0.764959</td>\n",
       "    </tr>\n",
       "    <tr>\n",
       "      <td>0</td>\n",
       "      <td>XG_U</td>\n",
       "      <td>0.260530</td>\n",
       "      <td>0.801011</td>\n",
       "      <td>0.214737</td>\n",
       "      <td>0.793137</td>\n",
       "      <td>0.393178</td>\n",
       "      <td>0.941468</td>\n",
       "      <td>0.778837</td>\n",
       "    </tr>\n",
       "    <tr>\n",
       "      <td>0</td>\n",
       "      <td>XG_U</td>\n",
       "      <td>0.260530</td>\n",
       "      <td>0.801011</td>\n",
       "      <td>0.214737</td>\n",
       "      <td>0.793137</td>\n",
       "      <td>0.393178</td>\n",
       "      <td>0.941468</td>\n",
       "      <td>0.769741</td>\n",
       "    </tr>\n",
       "    <tr>\n",
       "      <td>0</td>\n",
       "      <td>XG_U</td>\n",
       "      <td>0.260530</td>\n",
       "      <td>0.801011</td>\n",
       "      <td>0.214737</td>\n",
       "      <td>0.793137</td>\n",
       "      <td>0.393178</td>\n",
       "      <td>0.941468</td>\n",
       "      <td>0.774215</td>\n",
       "    </tr>\n",
       "    <tr>\n",
       "      <td>0</td>\n",
       "      <td>XG_U</td>\n",
       "      <td>0.260530</td>\n",
       "      <td>0.801011</td>\n",
       "      <td>0.214737</td>\n",
       "      <td>0.793137</td>\n",
       "      <td>0.393178</td>\n",
       "      <td>0.941468</td>\n",
       "      <td>0.769764</td>\n",
       "    </tr>\n",
       "    <tr>\n",
       "      <td>0</td>\n",
       "      <td>XG_U</td>\n",
       "      <td>0.260530</td>\n",
       "      <td>0.801011</td>\n",
       "      <td>0.214737</td>\n",
       "      <td>0.793137</td>\n",
       "      <td>0.393178</td>\n",
       "      <td>0.941468</td>\n",
       "      <td>0.783615</td>\n",
       "    </tr>\n",
       "    <tr>\n",
       "      <td>0</td>\n",
       "      <td>XG_U</td>\n",
       "      <td>0.260530</td>\n",
       "      <td>0.801011</td>\n",
       "      <td>0.214737</td>\n",
       "      <td>0.793137</td>\n",
       "      <td>0.393178</td>\n",
       "      <td>0.941468</td>\n",
       "      <td>0.80189</td>\n",
       "    </tr>\n",
       "    <tr>\n",
       "      <td>0</td>\n",
       "      <td>XG_U</td>\n",
       "      <td>0.260530</td>\n",
       "      <td>0.801011</td>\n",
       "      <td>0.214737</td>\n",
       "      <td>0.793137</td>\n",
       "      <td>0.393178</td>\n",
       "      <td>0.941468</td>\n",
       "      <td>0.794249</td>\n",
<<<<<<< HEAD
>>>>>>> 99ad7cca37deb622d3e9c9c20442d31094159b18
=======
>>>>>>> 99ad7cca37deb622d3e9c9c20442d31094159b18
       "    </tr>\n",
       "  </tbody>\n",
       "</table>\n",
       "</div>"
      ],
      "text/plain": [
       "   model  precision_test  recall_test  FPR_test  AUROC_test   f1_test  \\\n",
<<<<<<< HEAD
<<<<<<< HEAD
       "0  LGB_U        0.284392     0.814908  0.193675    0.896877  0.421638   \n",
       "0  LGB_U        0.284392     0.814908  0.193675    0.896877  0.421638   \n",
       "0  LGB_U        0.284392     0.814908  0.193675    0.896877  0.421638   \n",
       "0  LGB_U        0.284392     0.814908  0.193675    0.896877  0.421638   \n",
       "\n",
       "   f1_train     f1_CV  \n",
       "0  0.912283  0.799872  \n",
       "0  0.912283  0.809539  \n",
       "0  0.912283  0.806221  \n",
       "0  0.912283  0.810725  "
      ]
     },
     "execution_count": 117,
=======
=======
>>>>>>> 99ad7cca37deb622d3e9c9c20442d31094159b18
       "0  LGB_U        0.285587     0.807328  0.190752    0.894381  0.421921   \n",
       "0  LGB_U        0.285587     0.807328  0.190752    0.894381  0.421921   \n",
       "0  LGB_U        0.285587     0.807328  0.190752    0.894381  0.421921   \n",
       "0  LGB_U        0.285587     0.807328  0.190752    0.894381  0.421921   \n",
       "0  LGB_U        0.285587     0.807328  0.190752    0.894381  0.421921   \n",
       "0  LGB_U        0.285587     0.807328  0.190752    0.894381  0.421921   \n",
       "0  LGB_U        0.285587     0.807328  0.190752    0.894381  0.421921   \n",
       "0  LGB_U        0.285587     0.807328  0.190752    0.894381  0.421921   \n",
       "0  LGB_U        0.285587     0.807328  0.190752    0.894381  0.421921   \n",
       "0  LGB_U        0.285587     0.807328  0.190752    0.894381  0.421921   \n",
       "0  LGB_U        0.285587     0.807328  0.190752    0.894381  0.421921   \n",
       "0  LGB_U        0.285587     0.807328  0.190752    0.894381  0.421921   \n",
       "0   RF_U        0.294652     0.737840  0.166826    0.873539  0.421129   \n",
       "0   RF_U        0.294652     0.737840  0.166826    0.873539  0.421129   \n",
       "0   RF_U        0.294652     0.737840  0.166826    0.873539  0.421129   \n",
       "0   RF_U        0.294652     0.737840  0.166826    0.873539  0.421129   \n",
       "0   RF_U        0.294652     0.737840  0.166826    0.873539  0.421129   \n",
       "0   RF_U        0.294652     0.737840  0.166826    0.873539  0.421129   \n",
       "0   RF_U        0.294652     0.737840  0.166826    0.873539  0.421129   \n",
       "0   RF_U        0.294652     0.737840  0.166826    0.873539  0.421129   \n",
       "0   RF_U        0.294652     0.737840  0.166826    0.873539  0.421129   \n",
       "0   RF_U        0.294652     0.737840  0.166826    0.873539  0.421129   \n",
       "0   RF_U        0.294652     0.737840  0.166826    0.873539  0.421129   \n",
       "0   RF_U        0.294652     0.737840  0.166826    0.873539  0.421129   \n",
       "0   XG_U        0.260530     0.801011  0.214737    0.793137  0.393178   \n",
       "0   XG_U        0.260530     0.801011  0.214737    0.793137  0.393178   \n",
       "0   XG_U        0.260530     0.801011  0.214737    0.793137  0.393178   \n",
       "0   XG_U        0.260530     0.801011  0.214737    0.793137  0.393178   \n",
       "0   XG_U        0.260530     0.801011  0.214737    0.793137  0.393178   \n",
       "0   XG_U        0.260530     0.801011  0.214737    0.793137  0.393178   \n",
       "0   XG_U        0.260530     0.801011  0.214737    0.793137  0.393178   \n",
       "0   XG_U        0.260530     0.801011  0.214737    0.793137  0.393178   \n",
       "0   XG_U        0.260530     0.801011  0.214737    0.793137  0.393178   \n",
       "0   XG_U        0.260530     0.801011  0.214737    0.793137  0.393178   \n",
       "0   XG_U        0.260530     0.801011  0.214737    0.793137  0.393178   \n",
       "0   XG_U        0.260530     0.801011  0.214737    0.793137  0.393178   \n",
       "\n",
       "   f1_train     f1_CV  \n",
       "0  0.911213  0.799239  \n",
       "0  0.911213  0.807608  \n",
       "0  0.911213  0.811101  \n",
       "0  0.911213  0.808632  \n",
       "0  0.911213  0.764959  \n",
       "0  0.911213  0.778837  \n",
       "0  0.911213  0.769741  \n",
       "0  0.911213  0.774215  \n",
       "0  0.911213  0.769764  \n",
       "0  0.911213  0.783615  \n",
       "0  0.911213   0.80189  \n",
       "0  0.911213  0.794249  \n",
       "0  0.804928  0.799239  \n",
       "0  0.804928  0.807608  \n",
       "0  0.804928  0.811101  \n",
       "0  0.804928  0.808632  \n",
       "0  0.804928  0.764959  \n",
       "0  0.804928  0.778837  \n",
       "0  0.804928  0.769741  \n",
       "0  0.804928  0.774215  \n",
       "0  0.804928  0.769764  \n",
       "0  0.804928  0.783615  \n",
       "0  0.804928   0.80189  \n",
       "0  0.804928  0.794249  \n",
       "0  0.941468  0.799239  \n",
       "0  0.941468  0.807608  \n",
       "0  0.941468  0.811101  \n",
       "0  0.941468  0.808632  \n",
       "0  0.941468  0.764959  \n",
       "0  0.941468  0.778837  \n",
       "0  0.941468  0.769741  \n",
       "0  0.941468  0.774215  \n",
       "0  0.941468  0.769764  \n",
       "0  0.941468  0.783615  \n",
       "0  0.941468   0.80189  \n",
       "0  0.941468  0.794249  "
      ]
     },
     "execution_count": 72,
<<<<<<< HEAD
>>>>>>> 99ad7cca37deb622d3e9c9c20442d31094159b18
=======
>>>>>>> 99ad7cca37deb622d3e9c9c20442d31094159b18
     "metadata": {},
     "output_type": "execute_result"
    }
   ],
   "source": [
    "clf_under_matrix.explode('f1_CV')"
   ]
  },
  {
   "cell_type": "code",
<<<<<<< HEAD
<<<<<<< HEAD
=======
=======
>>>>>>> 99ad7cca37deb622d3e9c9c20442d31094159b18
   "execution_count": 73,
   "metadata": {},
   "outputs": [
    {
     "data": {
      "text/html": [
       "<div>\n",
       "<style scoped>\n",
       "    .dataframe tbody tr th:only-of-type {\n",
       "        vertical-align: middle;\n",
       "    }\n",
       "\n",
       "    .dataframe tbody tr th {\n",
       "        vertical-align: top;\n",
       "    }\n",
       "\n",
       "    .dataframe thead th {\n",
       "        text-align: right;\n",
       "    }\n",
       "</style>\n",
       "<table border=\"1\" class=\"dataframe\">\n",
       "  <thead>\n",
       "    <tr style=\"text-align: right;\">\n",
       "      <th></th>\n",
       "      <th>model</th>\n",
       "      <th>precision_test</th>\n",
       "      <th>recall_test</th>\n",
       "      <th>FPR_test</th>\n",
       "      <th>AUROC_test</th>\n",
       "      <th>f1_test</th>\n",
       "      <th>f1_train</th>\n",
       "      <th>f1_CV</th>\n",
       "    </tr>\n",
       "  </thead>\n",
       "  <tbody>\n",
       "    <tr>\n",
       "      <td>0</td>\n",
       "      <td>LGB</td>\n",
       "      <td>0.695153</td>\n",
       "      <td>0.344283</td>\n",
       "      <td>0.014260</td>\n",
       "      <td>0.900028</td>\n",
       "      <td>0.460499</td>\n",
       "      <td>0.591588</td>\n",
       "      <td>0.4394</td>\n",
       "    </tr>\n",
       "    <tr>\n",
       "      <td>0</td>\n",
       "      <td>LGB</td>\n",
       "      <td>0.695153</td>\n",
       "      <td>0.344283</td>\n",
       "      <td>0.014260</td>\n",
       "      <td>0.900028</td>\n",
       "      <td>0.460499</td>\n",
       "      <td>0.591588</td>\n",
       "      <td>0.453767</td>\n",
       "    </tr>\n",
       "    <tr>\n",
       "      <td>0</td>\n",
       "      <td>LGB</td>\n",
       "      <td>0.695153</td>\n",
       "      <td>0.344283</td>\n",
       "      <td>0.014260</td>\n",
       "      <td>0.900028</td>\n",
       "      <td>0.460499</td>\n",
       "      <td>0.591588</td>\n",
       "      <td>0.456633</td>\n",
       "    </tr>\n",
       "    <tr>\n",
       "      <td>0</td>\n",
       "      <td>LGB</td>\n",
       "      <td>0.695153</td>\n",
       "      <td>0.344283</td>\n",
       "      <td>0.014260</td>\n",
       "      <td>0.900028</td>\n",
       "      <td>0.460499</td>\n",
       "      <td>0.591588</td>\n",
       "      <td>0.475789</td>\n",
       "    </tr>\n",
       "    <tr>\n",
       "      <td>0</td>\n",
       "      <td>LGB</td>\n",
       "      <td>0.695153</td>\n",
       "      <td>0.344283</td>\n",
       "      <td>0.014260</td>\n",
       "      <td>0.900028</td>\n",
       "      <td>0.460499</td>\n",
       "      <td>0.591588</td>\n",
       "      <td>0.301301</td>\n",
       "    </tr>\n",
       "    <tr>\n",
       "      <td>0</td>\n",
       "      <td>LGB</td>\n",
       "      <td>0.695153</td>\n",
       "      <td>0.344283</td>\n",
       "      <td>0.014260</td>\n",
       "      <td>0.900028</td>\n",
       "      <td>0.460499</td>\n",
       "      <td>0.591588</td>\n",
       "      <td>0.307925</td>\n",
       "    </tr>\n",
       "    <tr>\n",
       "      <td>0</td>\n",
       "      <td>LGB</td>\n",
       "      <td>0.695153</td>\n",
       "      <td>0.344283</td>\n",
       "      <td>0.014260</td>\n",
       "      <td>0.900028</td>\n",
       "      <td>0.460499</td>\n",
       "      <td>0.591588</td>\n",
       "      <td>0.297916</td>\n",
       "    </tr>\n",
       "    <tr>\n",
       "      <td>0</td>\n",
       "      <td>LGB</td>\n",
       "      <td>0.695153</td>\n",
       "      <td>0.344283</td>\n",
       "      <td>0.014260</td>\n",
       "      <td>0.900028</td>\n",
       "      <td>0.460499</td>\n",
       "      <td>0.591588</td>\n",
       "      <td>0.335151</td>\n",
       "    </tr>\n",
       "    <tr>\n",
       "      <td>0</td>\n",
       "      <td>LGB</td>\n",
       "      <td>0.695153</td>\n",
       "      <td>0.344283</td>\n",
       "      <td>0.014260</td>\n",
       "      <td>0.900028</td>\n",
       "      <td>0.460499</td>\n",
       "      <td>0.591588</td>\n",
       "      <td>0.410325</td>\n",
       "    </tr>\n",
       "    <tr>\n",
       "      <td>0</td>\n",
       "      <td>LGB</td>\n",
       "      <td>0.695153</td>\n",
       "      <td>0.344283</td>\n",
       "      <td>0.014260</td>\n",
       "      <td>0.900028</td>\n",
       "      <td>0.460499</td>\n",
       "      <td>0.591588</td>\n",
       "      <td>0.405514</td>\n",
       "    </tr>\n",
       "    <tr>\n",
       "      <td>0</td>\n",
       "      <td>LGB</td>\n",
       "      <td>0.695153</td>\n",
       "      <td>0.344283</td>\n",
       "      <td>0.014260</td>\n",
       "      <td>0.900028</td>\n",
       "      <td>0.460499</td>\n",
       "      <td>0.591588</td>\n",
       "      <td>0.409071</td>\n",
       "    </tr>\n",
       "    <tr>\n",
       "      <td>0</td>\n",
       "      <td>LGB</td>\n",
       "      <td>0.695153</td>\n",
       "      <td>0.344283</td>\n",
       "      <td>0.014260</td>\n",
       "      <td>0.900028</td>\n",
       "      <td>0.460499</td>\n",
       "      <td>0.591588</td>\n",
       "      <td>0.432945</td>\n",
       "    </tr>\n",
       "    <tr>\n",
       "      <td>0</td>\n",
       "      <td>RF</td>\n",
       "      <td>0.760309</td>\n",
       "      <td>0.186355</td>\n",
       "      <td>0.005549</td>\n",
       "      <td>0.872480</td>\n",
       "      <td>0.299340</td>\n",
       "      <td>0.358387</td>\n",
       "      <td>0.4394</td>\n",
       "    </tr>\n",
       "    <tr>\n",
       "      <td>0</td>\n",
       "      <td>RF</td>\n",
       "      <td>0.760309</td>\n",
       "      <td>0.186355</td>\n",
       "      <td>0.005549</td>\n",
       "      <td>0.872480</td>\n",
       "      <td>0.299340</td>\n",
       "      <td>0.358387</td>\n",
       "      <td>0.453767</td>\n",
       "    </tr>\n",
       "    <tr>\n",
       "      <td>0</td>\n",
       "      <td>RF</td>\n",
       "      <td>0.760309</td>\n",
       "      <td>0.186355</td>\n",
       "      <td>0.005549</td>\n",
       "      <td>0.872480</td>\n",
       "      <td>0.299340</td>\n",
       "      <td>0.358387</td>\n",
       "      <td>0.456633</td>\n",
       "    </tr>\n",
       "    <tr>\n",
       "      <td>0</td>\n",
       "      <td>RF</td>\n",
       "      <td>0.760309</td>\n",
       "      <td>0.186355</td>\n",
       "      <td>0.005549</td>\n",
       "      <td>0.872480</td>\n",
       "      <td>0.299340</td>\n",
       "      <td>0.358387</td>\n",
       "      <td>0.475789</td>\n",
       "    </tr>\n",
       "    <tr>\n",
       "      <td>0</td>\n",
       "      <td>RF</td>\n",
       "      <td>0.760309</td>\n",
       "      <td>0.186355</td>\n",
       "      <td>0.005549</td>\n",
       "      <td>0.872480</td>\n",
       "      <td>0.299340</td>\n",
       "      <td>0.358387</td>\n",
       "      <td>0.301301</td>\n",
       "    </tr>\n",
       "    <tr>\n",
       "      <td>0</td>\n",
       "      <td>RF</td>\n",
       "      <td>0.760309</td>\n",
       "      <td>0.186355</td>\n",
       "      <td>0.005549</td>\n",
       "      <td>0.872480</td>\n",
       "      <td>0.299340</td>\n",
       "      <td>0.358387</td>\n",
       "      <td>0.307925</td>\n",
       "    </tr>\n",
       "    <tr>\n",
       "      <td>0</td>\n",
       "      <td>RF</td>\n",
       "      <td>0.760309</td>\n",
       "      <td>0.186355</td>\n",
       "      <td>0.005549</td>\n",
       "      <td>0.872480</td>\n",
       "      <td>0.299340</td>\n",
       "      <td>0.358387</td>\n",
       "      <td>0.297916</td>\n",
       "    </tr>\n",
       "    <tr>\n",
       "      <td>0</td>\n",
       "      <td>RF</td>\n",
       "      <td>0.760309</td>\n",
       "      <td>0.186355</td>\n",
       "      <td>0.005549</td>\n",
       "      <td>0.872480</td>\n",
       "      <td>0.299340</td>\n",
       "      <td>0.358387</td>\n",
       "      <td>0.335151</td>\n",
       "    </tr>\n",
       "    <tr>\n",
       "      <td>0</td>\n",
       "      <td>RF</td>\n",
       "      <td>0.760309</td>\n",
       "      <td>0.186355</td>\n",
       "      <td>0.005549</td>\n",
       "      <td>0.872480</td>\n",
       "      <td>0.299340</td>\n",
       "      <td>0.358387</td>\n",
       "      <td>0.410325</td>\n",
       "    </tr>\n",
       "    <tr>\n",
       "      <td>0</td>\n",
       "      <td>RF</td>\n",
       "      <td>0.760309</td>\n",
       "      <td>0.186355</td>\n",
       "      <td>0.005549</td>\n",
       "      <td>0.872480</td>\n",
       "      <td>0.299340</td>\n",
       "      <td>0.358387</td>\n",
       "      <td>0.405514</td>\n",
       "    </tr>\n",
       "    <tr>\n",
       "      <td>0</td>\n",
       "      <td>RF</td>\n",
       "      <td>0.760309</td>\n",
       "      <td>0.186355</td>\n",
       "      <td>0.005549</td>\n",
       "      <td>0.872480</td>\n",
       "      <td>0.299340</td>\n",
       "      <td>0.358387</td>\n",
       "      <td>0.409071</td>\n",
       "    </tr>\n",
       "    <tr>\n",
       "      <td>0</td>\n",
       "      <td>RF</td>\n",
       "      <td>0.760309</td>\n",
       "      <td>0.186355</td>\n",
       "      <td>0.005549</td>\n",
       "      <td>0.872480</td>\n",
       "      <td>0.299340</td>\n",
       "      <td>0.358387</td>\n",
       "      <td>0.432945</td>\n",
       "    </tr>\n",
       "    <tr>\n",
       "      <td>0</td>\n",
       "      <td>XG</td>\n",
       "      <td>0.689855</td>\n",
       "      <td>0.300695</td>\n",
       "      <td>0.012768</td>\n",
       "      <td>0.643963</td>\n",
       "      <td>0.418830</td>\n",
       "      <td>0.648413</td>\n",
       "      <td>0.4394</td>\n",
       "    </tr>\n",
       "    <tr>\n",
       "      <td>0</td>\n",
       "      <td>XG</td>\n",
       "      <td>0.689855</td>\n",
       "      <td>0.300695</td>\n",
       "      <td>0.012768</td>\n",
       "      <td>0.643963</td>\n",
       "      <td>0.418830</td>\n",
       "      <td>0.648413</td>\n",
       "      <td>0.453767</td>\n",
       "    </tr>\n",
       "    <tr>\n",
       "      <td>0</td>\n",
       "      <td>XG</td>\n",
       "      <td>0.689855</td>\n",
       "      <td>0.300695</td>\n",
       "      <td>0.012768</td>\n",
       "      <td>0.643963</td>\n",
       "      <td>0.418830</td>\n",
       "      <td>0.648413</td>\n",
       "      <td>0.456633</td>\n",
       "    </tr>\n",
       "    <tr>\n",
       "      <td>0</td>\n",
       "      <td>XG</td>\n",
       "      <td>0.689855</td>\n",
       "      <td>0.300695</td>\n",
       "      <td>0.012768</td>\n",
       "      <td>0.643963</td>\n",
       "      <td>0.418830</td>\n",
       "      <td>0.648413</td>\n",
       "      <td>0.475789</td>\n",
       "    </tr>\n",
       "    <tr>\n",
       "      <td>0</td>\n",
       "      <td>XG</td>\n",
       "      <td>0.689855</td>\n",
       "      <td>0.300695</td>\n",
       "      <td>0.012768</td>\n",
       "      <td>0.643963</td>\n",
       "      <td>0.418830</td>\n",
       "      <td>0.648413</td>\n",
       "      <td>0.301301</td>\n",
       "    </tr>\n",
       "    <tr>\n",
       "      <td>0</td>\n",
       "      <td>XG</td>\n",
       "      <td>0.689855</td>\n",
       "      <td>0.300695</td>\n",
       "      <td>0.012768</td>\n",
       "      <td>0.643963</td>\n",
       "      <td>0.418830</td>\n",
       "      <td>0.648413</td>\n",
       "      <td>0.307925</td>\n",
       "    </tr>\n",
       "    <tr>\n",
       "      <td>0</td>\n",
       "      <td>XG</td>\n",
       "      <td>0.689855</td>\n",
       "      <td>0.300695</td>\n",
       "      <td>0.012768</td>\n",
       "      <td>0.643963</td>\n",
       "      <td>0.418830</td>\n",
       "      <td>0.648413</td>\n",
       "      <td>0.297916</td>\n",
       "    </tr>\n",
       "    <tr>\n",
       "      <td>0</td>\n",
       "      <td>XG</td>\n",
       "      <td>0.689855</td>\n",
       "      <td>0.300695</td>\n",
       "      <td>0.012768</td>\n",
       "      <td>0.643963</td>\n",
       "      <td>0.418830</td>\n",
       "      <td>0.648413</td>\n",
       "      <td>0.335151</td>\n",
       "    </tr>\n",
       "    <tr>\n",
       "      <td>0</td>\n",
       "      <td>XG</td>\n",
       "      <td>0.689855</td>\n",
       "      <td>0.300695</td>\n",
       "      <td>0.012768</td>\n",
       "      <td>0.643963</td>\n",
       "      <td>0.418830</td>\n",
       "      <td>0.648413</td>\n",
       "      <td>0.410325</td>\n",
       "    </tr>\n",
       "    <tr>\n",
       "      <td>0</td>\n",
       "      <td>XG</td>\n",
       "      <td>0.689855</td>\n",
       "      <td>0.300695</td>\n",
       "      <td>0.012768</td>\n",
       "      <td>0.643963</td>\n",
       "      <td>0.418830</td>\n",
       "      <td>0.648413</td>\n",
       "      <td>0.405514</td>\n",
       "    </tr>\n",
       "    <tr>\n",
       "      <td>0</td>\n",
       "      <td>XG</td>\n",
       "      <td>0.689855</td>\n",
       "      <td>0.300695</td>\n",
       "      <td>0.012768</td>\n",
       "      <td>0.643963</td>\n",
       "      <td>0.418830</td>\n",
       "      <td>0.648413</td>\n",
       "      <td>0.409071</td>\n",
       "    </tr>\n",
       "    <tr>\n",
       "      <td>0</td>\n",
       "      <td>XG</td>\n",
       "      <td>0.689855</td>\n",
       "      <td>0.300695</td>\n",
       "      <td>0.012768</td>\n",
       "      <td>0.643963</td>\n",
       "      <td>0.418830</td>\n",
       "      <td>0.648413</td>\n",
       "      <td>0.432945</td>\n",
       "    </tr>\n",
       "  </tbody>\n",
       "</table>\n",
       "</div>"
      ],
      "text/plain": [
       "  model  precision_test  recall_test  FPR_test  AUROC_test   f1_test  \\\n",
       "0   LGB        0.695153     0.344283  0.014260    0.900028  0.460499   \n",
       "0   LGB        0.695153     0.344283  0.014260    0.900028  0.460499   \n",
       "0   LGB        0.695153     0.344283  0.014260    0.900028  0.460499   \n",
       "0   LGB        0.695153     0.344283  0.014260    0.900028  0.460499   \n",
       "0   LGB        0.695153     0.344283  0.014260    0.900028  0.460499   \n",
       "0   LGB        0.695153     0.344283  0.014260    0.900028  0.460499   \n",
       "0   LGB        0.695153     0.344283  0.014260    0.900028  0.460499   \n",
       "0   LGB        0.695153     0.344283  0.014260    0.900028  0.460499   \n",
       "0   LGB        0.695153     0.344283  0.014260    0.900028  0.460499   \n",
       "0   LGB        0.695153     0.344283  0.014260    0.900028  0.460499   \n",
       "0   LGB        0.695153     0.344283  0.014260    0.900028  0.460499   \n",
       "0   LGB        0.695153     0.344283  0.014260    0.900028  0.460499   \n",
       "0    RF        0.760309     0.186355  0.005549    0.872480  0.299340   \n",
       "0    RF        0.760309     0.186355  0.005549    0.872480  0.299340   \n",
       "0    RF        0.760309     0.186355  0.005549    0.872480  0.299340   \n",
       "0    RF        0.760309     0.186355  0.005549    0.872480  0.299340   \n",
       "0    RF        0.760309     0.186355  0.005549    0.872480  0.299340   \n",
       "0    RF        0.760309     0.186355  0.005549    0.872480  0.299340   \n",
       "0    RF        0.760309     0.186355  0.005549    0.872480  0.299340   \n",
       "0    RF        0.760309     0.186355  0.005549    0.872480  0.299340   \n",
       "0    RF        0.760309     0.186355  0.005549    0.872480  0.299340   \n",
       "0    RF        0.760309     0.186355  0.005549    0.872480  0.299340   \n",
       "0    RF        0.760309     0.186355  0.005549    0.872480  0.299340   \n",
       "0    RF        0.760309     0.186355  0.005549    0.872480  0.299340   \n",
       "0    XG        0.689855     0.300695  0.012768    0.643963  0.418830   \n",
       "0    XG        0.689855     0.300695  0.012768    0.643963  0.418830   \n",
       "0    XG        0.689855     0.300695  0.012768    0.643963  0.418830   \n",
       "0    XG        0.689855     0.300695  0.012768    0.643963  0.418830   \n",
       "0    XG        0.689855     0.300695  0.012768    0.643963  0.418830   \n",
       "0    XG        0.689855     0.300695  0.012768    0.643963  0.418830   \n",
       "0    XG        0.689855     0.300695  0.012768    0.643963  0.418830   \n",
       "0    XG        0.689855     0.300695  0.012768    0.643963  0.418830   \n",
       "0    XG        0.689855     0.300695  0.012768    0.643963  0.418830   \n",
       "0    XG        0.689855     0.300695  0.012768    0.643963  0.418830   \n",
       "0    XG        0.689855     0.300695  0.012768    0.643963  0.418830   \n",
       "0    XG        0.689855     0.300695  0.012768    0.643963  0.418830   \n",
       "\n",
       "   f1_train     f1_CV  \n",
       "0  0.591588    0.4394  \n",
       "0  0.591588  0.453767  \n",
       "0  0.591588  0.456633  \n",
       "0  0.591588  0.475789  \n",
       "0  0.591588  0.301301  \n",
       "0  0.591588  0.307925  \n",
       "0  0.591588  0.297916  \n",
       "0  0.591588  0.335151  \n",
       "0  0.591588  0.410325  \n",
       "0  0.591588  0.405514  \n",
       "0  0.591588  0.409071  \n",
       "0  0.591588  0.432945  \n",
       "0  0.358387    0.4394  \n",
       "0  0.358387  0.453767  \n",
       "0  0.358387  0.456633  \n",
       "0  0.358387  0.475789  \n",
       "0  0.358387  0.301301  \n",
       "0  0.358387  0.307925  \n",
       "0  0.358387  0.297916  \n",
       "0  0.358387  0.335151  \n",
       "0  0.358387  0.410325  \n",
       "0  0.358387  0.405514  \n",
       "0  0.358387  0.409071  \n",
       "0  0.358387  0.432945  \n",
       "0  0.648413    0.4394  \n",
       "0  0.648413  0.453767  \n",
       "0  0.648413  0.456633  \n",
       "0  0.648413  0.475789  \n",
       "0  0.648413  0.301301  \n",
       "0  0.648413  0.307925  \n",
       "0  0.648413  0.297916  \n",
       "0  0.648413  0.335151  \n",
       "0  0.648413  0.410325  \n",
       "0  0.648413  0.405514  \n",
       "0  0.648413  0.409071  \n",
       "0  0.648413  0.432945  "
      ]
     },
     "execution_count": 73,
     "metadata": {},
     "output_type": "execute_result"
    }
   ],
   "source": [
    "clf_matrix.explode('f1_CV')"
   ]
  },
  {
   "cell_type": "code",
   "execution_count": 74,
   "metadata": {},
   "outputs": [],
   "source": [
    "## Warnings seen on terminal\n",
    "\n",
    "### [LightGBM] [Warning] Unknown parameter: booster\n",
    "### [LightGBM] [Warning] Accuracy may be bad since you didn't set num_leaves and 2^max_depth > num_leaves"
   ]
  },
  {
   "cell_type": "code",
   "execution_count": null,
   "metadata": {},
   "outputs": [],
   "source": []
  },
  {
   "cell_type": "code",
<<<<<<< HEAD
>>>>>>> 99ad7cca37deb622d3e9c9c20442d31094159b18
=======
>>>>>>> 99ad7cca37deb622d3e9c9c20442d31094159b18
   "execution_count": null,
   "metadata": {},
   "outputs": [],
   "source": []
  }
 ],
 "metadata": {
  "colab": {
   "collapsed_sections": [],
   "name": "Modeling_Iterations.ipynb",
   "provenance": []
  },
  "kernelspec": {
   "display_name": "Python 3",
   "language": "python",
   "name": "python3"
<<<<<<< HEAD
<<<<<<< HEAD
  },
  "language_info": {
   "codemirror_mode": {
    "name": "ipython",
    "version": 3
   },
   "file_extension": ".py",
   "mimetype": "text/x-python",
   "name": "python",
   "nbconvert_exporter": "python",
   "pygments_lexer": "ipython3",
   "version": "3.6.8"
=======
>>>>>>> 99ad7cca37deb622d3e9c9c20442d31094159b18
=======
>>>>>>> 99ad7cca37deb622d3e9c9c20442d31094159b18
  }
 },
 "nbformat": 4,
 "nbformat_minor": 1
}
