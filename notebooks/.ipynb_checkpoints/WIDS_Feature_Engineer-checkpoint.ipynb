{
 "cells": [
  {
   "cell_type": "code",
   "execution_count": 1,
   "metadata": {
    "colab": {},
    "colab_type": "code",
    "id": "18RMayUrfZWL"
   },
   "outputs": [],
   "source": [
    "import numpy as np\n",
    "import pandas as pd\n",
    "\n",
    "pd.set_option(\"display.max_columns\", None)"
   ]
  },
  {
   "cell_type": "markdown",
   "metadata": {
    "colab_type": "text",
    "id": "btU57O5wNgfp"
   },
   "source": [
    "# Data Description"
   ]
  },
  {
   "cell_type": "code",
   "execution_count": 2,
   "metadata": {
    "colab": {
     "base_uri": "https://localhost:8080/",
     "height": 34
    },
    "colab_type": "code",
    "id": "SJQflbcqlYx3",
    "outputId": "1e8149d3-4577-4d96-bb77-36e2d4142659"
   },
   "outputs": [
    {
     "name": "stdout",
     "output_type": "stream",
     "text": [
      "This data has 91713 rows and 186 columns.\n"
     ]
    }
   ],
   "source": [
    "# Shared drive read_csv\n",
    "wids = pd.read_csv('../data/training_v2.csv')\n",
    "print(\"This data has {} rows and {} columns.\".format(wids.shape[0], wids.shape[1]))"
   ]
  },
  {
   "cell_type": "code",
   "execution_count": 3,
   "metadata": {
    "colab": {
     "base_uri": "https://localhost:8080/",
     "height": 34
    },
    "colab_type": "code",
    "id": "Ni0oKLlUOE0z",
    "outputId": "8cdcd346-fd38-40fd-dda0-25694bed09ad"
   },
   "outputs": [
    {
     "name": "stdout",
     "output_type": "stream",
     "text": [
      "Patient_id and encounter_id are unique.\n"
     ]
    }
   ],
   "source": [
    "wids[['encounter_id', 'patient_id', 'hospital_id']].nunique()\n",
    "print(\"Patient_id and encounter_id are unique.\")"
   ]
  },
  {
   "cell_type": "code",
   "execution_count": 4,
   "metadata": {
    "colab": {
     "base_uri": "https://localhost:8080/",
     "height": 34
    },
    "colab_type": "code",
    "id": "njQMyOx9OMVn",
    "outputId": "fde6f452-7e2d-48a0-9721-ca235f5e11ef"
   },
   "outputs": [
    {
     "name": "stdout",
     "output_type": "stream",
     "text": [
      "We have an imbalanced dataset. Only around 8% of our patients have hospital_death =1.\n"
     ]
    }
   ],
   "source": [
    "wids['hospital_death'].value_counts(normalize=True)\n",
    "print(\"We have an imbalanced dataset. Only around 8% of our patients have hospital_death =1.\")"
   ]
  },
  {
   "cell_type": "code",
   "execution_count": 5,
   "metadata": {},
   "outputs": [],
   "source": [
    "wids_og = wids.copy()"
   ]
  },
  {
   "cell_type": "markdown",
   "metadata": {
    "colab_type": "text",
    "id": "_9nffgZ4OZwe"
   },
   "source": [
    "# Feature Engineering\n",
    "We are going to create features relevant to a patient's possibility of death. The following are the functions for feature engineering. "
   ]
  },
  {
   "cell_type": "code",
   "execution_count": 6,
   "metadata": {
    "colab": {},
    "colab_type": "code",
    "id": "L4IE5erM2jE9"
   },
   "outputs": [],
   "source": [
    "def gcs_finalscore(df):\n",
    "    \"\"\"\n",
    "    Parameters\n",
    "    ----------\n",
    "    df : dataframe\n",
    "        full dataframe.\n",
    "\n",
    "    Returns\n",
    "    -------\n",
    "    df['gcs_score'] : series\n",
    "        Glasgow Coma Scale Score.\n",
    "    \"\"\"\n",
    "    df['gcs_score'] =  df['gcs_eyes_apache'] + df['gcs_verbal_apache'] + df['gcs_motor_apache']\n",
    "    return df['gcs_score']\n",
    "\n",
    "def creatine_risks(df):\n",
    "    \"\"\"\n",
    "\n",
    "    Parameters\n",
    "    ----------\n",
    "    df : dataframe\n",
    "        full dataframe.\n",
    "\n",
    "    Returns\n",
    "    -------\n",
    "    df['creatine_risk'] : series\n",
    "        Series defines risk from creatine (0) if they are below the risk threshold and (1) if they are at risk .\n",
    "\n",
    "    \"\"\"\n",
    "    \n",
    "    df['creatine_risk'] = pd.cut(df['creatinine_apache'],bins = [0,1.1,np.inf], labels = [0,1])\n",
    "    df['creatine_risk'] = df['creatine_risk'].astype(float)\n",
    "    \n",
    "    return df['creatine_risk']\n",
    "  \n",
    "\n",
    "def bilirubin_risk (df):\n",
    "    \"\"\" Column that tells us if the individual is at risk liver problems. High bilirubin is associated with a higher risk.\n",
    "\n",
    "    Parameters\n",
    "    ----------\n",
    "    df : Dataframe\n",
    "        original dataframe.\n",
    "\n",
    "    Returns\n",
    "    -------\n",
    "    df['bilirubin_risk']: Series\n",
    "        a colum of 0s and 1s, 1 if you are above .6, 0 otherwise.\n",
    "\n",
    "    \"\"\"\n",
    "    df['bilirubin_risk'] = pd.cut(df['bilirubin_apache'], bins = [0,.6,np.inf], labels = [0,1])\n",
    "    df['bilirubin_risk'] = df['bilirubin_risk'].astype(float)\n",
    "\n",
    "    return df['bilirubin_risk']\n",
    "\n",
    "def glucose_risk (df):\n",
    "    \"\"\" Column that tells us if the individual is at risk. High glucose above 240 is associated with a higher risk of ICU death. \n",
    "\n",
    "    Parameters\n",
    "    ----------\n",
    "    df : Dataframe\n",
    "        original dataframe.\n",
    "\n",
    "    Returns\n",
    "    -------\n",
    "    df['glucose_risk']: Series\n",
    "        a colum of 0s and 1s, 1 if you are above 240, 0 otherwise.\n",
    "\n",
    "    \"\"\"\n",
    "    df['glucose_risk'] = pd.cut(df['glucose_apache'], bins = [0,240,np.inf], labels = [0,1])\n",
    "    df['glucose_risk'] = df['glucose_risk'].astype(float)\n",
    "\n",
    "    return df['glucose_risk']"
   ]
  },
  {
   "cell_type": "code",
   "execution_count": 7,
   "metadata": {
    "colab": {},
    "colab_type": "code",
    "id": "EJrxW57gi0fB"
   },
   "outputs": [],
   "source": [
    "wids['gcs_score'] = gcs_finalscore(wids)\n",
    "wids['creatine_risk'] = creatine_risks(wids)\n",
    "wids['bilirubin_risk'] = bilirubin_risk(wids)\n",
    "wids['glucose_risk'] = glucose_risk(wids)"
   ]
  },
  {
   "cell_type": "code",
   "execution_count": 8,
   "metadata": {
    "colab": {},
    "colab_type": "code",
    "id": "mtPF5j5k2pjy"
   },
   "outputs": [],
   "source": [
    "#number of test done in an hour \n",
    "def h1_test(df):\n",
    "    '''\n",
    "    Creates column with the number of test done in an hour\n",
    "\n",
    "    Parameters:\n",
    "    -----------------------------\n",
    "    df                pd.DataFrame\n",
    "\n",
    "    Return:\n",
    "    -----------------------------\n",
    "    'h1_test_total'   list\n",
    "    '''\n",
    "    column = df.columns\n",
    "    h1_list = []\n",
    "    for i in column:\n",
    "        if (i[:2]=='h1'):\n",
    "            h1_list.append(i)\n",
    "    return df[h1_list].notnull().sum(axis=1)/2\n",
    "\n",
    "\n",
    "\n",
    "\n",
    "#number of test done in a day\n",
    "def d1_test(df):\n",
    "    '''\n",
    "    Creates column with the number of test done in a day\n",
    "\n",
    "    Parameters:\n",
    "    -----------------------------\n",
    "    df                pd.DataFrame\n",
    "\n",
    "    Return:\n",
    "    -----------------------------\n",
    "    'd1_test_total'   list\n",
    "    '''\n",
    "    column = df.columns\n",
    "    d1_list = []\n",
    "    for i in column:\n",
    "        if (i[:2]=='d1'):\n",
    "            d1_list.append(i)\n",
    "    return df[d1_list].notnull().sum(axis=1)/2\n",
    "\n",
    "\n",
    "\n",
    "\n",
    "#number of test are missing\n",
    "def missing_function(df):\n",
    "    '''\n",
    "    Creates column with the number of tests that are missing\n",
    "    Parameters:\n",
    "    -----------------------------\n",
    "    df                pd.DataFrame\n",
    "\n",
    "    Return:\n",
    "    -----------------------------\n",
    "    'missing_test_total'   list\n",
    "    '''  \n",
    "    df_sub = df.loc[:,'d1_diasbp_invasive_max':'h1_pao2fio2ratio_min']\n",
    "    return df_sub.isnull().sum(axis=1)/2\n",
    "\n",
    "\n",
    "#number of chronic conditions\n",
    "def chronic_function(df):\n",
    "    '''\n",
    "    Creates column with the number of chronic conditions\n",
    "    Parameters:\n",
    "    -----------------------------\n",
    "    df                pd.DataFrame\n",
    "\n",
    "    Return:\n",
    "    -----------------------------\n",
    "    'cc_total'   list\n",
    "    '''  \n",
    "    df_sub = df.loc[:, 'aids':'solid_tumor_with_metastasis'] \n",
    "    return df_sub.sum(axis=1)"
   ]
  },
  {
   "cell_type": "code",
   "execution_count": 9,
   "metadata": {
    "colab": {},
    "colab_type": "code",
    "id": "k6Ub5R_6iT1c"
   },
   "outputs": [],
   "source": [
    "wids['h1_test_total'] = h1_test(wids)\n",
    "wids['d1_test_total'] = d1_test(wids)\n",
    "wids['missing_test_total'] = missing_function(wids)\n",
    "wids['cc_total'] = chronic_function(wids)"
   ]
  },
  {
   "cell_type": "code",
   "execution_count": 10,
   "metadata": {
    "colab": {},
    "colab_type": "code",
    "id": "kA6wymIY2qHa"
   },
   "outputs": [],
   "source": [
    "def avg_h1_cols(df):\n",
    "    '''\n",
    "    Creates column with average h1 data using col_max and col_min variables excluding invasive/non-invasive\n",
    "\n",
    "    Parameters:\n",
    "    -----------------------------\n",
    "    df                pd.DataFrame\n",
    "\n",
    "    Return:\n",
    "    -----------------------------\n",
    "    avg_h1_data         pd.DataFrame\n",
    "\n",
    "    '''\n",
    "    avg_h1_list = ['h1_diasbp', 'h1_heartrate', 'h1_mbp', 'h1_resprate', 'h1_spo2', 'h1_sysbp',\n",
    "                        'h1_temp', 'h1_albumin', 'h1_bilirubin', 'h1_bun', 'h1_calcium', 'h1_creatinine',\n",
    "                        'h1_glucose', 'h1_hco3', 'h1_hemaglobin', 'h1_hematocrit', 'h1_inr', 'h1_lactate', \n",
    "                        'h1_platelets', 'h1_potassium', 'h1_sodium', 'h1_wbc', 'h1_arterial_pco2', \n",
    "                        'h1_arterial_ph', 'h1_arterial_po2', 'h1_pao2fio2ratio']\n",
    "    avg_h1_data = pd.DataFrame()\n",
    "    for col in avg_h1_list:\n",
    "        avg_h1_data[col + '_avg'] = df[[col + '_min', col + '_max']].mean(axis=1)\n",
    "    return(avg_h1_data) \n",
    "\n",
    "    \n",
    "\n",
    "def diff_h1d1_cols(df):\n",
    "    '''\n",
    "    Creates column with difference in h1 and d1 data using col_max and col_min variables \n",
    "    excluding invasive/non-invasive\n",
    "\n",
    "    Parameters:\n",
    "    -----------------------------\n",
    "    df                pd.DataFrame\n",
    "\n",
    "    Return:\n",
    "    -----------------------------\n",
    "    diff_h1d1_data         pd.DataFrame\n",
    "\n",
    "    '''\n",
    "    diff_h1d1_list = ['h1_diasbp', 'h1_heartrate', 'h1_mbp', 'h1_resprate', 'h1_spo2', 'h1_sysbp',\n",
    "                        'h1_temp', 'h1_albumin', 'h1_bilirubin', 'h1_bun', 'h1_calcium', 'h1_creatinine',\n",
    "                        'h1_glucose', 'h1_hco3', 'h1_hemaglobin', 'h1_hematocrit', 'h1_inr', 'h1_lactate', \n",
    "                        'h1_platelets', 'h1_potassium', 'h1_sodium', 'h1_wbc', 'h1_arterial_pco2', \n",
    "                        'h1_arterial_ph', 'h1_arterial_po2', 'h1_pao2fio2ratio', 'd1_diasbp','d1_heartrate',\n",
    "                        'd1_mbp','d1_resprate','d1_spo2', 'd1_sysbp', 'd1_temp', 'd1_albumin',\n",
    "                        'd1_bilirubin', 'd1_bun', 'd1_calcium', 'd1_creatinine', 'd1_glucose', 'd1_hco3',\n",
    "                        'd1_hemaglobin', 'd1_hematocrit', 'd1_inr', 'd1_lactate', 'd1_platelets', 'd1_potassium',\n",
    "                        'd1_sodium', 'd1_wbc', 'd1_arterial_pco2', 'd1_arterial_ph', 'd1_arterial_po2', 'd1_pao2fio2ratio']\n",
    "    diff_h1d1_data = pd.DataFrame()\n",
    "    for col in diff_h1d1_list:\n",
    "        diff_h1d1_data[col + '_diff'] = df[col + '_max'] - df[col + '_min']\n",
    "    return(diff_h1d1_data)\n",
    "\n",
    "    \n",
    "def med_diff_cols(df):\n",
    "    '''\n",
    "    Creates column with difference in median(h1) and median(d1) data using col_max and col_min variables \n",
    "    excluding invasive/non-invasive\n",
    "\n",
    "    Parameters:\n",
    "    -----------------------------\n",
    "    df                pd.DataFrame\n",
    "\n",
    "    Return:\n",
    "    -----------------------------\n",
    "    med_diff_data         pd.DataFrame\n",
    "\n",
    "    '''\n",
    "\n",
    "    h1d1_list = ['diasbp', 'heartrate', 'mbp', 'resprate', 'spo2', 'sysbp', 'temp', 'albumin', 'bilirubin', 'bun',\n",
    "                 'calcium', 'creatinine', 'glucose', 'hco3', 'hemaglobin', 'hematocrit', 'inr', 'lactate', 'platelets',\n",
    "                 'potassium', 'sodium', 'wbc', 'arterial_pco2', 'arterial_ph', 'arterial_po2', 'pao2fio2ratio']\n",
    "    med_diff_data = pd.DataFrame()\n",
    "    for col in h1d1_list:\n",
    "        med_diff_data[col + '_med_diff'] = ((df[['d1_' + col + '_min', 'd1_' + col + '_max']].median(axis=1)) -  df[['h1_' + col + '_min', 'h1_' + col + '_max']].median(axis=1))\n",
    "    return(med_diff_data)\n",
    "\n",
    "def h1_ppv(df):\n",
    "    '''\n",
    "    Creates column with the h1 blood pressure ratio (sys / dias)\n",
    "\n",
    "    Parameters:\n",
    "    -----------------------------\n",
    "    df                pd.DataFrame\n",
    "\n",
    "    Return:\n",
    "    -----------------------------\n",
    "    h1_ppv         pd.DataFrame\n",
    "\n",
    "    '''\n",
    "    h1_ppv = pd.DataFrame()\n",
    "    h1_ppv['h1_ppv'] = (df[['h1_sysbp_max', 'h1_sysbp_min']].median(axis=1)) / (df[['h1_diasbp_max', 'h1_diasbp_min']].median(axis=1))\n",
    "    return(h1_ppv)\n",
    "\n",
    "\n",
    "def d1_ppv(df):\n",
    "    '''\n",
    "    Creates column with the d1 blood pressure ratio (sys / dias)\n",
    "\n",
    "    Parameters:\n",
    "    -----------------------------\n",
    "    df                pd.DataFrame\n",
    "\n",
    "    Return:\n",
    "    -----------------------------\n",
    "    d1_ppv         pd.DataFrame\n",
    "\n",
    "    '''\n",
    "    d1_ppv = pd.DataFrame()\n",
    "    d1_ppv['d1_ppv'] = (df[['d1_sysbp_max', 'd1_sysbp_min']].median(axis=1)) / (df[['d1_diasbp_max', 'd1_diasbp_min']].median(axis=1))\n",
    "    return(d1_ppv)"
   ]
  },
  {
   "cell_type": "code",
   "execution_count": 11,
   "metadata": {
    "colab": {},
    "colab_type": "code",
    "id": "0Q1aZKSZi2Ta"
   },
   "outputs": [],
   "source": [
    "wids = pd.concat([wids, avg_h1_cols(wids)], axis=1)"
   ]
  },
  {
   "cell_type": "code",
   "execution_count": 12,
   "metadata": {
    "colab": {},
    "colab_type": "code",
    "id": "N2it8xVBsHyE"
   },
   "outputs": [],
   "source": [
    "wids = pd.concat([wids, diff_h1d1_cols(wids), med_diff_cols(wids), h1_ppv(wids), d1_ppv(wids)], axis=1)"
   ]
  },
  {
   "cell_type": "code",
   "execution_count": 13,
   "metadata": {
    "colab": {},
    "colab_type": "code",
    "id": "3IconZF82qyx"
   },
   "outputs": [],
   "source": [
    "# Flag for Urine output level\n",
    "def urine_flag(df):\n",
    "    '''\n",
    "    Creates 1 for patients with less than 800 mL of urine output in the first 24 hours\n",
    "    0 Otherwise\n",
    "\n",
    "    Parameters:\n",
    "    -----------------------------\n",
    "    df                pd.DataFrame\n",
    "\n",
    "    Return:\n",
    "    -----------------------------\n",
    "    low_urine         pd.Series\n",
    "\n",
    "    '''\n",
    "    bins = [0, 800, np.inf]\n",
    "    names = [1, 0]\n",
    "    \n",
    "    low_urine = pd.cut(df['urineoutput_apache'], bins, labels=names, include_lowest = True)\n",
    "    return pd.Series(low_urine).astype(float)\n",
    "\n",
    "# Flag for white blood cells count\n",
    "def wbc_level(df):\n",
    "    '''\n",
    "    Creates three levels for different levels of White Blood Cells\n",
    "    Level = 0 --> wbc <10\n",
    "    Level = 1 --> 10 <= wbc <s10\n",
    "    Level = 2 --> 30 <= wbc\n",
    "\n",
    "    Parameters:\n",
    "    -----------------------------\n",
    "    df                pd.DataFrame\n",
    "\n",
    "    Return:\n",
    "    -----------------------------\n",
    "    wbc_level         pd.Series\n",
    "\n",
    "    '''\n",
    "    bins = [0, 10, 30, np.inf]\n",
    "    names = [0, 1, 2]\n",
    "    \n",
    "    wbc_level = pd.cut(df['wbc_apache'], bins, labels=names, include_lowest = True)\n",
    "    return pd.Series(wbc_level).astype(float)\n",
    "\n",
    "# Flag for lactate level\n",
    "def lactate_level(df):\n",
    "    '''\n",
    "    Creates 1 for patients with lactate greater than 2.2 in the first 24 hours\n",
    "    0 Otherwise\n",
    "    \n",
    "    Used d1_lactate_max as a more conservative measure\n",
    "\n",
    "    Parameters:\n",
    "    -----------------------------\n",
    "    df                pd.DataFrame\n",
    "\n",
    "    Return:\n",
    "    -----------------------------\n",
    "    high_lactate       pd.Series\n",
    "\n",
    "    '''\n",
    "    bins = [0, 2.2, np.inf]\n",
    "    names = [1, 0]\n",
    "    \n",
    "    high_lactate = pd.cut(df['d1_lactate_max'], bins, labels=names, include_lowest = True)\n",
    "    return pd.Series(high_lactate).astype(float)\n",
    "\n",
    "# Flag for platelets level\n",
    "def platelets_level(df):\n",
    "    '''\n",
    "    Creates 1 for patients with platelets less than 100 in the first 24 hours\n",
    "    0 Otherwise\n",
    "    \n",
    "    Used d1_plateslets_min as a more conservative measure\n",
    "\n",
    "    Parameters:\n",
    "    -----------------------------\n",
    "    df                pd.DataFrame\n",
    "\n",
    "    Return:\n",
    "    -----------------------------\n",
    "    low_platelets    pd.Series\n",
    "\n",
    "    '''\n",
    "    bins = [0, 100, np.inf]\n",
    "    names = [1, 0]\n",
    "    \n",
    "    low_platelets = pd.cut(df['d1_platelets_min'], bins, labels=names, include_lowest = True)\n",
    "    return pd.Series(low_platelets).astype(float)\n",
    "\n"
   ]
  },
  {
   "cell_type": "code",
   "execution_count": 14,
   "metadata": {
    "colab": {},
    "colab_type": "code",
    "id": "KTNmV08zsnf1"
   },
   "outputs": [],
   "source": [
    "wids['urine_flag'] = urine_flag(wids)\n",
    "wids['wbc_level'] = wbc_level(wids)\n",
    "wids['lactate_level'] = lactate_level(wids)\n",
    "wids['platelets_level'] = platelets_level(wids)"
   ]
  },
  {
   "cell_type": "code",
   "execution_count": 15,
   "metadata": {
    "colab": {},
    "colab_type": "code",
    "id": "fP0fUibA2riy"
   },
   "outputs": [],
   "source": [
    "# Diff between first_hour and first_day max/min variables\n",
    "def diff_h1_d1(df):\n",
    "    \"\"\"\n",
    "    Diff between first_hour and first_day max/min variables. \n",
    "    Excluding invasive/non-invasive\n",
    "    It shows the drop/increase of the measures (max/min).\n",
    "    \n",
    "    Parameters:\n",
    "    -----------------------\n",
    "    df:                pd.DataFrame\n",
    "    \n",
    "    \n",
    "    Return:\n",
    "    -----------------------\n",
    "    output:            pd.DataFrame or pd.Series\n",
    "                       one or multiple columns that went through the feature engineering. \n",
    "    \"\"\"\n",
    "    \n",
    "    \n",
    "    hd = df[['d1_diasbp_invasive_max', 'd1_diasbp_invasive_min',\n",
    "       'd1_diasbp_max', 'd1_diasbp_min', 'd1_diasbp_noninvasive_max',\n",
    "       'd1_diasbp_noninvasive_min', 'd1_heartrate_max',\n",
    "       'd1_heartrate_min', 'd1_mbp_invasive_max', 'd1_mbp_invasive_min',\n",
    "       'd1_mbp_max', 'd1_mbp_min', 'd1_mbp_noninvasive_max',\n",
    "       'd1_mbp_noninvasive_min', 'd1_resprate_max', 'd1_resprate_min',\n",
    "       'd1_spo2_max', 'd1_spo2_min', 'd1_sysbp_invasive_max',\n",
    "       'd1_sysbp_invasive_min', 'd1_sysbp_max', 'd1_sysbp_min',\n",
    "       'd1_sysbp_noninvasive_max', 'd1_sysbp_noninvasive_min',\n",
    "       'd1_temp_max', 'd1_temp_min', 'h1_diasbp_invasive_max',\n",
    "       'h1_diasbp_invasive_min', 'h1_diasbp_max', 'h1_diasbp_min',\n",
    "       'h1_diasbp_noninvasive_max', 'h1_diasbp_noninvasive_min',\n",
    "       'h1_heartrate_max', 'h1_heartrate_min', 'h1_mbp_invasive_max',\n",
    "       'h1_mbp_invasive_min', 'h1_mbp_max', 'h1_mbp_min',\n",
    "       'h1_mbp_noninvasive_max', 'h1_mbp_noninvasive_min',\n",
    "       'h1_resprate_max', 'h1_resprate_min', 'h1_spo2_max', 'h1_spo2_min',\n",
    "       'h1_sysbp_invasive_max', 'h1_sysbp_invasive_min', 'h1_sysbp_max',\n",
    "       'h1_sysbp_min', 'h1_sysbp_noninvasive_max',\n",
    "       'h1_sysbp_noninvasive_min', 'h1_temp_max', 'h1_temp_min',\n",
    "       'd1_albumin_max', 'd1_albumin_min', 'd1_bilirubin_max',\n",
    "       'd1_bilirubin_min', 'd1_bun_max', 'd1_bun_min', 'd1_calcium_max',\n",
    "       'd1_calcium_min', 'd1_creatinine_max', 'd1_creatinine_min',\n",
    "       'd1_glucose_max', 'd1_glucose_min', 'd1_hco3_max', 'd1_hco3_min',\n",
    "       'd1_hemaglobin_max', 'd1_hemaglobin_min', 'd1_hematocrit_max',\n",
    "       'd1_hematocrit_min', 'd1_inr_max', 'd1_inr_min', 'd1_lactate_max',\n",
    "       'd1_lactate_min', 'd1_platelets_max', 'd1_platelets_min',\n",
    "       'd1_potassium_max', 'd1_potassium_min', 'd1_sodium_max',\n",
    "       'd1_sodium_min', 'd1_wbc_max', 'd1_wbc_min', 'h1_albumin_max',\n",
    "       'h1_albumin_min', 'h1_bilirubin_max', 'h1_bilirubin_min',\n",
    "       'h1_bun_max', 'h1_bun_min', 'h1_calcium_max', 'h1_calcium_min',\n",
    "       'h1_creatinine_max', 'h1_creatinine_min', 'h1_glucose_max',\n",
    "       'h1_glucose_min', 'h1_hco3_max', 'h1_hco3_min',\n",
    "       'h1_hemaglobin_max', 'h1_hemaglobin_min', 'h1_hematocrit_max',\n",
    "       'h1_hematocrit_min', 'h1_inr_max', 'h1_inr_min', 'h1_lactate_max',\n",
    "       'h1_lactate_min', 'h1_platelets_max', 'h1_platelets_min',\n",
    "       'h1_potassium_max', 'h1_potassium_min', 'h1_sodium_max',\n",
    "       'h1_sodium_min', 'h1_wbc_max', 'h1_wbc_min',\n",
    "       'd1_arterial_pco2_max', 'd1_arterial_pco2_min',\n",
    "       'd1_arterial_ph_max', 'd1_arterial_ph_min', 'd1_arterial_po2_max',\n",
    "       'd1_arterial_po2_min', 'd1_pao2fio2ratio_max',\n",
    "       'd1_pao2fio2ratio_min', 'h1_arterial_pco2_max',\n",
    "       'h1_arterial_pco2_min', 'h1_arterial_ph_max', 'h1_arterial_ph_min',\n",
    "       'h1_arterial_po2_max', 'h1_arterial_po2_min',\n",
    "       'h1_pao2fio2ratio_max', 'h1_pao2fio2ratio_min']]\n",
    "    \n",
    "    # Keep the synthesized ones. \n",
    "    hd = hd[hd.columns.drop(hd.filter(regex = 'invasive'))]\n",
    "\n",
    "    hd = hd.reindex(sorted(hd.columns), axis=1)\n",
    "    \n",
    "    # h1-d1\n",
    "    cols = hd.iloc[:, 52:].columns\n",
    "    cols = [i.strip('h1_') + '_change' for i in cols] \n",
    "\n",
    "    output = pd.DataFrame(hd.iloc[:, 52:].values - hd.iloc[:, :52].values, columns=cols)\n",
    "    \n",
    "    return output\n",
    "\n",
    "\n",
    "\n",
    "# Apache diagnosis - The part before decimal\n",
    "def grab_main_cat(col):\n",
    "    \"\"\"\n",
    "    Return the main category for apache diagnosis. (apache_3j_diagnosis and apache_2_diagnosis)\n",
    "\n",
    "    Parameters\n",
    "    -------------------\n",
    "    col                 pd.Series\n",
    "                        The variables we want to extract the main category.\n",
    "\n",
    "    Return\n",
    "    -------------------\n",
    "    output              pd.Series\n",
    "                        Main categories of diagnosis. \n",
    "\n",
    "    \"\"\"\n",
    "    output = col.astype('str').str.split('.', n=1, expand=True)[0]\n",
    "    output = output.astype(str)\n",
    "    \n",
    "    return output\n"
   ]
  },
  {
   "cell_type": "code",
   "execution_count": 16,
   "metadata": {
    "colab": {},
    "colab_type": "code",
    "id": "mWV-2bgD2slK"
   },
   "outputs": [],
   "source": [
    "wids = pd.concat([wids, diff_h1_d1(wids)], axis=1)"
   ]
  },
  {
   "cell_type": "code",
   "execution_count": 17,
   "metadata": {
    "colab": {},
    "colab_type": "code",
    "id": "JEBH0x2Rs_Ah"
   },
   "outputs": [],
   "source": [
    "wids['apache_3j_diagnosis'] = grab_main_cat(wids['apache_3j_diagnosis'])\n",
    "wids['apache_2_diagnosis'] = grab_main_cat(wids['apache_2_diagnosis'])"
   ]
  },
  {
   "cell_type": "code",
   "execution_count": 18,
   "metadata": {},
   "outputs": [
    {
     "data": {
      "text/plain": [
       "(91713, 356)"
      ]
     },
     "execution_count": 18,
     "metadata": {},
     "output_type": "execute_result"
    }
   ],
   "source": [
    "wids.shape # with features"
   ]
  },
  {
   "cell_type": "code",
   "execution_count": 19,
   "metadata": {},
   "outputs": [
    {
     "data": {
      "text/plain": [
       "(91713, 186)"
      ]
     },
     "execution_count": 19,
     "metadata": {},
     "output_type": "execute_result"
    }
   ],
   "source": [
    "wids_og.shape # without features"
   ]
  },
  {
   "cell_type": "markdown",
   "metadata": {},
   "source": [
    "### Map code descriptions for apache_3j_diagnosis"
   ]
  },
  {
   "cell_type": "code",
   "execution_count": 20,
   "metadata": {},
   "outputs": [
    {
     "data": {
      "text/html": [
       "<div>\n",
       "<style scoped>\n",
       "    .dataframe tbody tr th:only-of-type {\n",
       "        vertical-align: middle;\n",
       "    }\n",
       "\n",
       "    .dataframe tbody tr th {\n",
       "        vertical-align: top;\n",
       "    }\n",
       "\n",
       "    .dataframe thead th {\n",
       "        text-align: right;\n",
       "    }\n",
       "</style>\n",
       "<table border=\"1\" class=\"dataframe\">\n",
       "  <thead>\n",
       "    <tr style=\"text-align: right;\">\n",
       "      <th></th>\n",
       "      <th>apache_3j_diagnosis</th>\n",
       "      <th>apache_3j_diagnosis_desc</th>\n",
       "    </tr>\n",
       "  </thead>\n",
       "  <tbody>\n",
       "    <tr>\n",
       "      <td>0</td>\n",
       "      <td>101</td>\n",
       "      <td>Cardiogenic shock</td>\n",
       "    </tr>\n",
       "    <tr>\n",
       "      <td>1</td>\n",
       "      <td>102</td>\n",
       "      <td>Cardiac arrest</td>\n",
       "    </tr>\n",
       "    <tr>\n",
       "      <td>2</td>\n",
       "      <td>103</td>\n",
       "      <td>Aortic aneurysm</td>\n",
       "    </tr>\n",
       "    <tr>\n",
       "      <td>3</td>\n",
       "      <td>104</td>\n",
       "      <td>Congestive heart failure</td>\n",
       "    </tr>\n",
       "    <tr>\n",
       "      <td>4</td>\n",
       "      <td>105</td>\n",
       "      <td>Peripheral vascular disease</td>\n",
       "    </tr>\n",
       "    <tr>\n",
       "      <td>...</td>\n",
       "      <td>...</td>\n",
       "      <td>...</td>\n",
       "    </tr>\n",
       "    <tr>\n",
       "      <td>111</td>\n",
       "      <td>1902</td>\n",
       "      <td>Orthopaedic surgery</td>\n",
       "    </tr>\n",
       "    <tr>\n",
       "      <td>112</td>\n",
       "      <td>1903</td>\n",
       "      <td>Skin surgery</td>\n",
       "    </tr>\n",
       "    <tr>\n",
       "      <td>113</td>\n",
       "      <td>1904</td>\n",
       "      <td>Cellulitis/Soft tissue infection</td>\n",
       "    </tr>\n",
       "    <tr>\n",
       "      <td>114</td>\n",
       "      <td>2101</td>\n",
       "      <td>Haematological disease</td>\n",
       "    </tr>\n",
       "    <tr>\n",
       "      <td>115</td>\n",
       "      <td>2201</td>\n",
       "      <td>Metabolic disease</td>\n",
       "    </tr>\n",
       "  </tbody>\n",
       "</table>\n",
       "<p>116 rows × 2 columns</p>\n",
       "</div>"
      ],
      "text/plain": [
       "    apache_3j_diagnosis          apache_3j_diagnosis_desc\n",
       "0                   101                 Cardiogenic shock\n",
       "1                   102                    Cardiac arrest\n",
       "2                   103                   Aortic aneurysm\n",
       "3                   104          Congestive heart failure\n",
       "4                   105       Peripheral vascular disease\n",
       "..                  ...                               ...\n",
       "111                1902               Orthopaedic surgery\n",
       "112                1903                      Skin surgery\n",
       "113                1904  Cellulitis/Soft tissue infection\n",
       "114                2101            Haematological disease\n",
       "115                2201                 Metabolic disease\n",
       "\n",
       "[116 rows x 2 columns]"
      ]
     },
     "execution_count": 20,
     "metadata": {},
     "output_type": "execute_result"
    }
   ],
   "source": [
    "codes_3j = pd.read_csv('../data/icu-apache-codes.csv', header= None)\n",
    "codes_3j.columns = ['apache_3j_diagnosis', \"apache_3j_diagnosis_desc\"]\n",
    "codes_3j['apache_3j_diagnosis'] = codes_3j['apache_3j_diagnosis'].astype(str).str.strip()\n",
    "codes_3j['apache_3j_diagnosis'] = codes_3j['apache_3j_diagnosis'].astype(object)\n",
    "codes_3j"
   ]
  },
  {
   "cell_type": "code",
   "execution_count": 21,
   "metadata": {},
   "outputs": [],
   "source": [
    "wids = wids.merge(codes_3j, on='apache_3j_diagnosis', how = 'left')"
   ]
  },
  {
   "cell_type": "code",
   "execution_count": 22,
   "metadata": {},
   "outputs": [],
   "source": [
    "wids.set_index(\"patient_id\", inplace = True)\n",
    "wids_og.set_index(\"patient_id\", inplace = True)"
   ]
  },
  {
   "cell_type": "markdown",
   "metadata": {
    "colab": {},
    "colab_type": "code",
    "id": "8ZPVh4UjtybS"
   },
   "source": [
    "# Data Processing "
   ]
  },
  {
   "cell_type": "code",
   "execution_count": 23,
   "metadata": {},
   "outputs": [
    {
     "data": {
      "text/plain": [
       "(91713, 356)"
      ]
     },
     "execution_count": 23,
     "metadata": {},
     "output_type": "execute_result"
    }
   ],
   "source": [
    "wids.shape"
   ]
  },
  {
   "cell_type": "code",
   "execution_count": 24,
   "metadata": {},
   "outputs": [],
   "source": [
    "# null values \n",
    "def null_values(df):\n",
    "        mis_val = df.isnull().sum()\n",
    "        mis_val_percent = 100 * df.isnull().sum() / len(df)\n",
    "        mis_val_table = pd.concat([mis_val, mis_val_percent], axis=1)\n",
    "        mis_val_table_ren_columns = mis_val_table.rename(\n",
    "        columns = {0 : 'Missing Values', 1 : '% of Total Values'})\n",
    "        mis_val_table_ren_columns = mis_val_table_ren_columns[\n",
    "            mis_val_table_ren_columns.iloc[:,1] != 0].sort_values(\n",
    "        '% of Total Values', ascending=False).round(1)\n",
    "        print (\"Dataframe has \" + str(df.shape[1]) + \" columns.\\n\"      \n",
    "            \"There are \" + str(mis_val_table_ren_columns.shape[0]) +\n",
    "              \" columns that have missing values.\")\n",
    "        return mis_val_table_ren_columns"
   ]
  },
  {
   "cell_type": "code",
   "execution_count": 25,
   "metadata": {},
   "outputs": [],
   "source": [
    "categorical_cols = ['ethnicity', 'gender', 'hospital_admit_source', 'icu_admit_source', \n",
    "                    'icu_stay_type', 'icu_type', 'apache_3j_bodysystem', 'apache_2_bodysystem', \n",
    "                    'apache_2_diagnosis', 'apache_3j_diagnosis', 'apache_3j_diagnosis_desc']"
   ]
  },
  {
   "cell_type": "code",
   "execution_count": 26,
   "metadata": {
    "scrolled": false
   },
   "outputs": [
    {
     "data": {
      "text/plain": [
       "['elective_surgery',\n",
       " 'readmission_status',\n",
       " 'apache_post_operative',\n",
       " 'arf_apache',\n",
       " 'gcs_unable_apache',\n",
       " 'intubated_apache',\n",
       " 'ventilated_apache',\n",
       " 'aids',\n",
       " 'cirrhosis',\n",
       " 'diabetes_mellitus',\n",
       " 'hepatic_failure',\n",
       " 'immunosuppression',\n",
       " 'leukemia',\n",
       " 'lymphoma',\n",
       " 'solid_tumor_with_metastasis',\n",
       " 'creatine_risk',\n",
       " 'bilirubin_risk',\n",
       " 'glucose_risk',\n",
       " 'urine_flag',\n",
       " 'wbc_level',\n",
       " 'lactate_level',\n",
       " 'platelets_level']"
      ]
     },
     "execution_count": 26,
     "metadata": {},
     "output_type": "execute_result"
    }
   ],
   "source": [
    "bool_cols = [col for col in wids if np.isin(wids[col].dropna().unique(), [0, 1, 2]).all()]\n",
    "binary_cols = [i for i in bool_cols if i not in ['inr_med_diff', 'inr_max_change', 'inr_min_change','hospital_death']]\n",
    "binary_cols"
   ]
  },
  {
   "cell_type": "code",
   "execution_count": 27,
   "metadata": {},
   "outputs": [],
   "source": [
    "target_col = ['hospital_death']"
   ]
  },
  {
   "cell_type": "code",
   "execution_count": 28,
   "metadata": {},
   "outputs": [],
   "source": [
    "numerical_cols = list(set(wids.columns) - set((categorical_cols + binary_cols + target_col)))"
   ]
  },
  {
   "cell_type": "code",
   "execution_count": 29,
   "metadata": {},
   "outputs": [
    {
     "data": {
      "text/plain": [
       "356"
      ]
     },
     "execution_count": 29,
     "metadata": {},
     "output_type": "execute_result"
    }
   ],
   "source": [
    "len(categorical_cols) + len(binary_cols) + len(numerical_cols)  + len(target_col)"
   ]
  },
  {
   "cell_type": "code",
   "execution_count": 30,
   "metadata": {},
   "outputs": [
    {
     "data": {
      "text/plain": [
       "['fio2_apache',\n",
       " 'paco2_apache',\n",
       " 'paco2_for_ph_apache',\n",
       " 'pao2_apache',\n",
       " 'ph_apache',\n",
       " 'd1_diasbp_invasive_max',\n",
       " 'd1_diasbp_invasive_min',\n",
       " 'd1_mbp_invasive_max',\n",
       " 'd1_mbp_invasive_min',\n",
       " 'd1_sysbp_invasive_max',\n",
       " 'd1_sysbp_invasive_min',\n",
       " 'h1_diasbp_invasive_max',\n",
       " 'h1_diasbp_invasive_min',\n",
       " 'h1_mbp_invasive_max',\n",
       " 'h1_mbp_invasive_min',\n",
       " 'h1_sysbp_invasive_max',\n",
       " 'h1_sysbp_invasive_min',\n",
       " 'd1_lactate_max',\n",
       " 'd1_lactate_min',\n",
       " 'h1_albumin_max',\n",
       " 'h1_albumin_min',\n",
       " 'h1_bilirubin_max',\n",
       " 'h1_bilirubin_min',\n",
       " 'h1_bun_max',\n",
       " 'h1_bun_min',\n",
       " 'h1_calcium_max',\n",
       " 'h1_calcium_min',\n",
       " 'h1_creatinine_max',\n",
       " 'h1_creatinine_min',\n",
       " 'h1_hco3_max',\n",
       " 'h1_hco3_min',\n",
       " 'h1_hemaglobin_max',\n",
       " 'h1_hemaglobin_min',\n",
       " 'h1_hematocrit_max',\n",
       " 'h1_hematocrit_min',\n",
       " 'h1_lactate_max',\n",
       " 'h1_lactate_min',\n",
       " 'h1_platelets_max',\n",
       " 'h1_platelets_min',\n",
       " 'h1_potassium_max',\n",
       " 'h1_potassium_min',\n",
       " 'h1_sodium_max',\n",
       " 'h1_sodium_min',\n",
       " 'h1_wbc_max',\n",
       " 'h1_wbc_min',\n",
       " 'd1_pao2fio2ratio_max',\n",
       " 'd1_pao2fio2ratio_min',\n",
       " 'h1_arterial_pco2_max',\n",
       " 'h1_arterial_pco2_min',\n",
       " 'h1_arterial_ph_max',\n",
       " 'h1_arterial_ph_min',\n",
       " 'h1_arterial_po2_max',\n",
       " 'h1_arterial_po2_min',\n",
       " 'h1_pao2fio2ratio_max',\n",
       " 'h1_pao2fio2ratio_min']"
      ]
     },
     "execution_count": 30,
     "metadata": {},
     "output_type": "execute_result"
    }
   ],
   "source": [
    "# Dropping columns that have over than 70% missing values. \n",
    "missing_raw = pd.DataFrame(wids_og.isna().sum()/wids_og.shape[0]).reset_index()\n",
    "\n",
    "columns_drop = missing_raw.loc[missing_raw[0]>0.7, 'index']\n",
    "list(columns_drop)"
   ]
  },
  {
   "cell_type": "code",
   "execution_count": 31,
   "metadata": {},
   "outputs": [
    {
     "name": "stdout",
     "output_type": "stream",
     "text": [
      "cat_len: 11 \n",
      "num_len: 322 \n",
      "binary_len: 22 \n",
      "drop_len: 55\n"
     ]
    }
   ],
   "source": [
    "print(\"cat_len:\", len(categorical_cols), \"\\n\" \n",
    "      \"num_len:\", len(numerical_cols), \"\\n\"\n",
    "      \"binary_len:\", len(binary_cols), \"\\n\"\n",
    "      \"drop_len:\", len(columns_drop))"
   ]
  },
  {
   "cell_type": "code",
   "execution_count": 32,
   "metadata": {},
   "outputs": [],
   "source": [
    "#### Remove columns flagged to be dropped from categorical, numerical and binary col subsets"
   ]
  },
  {
   "cell_type": "code",
   "execution_count": 33,
   "metadata": {},
   "outputs": [],
   "source": [
    "try:\n",
    "    categorical_cols - np.intersect1d(categorical_cols, columns_drop)\n",
    "except:\n",
    "    pass"
   ]
  },
  {
   "cell_type": "code",
   "execution_count": 34,
   "metadata": {},
   "outputs": [],
   "source": [
    "binary_cols = list(set(binary_cols) - set(np.intersect1d(binary_cols, columns_drop)))\n",
    "numerical_cols = list(set(numerical_cols) - set(np.intersect1d(numerical_cols, columns_drop)))"
   ]
  },
  {
   "cell_type": "code",
   "execution_count": 35,
   "metadata": {},
   "outputs": [
    {
     "name": "stdout",
     "output_type": "stream",
     "text": [
      "cat_len: 11 \n",
      "num_len: 267 \n",
      "binary_len: 22 \n",
      "drop_len: 55\n"
     ]
    }
   ],
   "source": [
    "print(\"cat_len:\", len(categorical_cols), \"\\n\" \n",
    "      \"num_len:\", len(numerical_cols), \"\\n\"\n",
    "      \"binary_len:\", len(binary_cols), \"\\n\"\n",
    "      \"drop_len:\", len(columns_drop))"
   ]
  },
  {
   "cell_type": "code",
   "execution_count": 36,
   "metadata": {},
   "outputs": [
    {
     "data": {
      "text/plain": [
       "356"
      ]
     },
     "execution_count": 36,
     "metadata": {},
     "output_type": "execute_result"
    }
   ],
   "source": [
    "len(categorical_cols) + len(binary_cols) + \\\n",
    "len(numerical_cols)  + len(target_col) + len(columns_drop)"
   ]
  },
  {
   "cell_type": "code",
   "execution_count": 37,
   "metadata": {},
   "outputs": [],
   "source": [
    "for c in categorical_cols:\n",
    "    wids[c] = wids[c].str.replace(\"\\W\", \"_\")"
   ]
  },
  {
   "cell_type": "code",
   "execution_count": 38,
   "metadata": {},
   "outputs": [
    {
     "data": {
      "text/plain": [
       "(91713, 356)"
      ]
     },
     "execution_count": 38,
     "metadata": {},
     "output_type": "execute_result"
    }
   ],
   "source": [
    "wids.shape"
   ]
  },
  {
   "cell_type": "code",
   "execution_count": 39,
   "metadata": {},
   "outputs": [],
   "source": [
    "def datacleansing_analysisready(df, target_col, cat_cols, num_cols, binary_cols, cols_drop):\n",
    "    \"\"\" \n",
    "\n",
    "    Parameters\n",
    "    ----------\n",
    "    df : type\n",
    "        Description of parameter `df`.\n",
    "    target_col : type\n",
    "        Description of parameter `target_col`.\n",
    "    cat_cols : type\n",
    "        Description of parameter `cat_cols`.\n",
    "    num_cols : type\n",
    "        Description of parameter `num_cols`.\n",
    "    binary_cols : type\n",
    "        Description of parameter `binary_cols`.\n",
    "    cols_drop : type\n",
    "        Description of parameter `cols_drop`.\n",
    "\n",
    "    Returns\n",
    "    -------\n",
    "    type\n",
    "        Description of returned object.\n",
    "\n",
    "    \"\"\"\n",
    "    # drop the null values from the dataset\n",
    "    df.drop(columns = cols_drop, inplace=True)\n",
    "    print(df.shape)\n",
    "\n",
    "    # make a copy of the df dataframe\n",
    "    X_df = df.copy()\n",
    "    print(X_df.shape)\n",
    "\n",
    "    # imputing less than 10 % with general median\n",
    "    wids_num = X_df[num_cols]\n",
    "    wids_num_missing = pd.DataFrame(wids_num.isna().sum()/wids_num.shape[0]).reset_index()\n",
    "    wids_num10 = wids_num_missing[wids_num_missing[0] < .1]['index'].to_list()\n",
    "\n",
    "    # assigned the imputation to the columns\n",
    "    X_df[wids_num_missing.loc[wids_num_missing[0]<0.1, 'index']] = X_df[wids_num_missing.loc[wids_num_missing[0]<0.1, 'index']].apply(lambda x: x.fillna(x.median()))\n",
    "\n",
    "\n",
    "    # impute the numerical cols that were not less than 10\n",
    "    num_cols = list(set(num_cols) - set(wids_num10))\n",
    "\n",
    "    # creating the bins for apache_4a_icu_death_prob to use for numerical cols imputation\n",
    "    X_df['tmp'] = pd.cut(X_df['apache_4a_icu_death_prob'],9)\n",
    "    X_df['tmp'] = X_df['tmp'].astype(str)\n",
    "\n",
    "    # go through numerical cols and impute them with the apache_4a_icu_death_prob group mean\n",
    "    for i in num_cols:\n",
    "        X_df[i] = X_df[i].fillna(X_df.groupby('tmp')[i].transform('median'))\n",
    "\n",
    "    # impute the binary columns\n",
    "    for i in binary_cols:\n",
    "        X_df[i] = X_df[i].fillna(-1)\n",
    "\n",
    "    # impute the categorical columns\n",
    "    for i in cat_cols:\n",
    "        X_df[i] = X_df[i].fillna('unknown')\n",
    "\n",
    "\n",
    "    # drop ID columns and APACHE diagnosis codes\n",
    "    X_df.drop(columns = [\"encounter_id\", \"hospital_id\", 'icu_id', 'apache_2_diagnosis', 'apache_3j_diagnosis', 'tmp'], \n",
    "              inplace = True)\n",
    "    \n",
    "    print(X_df.shape)\n",
    "    \n",
    "    # Separate label and predictors\n",
    "    y_df = X_df[target_col]\n",
    "    X_df = X_df.drop(columns=target_col)\n",
    "    \n",
    "    X_df_dum = pd.get_dummies(X_df)\n",
    "    \n",
    "    return X_df_dum, y_df"
   ]
  },
  {
   "cell_type": "code",
   "execution_count": 40,
   "metadata": {},
   "outputs": [
    {
     "name": "stdout",
     "output_type": "stream",
     "text": [
      "(91713, 301)\n",
      "(91713, 301)\n",
      "(91713, 296)\n"
     ]
    }
   ],
   "source": [
    "X_wids, y_wids = datacleansing_analysisready(wids, target_col, categorical_cols, numerical_cols, binary_cols, columns_drop)"
   ]
  },
  {
   "cell_type": "code",
   "execution_count": 41,
   "metadata": {},
   "outputs": [
    {
     "name": "stdout",
     "output_type": "stream",
     "text": [
      "(91713, 453) (91713, 1)\n"
     ]
    }
   ],
   "source": [
    "print(X_wids.shape, y_wids.shape)"
   ]
  },
  {
   "cell_type": "code",
   "execution_count": null,
   "metadata": {},
   "outputs": [],
   "source": [
    "%store X_wids\n",
    "%store y_wids"
   ]
  },
  {
   "cell_type": "code",
   "execution_count": null,
   "metadata": {},
   "outputs": [],
   "source": []
  }
 ],
 "metadata": {
  "colab": {
   "collapsed_sections": [],
   "name": "WIDS_Feature_Engineer.ipynb",
   "provenance": [],
   "toc_visible": true
  },
  "kernelspec": {
   "display_name": "Python 3",
   "language": "python",
   "name": "python3"
  },
  "language_info": {
   "codemirror_mode": {
    "name": "ipython",
    "version": 3
   },
   "file_extension": ".py",
   "mimetype": "text/x-python",
   "name": "python",
   "nbconvert_exporter": "python",
   "pygments_lexer": "ipython3",
   "version": "3.7.3"
  }
 },
 "nbformat": 4,
 "nbformat_minor": 1
}
