{
 "cells": [
  {
   "cell_type": "code",
   "execution_count": 228,
   "metadata": {},
   "outputs": [],
   "source": [
    "import numpy as np \n",
    "import pandas as pd \n",
    "import seaborn as sns\n",
    "%matplotlib inline\n",
    "from matplotlib import pyplot as plt\n",
    "from matplotlib import style\n",
    "\n",
    "from sklearn.model_selection import train_test_split\n",
    "from sklearn import linear_model\n",
    "from sklearn.linear_model import LinearRegression\n",
    "from sklearn.ensemble import RandomForestRegressor\n",
    "from sklearn.ensemble import RandomForestClassifier\n",
    "from sklearn.linear_model import Perceptron\n",
    "from sklearn.linear_model import SGDRegressor\n",
    "from sklearn.linear_model import RidgeCV\n",
    "from sklearn.linear_model import Ridge\n",
    "from sklearn.tree import DecisionTreeRegressor\n",
    "from sklearn.neighbors import KNeighborsRegressor\n",
    "from sklearn.svm import SVC, LinearSVC\n",
    "from sklearn.naive_bayes import GaussianNB\n",
    "from sklearn.model_selection import cross_val_score\n",
    "from sklearn.metrics import mean_squared_error as MSE\n",
    "from sklearn.ensemble import GradientBoostingRegressor\n",
    "from sklearn.ensemble import AdaBoostRegressor\n",
    "from sklearn.metrics import mean_squared_error as MSE\n",
    "from sklearn.metrics import r2_score\n",
    "from sklearn.model_selection import GridSearchCV"
   ]
  },
  {
   "cell_type": "code",
   "execution_count": 196,
   "metadata": {},
   "outputs": [],
   "source": [
    "wids = pd.read_csv(\"training_v2.csv\")"
   ]
  },
  {
   "cell_type": "code",
   "execution_count": 197,
   "metadata": {},
   "outputs": [
    {
     "data": {
      "text/html": [
       "<div>\n",
       "<style scoped>\n",
       "    .dataframe tbody tr th:only-of-type {\n",
       "        vertical-align: middle;\n",
       "    }\n",
       "\n",
       "    .dataframe tbody tr th {\n",
       "        vertical-align: top;\n",
       "    }\n",
       "\n",
       "    .dataframe thead th {\n",
       "        text-align: right;\n",
       "    }\n",
       "</style>\n",
       "<table border=\"1\" class=\"dataframe\">\n",
       "  <thead>\n",
       "    <tr style=\"text-align: right;\">\n",
       "      <th></th>\n",
       "      <th>patient_id</th>\n",
       "      <th>hospital_id</th>\n",
       "      <th>hospital_death</th>\n",
       "      <th>age</th>\n",
       "      <th>bmi</th>\n",
       "      <th>elective_surgery</th>\n",
       "      <th>ethnicity</th>\n",
       "      <th>gender</th>\n",
       "      <th>height</th>\n",
       "      <th>hospital_admit_source</th>\n",
       "      <th>...</th>\n",
       "      <th>h1_lactate_max</th>\n",
       "      <th>h1_lactate_min</th>\n",
       "      <th>h1_platelets_max</th>\n",
       "      <th>h1_platelets_min</th>\n",
       "      <th>h1_potassium_max</th>\n",
       "      <th>h1_potassium_min</th>\n",
       "      <th>h1_sodium_max</th>\n",
       "      <th>h1_sodium_min</th>\n",
       "      <th>h1_wbc_max</th>\n",
       "      <th>h1_wbc_min</th>\n",
       "    </tr>\n",
       "  </thead>\n",
       "  <tbody>\n",
       "    <tr>\n",
       "      <th>0</th>\n",
       "      <td>25312</td>\n",
       "      <td>118</td>\n",
       "      <td>0</td>\n",
       "      <td>68.0</td>\n",
       "      <td>22.73</td>\n",
       "      <td>0</td>\n",
       "      <td>Caucasian</td>\n",
       "      <td>M</td>\n",
       "      <td>180.3</td>\n",
       "      <td>Floor</td>\n",
       "      <td>...</td>\n",
       "      <td>NaN</td>\n",
       "      <td>NaN</td>\n",
       "      <td>NaN</td>\n",
       "      <td>NaN</td>\n",
       "      <td>NaN</td>\n",
       "      <td>NaN</td>\n",
       "      <td>NaN</td>\n",
       "      <td>NaN</td>\n",
       "      <td>NaN</td>\n",
       "      <td>NaN</td>\n",
       "    </tr>\n",
       "    <tr>\n",
       "      <th>1</th>\n",
       "      <td>59342</td>\n",
       "      <td>81</td>\n",
       "      <td>0</td>\n",
       "      <td>77.0</td>\n",
       "      <td>27.42</td>\n",
       "      <td>0</td>\n",
       "      <td>Caucasian</td>\n",
       "      <td>F</td>\n",
       "      <td>160.0</td>\n",
       "      <td>Floor</td>\n",
       "      <td>...</td>\n",
       "      <td>3.5</td>\n",
       "      <td>3.5</td>\n",
       "      <td>557.0</td>\n",
       "      <td>557.0</td>\n",
       "      <td>4.2</td>\n",
       "      <td>4.2</td>\n",
       "      <td>145.0</td>\n",
       "      <td>145.0</td>\n",
       "      <td>12.7</td>\n",
       "      <td>12.7</td>\n",
       "    </tr>\n",
       "    <tr>\n",
       "      <th>2</th>\n",
       "      <td>50777</td>\n",
       "      <td>118</td>\n",
       "      <td>0</td>\n",
       "      <td>25.0</td>\n",
       "      <td>31.95</td>\n",
       "      <td>0</td>\n",
       "      <td>Caucasian</td>\n",
       "      <td>F</td>\n",
       "      <td>172.7</td>\n",
       "      <td>Emergency Department</td>\n",
       "      <td>...</td>\n",
       "      <td>NaN</td>\n",
       "      <td>NaN</td>\n",
       "      <td>NaN</td>\n",
       "      <td>NaN</td>\n",
       "      <td>NaN</td>\n",
       "      <td>NaN</td>\n",
       "      <td>NaN</td>\n",
       "      <td>NaN</td>\n",
       "      <td>NaN</td>\n",
       "      <td>NaN</td>\n",
       "    </tr>\n",
       "    <tr>\n",
       "      <th>3</th>\n",
       "      <td>46918</td>\n",
       "      <td>118</td>\n",
       "      <td>0</td>\n",
       "      <td>81.0</td>\n",
       "      <td>22.64</td>\n",
       "      <td>1</td>\n",
       "      <td>Caucasian</td>\n",
       "      <td>F</td>\n",
       "      <td>165.1</td>\n",
       "      <td>Operating Room</td>\n",
       "      <td>...</td>\n",
       "      <td>NaN</td>\n",
       "      <td>NaN</td>\n",
       "      <td>43.0</td>\n",
       "      <td>43.0</td>\n",
       "      <td>NaN</td>\n",
       "      <td>NaN</td>\n",
       "      <td>NaN</td>\n",
       "      <td>NaN</td>\n",
       "      <td>8.8</td>\n",
       "      <td>8.8</td>\n",
       "    </tr>\n",
       "    <tr>\n",
       "      <th>4</th>\n",
       "      <td>34377</td>\n",
       "      <td>33</td>\n",
       "      <td>0</td>\n",
       "      <td>19.0</td>\n",
       "      <td>NaN</td>\n",
       "      <td>0</td>\n",
       "      <td>Caucasian</td>\n",
       "      <td>M</td>\n",
       "      <td>188.0</td>\n",
       "      <td>NaN</td>\n",
       "      <td>...</td>\n",
       "      <td>NaN</td>\n",
       "      <td>NaN</td>\n",
       "      <td>NaN</td>\n",
       "      <td>NaN</td>\n",
       "      <td>NaN</td>\n",
       "      <td>NaN</td>\n",
       "      <td>NaN</td>\n",
       "      <td>NaN</td>\n",
       "      <td>NaN</td>\n",
       "      <td>NaN</td>\n",
       "    </tr>\n",
       "  </tbody>\n",
       "</table>\n",
       "<p>5 rows × 39 columns</p>\n",
       "</div>"
      ],
      "text/plain": [
       "   patient_id  hospital_id  hospital_death   age    bmi  elective_surgery  \\\n",
       "0       25312          118               0  68.0  22.73                 0   \n",
       "1       59342           81               0  77.0  27.42                 0   \n",
       "2       50777          118               0  25.0  31.95                 0   \n",
       "3       46918          118               0  81.0  22.64                 1   \n",
       "4       34377           33               0  19.0    NaN                 0   \n",
       "\n",
       "   ethnicity gender  height hospital_admit_source  ... h1_lactate_max  \\\n",
       "0  Caucasian      M   180.3                 Floor  ...            NaN   \n",
       "1  Caucasian      F   160.0                 Floor  ...            3.5   \n",
       "2  Caucasian      F   172.7  Emergency Department  ...            NaN   \n",
       "3  Caucasian      F   165.1        Operating Room  ...            NaN   \n",
       "4  Caucasian      M   188.0                   NaN  ...            NaN   \n",
       "\n",
       "   h1_lactate_min h1_platelets_max h1_platelets_min  h1_potassium_max  \\\n",
       "0             NaN              NaN              NaN               NaN   \n",
       "1             3.5            557.0            557.0               4.2   \n",
       "2             NaN              NaN              NaN               NaN   \n",
       "3             NaN             43.0             43.0               NaN   \n",
       "4             NaN              NaN              NaN               NaN   \n",
       "\n",
       "   h1_potassium_min  h1_sodium_max  h1_sodium_min  h1_wbc_max  h1_wbc_min  \n",
       "0               NaN            NaN            NaN         NaN         NaN  \n",
       "1               4.2          145.0          145.0        12.7        12.7  \n",
       "2               NaN            NaN            NaN         NaN         NaN  \n",
       "3               NaN            NaN            NaN         8.8         8.8  \n",
       "4               NaN            NaN            NaN         NaN         NaN  \n",
       "\n",
       "[5 rows x 39 columns]"
      ]
     },
     "execution_count": 197,
     "metadata": {},
     "output_type": "execute_result"
    }
   ],
   "source": [
    "cols = ['patient_id','hospital_id','hospital_death','age','bmi','elective_surgery','ethnicity','gender','height',\n",
    "                   'hospital_admit_source','icu_admit_source','icu_id','icu_stay_type','icu_type',\n",
    "                   'pre_icu_los_days','readmission_status','weight','h1_creatinine_max','h1_creatinine_min','h1_glucose_max','h1_glucose_min','h1_hco3_max','h1_hco3_min',\n",
    "                   'h1_hemaglobin_max','h1_hemaglobin_min','h1_hematocrit_max','h1_hematocrit_min','h1_inr_max',\n",
    "                  'h1_inr_min','h1_lactate_max','h1_lactate_min','h1_platelets_max','h1_platelets_min','h1_potassium_max',\n",
    "                  'h1_potassium_min','h1_sodium_max','h1_sodium_min','h1_wbc_max','h1_wbc_min']\n",
    "labs_subset = pd.DataFrame(wids, columns = cols)\n",
    "labs_subset.head()"
   ]
  },
  {
   "cell_type": "code",
   "execution_count": 198,
   "metadata": {},
   "outputs": [
    {
     "data": {
      "text/plain": [
       "(91713, 39)"
      ]
     },
     "execution_count": 198,
     "metadata": {},
     "output_type": "execute_result"
    }
   ],
   "source": [
    "labs_subset.shape"
   ]
  },
  {
   "cell_type": "code",
   "execution_count": 199,
   "metadata": {},
   "outputs": [],
   "source": [
    "def null_values(df):\n",
    "        mis_val = df.isnull().sum()\n",
    "        mis_val_percent = 100 * df.isnull().sum() / len(df)\n",
    "        mis_val_table = pd.concat([mis_val, mis_val_percent], axis=1)\n",
    "        mis_val_table_ren_columns = mis_val_table.rename(\n",
    "        columns = {0 : 'Missing Values', 1 : 'Percent of Total Values'})\n",
    "        mis_val_table_ren_columns = mis_val_table_ren_columns[\n",
    "            mis_val_table_ren_columns.iloc[:,1] != 0].sort_values(\n",
    "        'Percent of Total Values', ascending=False).round(1)\n",
    "        print (\"Dataframe has \" + str(df.shape[1]) + \" columns.\\n\"      \n",
    "            \"There are \" + str(mis_val_table_ren_columns.shape[0]) +\n",
    "              \" columns that have missing values.\")\n",
    "        return mis_val_table_ren_columns"
   ]
  },
  {
   "cell_type": "code",
   "execution_count": 200,
   "metadata": {},
   "outputs": [
    {
     "name": "stdout",
     "output_type": "stream",
     "text": [
      "Dataframe has 39 columns.\n",
      "There are 30 columns that have missing values.\n"
     ]
    },
    {
     "data": {
      "text/html": [
       "<div>\n",
       "<style scoped>\n",
       "    .dataframe tbody tr th:only-of-type {\n",
       "        vertical-align: middle;\n",
       "    }\n",
       "\n",
       "    .dataframe tbody tr th {\n",
       "        vertical-align: top;\n",
       "    }\n",
       "\n",
       "    .dataframe thead th {\n",
       "        text-align: right;\n",
       "    }\n",
       "</style>\n",
       "<table border=\"1\" class=\"dataframe\">\n",
       "  <thead>\n",
       "    <tr style=\"text-align: right;\">\n",
       "      <th></th>\n",
       "      <th>Missing Values</th>\n",
       "      <th>Percent of Total Values</th>\n",
       "    </tr>\n",
       "  </thead>\n",
       "  <tbody>\n",
       "    <tr>\n",
       "      <th>h1_lactate_min</th>\n",
       "      <td>84369</td>\n",
       "      <td>92.0</td>\n",
       "    </tr>\n",
       "    <tr>\n",
       "      <th>h1_lactate_max</th>\n",
       "      <td>84369</td>\n",
       "      <td>92.0</td>\n",
       "    </tr>\n",
       "    <tr>\n",
       "      <th>h1_hco3_min</th>\n",
       "      <td>76094</td>\n",
       "      <td>83.0</td>\n",
       "    </tr>\n",
       "    <tr>\n",
       "      <th>h1_hco3_max</th>\n",
       "      <td>76094</td>\n",
       "      <td>83.0</td>\n",
       "    </tr>\n",
       "    <tr>\n",
       "      <th>h1_wbc_min</th>\n",
       "      <td>75953</td>\n",
       "      <td>82.8</td>\n",
       "    </tr>\n",
       "    <tr>\n",
       "      <th>h1_wbc_max</th>\n",
       "      <td>75953</td>\n",
       "      <td>82.8</td>\n",
       "    </tr>\n",
       "    <tr>\n",
       "      <th>h1_platelets_min</th>\n",
       "      <td>75673</td>\n",
       "      <td>82.5</td>\n",
       "    </tr>\n",
       "    <tr>\n",
       "      <th>h1_platelets_max</th>\n",
       "      <td>75673</td>\n",
       "      <td>82.5</td>\n",
       "    </tr>\n",
       "    <tr>\n",
       "      <th>h1_creatinine_max</th>\n",
       "      <td>74957</td>\n",
       "      <td>81.7</td>\n",
       "    </tr>\n",
       "    <tr>\n",
       "      <th>h1_creatinine_min</th>\n",
       "      <td>74957</td>\n",
       "      <td>81.7</td>\n",
       "    </tr>\n",
       "    <tr>\n",
       "      <th>h1_hematocrit_min</th>\n",
       "      <td>73420</td>\n",
       "      <td>80.1</td>\n",
       "    </tr>\n",
       "    <tr>\n",
       "      <th>h1_hematocrit_max</th>\n",
       "      <td>73420</td>\n",
       "      <td>80.1</td>\n",
       "    </tr>\n",
       "    <tr>\n",
       "      <th>h1_hemaglobin_max</th>\n",
       "      <td>73123</td>\n",
       "      <td>79.7</td>\n",
       "    </tr>\n",
       "    <tr>\n",
       "      <th>h1_hemaglobin_min</th>\n",
       "      <td>73123</td>\n",
       "      <td>79.7</td>\n",
       "    </tr>\n",
       "    <tr>\n",
       "      <th>h1_sodium_max</th>\n",
       "      <td>72617</td>\n",
       "      <td>79.2</td>\n",
       "    </tr>\n",
       "    <tr>\n",
       "      <th>h1_sodium_min</th>\n",
       "      <td>72617</td>\n",
       "      <td>79.2</td>\n",
       "    </tr>\n",
       "    <tr>\n",
       "      <th>h1_potassium_max</th>\n",
       "      <td>72102</td>\n",
       "      <td>78.6</td>\n",
       "    </tr>\n",
       "    <tr>\n",
       "      <th>h1_potassium_min</th>\n",
       "      <td>72102</td>\n",
       "      <td>78.6</td>\n",
       "    </tr>\n",
       "    <tr>\n",
       "      <th>h1_inr_max</th>\n",
       "      <td>57941</td>\n",
       "      <td>63.2</td>\n",
       "    </tr>\n",
       "    <tr>\n",
       "      <th>h1_inr_min</th>\n",
       "      <td>57941</td>\n",
       "      <td>63.2</td>\n",
       "    </tr>\n",
       "    <tr>\n",
       "      <th>h1_glucose_min</th>\n",
       "      <td>52614</td>\n",
       "      <td>57.4</td>\n",
       "    </tr>\n",
       "    <tr>\n",
       "      <th>h1_glucose_max</th>\n",
       "      <td>52614</td>\n",
       "      <td>57.4</td>\n",
       "    </tr>\n",
       "    <tr>\n",
       "      <th>hospital_admit_source</th>\n",
       "      <td>21409</td>\n",
       "      <td>23.3</td>\n",
       "    </tr>\n",
       "    <tr>\n",
       "      <th>age</th>\n",
       "      <td>4228</td>\n",
       "      <td>4.6</td>\n",
       "    </tr>\n",
       "    <tr>\n",
       "      <th>bmi</th>\n",
       "      <td>3429</td>\n",
       "      <td>3.7</td>\n",
       "    </tr>\n",
       "    <tr>\n",
       "      <th>weight</th>\n",
       "      <td>2720</td>\n",
       "      <td>3.0</td>\n",
       "    </tr>\n",
       "    <tr>\n",
       "      <th>ethnicity</th>\n",
       "      <td>1395</td>\n",
       "      <td>1.5</td>\n",
       "    </tr>\n",
       "    <tr>\n",
       "      <th>height</th>\n",
       "      <td>1334</td>\n",
       "      <td>1.5</td>\n",
       "    </tr>\n",
       "    <tr>\n",
       "      <th>icu_admit_source</th>\n",
       "      <td>112</td>\n",
       "      <td>0.1</td>\n",
       "    </tr>\n",
       "    <tr>\n",
       "      <th>gender</th>\n",
       "      <td>25</td>\n",
       "      <td>0.0</td>\n",
       "    </tr>\n",
       "  </tbody>\n",
       "</table>\n",
       "</div>"
      ],
      "text/plain": [
       "                       Missing Values  Percent of Total Values\n",
       "h1_lactate_min                  84369                     92.0\n",
       "h1_lactate_max                  84369                     92.0\n",
       "h1_hco3_min                     76094                     83.0\n",
       "h1_hco3_max                     76094                     83.0\n",
       "h1_wbc_min                      75953                     82.8\n",
       "h1_wbc_max                      75953                     82.8\n",
       "h1_platelets_min                75673                     82.5\n",
       "h1_platelets_max                75673                     82.5\n",
       "h1_creatinine_max               74957                     81.7\n",
       "h1_creatinine_min               74957                     81.7\n",
       "h1_hematocrit_min               73420                     80.1\n",
       "h1_hematocrit_max               73420                     80.1\n",
       "h1_hemaglobin_max               73123                     79.7\n",
       "h1_hemaglobin_min               73123                     79.7\n",
       "h1_sodium_max                   72617                     79.2\n",
       "h1_sodium_min                   72617                     79.2\n",
       "h1_potassium_max                72102                     78.6\n",
       "h1_potassium_min                72102                     78.6\n",
       "h1_inr_max                      57941                     63.2\n",
       "h1_inr_min                      57941                     63.2\n",
       "h1_glucose_min                  52614                     57.4\n",
       "h1_glucose_max                  52614                     57.4\n",
       "hospital_admit_source           21409                     23.3\n",
       "age                              4228                      4.6\n",
       "bmi                              3429                      3.7\n",
       "weight                           2720                      3.0\n",
       "ethnicity                        1395                      1.5\n",
       "height                           1334                      1.5\n",
       "icu_admit_source                  112                      0.1\n",
       "gender                             25                      0.0"
      ]
     },
     "execution_count": 200,
     "metadata": {},
     "output_type": "execute_result"
    }
   ],
   "source": [
    "null_values(labs_subset)"
   ]
  },
  {
   "cell_type": "markdown",
   "metadata": {},
   "source": [
    "#### Similar to other people - if you're missing one, you're missing the other. Also, the majority of people have the same min/max values. We need to decide if we want to keep all columns or if we want to make an assumption about keeping just max/min"
   ]
  },
  {
   "cell_type": "code",
   "execution_count": 201,
   "metadata": {},
   "outputs": [
    {
     "data": {
      "text/plain": [
       "<matplotlib.axes._subplots.AxesSubplot at 0x20914cd7dd8>"
      ]
     },
     "execution_count": 201,
     "metadata": {},
     "output_type": "execute_result"
    },
    {
     "data": {
      "image/png": "[encoded data removed]",
      "text/plain": [
       "<Figure size 720x576 with 1 Axes>"
      ]
     },
     "metadata": {
      "needs_background": "light"
     },
     "output_type": "display_data"
    }
   ],
   "source": [
    "fig, ax = plt.subplots(figsize=(10,8))\n",
    "sns.boxplot(x=\"h1_lactate_min\", y=\"hospital_death\", orient = \"h\", data=labs_subset)"
   ]
  },
  {
   "cell_type": "code",
   "execution_count": 202,
   "metadata": {},
   "outputs": [
    {
     "data": {
      "text/plain": [
       "<matplotlib.axes._subplots.AxesSubplot at 0x20914cf5908>"
      ]
     },
     "execution_count": 202,
     "metadata": {},
     "output_type": "execute_result"
    },
    {
     "data": {
      "image/png": "[encoded data removed]",
      "text/plain": [
       "<Figure size 720x576 with 1 Axes>"
      ]
     },
     "metadata": {
      "needs_background": "light"
     },
     "output_type": "display_data"
    }
   ],
   "source": [
    "fig, ax = plt.subplots(figsize=(10,8))\n",
    "sns.boxplot(x=\"h1_lactate_max\", y=\"hospital_death\", orient = \"h\", data=labs_subset)"
   ]
  },
  {
   "cell_type": "code",
   "execution_count": 203,
   "metadata": {},
   "outputs": [
    {
     "data": {
      "text/plain": [
       "<matplotlib.axes._subplots.AxesSubplot at 0x20914f4df98>"
      ]
     },
     "execution_count": 203,
     "metadata": {},
     "output_type": "execute_result"
    },
    {
     "data": {
      "image/png": "[encoded data removed]",
      "text/plain": [
       "<Figure size 720x576 with 1 Axes>"
      ]
     },
     "metadata": {
      "needs_background": "light"
     },
     "output_type": "display_data"
    }
   ],
   "source": [
    "fig, ax = plt.subplots(figsize=(10,8))\n",
    "sns.boxplot(x=\"h1_hco3_min\", y=\"hospital_death\", orient = \"h\", data=labs_subset)"
   ]
  },
  {
   "cell_type": "code",
   "execution_count": 204,
   "metadata": {},
   "outputs": [
    {
     "data": {
      "text/plain": [
       "<matplotlib.axes._subplots.AxesSubplot at 0x20914fcc5c0>"
      ]
     },
     "execution_count": 204,
     "metadata": {},
     "output_type": "execute_result"
    },
    {
     "data": {
      "image/png": "[encoded data removed]",
      "text/plain": [
       "<Figure size 720x576 with 1 Axes>"
      ]
     },
     "metadata": {
      "needs_background": "light"
     },
     "output_type": "display_data"
    }
   ],
   "source": [
    "fig, ax = plt.subplots(figsize=(10,8))\n",
    "sns.boxplot(x=\"h1_hco3_max\", y=\"hospital_death\", orient = \"h\", data=labs_subset)"
   ]
  },
  {
   "cell_type": "code",
   "execution_count": 205,
   "metadata": {},
   "outputs": [],
   "source": [
    "labs_subset['h1_lactate'] = labs_subset[['h1_lactate_min', 'h1_lactate_max']].mean(axis=1)"
   ]
  },
  {
   "cell_type": "code",
   "execution_count": 206,
   "metadata": {},
   "outputs": [
    {
     "data": {
      "text/plain": [
       "0    NaN\n",
       "1    3.5\n",
       "2    NaN\n",
       "3    NaN\n",
       "4    NaN\n",
       "Name: h1_lactate, dtype: float64"
      ]
     },
     "execution_count": 206,
     "metadata": {},
     "output_type": "execute_result"
    }
   ],
   "source": [
    "labs_subset['h1_lactate'].head()"
   ]
  },
  {
   "cell_type": "code",
   "execution_count": 207,
   "metadata": {},
   "outputs": [],
   "source": [
    "new_subset = labs_subset.drop(columns=['h1_lactate_max','h1_lactate_min'])"
   ]
  },
  {
   "cell_type": "code",
   "execution_count": 208,
   "metadata": {},
   "outputs": [
    {
     "data": {
      "text/plain": [
       "(91713, 38)"
      ]
     },
     "execution_count": 208,
     "metadata": {},
     "output_type": "execute_result"
    }
   ],
   "source": [
    "new_subset.shape"
   ]
  },
  {
   "cell_type": "code",
   "execution_count": 209,
   "metadata": {},
   "outputs": [
    {
     "data": {
      "text/plain": [
       "(91713, 37)"
      ]
     },
     "execution_count": 209,
     "metadata": {},
     "output_type": "execute_result"
    }
   ],
   "source": [
    "new_subset['h1_creatinine'] = new_subset[['h1_creatinine_min', 'h1_creatinine_max']].mean(axis=1)\n",
    "new_subset = new_subset.drop(columns = ['h1_creatinine_min', 'h1_creatinine_max'])\n",
    "new_subset.shape"
   ]
  },
  {
   "cell_type": "code",
   "execution_count": 210,
   "metadata": {},
   "outputs": [
    {
     "data": {
      "text/plain": [
       "(91713, 36)"
      ]
     },
     "execution_count": 210,
     "metadata": {},
     "output_type": "execute_result"
    }
   ],
   "source": [
    "new_subset['h1_glucose'] = new_subset[['h1_glucose_min', 'h1_glucose_max']].mean(axis=1)\n",
    "new_subset = new_subset.drop(columns = ['h1_glucose_min', 'h1_glucose_max'])\n",
    "new_subset.shape"
   ]
  },
  {
   "cell_type": "code",
   "execution_count": 211,
   "metadata": {},
   "outputs": [
    {
     "data": {
      "text/plain": [
       "count    39099.00000\n",
       "mean       163.60393\n",
       "std         91.10047\n",
       "min         50.50000\n",
       "25%        109.00000\n",
       "50%        137.00000\n",
       "75%        184.00000\n",
       "max        682.52250\n",
       "Name: h1_glucose, dtype: float64"
      ]
     },
     "execution_count": 211,
     "metadata": {},
     "output_type": "execute_result"
    }
   ],
   "source": [
    "new_subset['h1_glucose'].describe()"
   ]
  },
  {
   "cell_type": "code",
   "execution_count": 212,
   "metadata": {},
   "outputs": [
    {
     "data": {
      "text/plain": [
       "count    39099.000000\n",
       "mean       159.222742\n",
       "std         89.157455\n",
       "min         42.000000\n",
       "25%        106.000000\n",
       "50%        134.000000\n",
       "75%        179.000000\n",
       "max        670.000000\n",
       "Name: h1_glucose_min, dtype: float64"
      ]
     },
     "execution_count": 212,
     "metadata": {},
     "output_type": "execute_result"
    }
   ],
   "source": [
    "labs_subset['h1_glucose_min'].describe()"
   ]
  },
  {
   "cell_type": "code",
   "execution_count": 213,
   "metadata": {},
   "outputs": [
    {
     "data": {
      "text/plain": [
       "count    39099.000000\n",
       "mean       167.985117\n",
       "std         94.721856\n",
       "min         59.000000\n",
       "25%        111.000000\n",
       "50%        140.000000\n",
       "75%        189.000000\n",
       "max        695.045000\n",
       "Name: h1_glucose_max, dtype: float64"
      ]
     },
     "execution_count": 213,
     "metadata": {},
     "output_type": "execute_result"
    }
   ],
   "source": [
    "labs_subset['h1_glucose_max'].describe()"
   ]
  },
  {
   "cell_type": "code",
   "execution_count": 214,
   "metadata": {},
   "outputs": [
    {
     "data": {
      "text/plain": [
       "(91713, 35)"
      ]
     },
     "execution_count": 214,
     "metadata": {},
     "output_type": "execute_result"
    }
   ],
   "source": [
    "new_subset['h1_hco3'] = new_subset[['h1_hco3_min', 'h1_hco3_max']].mean(axis=1)\n",
    "new_subset = new_subset.drop(columns = ['h1_hco3_min', 'h1_hco3_max'])\n",
    "new_subset.shape"
   ]
  },
  {
   "cell_type": "code",
   "execution_count": 215,
   "metadata": {},
   "outputs": [
    {
     "data": {
      "text/plain": [
       "(91713, 34)"
      ]
     },
     "execution_count": 215,
     "metadata": {},
     "output_type": "execute_result"
    }
   ],
   "source": [
    "new_subset['h1_hemaglobin'] = new_subset[['h1_hemaglobin_min', 'h1_hemaglobin_max']].mean(axis=1)\n",
    "new_subset = new_subset.drop(columns = ['h1_hemaglobin_min', 'h1_hemaglobin_max'])\n",
    "new_subset.shape"
   ]
  },
  {
   "cell_type": "code",
   "execution_count": 216,
   "metadata": {},
   "outputs": [
    {
     "data": {
      "text/plain": [
       "(91713, 33)"
      ]
     },
     "execution_count": 216,
     "metadata": {},
     "output_type": "execute_result"
    }
   ],
   "source": [
    "new_subset['h1_hematocrit'] = new_subset[['h1_hematocrit_min', 'h1_hematocrit_max']].mean(axis=1)\n",
    "new_subset = new_subset.drop(columns = ['h1_hematocrit_min', 'h1_hematocrit_max'])\n",
    "new_subset.shape"
   ]
  },
  {
   "cell_type": "code",
   "execution_count": 217,
   "metadata": {},
   "outputs": [
    {
     "data": {
      "text/plain": [
       "(91713, 32)"
      ]
     },
     "execution_count": 217,
     "metadata": {},
     "output_type": "execute_result"
    }
   ],
   "source": [
    "new_subset['h1_inr'] = new_subset[['h1_inr_min', 'h1_inr_max']].mean(axis=1)\n",
    "new_subset = new_subset.drop(columns = ['h1_inr_min', 'h1_inr_max'])\n",
    "new_subset.shape"
   ]
  },
  {
   "cell_type": "code",
   "execution_count": 218,
   "metadata": {},
   "outputs": [
    {
     "data": {
      "text/plain": [
       "(91713, 31)"
      ]
     },
     "execution_count": 218,
     "metadata": {},
     "output_type": "execute_result"
    }
   ],
   "source": [
    "new_subset['h1_platelets'] = new_subset[['h1_platelets_max', 'h1_platelets_min']].mean(axis=1)\n",
    "new_subset = new_subset.drop(columns = ['h1_platelets_max', 'h1_platelets_min'])\n",
    "new_subset.shape"
   ]
  },
  {
   "cell_type": "code",
   "execution_count": 219,
   "metadata": {},
   "outputs": [
    {
     "data": {
      "text/plain": [
       "(91713, 30)"
      ]
     },
     "execution_count": 219,
     "metadata": {},
     "output_type": "execute_result"
    }
   ],
   "source": [
    "new_subset['h1_potassium'] = new_subset[['h1_potassium_min', 'h1_potassium_max']].mean(axis=1)\n",
    "new_subset = new_subset.drop(columns = ['h1_potassium_min', 'h1_potassium_max'])\n",
    "new_subset.shape"
   ]
  },
  {
   "cell_type": "code",
   "execution_count": 220,
   "metadata": {},
   "outputs": [
    {
     "data": {
      "text/plain": [
       "(91713, 29)"
      ]
     },
     "execution_count": 220,
     "metadata": {},
     "output_type": "execute_result"
    }
   ],
   "source": [
    "new_subset['h1_sodium'] = new_subset[['h1_sodium_min', 'h1_sodium_max']].mean(axis=1)\n",
    "new_subset = new_subset.drop(columns = ['h1_sodium_min', 'h1_sodium_max'])\n",
    "new_subset.shape"
   ]
  },
  {
   "cell_type": "code",
   "execution_count": 221,
   "metadata": {},
   "outputs": [
    {
     "data": {
      "text/plain": [
       "(91713, 28)"
      ]
     },
     "execution_count": 221,
     "metadata": {},
     "output_type": "execute_result"
    }
   ],
   "source": [
    "new_subset['h1_wbc'] = new_subset[['h1_wbc_min', 'h1_wbc_max']].mean(axis=1)\n",
    "new_subset = new_subset.drop(columns = ['h1_wbc_min', 'h1_wbc_max'])\n",
    "new_subset.shape"
   ]
  },
  {
   "cell_type": "code",
   "execution_count": 222,
   "metadata": {},
   "outputs": [
    {
     "data": {
      "text/plain": [
       "['patient_id',\n",
       " 'hospital_id',\n",
       " 'hospital_death',\n",
       " 'age',\n",
       " 'bmi',\n",
       " 'elective_surgery',\n",
       " 'ethnicity',\n",
       " 'gender',\n",
       " 'height',\n",
       " 'hospital_admit_source',\n",
       " 'icu_admit_source',\n",
       " 'icu_id',\n",
       " 'icu_stay_type',\n",
       " 'icu_type',\n",
       " 'pre_icu_los_days',\n",
       " 'readmission_status',\n",
       " 'weight',\n",
       " 'h1_lactate',\n",
       " 'h1_creatinine',\n",
       " 'h1_glucose',\n",
       " 'h1_hco3',\n",
       " 'h1_hemaglobin',\n",
       " 'h1_hematocrit',\n",
       " 'h1_inr',\n",
       " 'h1_platelets',\n",
       " 'h1_potassium',\n",
       " 'h1_sodium',\n",
       " 'h1_wbc']"
      ]
     },
     "execution_count": 222,
     "metadata": {},
     "output_type": "execute_result"
    }
   ],
   "source": [
    "new_subset.columns.tolist()"
   ]
  },
  {
   "cell_type": "code",
   "execution_count": 223,
   "metadata": {},
   "outputs": [
    {
     "data": {
      "text/plain": [
       "(91713, 27)"
      ]
     },
     "execution_count": 223,
     "metadata": {},
     "output_type": "execute_result"
    }
   ],
   "source": [
    "df1 = new_subset.drop('hospital_death', axis=1)\n",
    "y = new_subset['hospital_death']\n",
    "df1.shape"
   ]
  },
  {
   "cell_type": "code",
   "execution_count": 224,
   "metadata": {},
   "outputs": [],
   "source": [
    "df1 = pd.get_dummies(df1)"
   ]
  },
  {
   "cell_type": "code",
   "execution_count": 225,
   "metadata": {},
   "outputs": [],
   "source": [
    "df1 = df1.fillna(0)"
   ]
  },
  {
   "cell_type": "code",
   "execution_count": 226,
   "metadata": {},
   "outputs": [
    {
     "name": "stdout",
     "output_type": "stream",
     "text": [
      "(73370, 60) (73370,)\n",
      "(18343, 60) (18343,)\n"
     ]
    }
   ],
   "source": [
    "# create training and testing vars\n",
    "X_train, X_test, Y_train, Y_test = train_test_split(df1, y, test_size=0.2)\n",
    "print(X_train.shape, Y_train.shape)\n",
    "print(X_test.shape, Y_test.shape)"
   ]
  },
  {
   "cell_type": "code",
   "execution_count": 229,
   "metadata": {},
   "outputs": [],
   "source": [
    "random_forest = RandomForestClassifier(n_estimators=100)\n",
    "random_forest.fit(X_train, Y_train)\n",
    "\n",
    "Y_prediction = random_forest.predict(X_test)\n",
    "\n",
    "random_forest.score(X_train, Y_train)\n",
    "acc_random_forest = round(random_forest.score(X_train, Y_train) * 100, 2)"
   ]
  },
  {
   "cell_type": "code",
   "execution_count": 230,
   "metadata": {},
   "outputs": [
    {
     "data": {
      "text/plain": [
       "100.0"
      ]
     },
     "execution_count": 230,
     "metadata": {},
     "output_type": "execute_result"
    }
   ],
   "source": [
    "acc_random_forest"
   ]
  },
  {
   "cell_type": "code",
   "execution_count": 231,
   "metadata": {},
   "outputs": [
    {
     "data": {
      "text/html": [
       "<div>\n",
       "<style scoped>\n",
       "    .dataframe tbody tr th:only-of-type {\n",
       "        vertical-align: middle;\n",
       "    }\n",
       "\n",
       "    .dataframe tbody tr th {\n",
       "        vertical-align: top;\n",
       "    }\n",
       "\n",
       "    .dataframe thead th {\n",
       "        text-align: right;\n",
       "    }\n",
       "</style>\n",
       "<table border=\"1\" class=\"dataframe\">\n",
       "  <thead>\n",
       "    <tr style=\"text-align: right;\">\n",
       "      <th></th>\n",
       "      <th>importance</th>\n",
       "    </tr>\n",
       "    <tr>\n",
       "      <th>feature</th>\n",
       "      <th></th>\n",
       "    </tr>\n",
       "  </thead>\n",
       "  <tbody>\n",
       "    <tr>\n",
       "      <th>pre_icu_los_days</th>\n",
       "      <td>0.088</td>\n",
       "    </tr>\n",
       "    <tr>\n",
       "      <th>patient_id</th>\n",
       "      <td>0.085</td>\n",
       "    </tr>\n",
       "    <tr>\n",
       "      <th>bmi</th>\n",
       "      <td>0.082</td>\n",
       "    </tr>\n",
       "    <tr>\n",
       "      <th>weight</th>\n",
       "      <td>0.078</td>\n",
       "    </tr>\n",
       "    <tr>\n",
       "      <th>age</th>\n",
       "      <td>0.075</td>\n",
       "    </tr>\n",
       "    <tr>\n",
       "      <th>height</th>\n",
       "      <td>0.066</td>\n",
       "    </tr>\n",
       "    <tr>\n",
       "      <th>h1_inr</th>\n",
       "      <td>0.066</td>\n",
       "    </tr>\n",
       "    <tr>\n",
       "      <th>icu_id</th>\n",
       "      <td>0.062</td>\n",
       "    </tr>\n",
       "    <tr>\n",
       "      <th>hospital_id</th>\n",
       "      <td>0.058</td>\n",
       "    </tr>\n",
       "    <tr>\n",
       "      <th>h1_glucose</th>\n",
       "      <td>0.042</td>\n",
       "    </tr>\n",
       "    <tr>\n",
       "      <th>h1_lactate</th>\n",
       "      <td>0.030</td>\n",
       "    </tr>\n",
       "    <tr>\n",
       "      <th>h1_potassium</th>\n",
       "      <td>0.016</td>\n",
       "    </tr>\n",
       "    <tr>\n",
       "      <th>h1_creatinine</th>\n",
       "      <td>0.016</td>\n",
       "    </tr>\n",
       "    <tr>\n",
       "      <th>h1_hemaglobin</th>\n",
       "      <td>0.015</td>\n",
       "    </tr>\n",
       "    <tr>\n",
       "      <th>h1_sodium</th>\n",
       "      <td>0.015</td>\n",
       "    </tr>\n",
       "    <tr>\n",
       "      <th>h1_wbc</th>\n",
       "      <td>0.014</td>\n",
       "    </tr>\n",
       "    <tr>\n",
       "      <th>h1_hematocrit</th>\n",
       "      <td>0.013</td>\n",
       "    </tr>\n",
       "    <tr>\n",
       "      <th>h1_platelets</th>\n",
       "      <td>0.012</td>\n",
       "    </tr>\n",
       "    <tr>\n",
       "      <th>icu_type_Med-Surg ICU</th>\n",
       "      <td>0.011</td>\n",
       "    </tr>\n",
       "    <tr>\n",
       "      <th>h1_hco3</th>\n",
       "      <td>0.011</td>\n",
       "    </tr>\n",
       "    <tr>\n",
       "      <th>hospital_admit_source_Emergency Department</th>\n",
       "      <td>0.010</td>\n",
       "    </tr>\n",
       "    <tr>\n",
       "      <th>gender_F</th>\n",
       "      <td>0.010</td>\n",
       "    </tr>\n",
       "    <tr>\n",
       "      <th>gender_M</th>\n",
       "      <td>0.010</td>\n",
       "    </tr>\n",
       "    <tr>\n",
       "      <th>ethnicity_Caucasian</th>\n",
       "      <td>0.009</td>\n",
       "    </tr>\n",
       "    <tr>\n",
       "      <th>ethnicity_African American</th>\n",
       "      <td>0.007</td>\n",
       "    </tr>\n",
       "    <tr>\n",
       "      <th>elective_surgery</th>\n",
       "      <td>0.006</td>\n",
       "    </tr>\n",
       "    <tr>\n",
       "      <th>icu_type_Neuro ICU</th>\n",
       "      <td>0.006</td>\n",
       "    </tr>\n",
       "    <tr>\n",
       "      <th>icu_type_MICU</th>\n",
       "      <td>0.006</td>\n",
       "    </tr>\n",
       "    <tr>\n",
       "      <th>hospital_admit_source_Floor</th>\n",
       "      <td>0.005</td>\n",
       "    </tr>\n",
       "    <tr>\n",
       "      <th>hospital_admit_source_Direct Admit</th>\n",
       "      <td>0.005</td>\n",
       "    </tr>\n",
       "    <tr>\n",
       "      <th>ethnicity_Other/Unknown</th>\n",
       "      <td>0.005</td>\n",
       "    </tr>\n",
       "    <tr>\n",
       "      <th>icu_type_CCU-CTICU</th>\n",
       "      <td>0.005</td>\n",
       "    </tr>\n",
       "    <tr>\n",
       "      <th>icu_type_Cardiac ICU</th>\n",
       "      <td>0.005</td>\n",
       "    </tr>\n",
       "    <tr>\n",
       "      <th>icu_admit_source_Accident &amp; Emergency</th>\n",
       "      <td>0.005</td>\n",
       "    </tr>\n",
       "    <tr>\n",
       "      <th>icu_admit_source_Floor</th>\n",
       "      <td>0.005</td>\n",
       "    </tr>\n",
       "    <tr>\n",
       "      <th>icu_stay_type_transfer</th>\n",
       "      <td>0.004</td>\n",
       "    </tr>\n",
       "    <tr>\n",
       "      <th>icu_stay_type_admit</th>\n",
       "      <td>0.004</td>\n",
       "    </tr>\n",
       "    <tr>\n",
       "      <th>icu_admit_source_Operating Room / Recovery</th>\n",
       "      <td>0.004</td>\n",
       "    </tr>\n",
       "    <tr>\n",
       "      <th>icu_type_SICU</th>\n",
       "      <td>0.004</td>\n",
       "    </tr>\n",
       "    <tr>\n",
       "      <th>ethnicity_Hispanic</th>\n",
       "      <td>0.004</td>\n",
       "    </tr>\n",
       "    <tr>\n",
       "      <th>icu_type_CSICU</th>\n",
       "      <td>0.003</td>\n",
       "    </tr>\n",
       "    <tr>\n",
       "      <th>icu_type_CTICU</th>\n",
       "      <td>0.003</td>\n",
       "    </tr>\n",
       "    <tr>\n",
       "      <th>hospital_admit_source_Other Hospital</th>\n",
       "      <td>0.002</td>\n",
       "    </tr>\n",
       "    <tr>\n",
       "      <th>hospital_admit_source_Step-Down Unit (SDU)</th>\n",
       "      <td>0.002</td>\n",
       "    </tr>\n",
       "    <tr>\n",
       "      <th>hospital_admit_source_Operating Room</th>\n",
       "      <td>0.002</td>\n",
       "    </tr>\n",
       "    <tr>\n",
       "      <th>ethnicity_Asian</th>\n",
       "      <td>0.002</td>\n",
       "    </tr>\n",
       "    <tr>\n",
       "      <th>icu_admit_source_Other Hospital</th>\n",
       "      <td>0.002</td>\n",
       "    </tr>\n",
       "    <tr>\n",
       "      <th>hospital_admit_source_Acute Care/Floor</th>\n",
       "      <td>0.002</td>\n",
       "    </tr>\n",
       "    <tr>\n",
       "      <th>ethnicity_Native American</th>\n",
       "      <td>0.001</td>\n",
       "    </tr>\n",
       "    <tr>\n",
       "      <th>hospital_admit_source_PACU</th>\n",
       "      <td>0.001</td>\n",
       "    </tr>\n",
       "    <tr>\n",
       "      <th>hospital_admit_source_Recovery Room</th>\n",
       "      <td>0.001</td>\n",
       "    </tr>\n",
       "    <tr>\n",
       "      <th>icu_admit_source_Other ICU</th>\n",
       "      <td>0.001</td>\n",
       "    </tr>\n",
       "    <tr>\n",
       "      <th>hospital_admit_source_Other ICU</th>\n",
       "      <td>0.001</td>\n",
       "    </tr>\n",
       "    <tr>\n",
       "      <th>icu_stay_type_readmit</th>\n",
       "      <td>0.001</td>\n",
       "    </tr>\n",
       "    <tr>\n",
       "      <th>readmission_status</th>\n",
       "      <td>0.000</td>\n",
       "    </tr>\n",
       "    <tr>\n",
       "      <th>hospital_admit_source_ICU to SDU</th>\n",
       "      <td>0.000</td>\n",
       "    </tr>\n",
       "    <tr>\n",
       "      <th>hospital_admit_source_ICU</th>\n",
       "      <td>0.000</td>\n",
       "    </tr>\n",
       "    <tr>\n",
       "      <th>hospital_admit_source_Observation</th>\n",
       "      <td>0.000</td>\n",
       "    </tr>\n",
       "    <tr>\n",
       "      <th>hospital_admit_source_Other</th>\n",
       "      <td>0.000</td>\n",
       "    </tr>\n",
       "    <tr>\n",
       "      <th>hospital_admit_source_Chest Pain Center</th>\n",
       "      <td>0.000</td>\n",
       "    </tr>\n",
       "  </tbody>\n",
       "</table>\n",
       "</div>"
      ],
      "text/plain": [
       "                                            importance\n",
       "feature                                               \n",
       "pre_icu_los_days                                 0.088\n",
       "patient_id                                       0.085\n",
       "bmi                                              0.082\n",
       "weight                                           0.078\n",
       "age                                              0.075\n",
       "height                                           0.066\n",
       "h1_inr                                           0.066\n",
       "icu_id                                           0.062\n",
       "hospital_id                                      0.058\n",
       "h1_glucose                                       0.042\n",
       "h1_lactate                                       0.030\n",
       "h1_potassium                                     0.016\n",
       "h1_creatinine                                    0.016\n",
       "h1_hemaglobin                                    0.015\n",
       "h1_sodium                                        0.015\n",
       "h1_wbc                                           0.014\n",
       "h1_hematocrit                                    0.013\n",
       "h1_platelets                                     0.012\n",
       "icu_type_Med-Surg ICU                            0.011\n",
       "h1_hco3                                          0.011\n",
       "hospital_admit_source_Emergency Department       0.010\n",
       "gender_F                                         0.010\n",
       "gender_M                                         0.010\n",
       "ethnicity_Caucasian                              0.009\n",
       "ethnicity_African American                       0.007\n",
       "elective_surgery                                 0.006\n",
       "icu_type_Neuro ICU                               0.006\n",
       "icu_type_MICU                                    0.006\n",
       "hospital_admit_source_Floor                      0.005\n",
       "hospital_admit_source_Direct Admit               0.005\n",
       "ethnicity_Other/Unknown                          0.005\n",
       "icu_type_CCU-CTICU                               0.005\n",
       "icu_type_Cardiac ICU                             0.005\n",
       "icu_admit_source_Accident & Emergency            0.005\n",
       "icu_admit_source_Floor                           0.005\n",
       "icu_stay_type_transfer                           0.004\n",
       "icu_stay_type_admit                              0.004\n",
       "icu_admit_source_Operating Room / Recovery       0.004\n",
       "icu_type_SICU                                    0.004\n",
       "ethnicity_Hispanic                               0.004\n",
       "icu_type_CSICU                                   0.003\n",
       "icu_type_CTICU                                   0.003\n",
       "hospital_admit_source_Other Hospital             0.002\n",
       "hospital_admit_source_Step-Down Unit (SDU)       0.002\n",
       "hospital_admit_source_Operating Room             0.002\n",
       "ethnicity_Asian                                  0.002\n",
       "icu_admit_source_Other Hospital                  0.002\n",
       "hospital_admit_source_Acute Care/Floor           0.002\n",
       "ethnicity_Native American                        0.001\n",
       "hospital_admit_source_PACU                       0.001\n",
       "hospital_admit_source_Recovery Room              0.001\n",
       "icu_admit_source_Other ICU                       0.001\n",
       "hospital_admit_source_Other ICU                  0.001\n",
       "icu_stay_type_readmit                            0.001\n",
       "readmission_status                               0.000\n",
       "hospital_admit_source_ICU to SDU                 0.000\n",
       "hospital_admit_source_ICU                        0.000\n",
       "hospital_admit_source_Observation                0.000\n",
       "hospital_admit_source_Other                      0.000\n",
       "hospital_admit_source_Chest Pain Center          0.000"
      ]
     },
     "execution_count": 231,
     "metadata": {},
     "output_type": "execute_result"
    }
   ],
   "source": [
    "importances = pd.DataFrame({'feature':X_train.columns,'importance':np.round(random_forest.feature_importances_,3)})\n",
    "importances = importances.sort_values('importance',ascending=False).set_index('feature')\n",
    "importances.head(1000)"
   ]
  },
  {
   "cell_type": "code",
   "execution_count": null,
   "metadata": {},
   "outputs": [],
   "source": [
    "# hd = wids[['d1_diasbp_invasive_max', 'd1_diasbp_invasive_min',\n",
    "# 'd1_diasbp_max', 'd1_diasbp_min', 'd1_diasbp_noninvasive_max',\n",
    "# 'd1_diasbp_noninvasive_min', 'd1_heartrate_max',\n",
    "# 'd1_heartrate_min', 'd1_mbp_invasive_max', 'd1_mbp_invasive_min',\n",
    "# 'd1_mbp_max', 'd1_mbp_min', 'd1_mbp_noninvasive_max',\n",
    "# 'd1_mbp_noninvasive_min', 'd1_resprate_max', 'd1_resprate_min',\n",
    "# 'd1_spo2_max', 'd1_spo2_min', 'd1_sysbp_invasive_max',\n",
    "# 'd1_sysbp_invasive_min', 'd1_sysbp_max', 'd1_sysbp_min',\n",
    "# 'd1_sysbp_noninvasive_max', 'd1_sysbp_noninvasive_min',\n",
    "# 'd1_temp_max', 'd1_temp_min', 'h1_diasbp_invasive_max',\n",
    "# 'h1_diasbp_invasive_min', 'h1_diasbp_max', 'h1_diasbp_min',\n",
    "# 'h1_diasbp_noninvasive_max', 'h1_diasbp_noninvasive_min',\n",
    "# 'h1_heartrate_max', 'h1_heartrate_min', 'h1_mbp_invasive_max',\n",
    "# 'h1_mbp_invasive_min', 'h1_mbp_max', 'h1_mbp_min',\n",
    "# 'h1_mbp_noninvasive_max', 'h1_mbp_noninvasive_min',\n",
    "# 'h1_resprate_max', 'h1_resprate_min', 'h1_spo2_max', 'h1_spo2_min',\n",
    "# 'h1_sysbp_invasive_max', 'h1_sysbp_invasive_min', 'h1_sysbp_max',\n",
    "# 'h1_sysbp_min', 'h1_sysbp_noninvasive_max',\n",
    "# 'h1_sysbp_noninvasive_min', 'h1_temp_max', 'h1_temp_min',\n",
    "# 'd1_albumin_max', 'd1_albumin_min', 'd1_bilirubin_max',\n",
    "# 'd1_bilirubin_min', 'd1_bun_max', 'd1_bun_min', 'd1_calcium_max',\n",
    "# 'd1_calcium_min', 'd1_creatinine_max', 'd1_creatinine_min',\n",
    "# 'd1_glucose_max', 'd1_glucose_min', 'd1_hco3_max', 'd1_hco3_min',\n",
    "# 'd1_hemaglobin_max', 'd1_hemaglobin_min', 'd1_hematocrit_max',\n",
    "# 'd1_hematocrit_min', 'd1_inr_max', 'd1_inr_min', 'd1_lactate_max',\n",
    "# 'd1_lactate_min', 'd1_platelets_max', 'd1_platelets_min',\n",
    "# 'd1_potassium_max', 'd1_potassium_min', 'd1_sodium_max',\n",
    "# 'd1_sodium_min', 'd1_wbc_max', 'd1_wbc_min', 'h1_albumin_max',\n",
    "# 'h1_albumin_min', 'h1_bilirubin_max', 'h1_bilirubin_min',\n",
    "# 'h1_bun_max', 'h1_bun_min', 'h1_calcium_max', 'h1_calcium_min',\n",
    "# 'h1_creatinine_max', 'h1_creatinine_min', 'h1_glucose_max',\n",
    "# 'h1_glucose_min', 'h1_hco3_max', 'h1_hco3_min',\n",
    "# 'h1_hemaglobin_max', 'h1_hemaglobin_min', 'h1_hematocrit_max',\n",
    "# 'h1_hematocrit_min', 'h1_inr_max', 'h1_inr_min', 'h1_lactate_max',\n",
    "# 'h1_lactate_min', 'h1_platelets_max', 'h1_platelets_min',\n",
    "# 'h1_potassium_max', 'h1_potassium_min', 'h1_sodium_max',\n",
    "# 'h1_sodium_min', 'h1_wbc_max', 'h1_wbc_min',\n",
    "# 'd1_arterial_pco2_max', 'd1_arterial_pco2_min',\n",
    "# 'd1_arterial_ph_max', 'd1_arterial_ph_min', 'd1_arterial_po2_max',\n",
    "# 'd1_arterial_po2_min', 'd1_pao2fio2ratio_max',\n",
    "# 'd1_pao2fio2ratio_min', 'h1_arterial_pco2_max',\n",
    "# 'h1_arterial_pco2_min', 'h1_arterial_ph_max', 'h1_arterial_ph_min',\n",
    "# 'h1_arterial_po2_max', 'h1_arterial_po2_min',\n",
    "# 'h1_pao2fio2ratio_max', 'h1_pao2fio2ratio_min']]\n",
    "\n",
    "# hd = hd[hd.columns.drop(hd.filter(regex = 'invasive'))]"
   ]
  }
 ],
 "metadata": {
  "kernelspec": {
   "display_name": "Python 3",
   "language": "python",
   "name": "python3"
  },
  "language_info": {
   "codemirror_mode": {
    "name": "ipython",
    "version": 3
   },
   "file_extension": ".py",
   "mimetype": "text/x-python",
   "name": "python",
   "nbconvert_exporter": "python",
   "pygments_lexer": "ipython3",
   "version": "3.7.3"
  }
 },
 "nbformat": 4,
 "nbformat_minor": 2
}
