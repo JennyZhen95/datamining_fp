{
 "cells": [
  {
   "cell_type": "code",
   "execution_count": 5,
   "metadata": {},
   "outputs": [],
   "source": [
    "def draw_conf_mat(mat):\n",
    "    \n",
    "    \"\"\"\n",
    "    Draw confusion matrix\n",
    "    \n",
    "    Parameters:\n",
    "    ------------------\n",
    "    mat:                ndarray of shape (n_classes, n_classes) \n",
    "                        confusion matrix\n",
    "\n",
    "    \"\"\"\n",
    "    \n",
    "    import matplotlib.pyplot as plt \n",
    "    import seaborn as sns\n",
    "    \n",
    "    fig, ax = plt.subplots(figsize=(10, 10))\n",
    "    sns.heatmap(mat, annot=True, fmt=\"d\",\n",
    "            xticklabels=['0', '1'],\n",
    "            yticklabels=['0', '1'])\n",
    "    plt.ylabel(\"Actual\")\n",
    "    plt.xlabel(\"Predicted\")\n",
    "    \n",
    "    return ax\n",
    "    "
   ]
  },
  {
   "cell_type": "code",
   "execution_count": 14,
   "metadata": {},
   "outputs": [],
   "source": [
    "def draw_roc_curve(y_true, y_proba):\n",
    "    \n",
    "    \"\"\"\n",
    "    Draw baseline and model roc curve\n",
    "    \n",
    "    Parameters:\n",
    "    ------------------\n",
    "    y_true:             array-like of shape (n_samples,) \n",
    "                        True label of target (y)\n",
    "                        \n",
    "    y_proba             array-like of shape (n_samples,)\n",
    "                        The predicted probability of target (y)\n",
    "    \"\"\"\n",
    "    from sklearn.metrics import roc_curve\n",
    "    \n",
    "    base_fpr, base_tpr, _ = roc_curve(y_true, [1 for _ in range(len(y_true))])\n",
    "    model_fpr, model_tpr, _ = roc_curve(y_true, y_proba)\n",
    "    \n",
    "    fig, ax = plt.subplots(figsize=(10, 6))\n",
    "    plt.plot(base_fpr, base_tpr, 'b', label = 'baseline')\n",
    "    plt.plot(model_fpr, model_tpr, 'r', label = 'model')\n",
    "    plt.legend();\n",
    "    plt.xlabel('False Positive Rate'); plt.ylabel('True Positive Rate'); plt.title('ROC Curves');\n",
    "    \n",
    "    return ax"
   ]
  },
  {
   "cell_type": "code",
   "execution_count": 39,
   "metadata": {},
   "outputs": [],
   "source": [
    "def metrics_imbalanced(your_confusion_matrix, y_true, y_proba):\n",
    "    \n",
    "    \"\"\"\n",
    "    Print precision, recall, fallout and auroc score based on the confusion matrix. \n",
    "    \n",
    "    Parameters:\n",
    "    ------------------\n",
    "    your_confusion_matrix:                ndarray of shape (n_classes, n_classes) \n",
    "                                          confusion matrix\n",
    "                                          \n",
    "    y_true:                               array-like of shape (n_samples,) \n",
    "                                          True label of target (y)\n",
    "                                          \n",
    "    y_proba:                              y_proba             array-like of shape (n_samples,)\n",
    "                                          The predicted probability of target (y)\n",
    "    \"\"\"\n",
    "    \n",
    "    from sklearn.metrics import roc_auc_score\n",
    "    \n",
    "    # Model evaluation metrics. \n",
    "    tp = your_confusion_matrix[1,1]\n",
    "    fn = your_confusion_matrix[1,0]\n",
    "    fp = your_confusion_matrix[0,1]\n",
    "    tn = your_confusion_matrix[0,0]\n",
    "    auroc = roc_auc_score(y_true, y_proba)\n",
    "    \n",
    "    print('Precision = %0.3f'%(tp/(tp+fp)))\n",
    "    print('Recall (TPR) = %0.3f'%(tp/(tp+fn)))\n",
    "    print('Fallout (FPR) = %0.3f'%(fp/(fp+tn)))\n",
    "    print('Roc_auc_score = %0.3f'%auroc)\n",
    "    "
   ]
  },
  {
   "cell_type": "code",
   "execution_count": null,
   "metadata": {},
   "outputs": [],
   "source": []
  }
 ],
 "metadata": {
  "kernelspec": {
   "display_name": "Python 3",
   "language": "python",
   "name": "python3"
  },
  "language_info": {
   "codemirror_mode": {
    "name": "ipython",
    "version": 3
   },
   "file_extension": ".py",
   "mimetype": "text/x-python",
   "name": "python",
   "nbconvert_exporter": "python",
   "pygments_lexer": "ipython3",
   "version": "3.6.8"
  }
 },
 "nbformat": 4,
 "nbformat_minor": 2
}
