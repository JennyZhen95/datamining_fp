{
 "cells": [
  {
   "cell_type": "markdown",
   "metadata": {},
   "source": [
    "# Creating a baseline model to assess if our model does better than trival "
   ]
  },
  {
   "cell_type": "code",
   "execution_count": 2,
   "metadata": {},
   "outputs": [
    {
     "name": "stdout",
     "output_type": "stream",
     "text": [
      "Requirement already satisfied: lightgbm in c:\\users\\vamik\\anaconda3\\lib\\site-packages (2.3.1)\n",
      "Requirement already satisfied: numpy in c:\\users\\vamik\\anaconda3\\lib\\site-packages (from lightgbm) (1.16.4)\n",
      "Requirement already satisfied: scikit-learn in c:\\users\\vamik\\anaconda3\\lib\\site-packages (from lightgbm) (0.22.2.post1)\n",
      "Requirement already satisfied: scipy in c:\\users\\vamik\\anaconda3\\lib\\site-packages (from lightgbm) (1.2.1)\n",
      "Requirement already satisfied: joblib>=0.11 in c:\\users\\vamik\\anaconda3\\lib\\site-packages (from scikit-learn->lightgbm) (0.13.2)\n"
     ]
    }
   ],
   "source": [
    "!pip install lightgbm"
   ]
  },
  {
   "cell_type": "code",
   "execution_count": 106,
   "metadata": {},
   "outputs": [],
   "source": [
    "import numpy as np \n",
    "import pandas as pd \n",
    "import seaborn as sns\n",
    "import lightgbm as lgb\n",
    "%matplotlib inline\n",
    "from matplotlib import pyplot as plt\n",
    "from matplotlib import style\n",
    "\n",
    "from sklearn.model_selection import train_test_split\n",
    "from sklearn import linear_model\n",
    "from sklearn.linear_model import LinearRegression\n",
    "from sklearn.ensemble import RandomForestRegressor\n",
    "from sklearn.ensemble import RandomForestClassifier\n",
    "from sklearn.linear_model import Perceptron\n",
    "from sklearn.linear_model import SGDRegressor\n",
    "from sklearn.linear_model import RidgeCV\n",
    "from sklearn.linear_model import Ridge\n",
    "from sklearn.tree import DecisionTreeRegressor\n",
    "from sklearn.neighbors import KNeighborsRegressor\n",
    "from sklearn.svm import SVC, LinearSVC\n",
    "from sklearn.naive_bayes import GaussianNB\n",
    "from sklearn.model_selection import cross_val_score\n",
    "from sklearn.metrics import mean_squared_error as MSE\n",
    "from sklearn.ensemble import GradientBoostingRegressor\n",
    "from sklearn.ensemble import AdaBoostRegressor\n",
    "from sklearn.metrics import r2_score\n",
    "from sklearn.model_selection import GridSearchCV\n",
    "from sklearn.cluster import KMeans\n",
    "from sklearn.model_selection import cross_val_predict\n",
    "from sklearn.metrics import confusion_matrix, precision_score, recall_score, f1_score, roc_auc_score\n",
    "from lightgbm import LGBMClassifier\n",
    "from joblib import dump, load"
   ]
  },
  {
   "cell_type": "markdown",
   "metadata": {},
   "source": [
    "## Reading in the original data"
   ]
  },
  {
   "cell_type": "code",
   "execution_count": 107,
   "metadata": {},
   "outputs": [
    {
     "data": {
      "text/html": [
       "<div>\n",
       "<style scoped>\n",
       "    .dataframe tbody tr th:only-of-type {\n",
       "        vertical-align: middle;\n",
       "    }\n",
       "\n",
       "    .dataframe tbody tr th {\n",
       "        vertical-align: top;\n",
       "    }\n",
       "\n",
       "    .dataframe thead th {\n",
       "        text-align: right;\n",
       "    }\n",
       "</style>\n",
       "<table border=\"1\" class=\"dataframe\">\n",
       "  <thead>\n",
       "    <tr style=\"text-align: right;\">\n",
       "      <th></th>\n",
       "      <th>encounter_id</th>\n",
       "      <th>hospital_id</th>\n",
       "      <th>hospital_death</th>\n",
       "      <th>age</th>\n",
       "      <th>bmi</th>\n",
       "      <th>elective_surgery</th>\n",
       "      <th>ethnicity</th>\n",
       "      <th>gender</th>\n",
       "      <th>height</th>\n",
       "      <th>hospital_admit_source</th>\n",
       "      <th>...</th>\n",
       "      <th>aids</th>\n",
       "      <th>cirrhosis</th>\n",
       "      <th>diabetes_mellitus</th>\n",
       "      <th>hepatic_failure</th>\n",
       "      <th>immunosuppression</th>\n",
       "      <th>leukemia</th>\n",
       "      <th>lymphoma</th>\n",
       "      <th>solid_tumor_with_metastasis</th>\n",
       "      <th>apache_3j_bodysystem</th>\n",
       "      <th>apache_2_bodysystem</th>\n",
       "    </tr>\n",
       "    <tr>\n",
       "      <th>patient_id</th>\n",
       "      <th></th>\n",
       "      <th></th>\n",
       "      <th></th>\n",
       "      <th></th>\n",
       "      <th></th>\n",
       "      <th></th>\n",
       "      <th></th>\n",
       "      <th></th>\n",
       "      <th></th>\n",
       "      <th></th>\n",
       "      <th></th>\n",
       "      <th></th>\n",
       "      <th></th>\n",
       "      <th></th>\n",
       "      <th></th>\n",
       "      <th></th>\n",
       "      <th></th>\n",
       "      <th></th>\n",
       "      <th></th>\n",
       "      <th></th>\n",
       "      <th></th>\n",
       "    </tr>\n",
       "  </thead>\n",
       "  <tbody>\n",
       "    <tr>\n",
       "      <th>25312</th>\n",
       "      <td>66154</td>\n",
       "      <td>118</td>\n",
       "      <td>0</td>\n",
       "      <td>68.0</td>\n",
       "      <td>22.73</td>\n",
       "      <td>0</td>\n",
       "      <td>Caucasian</td>\n",
       "      <td>M</td>\n",
       "      <td>180.3</td>\n",
       "      <td>Floor</td>\n",
       "      <td>...</td>\n",
       "      <td>0.0</td>\n",
       "      <td>0.0</td>\n",
       "      <td>1.0</td>\n",
       "      <td>0.0</td>\n",
       "      <td>0.0</td>\n",
       "      <td>0.0</td>\n",
       "      <td>0.0</td>\n",
       "      <td>0.0</td>\n",
       "      <td>Sepsis</td>\n",
       "      <td>Cardiovascular</td>\n",
       "    </tr>\n",
       "    <tr>\n",
       "      <th>59342</th>\n",
       "      <td>114252</td>\n",
       "      <td>81</td>\n",
       "      <td>0</td>\n",
       "      <td>77.0</td>\n",
       "      <td>27.42</td>\n",
       "      <td>0</td>\n",
       "      <td>Caucasian</td>\n",
       "      <td>F</td>\n",
       "      <td>160.0</td>\n",
       "      <td>Floor</td>\n",
       "      <td>...</td>\n",
       "      <td>0.0</td>\n",
       "      <td>0.0</td>\n",
       "      <td>1.0</td>\n",
       "      <td>0.0</td>\n",
       "      <td>0.0</td>\n",
       "      <td>0.0</td>\n",
       "      <td>0.0</td>\n",
       "      <td>0.0</td>\n",
       "      <td>Respiratory</td>\n",
       "      <td>Respiratory</td>\n",
       "    </tr>\n",
       "    <tr>\n",
       "      <th>50777</th>\n",
       "      <td>119783</td>\n",
       "      <td>118</td>\n",
       "      <td>0</td>\n",
       "      <td>25.0</td>\n",
       "      <td>31.95</td>\n",
       "      <td>0</td>\n",
       "      <td>Caucasian</td>\n",
       "      <td>F</td>\n",
       "      <td>172.7</td>\n",
       "      <td>Emergency Department</td>\n",
       "      <td>...</td>\n",
       "      <td>0.0</td>\n",
       "      <td>0.0</td>\n",
       "      <td>0.0</td>\n",
       "      <td>0.0</td>\n",
       "      <td>0.0</td>\n",
       "      <td>0.0</td>\n",
       "      <td>0.0</td>\n",
       "      <td>0.0</td>\n",
       "      <td>Metabolic</td>\n",
       "      <td>Metabolic</td>\n",
       "    </tr>\n",
       "    <tr>\n",
       "      <th>46918</th>\n",
       "      <td>79267</td>\n",
       "      <td>118</td>\n",
       "      <td>0</td>\n",
       "      <td>81.0</td>\n",
       "      <td>22.64</td>\n",
       "      <td>1</td>\n",
       "      <td>Caucasian</td>\n",
       "      <td>F</td>\n",
       "      <td>165.1</td>\n",
       "      <td>Operating Room</td>\n",
       "      <td>...</td>\n",
       "      <td>0.0</td>\n",
       "      <td>0.0</td>\n",
       "      <td>0.0</td>\n",
       "      <td>0.0</td>\n",
       "      <td>0.0</td>\n",
       "      <td>0.0</td>\n",
       "      <td>0.0</td>\n",
       "      <td>0.0</td>\n",
       "      <td>Cardiovascular</td>\n",
       "      <td>Cardiovascular</td>\n",
       "    </tr>\n",
       "    <tr>\n",
       "      <th>34377</th>\n",
       "      <td>92056</td>\n",
       "      <td>33</td>\n",
       "      <td>0</td>\n",
       "      <td>19.0</td>\n",
       "      <td>NaN</td>\n",
       "      <td>0</td>\n",
       "      <td>Caucasian</td>\n",
       "      <td>M</td>\n",
       "      <td>188.0</td>\n",
       "      <td>NaN</td>\n",
       "      <td>...</td>\n",
       "      <td>0.0</td>\n",
       "      <td>0.0</td>\n",
       "      <td>0.0</td>\n",
       "      <td>0.0</td>\n",
       "      <td>0.0</td>\n",
       "      <td>0.0</td>\n",
       "      <td>0.0</td>\n",
       "      <td>0.0</td>\n",
       "      <td>Trauma</td>\n",
       "      <td>Trauma</td>\n",
       "    </tr>\n",
       "  </tbody>\n",
       "</table>\n",
       "<p>5 rows × 185 columns</p>\n",
       "</div>"
      ],
      "text/plain": [
       "            encounter_id  hospital_id  hospital_death   age    bmi  \\\n",
       "patient_id                                                           \n",
       "25312              66154          118               0  68.0  22.73   \n",
       "59342             114252           81               0  77.0  27.42   \n",
       "50777             119783          118               0  25.0  31.95   \n",
       "46918              79267          118               0  81.0  22.64   \n",
       "34377              92056           33               0  19.0    NaN   \n",
       "\n",
       "            elective_surgery  ethnicity gender  height hospital_admit_source  \\\n",
       "patient_id                                                                     \n",
       "25312                      0  Caucasian      M   180.3                 Floor   \n",
       "59342                      0  Caucasian      F   160.0                 Floor   \n",
       "50777                      0  Caucasian      F   172.7  Emergency Department   \n",
       "46918                      1  Caucasian      F   165.1        Operating Room   \n",
       "34377                      0  Caucasian      M   188.0                   NaN   \n",
       "\n",
       "            ... aids  cirrhosis diabetes_mellitus hepatic_failure  \\\n",
       "patient_id  ...                                                     \n",
       "25312       ...  0.0        0.0               1.0             0.0   \n",
       "59342       ...  0.0        0.0               1.0             0.0   \n",
       "50777       ...  0.0        0.0               0.0             0.0   \n",
       "46918       ...  0.0        0.0               0.0             0.0   \n",
       "34377       ...  0.0        0.0               0.0             0.0   \n",
       "\n",
       "            immunosuppression  leukemia  lymphoma  \\\n",
       "patient_id                                          \n",
       "25312                     0.0       0.0       0.0   \n",
       "59342                     0.0       0.0       0.0   \n",
       "50777                     0.0       0.0       0.0   \n",
       "46918                     0.0       0.0       0.0   \n",
       "34377                     0.0       0.0       0.0   \n",
       "\n",
       "            solid_tumor_with_metastasis  apache_3j_bodysystem  \\\n",
       "patient_id                                                      \n",
       "25312                               0.0                Sepsis   \n",
       "59342                               0.0           Respiratory   \n",
       "50777                               0.0             Metabolic   \n",
       "46918                               0.0        Cardiovascular   \n",
       "34377                               0.0                Trauma   \n",
       "\n",
       "            apache_2_bodysystem  \n",
       "patient_id                       \n",
       "25312            Cardiovascular  \n",
       "59342               Respiratory  \n",
       "50777                 Metabolic  \n",
       "46918            Cardiovascular  \n",
       "34377                    Trauma  \n",
       "\n",
       "[5 rows x 185 columns]"
      ]
     },
     "execution_count": 107,
     "metadata": {},
     "output_type": "execute_result"
    }
   ],
   "source": [
    "wids = pd.read_csv(\"../../data/training_v2.csv\", index_col = 'patient_id')\n",
    "wids.head()"
   ]
  },
  {
   "cell_type": "markdown",
   "metadata": {},
   "source": [
    "## Dropping the columns that have over 70% missing values because we don't want to run any imputation on our baseline model "
   ]
  },
  {
   "cell_type": "code",
   "execution_count": 62,
   "metadata": {},
   "outputs": [
    {
     "name": "stdout",
     "output_type": "stream",
     "text": [
      "25                fio2_apache\n",
      "35               paco2_apache\n",
      "36        paco2_for_ph_apache\n",
      "37                pao2_apache\n",
      "38                  ph_apache\n",
      "45     d1_diasbp_invasive_max\n",
      "46     d1_diasbp_invasive_min\n",
      "53        d1_mbp_invasive_max\n",
      "54        d1_mbp_invasive_min\n",
      "63      d1_sysbp_invasive_max\n",
      "64      d1_sysbp_invasive_min\n",
      "71     h1_diasbp_invasive_max\n",
      "72     h1_diasbp_invasive_min\n",
      "79        h1_mbp_invasive_max\n",
      "80        h1_mbp_invasive_min\n",
      "89      h1_sysbp_invasive_max\n",
      "90      h1_sysbp_invasive_min\n",
      "117            d1_lactate_max\n",
      "118            d1_lactate_min\n",
      "127            h1_albumin_max\n",
      "128            h1_albumin_min\n",
      "129          h1_bilirubin_max\n",
      "130          h1_bilirubin_min\n",
      "131                h1_bun_max\n",
      "132                h1_bun_min\n",
      "133            h1_calcium_max\n",
      "134            h1_calcium_min\n",
      "135         h1_creatinine_max\n",
      "136         h1_creatinine_min\n",
      "139               h1_hco3_max\n",
      "140               h1_hco3_min\n",
      "141         h1_hemaglobin_max\n",
      "142         h1_hemaglobin_min\n",
      "143         h1_hematocrit_max\n",
      "144         h1_hematocrit_min\n",
      "147            h1_lactate_max\n",
      "148            h1_lactate_min\n",
      "149          h1_platelets_max\n",
      "150          h1_platelets_min\n",
      "151          h1_potassium_max\n",
      "152          h1_potassium_min\n",
      "153             h1_sodium_max\n",
      "154             h1_sodium_min\n",
      "155                h1_wbc_max\n",
      "156                h1_wbc_min\n",
      "163      d1_pao2fio2ratio_max\n",
      "164      d1_pao2fio2ratio_min\n",
      "165      h1_arterial_pco2_max\n",
      "166      h1_arterial_pco2_min\n",
      "167        h1_arterial_ph_max\n",
      "168        h1_arterial_ph_min\n",
      "169       h1_arterial_po2_max\n",
      "170       h1_arterial_po2_min\n",
      "171      h1_pao2fio2ratio_max\n",
      "172      h1_pao2fio2ratio_min\n",
      "Name: index, dtype: object\n"
     ]
    }
   ],
   "source": [
    "# Dropping columns that have over than 70% missing values. \n",
    "missing_raw = pd.DataFrame(wids.isna().sum()/wids.shape[0]).reset_index()\n",
    "\n",
    "cols_drop = missing_raw.loc[missing_raw[0]>0.7, 'index']\n",
    "print(cols_drop)\n",
    "\n",
    "wids.drop(cols_drop, axis=1, inplace=True)"
   ]
  },
  {
   "cell_type": "code",
   "execution_count": 108,
   "metadata": {},
   "outputs": [],
   "source": [
    "X = wids.drop('hospital_death', axis=1)\n",
    "y = wids['hospital_death']"
   ]
  },
  {
   "cell_type": "code",
   "execution_count": 109,
   "metadata": {},
   "outputs": [],
   "source": [
    "X1 = pd.get_dummies(X)"
   ]
  },
  {
   "cell_type": "code",
   "execution_count": 110,
   "metadata": {},
   "outputs": [
    {
     "name": "stdout",
     "output_type": "stream",
     "text": [
      "(73370, 236) (18343, 236) (73370,) (18343,)\n"
     ]
    }
   ],
   "source": [
    "X_train, X_test, y_train, y_test = train_test_split(X1, y, test_size = 0.2, random_state = 30, stratify = y)\n",
    "print(X_train.shape, X_test.shape, y_train.shape, y_test.shape)"
   ]
  },
  {
   "cell_type": "markdown",
   "metadata": {},
   "source": [
    "#  Using LGBM as our baseline model"
   ]
  },
  {
   "cell_type": "code",
   "execution_count": 9,
   "metadata": {},
   "outputs": [
    {
     "data": {
      "text/plain": [
       "0        0\n",
       "1        0\n",
       "2        0\n",
       "3        0\n",
       "4        0\n",
       "        ..\n",
       "18338    0\n",
       "18339    0\n",
       "18340    0\n",
       "18341    0\n",
       "18342    0\n",
       "Length: 18343, dtype: int64"
      ]
     },
     "execution_count": 9,
     "metadata": {},
     "output_type": "execute_result"
    }
   ],
   "source": [
    "# train\n",
    "model_full = lgb.LGBMClassifier(boosting_type='gbdt', objective='binary', num_leaves=600,\n",
    "                                learning_rate=0.1, n_estimators=50, reg_lambda=0.2)\n",
    "\n",
    "model_full.fit(X_train, y_train)\n",
    "y_pred = pd.Series(model_full.predict(X_test))\n",
    "y_pred"
   ]
  },
  {
   "cell_type": "code",
   "execution_count": 10,
   "metadata": {},
   "outputs": [
    {
     "data": {
      "text/plain": [
       "array([0.43711522, 0.4291958 , 0.44493783, 0.43581826])"
      ]
     },
     "execution_count": 10,
     "metadata": {},
     "output_type": "execute_result"
    }
   ],
   "source": [
    "scores = cross_val_score(model_full, X_train, y_train, cv = 4, scoring = 'f1')\n",
    "scores"
   ]
  },
  {
   "cell_type": "code",
   "execution_count": 11,
   "metadata": {},
   "outputs": [
    {
     "data": {
      "text/plain": [
       "array([[16571,   189],\n",
       "       [ 1139,   444]])"
      ]
     },
     "execution_count": 11,
     "metadata": {},
     "output_type": "execute_result"
    }
   ],
   "source": [
    "cm = confusion_matrix(y_test, y_pred)\n",
    "cm"
   ]
  },
  {
   "cell_type": "code",
   "execution_count": 13,
   "metadata": {},
   "outputs": [
    {
     "name": "stdout",
     "output_type": "stream",
     "text": [
      "Precision Score: 0.7014218009478673\n",
      "Recall Score: 0.2804801010739103\n",
      "F1 Score: 0.4007220216606498\n"
     ]
    }
   ],
   "source": [
    "print(\"Precision Score:\", precision_score(y_test, y_pred))\n",
    "print(\"Recall Score:\",recall_score(y_test, y_pred))\n",
    "print(\"F1 Score:\",f1_score(y_test, y_pred))"
   ]
  },
  {
   "cell_type": "code",
   "execution_count": 14,
   "metadata": {},
   "outputs": [
    {
     "name": "stdout",
     "output_type": "stream",
     "text": [
      "[[0.97909894 0.02090106]\n",
      " [0.92095397 0.07904603]\n",
      " [0.99856799 0.00143201]\n",
      " ...\n",
      " [0.98453357 0.01546643]\n",
      " [0.99657448 0.00342552]\n",
      " [0.99564746 0.00435254]]\n"
     ]
    }
   ],
   "source": [
    "y_prob_pred = model_full.predict_proba(X_test)\n",
    "print(y_prob_pred)"
   ]
  },
  {
   "cell_type": "code",
   "execution_count": 15,
   "metadata": {},
   "outputs": [
    {
     "name": "stdout",
     "output_type": "stream",
     "text": [
      "ROC-AUC-Score: 0.8934141014990722\n"
     ]
    }
   ],
   "source": [
    "y_prob_pred = y_prob_pred[:,1]\n",
    "r_a_score = roc_auc_score(y_test, y_prob_pred)\n",
    "print(\"ROC-AUC-Score:\", r_a_score)"
   ]
  },
  {
   "cell_type": "markdown",
   "metadata": {},
   "source": [
    "### Model Function"
   ]
  },
  {
   "cell_type": "code",
   "execution_count": 111,
   "metadata": {},
   "outputs": [],
   "source": [
    "# create a dictionary of classifers with the hyperparameters you would like to try \n",
    "classifiers = {'LGB': LGBMClassifier(boosting_type='gbdt', objective='binary', num_leaves=600,\n",
    "                                learning_rate=0.1, n_estimators=50, reg_lambda=0.2)}"
   ]
  },
  {
   "cell_type": "code",
   "execution_count": 112,
   "metadata": {},
   "outputs": [],
   "source": [
    "selected_clfs = ['LGB']"
   ]
  },
  {
   "cell_type": "code",
   "execution_count": 113,
   "metadata": {},
   "outputs": [
    {
     "name": "stdout",
     "output_type": "stream",
     "text": [
      "-------- classifier being run is LGB ---------\n",
      "-------- saving the the model ---------\n",
      "-------- computing y_predict, y_prob, y_train_predict ---------\n",
      "-------- creating the confusion matrix ---------\n",
      "-------- calculating the metrics ---------\n",
      "Cross Validation is on 4 folds.\n",
      "-------- append values to the model matrix  ---------\n"
     ]
    }
   ],
   "source": [
    "clf_matrix = pd.DataFrame(columns = ['model', 'precision_test', 'recall_test', 'FPR_test', 'AUROC_test',\n",
    "                                     'f1_test', 'f1_train', 'f1_CV'])\n",
    "\n",
    "# for every classifier in the selected classifiers list\n",
    "for idx, classifier in enumerate(selected_clfs):\n",
    "\n",
    "    # get the classifier and hyperparameters from the model\n",
    "    clf = classifiers[classifier]\n",
    "\n",
    "    # fit the model \n",
    "    clf.fit(X_train,y_train)\n",
    "    print(f\"-------- classifier being run is {classifier} ---------\")\n",
    "\n",
    "    print(f\"-------- saving the the model ---------\")\n",
    "    # Write the model to file\n",
    "    dump(clf, '{}.joblib'.format(classifier)) \n",
    "\n",
    "    print(f\"-------- computing y_predict, y_prob, y_train_predict ---------\")\n",
    "    # prediction of y based on X_test\n",
    "    y_predict = clf.predict(X_test)\n",
    "    # prediction of y probability based on X_test\n",
    "    y_proba = clf.predict_proba(X_test)[:,1]\n",
    "    # prediction of y based on X_train\n",
    "    y_train_predict = clf.predict(X_train)\n",
    "\n",
    "    print(f\"-------- creating the confusion matrix ---------\") \n",
    "    # confusion matrix \n",
    "    cmat = confusion_matrix(y_test, y_predict)\n",
    "    # tp, fn, fp, tn\n",
    "    tp = cmat[1,1]\n",
    "    fn = cmat[1,0]\n",
    "    fp = cmat[0,1]\n",
    "    tn = cmat[0,0]\n",
    "\n",
    "    print(f\"-------- calculating the metrics ---------\") \n",
    "    #precision score on test\n",
    "    p_score_test = precision_score(y_test, y_predict)\n",
    "\n",
    "    #recall score on test\n",
    "    r_score_test = tp/(tp+fn) \n",
    "\n",
    "    #FPR score on test\n",
    "    fpr_test = fp/(fp+tn)\n",
    "\n",
    "    #AUROC score on test\n",
    "    auroc_test = roc_auc_score(y_test, y_proba)\n",
    "\n",
    "    #f1 score on test\n",
    "    f1_test = f1_score(y_test, y_predict)\n",
    "\n",
    "    #f1 score on train\n",
    "    f1_train = f1_score(y_train, y_train_predict)\n",
    "\n",
    "    #f1 score on cross validation \n",
    "    k_fold = 4\n",
    "    f1_cv = cross_val_score(clf, X_train, y_train, cv=k_fold, scoring = 'f1').mean()\n",
    "    print(f\"Cross Validation is on {k_fold} folds.\")\n",
    "\n",
    "    print(f\"-------- append values to the model matrix  ---------\") \n",
    "\n",
    "    # append to matrix\n",
    "    df2 = pd.DataFrame([[clf,p_score_test,r_score_test, fpr_test, auroc_test, f1_test, f1_train, f1_cv]], columns = ['model', 'precision_test', 'recall_test', 'FPR_test', 'AUROC_test',\n",
    "                                     'f1_test', 'f1_train', 'f1_CV'])\n",
    "    \n",
    "    clf_matrix = pd.concat([df2, clf_matrix])\n"
   ]
  },
  {
   "cell_type": "code",
   "execution_count": 114,
   "metadata": {},
   "outputs": [
    {
     "data": {
      "text/html": [
       "<div>\n",
       "<style scoped>\n",
       "    .dataframe tbody tr th:only-of-type {\n",
       "        vertical-align: middle;\n",
       "    }\n",
       "\n",
       "    .dataframe tbody tr th {\n",
       "        vertical-align: top;\n",
       "    }\n",
       "\n",
       "    .dataframe thead th {\n",
       "        text-align: right;\n",
       "    }\n",
       "</style>\n",
       "<table border=\"1\" class=\"dataframe\">\n",
       "  <thead>\n",
       "    <tr style=\"text-align: right;\">\n",
       "      <th></th>\n",
       "      <th>model</th>\n",
       "      <th>precision_test</th>\n",
       "      <th>recall_test</th>\n",
       "      <th>FPR_test</th>\n",
       "      <th>AUROC_test</th>\n",
       "      <th>f1_test</th>\n",
       "      <th>f1_train</th>\n",
       "      <th>f1_CV</th>\n",
       "    </tr>\n",
       "  </thead>\n",
       "  <tbody>\n",
       "    <tr>\n",
       "      <th>0</th>\n",
       "      <td>LGBMClassifier(boosting_type='gbdt', class_wei...</td>\n",
       "      <td>0.70178</td>\n",
       "      <td>0.2988</td>\n",
       "      <td>0.011993</td>\n",
       "      <td>0.894313</td>\n",
       "      <td>0.41914</td>\n",
       "      <td>0.999684</td>\n",
       "      <td>0.439461</td>\n",
       "    </tr>\n",
       "  </tbody>\n",
       "</table>\n",
       "</div>"
      ],
      "text/plain": [
       "                                               model  precision_test  \\\n",
       "0  LGBMClassifier(boosting_type='gbdt', class_wei...         0.70178   \n",
       "\n",
       "   recall_test  FPR_test  AUROC_test  f1_test  f1_train     f1_CV  \n",
       "0       0.2988  0.011993    0.894313  0.41914  0.999684  0.439461  "
      ]
     },
     "execution_count": 114,
     "metadata": {},
     "output_type": "execute_result"
    }
   ],
   "source": [
    "# we are validating the scores of our original baseline against the scores we pull in our function above. \n",
    "clf_matrix\n",
    "# scores match!!"
   ]
  },
  {
   "cell_type": "code",
   "execution_count": 130,
   "metadata": {},
   "outputs": [],
   "source": [
    "def draw_conf_mat(mat):\n",
    "    \n",
    "    \"\"\"\n",
    "    Draw confusion matrix\n",
    "    \n",
    "    Parameters:\n",
    "    ------------------\n",
    "    mat:                ndarray of shape (n_classes, n_classes) \n",
    "                        confusion matrix\n",
    "\n",
    "    \"\"\"\n",
    "    \n",
    "    import matplotlib.pyplot as plt \n",
    "    import seaborn as sns\n",
    "    \n",
    "    fig, ax = plt.subplots(figsize=(10, 10))\n",
    "    sns.heatmap(mat, annot=True, fmt=\"d\",\n",
    "            xticklabels=['0', '1'],\n",
    "            yticklabels=['0', '1'])\n",
    "    plt.ylabel(\"Actual\")\n",
    "    plt.xlabel(\"Predicted\")\n",
    "    \n",
    "    return ax"
   ]
  },
  {
   "cell_type": "code",
   "execution_count": 131,
   "metadata": {},
   "outputs": [
    {
     "name": "stdout",
     "output_type": "stream",
     "text": [
      "LGB\n"
     ]
    },
    {
     "data": {
      "image/png": "[encoded data removed]",
      "text/plain": [
       "<Figure size 720x720 with 2 Axes>"
      ]
     },
     "metadata": {
      "needs_background": "light"
     },
     "output_type": "display_data"
    }
   ],
   "source": [
    "# Draw confusion matrix for each model \n",
    "for classifier in selected_clfs:\n",
    "\n",
    "  # Load model saved\n",
    "  clf = load('{}.joblib'.format(classifier)) \n",
    "\n",
    "  # Predict y based on X_test\n",
    "  y_predict = clf.predict(X_test)\n",
    "\n",
    "  # confusion matrix\n",
    "  cm = confusion_matrix(y_test, y_predict)\n",
    "\n",
    "  # Draw\n",
    "  print(classifier)\n",
    "  draw_conf_mat(cm)\n"
   ]
  },
  {
   "cell_type": "markdown",
   "metadata": {},
   "source": [
    "# Kaggle Submission - Looking at our baseline with a holdout set"
   ]
  },
  {
   "cell_type": "code",
   "execution_count": 81,
   "metadata": {},
   "outputs": [
    {
     "data": {
      "text/plain": [
       "(39308, 186)"
      ]
     },
     "execution_count": 81,
     "metadata": {},
     "output_type": "execute_result"
    }
   ],
   "source": [
    "# testing the holdout data using our baseline model\n",
    "wids_holdout = pd.read_csv(\".../../data/unlabeled.csv\")\n",
    "wids_holdout.shape"
   ]
  },
  {
   "cell_type": "code",
   "execution_count": 82,
   "metadata": {},
   "outputs": [],
   "source": [
    "encounter_id = wids_holdout['encounter_id']"
   ]
  },
  {
   "cell_type": "code",
   "execution_count": 67,
   "metadata": {},
   "outputs": [],
   "source": [
    "# get dummies\n",
    "wids_holdout = pd.get_dummies(wids_holdout)"
   ]
  },
  {
   "cell_type": "code",
   "execution_count": 87,
   "metadata": {},
   "outputs": [
    {
     "name": "stdout",
     "output_type": "stream",
     "text": [
      "(73370, 179)\n",
      "(39308, 186)\n"
     ]
    }
   ],
   "source": [
    "print(X_train.shape)\n",
    "print(wids_holdout.shape)"
   ]
  },
  {
   "cell_type": "code",
   "execution_count": 88,
   "metadata": {},
   "outputs": [
    {
     "data": {
      "text/plain": [
       "['apache_2_bodysystem_Gastrointestinal',\n",
       " 'apache_2_bodysystem_Respiratory',\n",
       " 'ethnicity_Other/Unknown',\n",
       " 'ethnicity_Hispanic',\n",
       " 'icu_admit_source_Floor',\n",
       " 'ethnicity_Asian',\n",
       " 'apache_3j_bodysystem_Musculoskeletal/Skin',\n",
       " 'hospital_admit_source_Other ICU',\n",
       " 'hospital_admit_source_ICU to SDU',\n",
       " 'apache_3j_bodysystem_Respiratory',\n",
       " 'apache_2_bodysystem_Metabolic',\n",
       " 'apache_2_bodysystem_Cardiovascular',\n",
       " 'icu_admit_source_Other Hospital',\n",
       " 'apache_2_bodysystem_Haematologic',\n",
       " 'apache_3j_bodysystem_Sepsis',\n",
       " 'hospital_admit_source_Emergency Department',\n",
       " 'icu_type_Cardiac ICU',\n",
       " 'icu_type_CCU-CTICU',\n",
       " 'apache_3j_bodysystem_Cardiovascular',\n",
       " 'ethnicity_Caucasian',\n",
       " 'apache_2_bodysystem_Renal/Genitourinary',\n",
       " 'icu_type_CTICU',\n",
       " 'ethnicity_African American',\n",
       " 'icu_type_CSICU',\n",
       " 'icu_admit_source_Other ICU',\n",
       " 'ethnicity_Native American',\n",
       " 'hospital_admit_source_Acute Care/Floor',\n",
       " 'hospital_admit_source_Direct Admit',\n",
       " 'apache_3j_bodysystem_Trauma',\n",
       " 'apache_2_bodysystem_Undefined diagnoses',\n",
       " 'apache_3j_bodysystem_Metabolic',\n",
       " 'hospital_admit_source_Other',\n",
       " 'apache_3j_bodysystem_Genitourinary',\n",
       " 'gender_M',\n",
       " 'hospital_admit_source_Step-Down Unit (SDU)',\n",
       " 'hospital_admit_source_PACU',\n",
       " 'icu_stay_type_readmit',\n",
       " 'hospital_admit_source_Chest Pain Center',\n",
       " 'apache_3j_bodysystem_Hematological',\n",
       " 'icu_type_Med-Surg ICU',\n",
       " 'gender_F',\n",
       " 'icu_type_Neuro ICU',\n",
       " 'apache_3j_bodysystem_Neurological',\n",
       " 'icu_stay_type_admit',\n",
       " 'icu_admit_source_Operating Room / Recovery',\n",
       " 'hospital_admit_source_Operating Room',\n",
       " 'apache_3j_bodysystem_Gynecological',\n",
       " 'apache_3j_bodysystem_Gastrointestinal',\n",
       " 'hospital_admit_source_ICU',\n",
       " 'apache_2_bodysystem_Neurologic',\n",
       " 'hospital_admit_source_Floor',\n",
       " 'hospital_admit_source_Other Hospital',\n",
       " 'icu_type_MICU',\n",
       " 'apache_2_bodysystem_Trauma',\n",
       " 'icu_type_SICU',\n",
       " 'apache_2_bodysystem_Undefined Diagnoses',\n",
       " 'icu_admit_source_Accident & Emergency',\n",
       " 'icu_stay_type_transfer',\n",
       " 'hospital_admit_source_Recovery Room']"
      ]
     },
     "execution_count": 88,
     "metadata": {},
     "output_type": "execute_result"
    }
   ],
   "source": [
    "# Check the columns match between X_train and X_wids\n",
    "list(set(X_train) - set(wids_holdout))"
   ]
  },
  {
   "cell_type": "code",
   "execution_count": 89,
   "metadata": {},
   "outputs": [
    {
     "data": {
      "text/plain": [
       "['h1_creatinine_max',\n",
       " 'd1_lactate_min',\n",
       " 'd1_sysbp_invasive_max',\n",
       " 'h1_bilirubin_max',\n",
       " 'h1_pao2fio2ratio_min',\n",
       " 'h1_sysbp_invasive_max',\n",
       " 'h1_wbc_min',\n",
       " 'h1_hemaglobin_min',\n",
       " 'h1_hco3_min',\n",
       " 'h1_potassium_max',\n",
       " 'h1_calcium_max',\n",
       " 'h1_sysbp_invasive_min',\n",
       " 'h1_wbc_max',\n",
       " 'icu_stay_type',\n",
       " 'icu_admit_source',\n",
       " 'd1_sysbp_invasive_min',\n",
       " 'h1_bun_min',\n",
       " 'h1_bun_max',\n",
       " 'hospital_admit_source',\n",
       " 'h1_hematocrit_min',\n",
       " 'h1_bilirubin_min',\n",
       " 'd1_diasbp_invasive_max',\n",
       " 'encounter_id',\n",
       " 'h1_sodium_max',\n",
       " 'd1_mbp_invasive_min',\n",
       " 'gender',\n",
       " 'ph_apache',\n",
       " 'd1_diasbp_invasive_min',\n",
       " 'h1_arterial_pco2_max',\n",
       " 'h1_arterial_pco2_min',\n",
       " 'fio2_apache',\n",
       " 'h1_platelets_max',\n",
       " 'h1_hematocrit_max',\n",
       " 'paco2_for_ph_apache',\n",
       " 'd1_mbp_invasive_max',\n",
       " 'h1_calcium_min',\n",
       " 'h1_potassium_min',\n",
       " 'd1_pao2fio2ratio_min',\n",
       " 'hospital_death',\n",
       " 'h1_hco3_max',\n",
       " 'h1_arterial_ph_max',\n",
       " 'ethnicity',\n",
       " 'apache_3j_bodysystem',\n",
       " 'h1_lactate_max',\n",
       " 'h1_platelets_min',\n",
       " 'h1_arterial_po2_min',\n",
       " 'icu_type',\n",
       " 'h1_albumin_max',\n",
       " 'paco2_apache',\n",
       " 'h1_pao2fio2ratio_max',\n",
       " 'h1_diasbp_invasive_min',\n",
       " 'h1_arterial_ph_min',\n",
       " 'patient_id',\n",
       " 'pao2_apache',\n",
       " 'h1_diasbp_invasive_max',\n",
       " 'd1_pao2fio2ratio_max',\n",
       " 'h1_albumin_min',\n",
       " 'h1_sodium_min',\n",
       " 'h1_arterial_po2_max',\n",
       " 'h1_mbp_invasive_max',\n",
       " 'apache_2_bodysystem',\n",
       " 'd1_lactate_max',\n",
       " 'h1_hemaglobin_max',\n",
       " 'h1_mbp_invasive_min',\n",
       " 'h1_creatinine_min',\n",
       " 'h1_lactate_min']"
      ]
     },
     "execution_count": 89,
     "metadata": {},
     "output_type": "execute_result"
    }
   ],
   "source": [
    "list(set(wids_holdout) - set(X_train))"
   ]
  },
  {
   "cell_type": "code",
   "execution_count": 90,
   "metadata": {},
   "outputs": [
    {
     "name": "stderr",
     "output_type": "stream",
     "text": [
      "/anaconda3/lib/python3.6/site-packages/pandas/core/frame.py:3997: SettingWithCopyWarning: \n",
      "A value is trying to be set on a copy of a slice from a DataFrame\n",
      "\n",
      "See the caveats in the documentation: https://pandas.pydata.org/pandas-docs/stable/user_guide/indexing.html#returning-a-view-versus-a-copy\n",
      "  errors=errors,\n"
     ]
    }
   ],
   "source": [
    "# Drop extra from X_train\n",
    "wids_holdout.drop(list(set(wids_holdout) - set(X_train)), axis=1, inplace=True)\n",
    "X_train.drop(list(set(X_train) - set(wids_holdout)), axis=1, inplace=True)"
   ]
  },
  {
   "cell_type": "code",
   "execution_count": 101,
   "metadata": {},
   "outputs": [
    {
     "data": {
      "text/plain": [
       "LGBMClassifier(boosting_type='gbdt', class_weight=None, colsample_bytree=1.0,\n",
       "               importance_type='split', learning_rate=0.1, max_depth=-1,\n",
       "               min_child_samples=20, min_child_weight=0.001, min_split_gain=0.0,\n",
       "               n_estimators=50, n_jobs=-1, num_leaves=600, objective='binary',\n",
       "               random_state=1, reg_alpha=0.0, reg_lambda=0.2, silent=True,\n",
       "               subsample=1.0, subsample_for_bin=200000, subsample_freq=0)"
      ]
     },
     "execution_count": 101,
     "metadata": {},
     "output_type": "execute_result"
    }
   ],
   "source": [
    "# Retrain model\n",
    "lgb = LGBMClassifier(boosting_type='gbdt', objective='binary', num_leaves=600,\n",
    "                                learning_rate=0.1, n_estimators=50, reg_lambda=0.2, random_state=1)\n",
    "lgb.fit(X_train, y_train)"
   ]
  },
  {
   "cell_type": "code",
   "execution_count": 102,
   "metadata": {},
   "outputs": [],
   "source": [
    "results = lgb.predict_proba(wids_holdout)"
   ]
  },
  {
   "cell_type": "code",
   "execution_count": 103,
   "metadata": {},
   "outputs": [],
   "source": [
    "submission = pd.DataFrame({'encounter_id': np.array(encounter_id), \n",
    "                           'hospital_death': results[:,1]})"
   ]
  },
  {
   "cell_type": "code",
   "execution_count": 104,
   "metadata": {},
   "outputs": [],
   "source": [
    "submission.to_csv(\"uchicago_submission5.csv\", index = False)"
   ]
  },
  {
   "cell_type": "code",
   "execution_count": 105,
   "metadata": {},
   "outputs": [
    {
     "data": {
      "text/html": [
       "<div>\n",
       "<style scoped>\n",
       "    .dataframe tbody tr th:only-of-type {\n",
       "        vertical-align: middle;\n",
       "    }\n",
       "\n",
       "    .dataframe tbody tr th {\n",
       "        vertical-align: top;\n",
       "    }\n",
       "\n",
       "    .dataframe thead th {\n",
       "        text-align: right;\n",
       "    }\n",
       "</style>\n",
       "<table border=\"1\" class=\"dataframe\">\n",
       "  <thead>\n",
       "    <tr style=\"text-align: right;\">\n",
       "      <th></th>\n",
       "      <th>encounter_id</th>\n",
       "      <th>hospital_death</th>\n",
       "    </tr>\n",
       "  </thead>\n",
       "  <tbody>\n",
       "    <tr>\n",
       "      <th>0</th>\n",
       "      <td>2</td>\n",
       "      <td>0.007382</td>\n",
       "    </tr>\n",
       "    <tr>\n",
       "      <th>1</th>\n",
       "      <td>5</td>\n",
       "      <td>0.010128</td>\n",
       "    </tr>\n",
       "    <tr>\n",
       "      <th>2</th>\n",
       "      <td>7</td>\n",
       "      <td>0.001583</td>\n",
       "    </tr>\n",
       "    <tr>\n",
       "      <th>3</th>\n",
       "      <td>8</td>\n",
       "      <td>0.049791</td>\n",
       "    </tr>\n",
       "    <tr>\n",
       "      <th>4</th>\n",
       "      <td>10</td>\n",
       "      <td>0.223070</td>\n",
       "    </tr>\n",
       "    <tr>\n",
       "      <th>...</th>\n",
       "      <td>...</td>\n",
       "      <td>...</td>\n",
       "    </tr>\n",
       "    <tr>\n",
       "      <th>39303</th>\n",
       "      <td>131035</td>\n",
       "      <td>0.001012</td>\n",
       "    </tr>\n",
       "    <tr>\n",
       "      <th>39304</th>\n",
       "      <td>131037</td>\n",
       "      <td>0.010658</td>\n",
       "    </tr>\n",
       "    <tr>\n",
       "      <th>39305</th>\n",
       "      <td>131039</td>\n",
       "      <td>0.064701</td>\n",
       "    </tr>\n",
       "    <tr>\n",
       "      <th>39306</th>\n",
       "      <td>131041</td>\n",
       "      <td>0.002455</td>\n",
       "    </tr>\n",
       "    <tr>\n",
       "      <th>39307</th>\n",
       "      <td>131050</td>\n",
       "      <td>0.074103</td>\n",
       "    </tr>\n",
       "  </tbody>\n",
       "</table>\n",
       "<p>39308 rows × 2 columns</p>\n",
       "</div>"
      ],
      "text/plain": [
       "       encounter_id  hospital_death\n",
       "0                 2        0.007382\n",
       "1                 5        0.010128\n",
       "2                 7        0.001583\n",
       "3                 8        0.049791\n",
       "4                10        0.223070\n",
       "...             ...             ...\n",
       "39303        131035        0.001012\n",
       "39304        131037        0.010658\n",
       "39305        131039        0.064701\n",
       "39306        131041        0.002455\n",
       "39307        131050        0.074103\n",
       "\n",
       "[39308 rows x 2 columns]"
      ]
     },
     "execution_count": 105,
     "metadata": {},
     "output_type": "execute_result"
    }
   ],
   "source": [
    "submission"
   ]
  },
  {
   "cell_type": "code",
   "execution_count": null,
   "metadata": {},
   "outputs": [],
   "source": []
  }
 ],
 "metadata": {
  "kernelspec": {
   "display_name": "Python 3",
   "language": "python",
   "name": "python3"
  },
  "language_info": {
   "codemirror_mode": {
    "name": "ipython",
    "version": 3
   },
   "file_extension": ".py",
   "mimetype": "text/x-python",
   "name": "python",
   "nbconvert_exporter": "python",
   "pygments_lexer": "ipython3",
   "version": "3.7.3"
  }
 },
 "nbformat": 4,
 "nbformat_minor": 2
}
