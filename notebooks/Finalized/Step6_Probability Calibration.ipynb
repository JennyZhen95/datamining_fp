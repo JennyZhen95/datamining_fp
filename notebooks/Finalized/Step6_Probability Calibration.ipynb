{
 "cells": [
  {
   "cell_type": "code",
   "execution_count": 1,
   "metadata": {},
   "outputs": [
    {
     "name": "stderr",
     "output_type": "stream",
     "text": [
      "/Users/Jenny/.local/lib/python3.6/site-packages/sklearn/utils/deprecation.py:144: FutureWarning: The sklearn.neighbors.base module is  deprecated in version 0.22 and will be removed in version 0.24. The corresponding classes / functions should instead be imported from sklearn.neighbors. Anything that cannot be imported from sklearn.neighbors is now part of the private API.\n",
      "  warnings.warn(message, FutureWarning)\n",
      "/Users/Jenny/.local/lib/python3.6/site-packages/sklearn/utils/deprecation.py:144: FutureWarning: The sklearn.ensemble.bagging module is  deprecated in version 0.22 and will be removed in version 0.24. The corresponding classes / functions should instead be imported from sklearn.ensemble. Anything that cannot be imported from sklearn.ensemble is now part of the private API.\n",
      "  warnings.warn(message, FutureWarning)\n",
      "/Users/Jenny/.local/lib/python3.6/site-packages/sklearn/utils/deprecation.py:144: FutureWarning: The sklearn.ensemble.base module is  deprecated in version 0.22 and will be removed in version 0.24. The corresponding classes / functions should instead be imported from sklearn.ensemble. Anything that cannot be imported from sklearn.ensemble is now part of the private API.\n",
      "  warnings.warn(message, FutureWarning)\n",
      "/Users/Jenny/.local/lib/python3.6/site-packages/sklearn/utils/deprecation.py:144: FutureWarning: The sklearn.ensemble.forest module is  deprecated in version 0.22 and will be removed in version 0.24. The corresponding classes / functions should instead be imported from sklearn.ensemble. Anything that cannot be imported from sklearn.ensemble is now part of the private API.\n",
      "  warnings.warn(message, FutureWarning)\n",
      "Using TensorFlow backend.\n",
      "/Users/Jenny/.local/lib/python3.6/site-packages/sklearn/utils/deprecation.py:144: FutureWarning: The sklearn.utils.testing module is  deprecated in version 0.22 and will be removed in version 0.24. The corresponding classes / functions should instead be imported from sklearn.utils. Anything that cannot be imported from sklearn.utils is now part of the private API.\n",
      "  warnings.warn(message, FutureWarning)\n",
      "/Users/Jenny/.local/lib/python3.6/site-packages/sklearn/utils/deprecation.py:144: FutureWarning: The sklearn.metrics.classification module is  deprecated in version 0.22 and will be removed in version 0.24. The corresponding classes / functions should instead be imported from sklearn.metrics. Anything that cannot be imported from sklearn.metrics is now part of the private API.\n",
      "  warnings.warn(message, FutureWarning)\n"
     ]
    }
   ],
   "source": [
    "# importing standard packages\n",
    "import pandas as pd\n",
    "import numpy as np \n",
    "from scipy import stats \n",
    "\n",
    "# importing the plot funnctions\n",
    "import seaborn as sns \n",
    "import matplotlib.pyplot as plt\n",
    "%matplotlib inline \n",
    "\n",
    "# preprocessing/ model selection \n",
    "from sklearn.model_selection import train_test_split\n",
    "from sklearn.model_selection import cross_val_score\n",
    "\n",
    "# importing the classifiers \n",
    "from lightgbm import LGBMClassifier\n",
    "from sklearn.ensemble import GradientBoostingClassifier\n",
    "from sklearn.ensemble import RandomForestClassifier\n",
    "\n",
    "# importing the metrics \n",
    "from sklearn.metrics import roc_auc_score\n",
    "from sklearn.metrics import confusion_matrix, accuracy_score, precision_score, recall_score, classification_report,f1_score\n",
    "from sklearn.metrics import roc_curve\n",
    "\n",
    "# oversampling techniques \n",
    "from imblearn.over_sampling import SMOTE\n",
    "\n",
    "# importing model saving package \n",
    "from joblib import dump, load\n",
    "\n",
    "from sklearn import preprocessing\n",
    "\n"
   ]
  },
  {
   "cell_type": "markdown",
   "metadata": {},
   "source": [
    "The calibration allows us to better calibrate the probabilities of a given model, or to add support for probability prediction.\n",
    "\n",
    "Well calibrated classifiers are probabilistic classifiers for which the output of the predict_proba method can be directly interpreted as a confidence level. For instance, a well calibrated (binary) classifier should classify the samples such that among the samples to which it gave a predict_proba value close to 0.8, approximately 80% actually belong to the positive class.\n",
    "\n",
    "We switch our probability from 0.5 to 0.8, but there is not a significant change of result. We increase the precision but sacrifice the recall socre, which is what we really care about in our predication.\n",
    "\n"
   ]
  },
  {
   "cell_type": "markdown",
   "metadata": {},
   "source": [
    "# Functions"
   ]
  },
  {
   "cell_type": "code",
   "execution_count": 26,
   "metadata": {},
   "outputs": [],
   "source": [
    "def metrics_imbalanced(your_confusion_matrix, y_true, y_proba):\n",
    "    \n",
    "    \"\"\"\n",
    "    Print precision, recall, fallout and auroc score based on the confusion matrix. \n",
    "    \n",
    "    Parameters:\n",
    "    ------------------\n",
    "    your_confusion_matrix:                ndarray of shape (n_classes, n_classes) \n",
    "                                          confusion matrix\n",
    "                                          \n",
    "    y_true:                               array-like of shape (n_samples,) \n",
    "                                          True label of target (y)\n",
    "                                          \n",
    "    y_proba:                              y_proba             array-like of shape (n_samples,)\n",
    "                                          The predicted probability of target (y)\n",
    "    \"\"\"\n",
    "    \n",
    "    # Model evaluation metrics. \n",
    "    tp = your_confusion_matrix[1,1]\n",
    "    fn = your_confusion_matrix[1,0]\n",
    "    fp = your_confusion_matrix[0,1]\n",
    "    tn = your_confusion_matrix[0,0]\n",
    "    auroc = roc_auc_score(y_true, y_proba)\n",
    "    \n",
    "    print('Precision = %0.5f'%(tp/(tp+fp)))\n",
    "    print('Recall (TPR) = %0.5f'%(tp/(tp+fn)))\n",
    "    print('Fallout (FPR) = %0.5f'%(fp/(fp+tn)))\n",
    "    print('Roc_auc_score = %0.5f'%auroc)"
   ]
  },
  {
   "cell_type": "code",
   "execution_count": 29,
   "metadata": {},
   "outputs": [],
   "source": [
    "def draw_roc_curve(y_true, y_proba):\n",
    "    \n",
    "    \"\"\"\n",
    "    Draw baseline and model roc curve\n",
    "    \n",
    "    Parameters:\n",
    "    ------------------\n",
    "    y_true:             array-like of shape (n_samples,) \n",
    "                        True label of target (y)\n",
    "                        \n",
    "    y_proba             array-like of shape (n_samples,)\n",
    "                        The predicted probability of target (y)\n",
    "    \"\"\"\n",
    "    \n",
    "    \n",
    "    base_fpr, base_tpr, _ = roc_curve(y_true, [1 for _ in range(len(y_true))])\n",
    "    model_fpr, model_tpr, _ = roc_curve(y_true, y_proba)\n",
    "    auroc = roc_auc_score(y_true, y_proba)\n",
    "    \n",
    "    fig, ax = plt.subplots(figsize=(10, 6))\n",
    "    plt.plot(base_fpr, base_tpr, 'b', label = 'baseline')\n",
    "    plt.plot(model_fpr, model_tpr, 'r', label = 'model')\n",
    "    plt.legend();\n",
    "    plt.xlabel('False Positive Rate'); plt.ylabel('True Positive Rate'); plt.title('ROC Curves');\n",
    "    \n",
    "    return ax"
   ]
  },
  {
   "cell_type": "code",
   "execution_count": 2,
   "metadata": {},
   "outputs": [
    {
     "name": "stderr",
     "output_type": "stream",
     "text": [
      "/Users/Jenny/.local/lib/python3.6/site-packages/sklearn/base.py:318: UserWarning: Trying to unpickle estimator LabelEncoder from version 0.22.2.post1 when using version 0.22.1. This might lead to breaking code or invalid results. Use at your own risk.\n",
      "  UserWarning)\n"
     ]
    }
   ],
   "source": [
    "# load model \n",
    "lgb_u_best = load('LGB_U_tuned.joblib')"
   ]
  },
  {
   "cell_type": "code",
   "execution_count": 3,
   "metadata": {},
   "outputs": [],
   "source": [
    "# load X_test and y_test\n",
    "%store -r X_test\n",
    "%store -r y_test"
   ]
  },
  {
   "cell_type": "code",
   "execution_count": 21,
   "metadata": {},
   "outputs": [],
   "source": [
    "# make predictions\n",
    "y_pred = lgb_u_best.predict(X_test)\n",
    "y_proba = lgb_u_best.predict_proba(X_test)[:,1]"
   ]
  },
  {
   "cell_type": "markdown",
   "metadata": {},
   "source": [
    "# Probability calibration with f1"
   ]
  },
  {
   "cell_type": "code",
   "execution_count": 22,
   "metadata": {},
   "outputs": [
    {
     "name": "stdout",
     "output_type": "stream",
     "text": [
      "Maximum f1-score is 0.5120375807398708 when criterion is 0.8\n"
     ]
    },
    {
     "data": {
      "image/png": "[encoded data removed]",
      "text/plain": [
       "<Figure size 432x288 with 1 Axes>"
      ]
     },
     "metadata": {
      "needs_background": "light"
     },
     "output_type": "display_data"
    }
   ],
   "source": [
    "criterion = []\n",
    "f1 = []\n",
    "\n",
    "for i in np.arange(0,1,0.1):\n",
    "    criterion.append(i)\n",
    "    \n",
    "    y_pred_tweak = y_proba>i\n",
    "    y_pred_tweak = y_pred_tweak*1\n",
    "    f1.append(f1_score(y_test.values.ravel(), y_pred_tweak))\n",
    "    \n",
    "fig, ax = plt.subplots()\n",
    "ax = sns.lineplot(criterion, f1)\n",
    "ax.set_title(\"F1 Score of Probability Calibration on LGB_Oversampled\")\n",
    "ax.set_xlabel('Criterion')\n",
    "ax.set_ylabel('f1')\n",
    "\n",
    "print(\"Maximum f1-score is\", max(f1), \"when criterion is {}\".format(criterion[f1.index(max(f1))]))"
   ]
  },
  {
   "cell_type": "markdown",
   "metadata": {},
   "source": [
    "If we move our threshold to 0.8, we may end up predicting less positives, which may lead to a lower recall (TPR)"
   ]
  },
  {
   "cell_type": "code",
   "execution_count": 23,
   "metadata": {},
   "outputs": [],
   "source": [
    "y_pred_best_f1 = y_proba>.8\n",
    "y_pred_best_f1 = y_pred_best_f1*1"
   ]
  },
  {
   "cell_type": "code",
   "execution_count": 28,
   "metadata": {},
   "outputs": [
    {
     "name": "stdout",
     "output_type": "stream",
     "text": [
      "Precision = 0.47833\n",
      "Recall (TPR) = 0.55085\n",
      "Fallout (FPR) = 0.05674\n",
      "Roc_auc_score = 0.89970\n",
      "f1 = 0.5120375807398708\n"
     ]
    }
   ],
   "source": [
    "# generate confusion matrix\n",
    "cm = confusion_matrix(y_test, y_pred_best_f1)\n",
    "\n",
    "# show metrics\n",
    "metrics_imbalanced(cm, y_test, y_proba)\n",
    "print('f1 =', f1_score(y_test, y_pred_best_f1))"
   ]
  },
  {
   "cell_type": "markdown",
   "metadata": {},
   "source": [
    "# ROC curve"
   ]
  },
  {
   "cell_type": "code",
   "execution_count": 30,
   "metadata": {},
   "outputs": [
    {
     "data": {
      "text/plain": [
       "<matplotlib.axes._subplots.AxesSubplot at 0x123f7f390>"
      ]
     },
     "execution_count": 30,
     "metadata": {},
     "output_type": "execute_result"
    },
    {
     "data": {
      "image/png": "[encoded data removed]",
      "text/plain": [
       "<Figure size 720x432 with 1 Axes>"
      ]
     },
     "metadata": {
      "needs_background": "light"
     },
     "output_type": "display_data"
    }
   ],
   "source": [
    "draw_roc_curve(y_test, y_proba)"
   ]
  },
  {
   "cell_type": "markdown",
   "metadata": {},
   "source": [
    "# Precision-recall curve"
   ]
  },
  {
   "cell_type": "code",
   "execution_count": 32,
   "metadata": {},
   "outputs": [
    {
     "name": "stdout",
     "output_type": "stream",
     "text": [
      "Average precision-recall score: 0.55\n"
     ]
    }
   ],
   "source": [
    "from sklearn.metrics import average_precision_score\n",
    "average_precision = average_precision_score(y_test, y_proba)\n",
    "\n",
    "print('Average precision-recall score: {0:0.2f}'.format(\n",
    "      average_precision))"
   ]
  },
  {
   "cell_type": "code",
   "execution_count": 33,
   "metadata": {},
   "outputs": [
    {
     "data": {
      "text/plain": [
       "Text(0.5, 1.0, '2-class Precision-Recall curve: AP=0.55')"
      ]
     },
     "execution_count": 33,
     "metadata": {},
     "output_type": "execute_result"
    },
    {
     "data": {
      "image/png": "[encoded data removed]",
      "text/plain": [
       "<Figure size 432x288 with 1 Axes>"
      ]
     },
     "metadata": {
      "needs_background": "light"
     },
     "output_type": "display_data"
    }
   ],
   "source": [
    "from sklearn.metrics import precision_recall_curve\n",
    "from sklearn.metrics import plot_precision_recall_curve\n",
    "import matplotlib.pyplot as plt\n",
    "\n",
    "disp = plot_precision_recall_curve(lgb_u_best, X_test, y_test)\n",
    "disp.ax_.set_title('2-class Precision-Recall curve: '\n",
    "                   'AP={0:0.2f}'.format(average_precision))"
   ]
  },
  {
   "cell_type": "code",
   "execution_count": null,
   "metadata": {},
   "outputs": [],
   "source": []
  }
 ],
 "metadata": {
  "kernelspec": {
   "display_name": "Python 3",
   "language": "python",
   "name": "python3"
  },
  "language_info": {
   "codemirror_mode": {
    "name": "ipython",
    "version": 3
   },
   "file_extension": ".py",
   "mimetype": "text/x-python",
   "name": "python",
   "nbconvert_exporter": "python",
   "pygments_lexer": "ipython3",
   "version": "3.7.4"
  }
 },
 "nbformat": 4,
 "nbformat_minor": 2
}
