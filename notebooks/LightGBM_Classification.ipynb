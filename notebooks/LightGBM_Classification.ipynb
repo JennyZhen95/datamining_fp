{
 "cells": [
  {
   "cell_type": "code",
   "execution_count": 1,
   "metadata": {},
   "outputs": [],
   "source": [
    "import pandas as pd\n",
    "import numpy as np\n",
    "import seaborn as sns"
   ]
  },
  {
   "cell_type": "code",
   "execution_count": 2,
   "metadata": {},
   "outputs": [],
   "source": [
    "wids = pd.read_csv('repos/data/wids_reduced.csv')"
   ]
  },
  {
   "cell_type": "code",
   "execution_count": 8,
   "metadata": {},
   "outputs": [
    {
     "name": "stdout",
     "output_type": "stream",
     "text": [
      "<class 'pandas.core.frame.DataFrame'>\n",
      "RangeIndex: 91713 entries, 0 to 91712\n",
      "Data columns (total 81 columns):\n",
      " #   Column                         Non-Null Count  Dtype  \n",
      "---  ------                         --------------  -----  \n",
      " 0   encounter_id                   91713 non-null  int64  \n",
      " 1   patient_id                     91713 non-null  int64  \n",
      " 2   hospital_id                    91713 non-null  int64  \n",
      " 3   hospital_death                 91713 non-null  int64  \n",
      " 4   age                            87485 non-null  float64\n",
      " 5   bmi                            88284 non-null  float64\n",
      " 6   elective_surgery               91713 non-null  int64  \n",
      " 7   ethnicity                      90318 non-null  object \n",
      " 8   gender                         91688 non-null  object \n",
      " 9   height                         90379 non-null  float64\n",
      " 10  hospital_admit_source          70304 non-null  object \n",
      " 11  icu_admit_source               91601 non-null  object \n",
      " 12  icu_id                         91713 non-null  int64  \n",
      " 13  icu_stay_type                  91713 non-null  object \n",
      " 14  icu_type                       91713 non-null  object \n",
      " 15  pre_icu_los_days               91713 non-null  float64\n",
      " 16  readmission_status             91713 non-null  int64  \n",
      " 17  weight                         88993 non-null  float64\n",
      " 18  albumin_apache                 37334 non-null  float64\n",
      " 19  apache_2_diagnosis             90051 non-null  float64\n",
      " 20  apache_3j_diagnosis            90612 non-null  float64\n",
      " 21  apache_post_operative          91713 non-null  int64  \n",
      " 22  arf_apache                     90998 non-null  float64\n",
      " 23  bun_apache                     72451 non-null  float64\n",
      " 24  creatinine_apache              72860 non-null  float64\n",
      " 25  gcs_eyes_apache                89812 non-null  float64\n",
      " 26  gcs_motor_apache               89812 non-null  float64\n",
      " 27  gcs_unable_apache              90676 non-null  float64\n",
      " 28  gcs_verbal_apache              89812 non-null  float64\n",
      " 29  glucose_apache                 80677 non-null  float64\n",
      " 30  heart_rate_apache              90835 non-null  float64\n",
      " 31  hematocrit_apache              71835 non-null  float64\n",
      " 32  intubated_apache               90998 non-null  float64\n",
      " 33  map_apache                     90719 non-null  float64\n",
      " 34  resprate_apache                90479 non-null  float64\n",
      " 35  sodium_apache                  73113 non-null  float64\n",
      " 36  temp_apache                    87605 non-null  float64\n",
      " 37  urineoutput_apache             42715 non-null  float64\n",
      " 38  ventilated_apache              90998 non-null  float64\n",
      " 39  wbc_apache                     69701 non-null  float64\n",
      " 40  d1_diasbp_max                  91548 non-null  float64\n",
      " 41  d1_diasbp_min                  91548 non-null  float64\n",
      " 42  d1_heartrate_max               91568 non-null  float64\n",
      " 43  d1_heartrate_min               91568 non-null  float64\n",
      " 44  d1_mbp_max                     91493 non-null  float64\n",
      " 45  d1_mbp_min                     91493 non-null  float64\n",
      " 46  d1_resprate_max                91328 non-null  float64\n",
      " 47  d1_resprate_min                91328 non-null  float64\n",
      " 48  d1_spo2_max                    91380 non-null  float64\n",
      " 49  d1_spo2_min                    91380 non-null  float64\n",
      " 50  d1_sysbp_max                   91554 non-null  float64\n",
      " 51  d1_sysbp_min                   91554 non-null  float64\n",
      " 52  d1_temp_max                    89389 non-null  float64\n",
      " 53  d1_temp_min                    89389 non-null  float64\n",
      " 54  h1_diasbp_max                  88094 non-null  float64\n",
      " 55  h1_diasbp_min                  88094 non-null  float64\n",
      " 56  h1_heartrate_max               88923 non-null  float64\n",
      " 57  h1_heartrate_min               88923 non-null  float64\n",
      " 58  h1_mbp_max                     87074 non-null  float64\n",
      " 59  h1_mbp_min                     87074 non-null  float64\n",
      " 60  h1_resprate_max                87356 non-null  float64\n",
      " 61  h1_resprate_min                87356 non-null  float64\n",
      " 62  h1_sysbp_max                   88102 non-null  float64\n",
      " 63  h1_sysbp_min                   88102 non-null  float64\n",
      " 64  h1_temp_max                    69981 non-null  float64\n",
      " 65  h1_temp_min                    69981 non-null  float64\n",
      " 66  d1_bun_min                     81199 non-null  float64\n",
      " 67  d1_calcium_max                 78644 non-null  float64\n",
      " 68  d1_calcium_min                 78644 non-null  float64\n",
      " 69  d1_creatinine_min              81544 non-null  float64\n",
      " 70  d1_glucose_min                 85906 non-null  float64\n",
      " 71  d1_hco3_min                    76642 non-null  float64\n",
      " 72  d1_hemaglobin_max              79566 non-null  float64\n",
      " 73  d1_platelets_max               78269 non-null  float64\n",
      " 74  d1_potassium_max               82128 non-null  float64\n",
      " 75  d1_potassium_min               82128 non-null  float64\n",
      " 76  d1_sodium_max                  81518 non-null  float64\n",
      " 77  h1_glucose_max                 39099 non-null  float64\n",
      " 78  h1_glucose_min                 39099 non-null  float64\n",
      " 79  apache_4a_hospital_death_prob  83766 non-null  float64\n",
      " 80  apache_4a_icu_death_prob       83766 non-null  float64\n",
      "dtypes: float64(67), int64(8), object(6)\n",
      "memory usage: 56.7+ MB\n"
     ]
    }
   ],
   "source": [
    "wids.info()"
   ]
  },
  {
   "cell_type": "code",
   "execution_count": 10,
   "metadata": {},
   "outputs": [],
   "source": [
    "unlabeled = pd.read_csv('repos/data/unlabeled.csv')"
   ]
  },
  {
   "cell_type": "code",
   "execution_count": 4,
   "metadata": {},
   "outputs": [
    {
     "data": {
      "text/plain": [
       "0         502.01\n",
       "1         203.01\n",
       "2         703.03\n",
       "3        1206.03\n",
       "4         601.01\n",
       "          ...   \n",
       "91708     501.06\n",
       "91709     501.05\n",
       "91710     702.01\n",
       "91711     203.01\n",
       "91712    1409.02\n",
       "Name: apache_3j_diagnosis, Length: 91713, dtype: float64"
      ]
     },
     "execution_count": 4,
     "metadata": {},
     "output_type": "execute_result"
    }
   ],
   "source": [
    "wids['apache_3j_diagnosis']"
   ]
  },
  {
   "cell_type": "code",
   "execution_count": 5,
   "metadata": {},
   "outputs": [],
   "source": [
    "# Function for transformation on apache_3j_diagnosis\n",
    "def grab_main_cat(col):\n",
    "    output = col.astype('str').str.split('.', n=1, expand=True)[0]\n",
    "    output = output.astype(str)\n",
    "    \n",
    "    return output\n",
    "    "
   ]
  },
  {
   "cell_type": "code",
   "execution_count": 52,
   "metadata": {},
   "outputs": [],
   "source": [
    "wids['apache_3j_diagnosis'] = wids['apache_3j_diagnosis'].astype('str').str.split('.',n=1,expand=True)[0]\n",
    "wids['apache_3j_diagnosis'] = wids['apache_3j_diagnosis'].astype(str)"
   ]
  },
  {
   "cell_type": "code",
   "execution_count": 53,
   "metadata": {},
   "outputs": [],
   "source": [
    "wids['apache_2_diagnosis'] = wids['apache_2_diagnosis'].astype('str').str.split('.',n=1,expand=True)[0]\n",
    "wids['apache_2_diagnosis'] = wids['apache_2_diagnosis'].astype(str)"
   ]
  },
  {
   "cell_type": "code",
   "execution_count": 57,
   "metadata": {},
   "outputs": [
    {
     "data": {
      "text/plain": [
       "Index(['encounter_id', 'patient_id', 'hospital_id', 'hospital_death', 'age',\n",
       "       'bmi', 'elective_surgery', 'ethnicity', 'gender', 'height',\n",
       "       'hospital_admit_source', 'icu_admit_source', 'icu_id', 'icu_stay_type',\n",
       "       'icu_type', 'pre_icu_los_days', 'readmission_status', 'weight',\n",
       "       'albumin_apache', 'apache_2_diagnosis', 'apache_3j_diagnosis',\n",
       "       'apache_post_operative', 'arf_apache', 'bun_apache',\n",
       "       'creatinine_apache', 'gcs_eyes_apache', 'gcs_motor_apache',\n",
       "       'gcs_unable_apache', 'gcs_verbal_apache', 'glucose_apache',\n",
       "       'heart_rate_apache', 'hematocrit_apache', 'intubated_apache',\n",
       "       'map_apache', 'resprate_apache', 'sodium_apache', 'temp_apache',\n",
       "       'urineoutput_apache', 'ventilated_apache', 'wbc_apache',\n",
       "       'd1_diasbp_max', 'd1_diasbp_min', 'd1_heartrate_max',\n",
       "       'd1_heartrate_min', 'd1_mbp_max', 'd1_mbp_min', 'd1_resprate_max',\n",
       "       'd1_resprate_min', 'd1_spo2_max', 'd1_spo2_min', 'd1_sysbp_max',\n",
       "       'd1_sysbp_min', 'd1_temp_max', 'd1_temp_min', 'h1_diasbp_max',\n",
       "       'h1_diasbp_min', 'h1_heartrate_max', 'h1_heartrate_min', 'h1_mbp_max',\n",
       "       'h1_mbp_min', 'h1_resprate_max', 'h1_resprate_min', 'h1_sysbp_max',\n",
       "       'h1_sysbp_min', 'h1_temp_max', 'h1_temp_min', 'd1_bun_min',\n",
       "       'd1_calcium_max', 'd1_calcium_min', 'd1_creatinine_min',\n",
       "       'd1_glucose_min', 'd1_hco3_min', 'd1_hemaglobin_max',\n",
       "       'd1_platelets_max', 'd1_potassium_max', 'd1_potassium_min',\n",
       "       'd1_sodium_max', 'h1_glucose_max', 'h1_glucose_min',\n",
       "       'apache_4a_hospital_death_prob', 'apache_4a_icu_death_prob'],\n",
       "      dtype='object')"
      ]
     },
     "execution_count": 57,
     "metadata": {},
     "output_type": "execute_result"
    }
   ],
   "source": [
    "wids.columns"
   ]
  },
  {
   "cell_type": "code",
   "execution_count": 58,
   "metadata": {},
   "outputs": [],
   "source": [
    "wids.drop(['encounter_id', 'patient_id', 'hospital_id'], axis=1, inplace=True)"
   ]
  },
  {
   "cell_type": "code",
   "execution_count": 68,
   "metadata": {},
   "outputs": [],
   "source": [
    "wids.drop(['icu_id'], axis=1, inplace=True)"
   ]
  },
  {
   "cell_type": "code",
   "execution_count": 69,
   "metadata": {},
   "outputs": [],
   "source": [
    "wids = pd.get_dummies(wids)"
   ]
  },
  {
   "cell_type": "code",
   "execution_count": 59,
   "metadata": {},
   "outputs": [],
   "source": [
    "X = wids.drop('hospital_death', axis=1)"
   ]
  },
  {
   "cell_type": "code",
   "execution_count": 60,
   "metadata": {},
   "outputs": [],
   "source": [
    "y = wids['hospital_death']"
   ]
  },
  {
   "cell_type": "code",
   "execution_count": 64,
   "metadata": {},
   "outputs": [],
   "source": [
    "from sklearn.model_selection import train_test_split\n",
    "x_train, x_test, y_train, y_test = train_test_split(X, y, test_size = 0.25, random_state = 0)"
   ]
  },
  {
   "cell_type": "code",
   "execution_count": null,
   "metadata": {},
   "outputs": [],
   "source": [
    "import pandas as pd\n",
    "import numpy as np\n",
    "import seaborn as sns\n",
    "\n",
    "wids = pd.read_csv('repos/data/wids_reduced.csv')\n",
    "\n",
    "wids.info()\n",
    "\n",
    "unlabeled = pd.read_csv('repos/data/unlabeled.csv')\n",
    "\n",
    "wids['apache_3j_diagnosis']\n",
    "\n",
    "wids['apache_3j_diagnosis'] = wids['apache_3j_diagnosis'].astype('str').str.split('.',n=1,expand=True)[0]\n",
    "wids['apache_3j_diagnosis'] = wids['apache_3j_diagnosis'].astype(str)\n",
    "\n",
    "wids['apache_2_diagnosis'] = wids['apache_2_diagnosis'].astype('str').str.split('.',n=1,expand=True)[0]\n",
    "wids['apache_2_diagnosis'] = wids['apache_2_diagnosis'].astype(str)\n",
    "\n",
    "wids.columns\n",
    "\n",
    "wids.drop(['encounter_id', 'patient_id', 'hospital_id'], axis=1, inplace=True)\n",
    "\n",
    "wids.drop(['icu_id'], axis=1, inplace=True)\n",
    "\n",
    "wids = pd.get_dummies(wids)\n",
    "\n",
    "X = wids.drop('hospital_death', axis=1)\n",
    "\n",
    "y = wids['hospital_death']\n",
    "\n",
    "from sklearn.model_selection import train_test_split\n",
    "x_train, x_test, y_train, y_test = train_test_split(X, y, test_size = 0.25, random_state = 0)\n",
    "\n",
    "import lightgbm as lgb\n",
    "d_train = lgb.Dataset(x_train, label=y_train)\n",
    "params = {}\n",
    "params['learning_rate'] = 0.003\n",
    "params['boosting_type'] = 'gbdt'\n",
    "params['objective'] = 'binary'\n",
    "params['metric'] = 'binary_logloss'\n",
    "params['sub_feature'] = 0.5\n",
    "params['num_leaves'] = 10\n",
    "params['min_data'] = 50\n",
    "params['max_depth'] = 10\n",
    "clf = lgb.train(params, d_train, 100)\n",
    "\n",
    "#convert into binary values\n",
    "y_pred=clf.predict(x_test)\n",
    "for i in range(0,len(y_pred)):\n",
    "    if y_pred[i]>=0.1:       # setting threshold to .5\n",
    "       y_pred[i]=1\n",
    "    else:  \n",
    "       y_pred[i]=0\n",
    "\n",
    "#Confusion matrix\n",
    "from sklearn.metrics import confusion_matrix\n",
    "cm = confusion_matrix(y_test, y_pred)\n",
    "#Accuracy\n",
    "from sklearn.metrics import accuracy_score\n",
    "accuracy=accuracy_score(y_test, y_pred)\n",
    "\n",
    "cm\n",
    "\n",
    "accuracy\n",
    "\n",
    "from sklearn.metrics import classification_report\n",
    "print(classification_report(y_test, y_pred))\n",
    "\n",
    "y_pred_proba=clf.predict(x_test)\n",
    "\n",
    "from sklearn.metrics import roc_auc_score\n",
    "roc_auc_score(y_test, y_pred_proba)\n",
    "\n",
    "cv_results = lgb.cv(\n",
    "        params,\n",
    "        d_train,\n",
    "        num_boost_round=100,\n",
    "        nfold=7,\n",
    "        metrics='auc',\n",
    "\n",
    "        # This is what I added\n",
    "        stratified=False\n",
    "        )\n",
    "\n",
    "cv_results['auc-mean']\n",
    "\n",
    "from sklearn.model_selection import cross_validate\n",
    "scores = cross_validate(lgb, x_train, y_train, cv = 7, scoring = 'roc_auc')"
   ]
  }
 ],
 "metadata": {
  "kernelspec": {
   "display_name": "Python 3",
   "language": "python",
   "name": "python3"
  },
  "language_info": {
   "codemirror_mode": {
    "name": "ipython",
    "version": 3
   },
   "file_extension": ".py",
   "mimetype": "text/x-python",
   "name": "python",
   "nbconvert_exporter": "python",
   "pygments_lexer": "ipython3",
   "version": "3.6.8"
  }
 },
 "nbformat": 4,
 "nbformat_minor": 2
}
