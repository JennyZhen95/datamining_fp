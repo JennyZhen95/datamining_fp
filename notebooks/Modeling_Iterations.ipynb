{
 "cells": [
  {
   "cell_type": "code",
   "execution_count": 91,
   "metadata": {
    "colab": {},
    "colab_type": "code",
    "id": "NsyVL27dBlWI"
   },
   "outputs": [],
   "source": [
    "# importing standard packages\n",
    "import pandas as pd\n",
    "import numpy as np \n",
    "from scipy import stats \n",
    "\n",
    "# importing the plot funnctions\n",
    "import seaborn as sns \n",
    "import matplotlib.pyplot as plt\n",
    "%matplotlib inline \n",
    "\n",
    "# preprocessing/ model selection \n",
    "from sklearn.model_selection import train_test_split\n",
    "from sklearn.model_selection import cross_val_score\n",
    "\n",
    "# importing the classifiers \n",
    "from lightgbm import LGBMClassifier\n",
    "from xgboost import XGBClassifier\n",
    "from sklearn.ensemble import GradientBoostingClassifier\n",
    "\n",
    "# importing the metrics \n",
    "from sklearn.metrics import roc_auc_score\n",
    "from sklearn.metrics import confusion_matrix, accuracy_score, precision_score, recall_score, classification_report,f1_score\n",
    "from sklearn.metrics import roc_curve\n",
    "\n",
    "# oversampling techniques \n",
    "from imblearn.over_sampling import SMOTE\n",
    "\n",
    "# importing model saving package \n",
    "from joblib import dump, load\n"
   ]
  },
  {
   "cell_type": "markdown",
   "metadata": {},
   "source": [
    "## Functions for Notebooks"
   ]
  },
  {
   "cell_type": "code",
   "execution_count": 92,
   "metadata": {
    "colab": {},
    "colab_type": "code",
    "id": "rH25auEUCxb3"
   },
   "outputs": [],
   "source": [
    "def draw_conf_mat(mat):\n",
    "    \n",
    "    \"\"\"\n",
    "    Draw confusion matrix\n",
    "    \n",
    "    Parameters:\n",
    "    ------------------\n",
    "    mat:                ndarray of shape (n_classes, n_classes) \n",
    "                        confusion matrix\n",
    "\n",
    "    \"\"\"\n",
    "    \n",
    "    import matplotlib.pyplot as plt \n",
    "    import seaborn as sns\n",
    "    \n",
    "    fig, ax = plt.subplots(figsize=(10, 10))\n",
    "    sns.heatmap(mat, annot=True, fmt=\"d\",\n",
    "            xticklabels=['0', '1'],\n",
    "            yticklabels=['0', '1'])\n",
    "    plt.ylabel(\"Actual\")\n",
    "    plt.xlabel(\"Predicted\")\n",
    "    \n",
    "    return ax"
   ]
  },
  {
   "cell_type": "code",
   "execution_count": 93,
   "metadata": {
    "colab": {},
    "colab_type": "code",
    "id": "HPZbfv6KCxgE"
   },
   "outputs": [],
   "source": [
    "def draw_roc_curve(y_true, y_proba):\n",
    "    \n",
    "    \"\"\"\n",
    "    Draw baseline and model roc curve\n",
    "    \n",
    "    Parameters:\n",
    "    ------------------\n",
    "    y_true:             array-like of shape (n_samples,) \n",
    "                        True label of target (y)\n",
    "                        \n",
    "    y_proba             array-like of shape (n_samples,)\n",
    "                        The predicted probability of target (y)\n",
    "    \"\"\"\n",
    "    \n",
    "    \n",
    "    base_fpr, base_tpr, _ = roc_curve(y_true, [1 for _ in range(len(y_true))])\n",
    "    model_fpr, model_tpr, _ = roc_curve(y_true, y_proba)\n",
    "    \n",
    "    fig, ax = plt.subplots(figsize=(10, 6))\n",
    "    plt.plot(base_fpr, base_tpr, 'b', label = 'baseline')\n",
    "    plt.plot(model_fpr, model_tpr, 'r', label = 'model')\n",
    "    plt.legend();\n",
    "    plt.xlabel('False Positive Rate'); plt.ylabel('True Positive Rate'); plt.title('ROC Curves');\n",
    "    \n",
    "    return ax"
   ]
  },
  {
   "cell_type": "code",
   "execution_count": 94,
   "metadata": {
    "colab": {},
    "colab_type": "code",
    "id": "_eWOeVWsCxjc"
   },
   "outputs": [],
   "source": [
    "def metrics_imbalanced(your_confusion_matrix, y_true, y_proba):\n",
    "    \n",
    "    \"\"\"\n",
    "    Print precision, recall, fallout and auroc score based on the confusion matrix. \n",
    "    \n",
    "    Parameters:\n",
    "    ------------------\n",
    "    your_confusion_matrix:                ndarray of shape (n_classes, n_classes) \n",
    "                                          confusion matrix\n",
    "                                          \n",
    "    y_true:                               array-like of shape (n_samples,) \n",
    "                                          True label of target (y)\n",
    "                                          \n",
    "    y_proba:                              y_proba             array-like of shape (n_samples,)\n",
    "                                          The predicted probability of target (y)\n",
    "    \"\"\"\n",
    "    \n",
    "    # Model evaluation metrics. \n",
    "    tp = your_confusion_matrix[1,1]\n",
    "    fn = your_confusion_matrix[1,0]\n",
    "    fp = your_confusion_matrix[0,1]\n",
    "    tn = your_confusion_matrix[0,0]\n",
    "    auroc = roc_auc_score(y_true, y_proba)\n",
    "    \n",
    "    print('Precision = %0.3f'%(tp/(tp+fp)))\n",
    "    print('Recall (TPR) = %0.3f'%(tp/(tp+fn)))\n",
    "    print('Fallout (FPR) = %0.3f'%(fp/(fp+tn)))\n",
    "    print('Roc_auc_score = %0.3f'%auroc)"
   ]
  },
  {
   "cell_type": "code",
   "execution_count": 95,
   "metadata": {
    "colab": {},
    "colab_type": "code",
    "id": "CeWJxOh_FRXT"
   },
   "outputs": [],
   "source": [
    "def resampling_unbalanced(train_x, train_y, sample_method):\n",
    "    \"\"\" \n",
    "\n",
    "    Parameters\n",
    "    ----------\n",
    "    train_x : test_x \n",
    "            pd.DataFrame\n",
    "    train_y : train_y \n",
    "            pd.DataFrame\n",
    "    sample_method: 'over' or 'under'\n",
    "            string\n",
    "\n",
    "    Returns\n",
    "    -------\n",
    "    train_x : resampled train_x\n",
    "                pd.DataFrame\n",
    "    train_y : resampled train_y\n",
    "                pd.DataFrame\n",
    "        \n",
    "\n",
    "    \"\"\"\n",
    "    \n",
    "    \n",
    "    if sample_method == \"over\":\n",
    "        oversample = SMOTE()\n",
    "        train_x_ros, train_y_ros = oversample.fit_resample(X_train, y_train)\n",
    "        \n",
    "        return train_x_ros, train_y_ros\n",
    "        \n",
    "    if sample_method == \"under\":\n",
    "        # Concate X and Y train\n",
    "        trainData = pd.concat([train_x, train_y],axis=1)\n",
    "        # Class count\n",
    "        count_class_0, count_class_1 = trainData[\"hospital_death\"].value_counts()\n",
    "\n",
    "        # Divide by class\n",
    "        df_class_0 = trainData[trainData['hospital_death'] == 0]\n",
    "        df_class_1 = trainData[trainData['hospital_death'] == 1]\n",
    "        \n",
    "        # Sample the majority class\n",
    "        df_class_0_under = df_class_0.sample(count_class_1)\n",
    "        \n",
    "        # Put the train dataset together\n",
    "        train_rus = pd.concat([df_class_0_under, df_class_1], axis=0)\n",
    "        train_x_rus = train_rus.drop(\"hospital_death\", axis = 1)\n",
    "        train_y_rus = pd.DataFrame(train_rus['hospital_death'])\n",
    "        \n",
    "        return train_x_rus, train_y_rus"
   ]
  },
  {
   "cell_type": "markdown",
   "metadata": {},
   "source": [
    "## Bring in the X_wids and y_wids from the WIDS_Feature_Engineer.ipynb\n",
    "Run the WIDS Feature Engineer Notebook first in order to grab the dataframes"
   ]
  },
  {
   "cell_type": "code",
   "execution_count": 96,
   "metadata": {},
   "outputs": [],
   "source": [
    "# grab the stored data frames\n",
    "%store -r X_wids\n",
    "%store -r y_wids"
   ]
  },
  {
   "cell_type": "code",
   "execution_count": 97,
   "metadata": {},
   "outputs": [
    {
     "data": {
      "text/plain": [
       "((91713, 453), (91713, 1))"
      ]
     },
     "execution_count": 97,
     "metadata": {},
     "output_type": "execute_result"
    }
   ],
   "source": [
    "X_wids.shape, y_wids.shape"
   ]
  },
  {
   "cell_type": "markdown",
   "metadata": {},
   "source": [
    "## Train Test Split without Correction of Imbalanced Data"
   ]
  },
  {
   "cell_type": "code",
   "execution_count": 98,
   "metadata": {
    "colab": {},
    "colab_type": "code",
    "id": "IW5A_6luGi1J"
   },
   "outputs": [
    {
     "name": "stdout",
     "output_type": "stream",
     "text": [
      "(73370, 453) (18343, 453) (73370, 1) (18343, 1)\n"
     ]
    }
   ],
   "source": [
    "# Split train-test dataset \n",
    "from sklearn.model_selection import train_test_split\n",
    "\n",
    "X_train, X_test, y_train, y_test = train_test_split(X_wids, y_wids, test_size = 0.2, random_state = 31, stratify = y_wids)\n",
    "\n",
    "print(X_train.shape, X_test.shape, y_train.shape, y_test.shape)"
   ]
  },
  {
   "cell_type": "markdown",
   "metadata": {},
   "source": [
    "## Models with No Correction Of Imbalanced Data"
   ]
  },
  {
   "cell_type": "code",
   "execution_count": 0,
   "metadata": {
    "colab": {},
    "colab_type": "code",
    "id": "3Q7I7h51DZLh"
   },
   "outputs": [],
   "source": [
    "# create a dictionary of classifers with the hyperparameters you would like to try \n",
    "classifiers = {'XG': XGBClassifier(n_jobs = 1, learning_rate = .1, n_estimators = 100, objective = 'binary', booster='gbtree', max_depth = 7 ),\n",
    "              'RF': RandomForestClassifier(n_estimators= 100, max_depth = 7),\n",
    "              'LGB': LGBMClassifier(booster ='gbtree', n_estimators = 100, learning_rate = .1, max_depth = 7, objective ='binary')}"
   ]
  },
  {
   "cell_type": "code",
   "execution_count": 0,
   "metadata": {
    "colab": {},
    "colab_type": "code",
    "id": "0IQvBAsODZTj"
   },
   "outputs": [],
   "source": [
    "# keys of the classifiers \n",
    "selected_clfs = ['XG', 'RF', 'LGB']"
   ]
  },
  {
   "cell_type": "code",
   "execution_count": 0,
   "metadata": {
    "colab": {},
    "colab_type": "code",
    "id": "JmUV-PlKDZap"
   },
   "outputs": [],
   "source": [
    "# create the clf_matrix \n",
    "clf_matrix = pd.DataFrame(columns = ['model', 'precision_test', 'recall_test', 'FPR_test', 'AUROC_test',\n",
    "                                     'f1_test', 'f1_train', 'f1_CV'])\n",
    "\n",
    "# for every classifer in the selected classifers list\n",
    "for idx, classifier in enumerate(selected_clfs):\n",
    "\n",
    "    # get the classifer and hyperparameters from the model\n",
    "    clf = classifiers[classifier]\n",
    "\n",
    "    # fit the model \n",
    "    clf.fit(X_train,y_train)\n",
    "    print(f\"-------- classifier being run is {classifier} ---------\")\n",
    "\n",
    "    print(f\"-------- saving the the model ---------\")\n",
    "    # Write the model to file\n",
    "    dump(clf, '{}.joblib'.format(classifier)) \n",
    "\n",
    "    print(f\"-------- computing y_predict, y_prob, y_train_predict ---------\")\n",
    "    # prediction of y based on X_test\n",
    "    y_predict = clf.predict(X_test)\n",
    "    # prediction of y probability based on X_test\n",
    "    y_proba = clf.predict_proba(X_test)[:,1]\n",
    "    # prediction of y based on X_train\n",
    "    y_train_predict = clf.predict(X_train)\n",
    "\n",
    "    print(f\"-------- creating the confusion matrix ---------\") \n",
    "    # confusion matrix \n",
    "    cmat = confusion_matrix(y_test, y_predict)\n",
    "    # tp, fn, fp, tn\n",
    "    tp = cmat[1,1]\n",
    "    fn = cmat[1,0]\n",
    "    fp = cmat[0,1]\n",
    "    tn = cmat[0,0]\n",
    "\n",
    "    print(f\"-------- calculating the metrics ---------\") \n",
    "    #precision score on test\n",
    "    p_score_test = precision_score(y_test, y_predict)\n",
    "\n",
    "    #recall score on test\n",
    "    r_score_test = tp/(tp+fn) \n",
    "\n",
    "    #FPR score on test\n",
    "    fpr_test = fp/(fp+tn)\n",
    "\n",
    "    #AUROC score on test\n",
    "    auroc_test = roc_auc_score(y_test, y_proba)\n",
    "\n",
    "    #f1 score on test\n",
    "    f1_test = f1_score(y_test, y_predict)\n",
    "\n",
    "    #f1 score on train\n",
    "    f1_train = f1_score(y_train, y_train_predict)\n",
    "\n",
    "    #f1 score on cross validation \n",
    "    k_fold = 4\n",
    "    f1_cv = cross_val_score(clf, X_train, y_train, cv=k_fold, scoring = 'f1')\n",
    "    print(f\"Cross Validation is on {k_fold} folds.\")\n",
    "\n",
    "    print(f\"-------- append values to the model matrix  ---------\") \n",
    "\n",
    "    # append to matrix\n",
    "    df2 = pd.DataFrame([[classifier,p_score_test,r_score_test, fpr_test, auroc_test, f1_test, f1_train, f1_cv]], columns=['model', 'precision_test', 'recall_test', 'FPR_test', 'AUROC_test',\n",
    "                                     'f1_test', 'f1_train', 'f1_CV'])\n",
    "    \n",
    "    clf_matrix = pd.concat([df2, clf_matrix])\n"
   ]
  },
  {
   "cell_type": "code",
   "execution_count": 0,
   "metadata": {
    "colab": {},
    "colab_type": "code",
    "id": "KKpE21Dod-y_"
   },
   "outputs": [],
   "source": [
    "# Draw confusion matrix for each model \n",
    "for classifier in selected_clfs:\n",
    "\n",
    "  # Load model saved\n",
    "  clf = load('{}.joblib'.format(classifier)) \n",
    "\n",
    "  # Predict y based on X_test\n",
    "  y_predict = clf.predict(X_test)\n",
    "\n",
    "  # confusion matrix\n",
    "  cm = confusion_matrix(y_test, y_predict)\n",
    "\n",
    "  # Draw\n",
    "  print(classifier)\n",
    "  draw_conf_mat(cm)\n"
   ]
  },
  {
   "cell_type": "markdown",
   "metadata": {},
   "source": [
    "## Models with Correction Of Imbalanced Data Using Undersampling"
   ]
  },
  {
   "cell_type": "code",
   "execution_count": 0,
   "metadata": {
    "colab": {},
    "colab_type": "code",
    "id": "VAQNTHxyCxqh"
   },
   "outputs": [],
   "source": [
    "# # create a dictionary of classifers with the hyperparameters you would like to try \n",
    "# classifiers = {'XG_U': XGBClassifier(n_jobs = 1, learning_rate = .1, n_estimators = 100, objective = 'binary', booster='gbtree', max_depth = 7 ),\n",
    "#               'RF_U': RandomForestClassifier(n_estimators= 100, max_depth = 7),\n",
    "#               'LGB_U': LGBMClassifier(booster ='gbtree', n_estimators = 100, learning_rate = .1, max_depth = 7, objective ='binary')}"
   ]
  },
  {
   "cell_type": "code",
   "execution_count": 0,
   "metadata": {
    "colab": {},
    "colab_type": "code",
    "id": "Aeu5vtTECxmm"
   },
   "outputs": [],
   "source": [
    "# # keys for the classifiers \n",
    "# selected_clfs = ['XG_U', 'RF_U', 'LGB_U']"
   ]
  },
  {
   "cell_type": "code",
   "execution_count": 99,
   "metadata": {},
   "outputs": [],
   "source": [
    "# create a dictionary of classifers with the hyperparameters you would like to try \n",
    "classifiers = {'LGB_U': LGBMClassifier(booster ='gbtree', n_estimators = 100, learning_rate = .1, max_depth = 7, objective ='binary')}"
   ]
  },
  {
   "cell_type": "code",
   "execution_count": 100,
   "metadata": {},
   "outputs": [],
   "source": [
    "# keys for the classifiers \n",
    "selected_clfs = ['LGB_U']"
   ]
  },
  {
   "cell_type": "markdown",
   "metadata": {},
   "source": [
    "new train test split for imbalanced data. Undersampling Data!"
   ]
  },
  {
   "cell_type": "code",
   "execution_count": 101,
   "metadata": {},
   "outputs": [],
   "source": [
    "X_train_U, y_train_U = resampling_unbalanced(X_train, y_train, \"under\")"
   ]
  },
  {
   "cell_type": "code",
   "execution_count": 102,
   "metadata": {},
   "outputs": [
    {
     "data": {
      "text/plain": [
       "((12664, 453), (12664, 1))"
      ]
     },
     "execution_count": 102,
     "metadata": {},
     "output_type": "execute_result"
    }
   ],
   "source": [
    "X_train_U.shape, y_train_U.shape"
   ]
  },
  {
   "cell_type": "code",
   "execution_count": 103,
   "metadata": {},
   "outputs": [
    {
     "name": "stderr",
     "output_type": "stream",
     "text": [
      "/Users/vivianahernandez/anaconda3/envs/uchi/lib/python3.7/site-packages/sklearn/preprocessing/_label.py:235: DataConversionWarning: A column-vector y was passed when a 1d array was expected. Please change the shape of y to (n_samples, ), for example using ravel().\n",
      "  y = column_or_1d(y, warn=True)\n",
      "/Users/vivianahernandez/anaconda3/envs/uchi/lib/python3.7/site-packages/sklearn/preprocessing/_label.py:268: DataConversionWarning: A column-vector y was passed when a 1d array was expected. Please change the shape of y to (n_samples, ), for example using ravel().\n",
      "  y = column_or_1d(y, warn=True)\n"
     ]
    },
    {
     "name": "stdout",
     "output_type": "stream",
     "text": [
      "-------- classifier being run is LGB_U ---------\n",
      "-------- saving the the model ---------\n",
      "-------- computing y_predict, y_prob, y_train_predict ---------\n",
      "-------- creating the confusion matrix ---------\n",
      "-------- calculating the metrics ---------\n"
     ]
    },
    {
     "name": "stderr",
     "output_type": "stream",
     "text": [
      "/Users/vivianahernandez/anaconda3/envs/uchi/lib/python3.7/site-packages/sklearn/preprocessing/_label.py:235: DataConversionWarning: A column-vector y was passed when a 1d array was expected. Please change the shape of y to (n_samples, ), for example using ravel().\n",
      "  y = column_or_1d(y, warn=True)\n",
      "/Users/vivianahernandez/anaconda3/envs/uchi/lib/python3.7/site-packages/sklearn/preprocessing/_label.py:268: DataConversionWarning: A column-vector y was passed when a 1d array was expected. Please change the shape of y to (n_samples, ), for example using ravel().\n",
      "  y = column_or_1d(y, warn=True)\n"
     ]
    },
    {
     "name": "stdout",
     "output_type": "stream",
     "text": [
      "Cross Validation is on 4 folds.\n",
      "-------- append values to the model matrix  ---------\n"
     ]
    }
   ],
   "source": [
    "clf_under_matrix = pd.DataFrame(columns = ['model', 'precision_test', 'recall_test', 'FPR_test', 'AUROC_test',\n",
    "                                     'f1_test', 'f1_train', 'f1_CV'])\n",
    "\n",
    "# for every classifer in the selected classifers list\n",
    "for idx, classifier in enumerate(selected_clfs):\n",
    "\n",
    "    # get the classifer and hyperparameters from the model\n",
    "    clf = classifiers[classifier]\n",
    "\n",
    "    # fit the model \n",
    "    clf.fit(X_train_U, y_train_U)\n",
    "    print(f\"-------- classifier being run is {classifier} ---------\")\n",
    "\n",
    "    print(f\"-------- saving the the model ---------\")\n",
    "    # Write the model to file\n",
    "    dump(clf, '{}.joblib'.format(classifier)) \n",
    "\n",
    "    print(f\"-------- computing y_predict, y_prob, y_train_predict ---------\")\n",
    "    # prediction of y based on X_test\n",
    "    y_predict = clf.predict(X_test)\n",
    "    # prediction of y probability based on X_test\n",
    "    y_proba = clf.predict_proba(X_test)[:,1]\n",
    "    # prediction of y based on X_train\n",
    "    y_train_predict = clf.predict(X_train_U)\n",
    "\n",
    "    print(f\"-------- creating the confusion matrix ---------\") \n",
    "    # confusion matrix \n",
    "    cmat = confusion_matrix(y_test, y_predict)\n",
    "    # tp, fn, fp, tn\n",
    "    tp = cmat[1,1]\n",
    "    fn = cmat[1,0]\n",
    "    fp = cmat[0,1]\n",
    "    tn = cmat[0,0]\n",
    "\n",
    "    print(f\"-------- calculating the metrics ---------\") \n",
    "    #precision score on test\n",
    "    p_score_test = precision_score(y_test, y_predict)\n",
    "\n",
    "    #recall score on test\n",
    "    r_score_test = tp/(tp+fn) \n",
    "\n",
    "    #FPR score on test\n",
    "    fpr_test = fp/(fp+tn)\n",
    "\n",
    "    #AUROC score on test\n",
    "    auroc_test = roc_auc_score(y_test, y_proba)\n",
    "\n",
    "    #f1 score on test\n",
    "    f1_test = f1_score(y_test, y_predict)\n",
    "\n",
    "    #f1 score on train\n",
    "    f1_train = f1_score(y_train_U, y_train_predict)\n",
    "\n",
    "    #f1 score on cross validation \n",
    "    k_fold = 4\n",
    "    f1_cv = cross_val_score(clf, X_train_U, y_train_U, cv=k_fold, scoring = 'f1')\n",
    "    print(f\"Cross Validation is on {k_fold} folds.\")\n",
    "\n",
    "    print(f\"-------- append values to the model matrix  ---------\") \n",
    "\n",
    "    # append to matrix\n",
    "    df2 = pd.DataFrame([[classifier,p_score_test,r_score_test, fpr_test, auroc_test, f1_test, f1_train, f1_cv]], columns=['model', 'precision_test', 'recall_test', 'FPR_test', 'AUROC_test',\n",
    "                                     'f1_test', 'f1_train', 'f1_CV'])\n",
    "    \n",
    "    clf_under_matrix = pd.concat([df2, clf_under_matrix])\n"
   ]
  },
  {
   "cell_type": "code",
   "execution_count": 104,
   "metadata": {},
   "outputs": [
    {
     "name": "stdout",
     "output_type": "stream",
     "text": [
      "LGB_U\n"
     ]
    },
    {
     "data": {
      "image/png": "[encoded data removed]",
      "text/plain": [
       "<Figure size 720x720 with 2 Axes>"
      ]
     },
     "metadata": {
      "needs_background": "light"
     },
     "output_type": "display_data"
    }
   ],
   "source": [
    "# Draw confusion matrix for each model \n",
    "for classifier in selected_clfs:\n",
    "\n",
    "  # Load model saved\n",
    "  clf = load('{}.joblib'.format(classifier)) \n",
    "\n",
    "  # Predict y based on X_test\n",
    "  y_predict = clf.predict(X_test)\n",
    "\n",
    "  # confusion matrix\n",
    "  cm = confusion_matrix(y_test, y_predict)\n",
    "\n",
    "  # Draw\n",
    "  print(classifier)\n",
    "  draw_conf_mat(cm)"
   ]
  },
  {
   "cell_type": "code",
   "execution_count": 105,
   "metadata": {},
   "outputs": [
    {
     "data": {
      "text/html": [
       "<div>\n",
       "<style scoped>\n",
       "    .dataframe tbody tr th:only-of-type {\n",
       "        vertical-align: middle;\n",
       "    }\n",
       "\n",
       "    .dataframe tbody tr th {\n",
       "        vertical-align: top;\n",
       "    }\n",
       "\n",
       "    .dataframe thead th {\n",
       "        text-align: right;\n",
       "    }\n",
       "</style>\n",
       "<table border=\"1\" class=\"dataframe\">\n",
       "  <thead>\n",
       "    <tr style=\"text-align: right;\">\n",
       "      <th></th>\n",
       "      <th>model</th>\n",
       "      <th>precision_test</th>\n",
       "      <th>recall_test</th>\n",
       "      <th>FPR_test</th>\n",
       "      <th>AUROC_test</th>\n",
       "      <th>f1_test</th>\n",
       "      <th>f1_train</th>\n",
       "      <th>f1_CV</th>\n",
       "    </tr>\n",
       "  </thead>\n",
       "  <tbody>\n",
       "    <tr>\n",
       "      <th>0</th>\n",
       "      <td>LGB_U</td>\n",
       "      <td>0.284392</td>\n",
       "      <td>0.814908</td>\n",
       "      <td>0.193675</td>\n",
       "      <td>0.896877</td>\n",
       "      <td>0.421638</td>\n",
       "      <td>0.912283</td>\n",
       "      <td>[0.7998719180275375, 0.8095387511766552, 0.806...</td>\n",
       "    </tr>\n",
       "  </tbody>\n",
       "</table>\n",
       "</div>"
      ],
      "text/plain": [
       "   model  precision_test  recall_test  FPR_test  AUROC_test   f1_test  \\\n",
       "0  LGB_U        0.284392     0.814908  0.193675    0.896877  0.421638   \n",
       "\n",
       "   f1_train                                              f1_CV  \n",
       "0  0.912283  [0.7998719180275375, 0.8095387511766552, 0.806...  "
      ]
     },
     "execution_count": 105,
     "metadata": {},
     "output_type": "execute_result"
    }
   ],
   "source": [
    "clf_under_matrix"
   ]
  },
  {
   "cell_type": "markdown",
   "metadata": {
    "colab": {},
    "colab_type": "code",
    "id": "AGQ9M93zCxz3"
   },
   "source": [
    "## Models with Correction Of Imbalanced Data Using Oversampling SMOTE "
   ]
  },
  {
   "cell_type": "code",
   "execution_count": 0,
   "metadata": {
    "colab": {},
    "colab_type": "code",
    "id": "PrZrc_zgCx6t"
   },
   "outputs": [],
   "source": [
    "# # create a dictionary of classifers with the hyperparameters you would like to try \n",
    "# classifiers = {'XG_O': XGBClassifier(n_jobs = 1, learning_rate = .1, n_estimators = 100, objective = 'binary', booster='gbtree', max_depth = 7 ),\n",
    "#               'RF_O': RandomForestClassifier(n_estimators= 100, max_depth = 7),\n",
    "#               'LGB_O': LGBMClassifier(booster ='gbtree', n_estimators = 100, learning_rate = .1, max_depth = 7, objective ='binary')}"
   ]
  },
  {
   "cell_type": "code",
   "execution_count": 0,
   "metadata": {
    "colab": {},
    "colab_type": "code",
    "id": "iF9wdNYVCx3T"
   },
   "outputs": [],
   "source": [
    "# select_clfs = ['XG_O', 'RF_O', 'LGB_O']"
   ]
  },
  {
   "cell_type": "code",
   "execution_count": 106,
   "metadata": {},
   "outputs": [],
   "source": [
    "# create a dictionary of classifers with the hyperparameters you would like to try \n",
    "classifiers = {'LGB_O': LGBMClassifier(booster ='gbtree', n_estimators = 100, learning_rate = .1, max_depth = 7, objective ='binary')}"
   ]
  },
  {
   "cell_type": "code",
   "execution_count": 107,
   "metadata": {},
   "outputs": [],
   "source": [
    "selected_clfs = ['LGB_O']"
   ]
  },
  {
   "cell_type": "code",
   "execution_count": 108,
   "metadata": {},
   "outputs": [],
   "source": [
    "X_train_O, y_train_O = resampling_unbalanced(X_train, y_train, \"over\")"
   ]
  },
  {
   "cell_type": "code",
   "execution_count": 109,
   "metadata": {},
   "outputs": [
    {
     "data": {
      "text/plain": [
       "((134076, 453), (134076, 1))"
      ]
     },
     "execution_count": 109,
     "metadata": {},
     "output_type": "execute_result"
    }
   ],
   "source": [
    "X_train_O.shape, y_train_O.shape"
   ]
  },
  {
   "cell_type": "code",
   "execution_count": 110,
   "metadata": {
    "colab": {},
    "colab_type": "code",
    "id": "pJmp0nhGCx-T"
   },
   "outputs": [
    {
     "name": "stdout",
     "output_type": "stream",
     "text": [
      "LGB_O\n"
     ]
    },
    {
     "name": "stderr",
     "output_type": "stream",
     "text": [
      "/Users/vivianahernandez/anaconda3/envs/uchi/lib/python3.7/site-packages/sklearn/preprocessing/_label.py:235: DataConversionWarning: A column-vector y was passed when a 1d array was expected. Please change the shape of y to (n_samples, ), for example using ravel().\n",
      "  y = column_or_1d(y, warn=True)\n",
      "/Users/vivianahernandez/anaconda3/envs/uchi/lib/python3.7/site-packages/sklearn/preprocessing/_label.py:268: DataConversionWarning: A column-vector y was passed when a 1d array was expected. Please change the shape of y to (n_samples, ), for example using ravel().\n",
      "  y = column_or_1d(y, warn=True)\n"
     ]
    },
    {
     "name": "stdout",
     "output_type": "stream",
     "text": [
      "-------- classifier being run is LGB_O ---------\n",
      "-------- saving the the model ---------\n",
      "-------- computing y_predict, y_prob, y_train_O_predict ---------\n",
      "-------- creating the confusion matrix ---------\n",
      "-------- calculating the metrics ---------\n"
     ]
    },
    {
     "name": "stderr",
     "output_type": "stream",
     "text": [
      "/Users/vivianahernandez/anaconda3/envs/uchi/lib/python3.7/site-packages/sklearn/preprocessing/_label.py:235: DataConversionWarning: A column-vector y was passed when a 1d array was expected. Please change the shape of y to (n_samples, ), for example using ravel().\n",
      "  y = column_or_1d(y, warn=True)\n",
      "/Users/vivianahernandez/anaconda3/envs/uchi/lib/python3.7/site-packages/sklearn/preprocessing/_label.py:268: DataConversionWarning: A column-vector y was passed when a 1d array was expected. Please change the shape of y to (n_samples, ), for example using ravel().\n",
      "  y = column_or_1d(y, warn=True)\n"
     ]
    },
    {
     "name": "stdout",
     "output_type": "stream",
     "text": [
      "Cross Validation is on 4 folds.\n",
      "-------- append values to the model matrix  ---------\n"
     ]
    }
   ],
   "source": [
    "clf_over_matrix = pd.DataFrame(columns = ['model', 'precision_test', 'recall_test', 'FPR_test', 'AUROC_test',\n",
    "                                     'f1_test', 'f1_train', 'f1_CV'])\n",
    "\n",
    "# for every classifer in the selected classifers list\n",
    "for idx, classifier in enumerate(selected_clfs):\n",
    "    print(classifier)\n",
    "    # get the classifer and hyperparameters from the model\n",
    "    clf = classifiers[classifier]\n",
    "\n",
    "    # fit the model \n",
    "    clf.fit(X_train_O,y_train_O)\n",
    "    print(f\"-------- classifier being run is {classifier} ---------\")\n",
    "\n",
    "    print(f\"-------- saving the the model ---------\")\n",
    "    # Write the model to file\n",
    "    dump(clf, '{}.joblib'.format(classifier)) \n",
    "\n",
    "    print(f\"-------- computing y_predict, y_prob, y_train_predict ---------\")\n",
    "    # prediction of y based on X_test\n",
    "    y_predict = clf.predict(X_test)\n",
    "    # prediction of y probability based on X_test\n",
    "    y_proba = clf.predict_proba(X_test)[:,1]\n",
    "    # prediction of y based on X_train_O\n",
    "    y_train_predict = clf.predict(X_train_O)\n",
    "\n",
    "    print(f\"-------- creating the confusion matrix ---------\") \n",
    "    # confusion matrix \n",
    "    cmat = confusion_matrix(y_test, y_predict)\n",
    "    # tp, fn, fp, tn\n",
    "    tp = cmat[1,1]\n",
    "    fn = cmat[1,0]\n",
    "    fp = cmat[0,1]\n",
    "    tn = cmat[0,0]\n",
    "\n",
    "    print(f\"-------- calculating the metrics ---------\") \n",
    "    #precision score on test\n",
    "    p_score_test = precision_score(y_test, y_predict)\n",
    "\n",
    "    #recall score on test\n",
    "    r_score_test = tp/(tp+fn) \n",
    "\n",
    "    #FPR score on test\n",
    "    fpr_test = fp/(fp+tn)\n",
    "\n",
    "    #AUROC score on test\n",
    "    auroc_test = roc_auc_score(y_test, y_proba)\n",
    "\n",
    "    #f1 score on test\n",
    "    f1_test = f1_score(y_test, y_predict)\n",
    "\n",
    "    #f1 score on train\n",
    "    f1_train = f1_score(y_train_O, y_train_predict)\n",
    "\n",
    "    #f1 score on cross validation \n",
    "    k_fold = 4\n",
    "    f1_cv = cross_val_score(clf, X_train_O, y_train_O, cv=k_fold, scoring = 'f1')\n",
    "    print(f\"Cross Validation is on {k_fold} folds.\")\n",
    "\n",
    "    print(f\"-------- append values to the model matrix  ---------\") \n",
    "\n",
    "    # append to matrix\n",
    "    df2 = pd.DataFrame([[classifier,p_score_test,r_score_test, fpr_test, auroc_test, f1_test, f1_train, f1_cv]], columns=['model', 'precision_test', 'recall_test', 'FPR_test', 'AUROC_test',\n",
    "                                     'f1_test', 'f1_train', 'f1_CV'])\n",
    "    \n",
    "    clf_over_matrix = pd.concat([df2, clf_over_matrix])\n"
   ]
  },
  {
   "cell_type": "code",
   "execution_count": 111,
   "metadata": {
    "colab": {},
    "colab_type": "code",
    "id": "xluRawugCyB2"
   },
   "outputs": [
    {
     "name": "stdout",
     "output_type": "stream",
     "text": [
      "LGB_O\n"
     ]
    },
    {
     "data": {
      "image/png": "[encoded data removed]",
      "text/plain": [
       "<Figure size 720x720 with 2 Axes>"
      ]
     },
     "metadata": {
      "needs_background": "light"
     },
     "output_type": "display_data"
    }
   ],
   "source": [
    "# Draw confusion matrix for each model \n",
    "for classifier in selected_clfs:\n",
    "\n",
    "  # Load model saved\n",
    "  clf = load('{}.joblib'.format(classifier)) \n",
    "\n",
    "  # Predict y based on X_test\n",
    "  y_predict = clf.predict(X_test)\n",
    "\n",
    "  # confusion matrix\n",
    "  cm = confusion_matrix(y_test, y_predict)\n",
    "\n",
    "  # Draw\n",
    "  print(classifier)\n",
    "  draw_conf_mat(cm)"
   ]
  },
  {
   "cell_type": "code",
   "execution_count": 116,
   "metadata": {
    "colab": {},
    "colab_type": "code",
    "id": "SZwOF1IzCyFL"
   },
   "outputs": [
    {
     "data": {
      "text/html": [
       "<div>\n",
       "<style scoped>\n",
       "    .dataframe tbody tr th:only-of-type {\n",
       "        vertical-align: middle;\n",
       "    }\n",
       "\n",
       "    .dataframe tbody tr th {\n",
       "        vertical-align: top;\n",
       "    }\n",
       "\n",
       "    .dataframe thead th {\n",
       "        text-align: right;\n",
       "    }\n",
       "</style>\n",
       "<table border=\"1\" class=\"dataframe\">\n",
       "  <thead>\n",
       "    <tr style=\"text-align: right;\">\n",
       "      <th></th>\n",
       "      <th>model</th>\n",
       "      <th>precision_test</th>\n",
       "      <th>recall_test</th>\n",
       "      <th>FPR_test</th>\n",
       "      <th>AUROC_test</th>\n",
       "      <th>f1_test</th>\n",
       "      <th>f1_train</th>\n",
       "      <th>f1_CV</th>\n",
       "    </tr>\n",
       "  </thead>\n",
       "  <tbody>\n",
       "    <tr>\n",
       "      <th>0</th>\n",
       "      <td>LGB_O</td>\n",
       "      <td>0.662291</td>\n",
       "      <td>0.3506</td>\n",
       "      <td>0.016885</td>\n",
       "      <td>0.894673</td>\n",
       "      <td>0.458488</td>\n",
       "      <td>0.96558</td>\n",
       "      <td>0.770224</td>\n",
       "    </tr>\n",
       "    <tr>\n",
       "      <th>0</th>\n",
       "      <td>LGB_O</td>\n",
       "      <td>0.662291</td>\n",
       "      <td>0.3506</td>\n",
       "      <td>0.016885</td>\n",
       "      <td>0.894673</td>\n",
       "      <td>0.458488</td>\n",
       "      <td>0.96558</td>\n",
       "      <td>0.988901</td>\n",
       "    </tr>\n",
       "    <tr>\n",
       "      <th>0</th>\n",
       "      <td>LGB_O</td>\n",
       "      <td>0.662291</td>\n",
       "      <td>0.3506</td>\n",
       "      <td>0.016885</td>\n",
       "      <td>0.894673</td>\n",
       "      <td>0.458488</td>\n",
       "      <td>0.96558</td>\n",
       "      <td>0.988283</td>\n",
       "    </tr>\n",
       "    <tr>\n",
       "      <th>0</th>\n",
       "      <td>LGB_O</td>\n",
       "      <td>0.662291</td>\n",
       "      <td>0.3506</td>\n",
       "      <td>0.016885</td>\n",
       "      <td>0.894673</td>\n",
       "      <td>0.458488</td>\n",
       "      <td>0.96558</td>\n",
       "      <td>0.987935</td>\n",
       "    </tr>\n",
       "  </tbody>\n",
       "</table>\n",
       "</div>"
      ],
      "text/plain": [
       "   model  precision_test  recall_test  FPR_test  AUROC_test   f1_test  \\\n",
       "0  LGB_O        0.662291       0.3506  0.016885    0.894673  0.458488   \n",
       "0  LGB_O        0.662291       0.3506  0.016885    0.894673  0.458488   \n",
       "0  LGB_O        0.662291       0.3506  0.016885    0.894673  0.458488   \n",
       "0  LGB_O        0.662291       0.3506  0.016885    0.894673  0.458488   \n",
       "\n",
       "   f1_train     f1_CV  \n",
       "0   0.96558  0.770224  \n",
       "0   0.96558  0.988901  \n",
       "0   0.96558  0.988283  \n",
       "0   0.96558  0.987935  "
      ]
     },
     "execution_count": 116,
     "metadata": {},
     "output_type": "execute_result"
    }
   ],
   "source": [
    "clf_over_matrix.explode('f1_CV')"
   ]
  },
  {
   "cell_type": "code",
   "execution_count": 117,
   "metadata": {},
   "outputs": [
    {
     "data": {
      "text/html": [
       "<div>\n",
       "<style scoped>\n",
       "    .dataframe tbody tr th:only-of-type {\n",
       "        vertical-align: middle;\n",
       "    }\n",
       "\n",
       "    .dataframe tbody tr th {\n",
       "        vertical-align: top;\n",
       "    }\n",
       "\n",
       "    .dataframe thead th {\n",
       "        text-align: right;\n",
       "    }\n",
       "</style>\n",
       "<table border=\"1\" class=\"dataframe\">\n",
       "  <thead>\n",
       "    <tr style=\"text-align: right;\">\n",
       "      <th></th>\n",
       "      <th>model</th>\n",
       "      <th>precision_test</th>\n",
       "      <th>recall_test</th>\n",
       "      <th>FPR_test</th>\n",
       "      <th>AUROC_test</th>\n",
       "      <th>f1_test</th>\n",
       "      <th>f1_train</th>\n",
       "      <th>f1_CV</th>\n",
       "    </tr>\n",
       "  </thead>\n",
       "  <tbody>\n",
       "    <tr>\n",
       "      <th>0</th>\n",
       "      <td>LGB_U</td>\n",
       "      <td>0.284392</td>\n",
       "      <td>0.814908</td>\n",
       "      <td>0.193675</td>\n",
       "      <td>0.896877</td>\n",
       "      <td>0.421638</td>\n",
       "      <td>0.912283</td>\n",
       "      <td>0.799872</td>\n",
       "    </tr>\n",
       "    <tr>\n",
       "      <th>0</th>\n",
       "      <td>LGB_U</td>\n",
       "      <td>0.284392</td>\n",
       "      <td>0.814908</td>\n",
       "      <td>0.193675</td>\n",
       "      <td>0.896877</td>\n",
       "      <td>0.421638</td>\n",
       "      <td>0.912283</td>\n",
       "      <td>0.809539</td>\n",
       "    </tr>\n",
       "    <tr>\n",
       "      <th>0</th>\n",
       "      <td>LGB_U</td>\n",
       "      <td>0.284392</td>\n",
       "      <td>0.814908</td>\n",
       "      <td>0.193675</td>\n",
       "      <td>0.896877</td>\n",
       "      <td>0.421638</td>\n",
       "      <td>0.912283</td>\n",
       "      <td>0.806221</td>\n",
       "    </tr>\n",
       "    <tr>\n",
       "      <th>0</th>\n",
       "      <td>LGB_U</td>\n",
       "      <td>0.284392</td>\n",
       "      <td>0.814908</td>\n",
       "      <td>0.193675</td>\n",
       "      <td>0.896877</td>\n",
       "      <td>0.421638</td>\n",
       "      <td>0.912283</td>\n",
       "      <td>0.810725</td>\n",
       "    </tr>\n",
       "  </tbody>\n",
       "</table>\n",
       "</div>"
      ],
      "text/plain": [
       "   model  precision_test  recall_test  FPR_test  AUROC_test   f1_test  \\\n",
       "0  LGB_U        0.284392     0.814908  0.193675    0.896877  0.421638   \n",
       "0  LGB_U        0.284392     0.814908  0.193675    0.896877  0.421638   \n",
       "0  LGB_U        0.284392     0.814908  0.193675    0.896877  0.421638   \n",
       "0  LGB_U        0.284392     0.814908  0.193675    0.896877  0.421638   \n",
       "\n",
       "   f1_train     f1_CV  \n",
       "0  0.912283  0.799872  \n",
       "0  0.912283  0.809539  \n",
       "0  0.912283  0.806221  \n",
       "0  0.912283  0.810725  "
      ]
     },
     "execution_count": 117,
     "metadata": {},
     "output_type": "execute_result"
    }
   ],
   "source": [
    "clf_under_matrix.explode('f1_CV')"
   ]
  },
  {
   "cell_type": "code",
   "execution_count": null,
   "metadata": {},
   "outputs": [],
   "source": []
  }
 ],
 "metadata": {
  "colab": {
   "collapsed_sections": [],
   "name": "Modeling_Iterations.ipynb",
   "provenance": []
  },
  "kernelspec": {
   "display_name": "Python 3",
   "language": "python",
   "name": "python3"
  },
  "language_info": {
   "codemirror_mode": {
    "name": "ipython",
    "version": 3
   },
   "file_extension": ".py",
   "mimetype": "text/x-python",
   "name": "python",
   "nbconvert_exporter": "python",
   "pygments_lexer": "ipython3",
   "version": "3.7.3"
  }
 },
 "nbformat": 4,
 "nbformat_minor": 1
}
