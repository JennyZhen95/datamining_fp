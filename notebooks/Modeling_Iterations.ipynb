{
 "cells": [
  {
   "cell_type": "code",
   "execution_count": 9,
   "metadata": {
    "colab": {},
    "colab_type": "code",
    "id": "NsyVL27dBlWI"
   },
   "outputs": [],
   "source": [
    "# importing standard packages\n",
    "import pandas as pd\n",
    "import numpy as np \n",
    "from scipy import stats \n",
    "\n",
    "# importing the plot funnctions\n",
    "import seaborn as sns \n",
    "import matplotlib.pyplot as plt\n",
    "%matplotlib inline \n",
    "\n",
    "# preprocessing/ model selection \n",
    "from sklearn.model_selection import train_test_split\n",
    "from sklearn.model_selection import cross_val_score\n",
    "\n",
    "# importing the classifiers \n",
    "from lightgbm import LGBMClassifier\n",
    "from xgboost import XGBClassifier\n",
    "from sklearn.ensemble import GradientBoostingClassifier\n",
    "from sklearn.ensemble import RandomForestClassifier\n",
    "\n",
    "# importing the metrics \n",
    "from sklearn.metrics import roc_auc_score\n",
    "from sklearn.metrics import confusion_matrix, accuracy_score, precision_score, recall_score, classification_report,f1_score\n",
    "from sklearn.metrics import roc_curve\n",
    "\n",
    "# oversampling techniques \n",
    "from imblearn.over_sampling import SMOTE\n",
    "\n",
    "# importing model saving package \n",
    "from joblib import dump, load\n"
   ]
  },
  {
   "cell_type": "markdown",
   "metadata": {},
   "source": [
    "## Functions for Notebooks"
   ]
  },
  {
   "cell_type": "code",
   "execution_count": 10,
   "metadata": {
    "colab": {},
    "colab_type": "code",
    "id": "rH25auEUCxb3"
   },
   "outputs": [],
   "source": [
    "def draw_conf_mat(mat):\n",
    "    \n",
    "    \"\"\"\n",
    "    Draw confusion matrix\n",
    "    \n",
    "    Parameters:\n",
    "    ------------------\n",
    "    mat:                ndarray of shape (n_classes, n_classes) \n",
    "                        confusion matrix\n",
    "\n",
    "    \"\"\"\n",
    "    \n",
    "    import matplotlib.pyplot as plt \n",
    "    import seaborn as sns\n",
    "    \n",
    "    fig, ax = plt.subplots(figsize=(10, 10))\n",
    "    sns.heatmap(mat, annot=True, fmt=\"d\",\n",
    "            xticklabels=['0', '1'],\n",
    "            yticklabels=['0', '1'])\n",
    "    plt.ylabel(\"Actual\")\n",
    "    plt.xlabel(\"Predicted\")\n",
    "    \n",
    "    return ax"
   ]
  },
  {
   "cell_type": "code",
   "execution_count": 11,
   "metadata": {
    "colab": {},
    "colab_type": "code",
    "id": "HPZbfv6KCxgE"
   },
   "outputs": [],
   "source": [
    "def draw_roc_curve(y_true, y_proba):\n",
    "    \n",
    "    \"\"\"\n",
    "    Draw baseline and model roc curve\n",
    "    \n",
    "    Parameters:\n",
    "    ------------------\n",
    "    y_true:             array-like of shape (n_samples,) \n",
    "                        True label of target (y)\n",
    "                        \n",
    "    y_proba             array-like of shape (n_samples,)\n",
    "                        The predicted probability of target (y)\n",
    "    \"\"\"\n",
    "    \n",
    "    \n",
    "    base_fpr, base_tpr, _ = roc_curve(y_true, [1 for _ in range(len(y_true))])\n",
    "    model_fpr, model_tpr, _ = roc_curve(y_true, y_proba)\n",
    "    \n",
    "    fig, ax = plt.subplots(figsize=(10, 6))\n",
    "    plt.plot(base_fpr, base_tpr, 'b', label = 'baseline')\n",
    "    plt.plot(model_fpr, model_tpr, 'r', label = 'model')\n",
    "    plt.legend();\n",
    "    plt.xlabel('False Positive Rate'); plt.ylabel('True Positive Rate'); plt.title('ROC Curves');\n",
    "    \n",
    "    return ax"
   ]
  },
  {
   "cell_type": "code",
   "execution_count": 12,
   "metadata": {
    "colab": {},
    "colab_type": "code",
    "id": "_eWOeVWsCxjc"
   },
   "outputs": [],
   "source": [
    "def metrics_imbalanced(your_confusion_matrix, y_true, y_proba):\n",
    "    \n",
    "    \"\"\"\n",
    "    Print precision, recall, fallout and auroc score based on the confusion matrix. \n",
    "    \n",
    "    Parameters:\n",
    "    ------------------\n",
    "    your_confusion_matrix:                ndarray of shape (n_classes, n_classes) \n",
    "                                          confusion matrix\n",
    "                                          \n",
    "    y_true:                               array-like of shape (n_samples,) \n",
    "                                          True label of target (y)\n",
    "                                          \n",
    "    y_proba:                              y_proba             array-like of shape (n_samples,)\n",
    "                                          The predicted probability of target (y)\n",
    "    \"\"\"\n",
    "    \n",
    "    # Model evaluation metrics. \n",
    "    tp = your_confusion_matrix[1,1]\n",
    "    fn = your_confusion_matrix[1,0]\n",
    "    fp = your_confusion_matrix[0,1]\n",
    "    tn = your_confusion_matrix[0,0]\n",
    "    auroc = roc_auc_score(y_true, y_proba)\n",
    "    \n",
    "    print('Precision = %0.3f'%(tp/(tp+fp)))\n",
    "    print('Recall (TPR) = %0.3f'%(tp/(tp+fn)))\n",
    "    print('Fallout (FPR) = %0.3f'%(fp/(fp+tn)))\n",
    "    print('Roc_auc_score = %0.3f'%auroc)"
   ]
  },
  {
   "cell_type": "code",
   "execution_count": 13,
   "metadata": {
    "colab": {},
    "colab_type": "code",
    "id": "CeWJxOh_FRXT"
   },
   "outputs": [],
   "source": [
    "def resampling_unbalanced(train_x, train_y, sample_method):\n",
    "    \"\"\" \n",
    "\n",
    "    Parameters\n",
    "    ----------\n",
    "    train_x : test_x \n",
    "            pd.DataFrame\n",
    "    train_y : train_y \n",
    "            pd.DataFrame\n",
    "    sample_method: 'over' or 'under'\n",
    "            string\n",
    "\n",
    "    Returns\n",
    "    -------\n",
    "    train_x : resampled train_x\n",
    "                pd.DataFrame\n",
    "    train_y : resampled train_y\n",
    "                pd.DataFrame\n",
    "        \n",
    "\n",
    "    \"\"\"\n",
    "    \n",
    "    \n",
    "    if sample_method == \"over\":\n",
    "        oversample = SMOTE()\n",
    "        train_x_ros, train_y_ros = oversample.fit_resample(X_train, y_train)\n",
    "        \n",
    "        return train_x_ros, train_y_ros\n",
    "        \n",
    "    if sample_method == \"under\":\n",
    "        # Concate X and Y train\n",
    "        trainData = pd.concat([train_x, train_y],axis=1)\n",
    "        # Class count\n",
    "        count_class_0, count_class_1 = trainData[\"hospital_death\"].value_counts()\n",
    "\n",
    "        # Divide by class\n",
    "        df_class_0 = trainData[trainData['hospital_death'] == 0]\n",
    "        df_class_1 = trainData[trainData['hospital_death'] == 1]\n",
    "        \n",
    "        # Sample the majority class\n",
    "        df_class_0_under = df_class_0.sample(count_class_1)\n",
    "        \n",
    "        # Put the train dataset together\n",
    "        train_rus = pd.concat([df_class_0_under, df_class_1], axis=0)\n",
    "        train_x_rus = train_rus.drop(\"hospital_death\", axis = 1)\n",
    "        train_y_rus = pd.DataFrame(train_rus['hospital_death'])\n",
    "        \n",
    "        return train_x_rus, train_y_rus"
   ]
  },
  {
   "cell_type": "markdown",
   "metadata": {},
   "source": [
    "## Bring in the X_wids and y_wids from the WIDS_Feature_Engineer.ipynb\n",
    "Run the WIDS Feature Engineer Notebook first in order to grab the dataframes"
   ]
  },
  {
   "cell_type": "code",
   "execution_count": 14,
   "metadata": {},
   "outputs": [],
   "source": [
    "# grab the stored data frames\n",
    "%store -r X_wids\n",
    "%store -r y_wids"
   ]
  },
  {
   "cell_type": "code",
   "execution_count": 15,
   "metadata": {},
   "outputs": [
    {
     "data": {
      "text/plain": [
       "((91713, 453), (91713, 1))"
      ]
     },
     "execution_count": 15,
     "metadata": {},
     "output_type": "execute_result"
    }
   ],
   "source": [
    "X_wids.shape, y_wids.shape"
   ]
  },
  {
   "cell_type": "markdown",
   "metadata": {},
   "source": [
    "## Train Test Split without Correction of Imbalanced Data"
   ]
  },
  {
   "cell_type": "code",
   "execution_count": 16,
   "metadata": {
    "colab": {},
    "colab_type": "code",
    "id": "IW5A_6luGi1J"
   },
   "outputs": [
    {
     "name": "stdout",
     "output_type": "stream",
     "text": [
      "(73370, 453) (18343, 453) (73370, 1) (18343, 1)\n"
     ]
    }
   ],
   "source": [
    "# Split train-test dataset \n",
    "from sklearn.model_selection import train_test_split\n",
    "\n",
    "X_train, X_test, y_train, y_test = train_test_split(X_wids, y_wids, test_size = 0.2, random_state = 31, stratify = y_wids)\n",
    "\n",
    "print(X_train.shape, X_test.shape, y_train.shape, y_test.shape)"
   ]
  },
  {
   "cell_type": "markdown",
   "metadata": {},
   "source": [
    "## Models with No Correction Of Imbalanced Data"
   ]
  },
  {
   "cell_type": "code",
   "execution_count": 17,
   "metadata": {
    "colab": {},
    "colab_type": "code",
    "id": "3Q7I7h51DZLh"
   },
   "outputs": [],
   "source": [
    "# create a dictionary of classifers with the hyperparameters you would like to try \n",
    "classifiers = {'XG': XGBClassifier(n_jobs = 1, learning_rate = .1, n_estimators = 100, objective = 'binary:hinge', booster='gbtree', max_depth = 7 ),\n",
    "              'RF': RandomForestClassifier(n_estimators= 100, max_depth = 7),\n",
    "              'LGB': LGBMClassifier(booster ='gbtree', n_estimators = 100, learning_rate = .1, max_depth = 7, objective ='binary')}"
   ]
  },
  {
   "cell_type": "code",
   "execution_count": 18,
   "metadata": {
    "colab": {},
    "colab_type": "code",
    "id": "0IQvBAsODZTj"
   },
   "outputs": [],
   "source": [
    "# keys of the classifiers \n",
    "selected_clfs = ['XG', 'RF', 'LGB']"
   ]
  },
  {
   "cell_type": "code",
   "execution_count": 19,
   "metadata": {
    "colab": {},
    "colab_type": "code",
    "id": "JmUV-PlKDZap",
    "scrolled": false
   },
   "outputs": [
    {
     "name": "stdout",
     "output_type": "stream",
     "text": [
      "-------- classifier being run is XG ---------\n",
      "-------- saving the the model ---------\n",
      "-------- computing y_predict, y_prob, y_train_predict ---------\n",
      "-------- creating the confusion matrix ---------\n",
      "-------- calculating the metrics ---------\n",
      "Cross Validation is on 4 folds.\n",
      "-------- append values to the model matrix  ---------\n",
      "-------- classifier being run is RF ---------\n",
      "-------- saving the the model ---------\n",
      "-------- computing y_predict, y_prob, y_train_predict ---------\n",
      "-------- creating the confusion matrix ---------\n",
      "-------- calculating the metrics ---------\n",
      "Cross Validation is on 4 folds.\n",
      "-------- append values to the model matrix  ---------\n",
      "-------- classifier being run is LGB ---------\n",
      "-------- saving the the model ---------\n",
      "-------- computing y_predict, y_prob, y_train_predict ---------\n",
      "-------- creating the confusion matrix ---------\n",
      "-------- calculating the metrics ---------\n",
      "Cross Validation is on 4 folds.\n",
      "-------- append values to the model matrix  ---------\n"
     ]
    }
   ],
   "source": [
    "# create the clf_matrix \n",
    "clf_matrix = pd.DataFrame(columns = ['model', 'precision_test', 'recall_test', 'FPR_test', 'AUROC_test',\n",
    "                                     'f1_test', 'f1_train', 'f1_CV'])\n",
    "\n",
    "# for every classifer in the selected classifers list\n",
    "for idx, classifier in enumerate(selected_clfs):\n",
    "\n",
    "    # get the classifer and hyperparameters from the model\n",
    "    clf = classifiers[classifier]\n",
    "\n",
    "    # fit the model \n",
    "    clf.fit(X_train,y_train.values.ravel())\n",
    "    print(f\"-------- classifier being run is {classifier} ---------\")\n",
    "\n",
    "    print(f\"-------- saving the the model ---------\")\n",
    "    # Write the model to file\n",
    "    dump(clf, '{}.joblib'.format(classifier)) \n",
    "\n",
    "    print(f\"-------- computing y_predict, y_prob, y_train_predict ---------\")\n",
    "    # prediction of y based on X_test\n",
    "    y_predict = clf.predict(X_test)\n",
    "    # prediction of y probability based on X_test\n",
    "    y_proba = clf.predict_proba(X_test)[:,1]\n",
    "    # prediction of y based on X_train\n",
    "    y_train_predict = clf.predict(X_train)\n",
    "\n",
    "    print(f\"-------- creating the confusion matrix ---------\") \n",
    "    # confusion matrix \n",
    "    cmat = confusion_matrix(y_test.values.ravel(), y_predict)\n",
    "    # tp, fn, fp, tn\n",
    "    tp = cmat[1,1]\n",
    "    fn = cmat[1,0]\n",
    "    fp = cmat[0,1]\n",
    "    tn = cmat[0,0]\n",
    "\n",
    "    print(f\"-------- calculating the metrics ---------\") \n",
    "    #precision score on test\n",
    "    p_score_test = precision_score(y_test.values.ravel(), y_predict)\n",
    "\n",
    "    #recall score on test\n",
    "    r_score_test = tp/(tp+fn) \n",
    "\n",
    "    #FPR score on test\n",
    "    fpr_test = fp/(fp+tn)\n",
    "\n",
    "    #AUROC score on test\n",
    "    auroc_test = roc_auc_score(y_test.values.ravel(), y_proba)\n",
    "\n",
    "    #f1 score on test\n",
    "    f1_test = f1_score(y_test.values.ravel(), y_predict)\n",
    "\n",
    "    #f1 score on train\n",
    "    f1_train = f1_score(y_train.values.ravel(), y_train_predict)\n",
    "\n",
    "    #f1 score on cross validation \n",
    "    k_fold = 4\n",
    "    f1_cv = cross_val_score(clf, X_train, y_train.values.ravel(), cv=k_fold, scoring = 'f1')\n",
    "    print(f\"Cross Validation is on {k_fold} folds.\")\n",
    "\n",
    "    print(f\"-------- append values to the model matrix  ---------\") \n",
    "\n",
    "    # append to matrix\n",
    "    df2 = pd.DataFrame([[classifier,p_score_test,r_score_test, fpr_test, auroc_test, f1_test, f1_train, f1_cv]], \n",
    "                       columns=['model', 'precision_test', 'recall_test', 'FPR_test', 'AUROC_test',\n",
    "                                     'f1_test', 'f1_train', 'f1_CV'])\n",
    "    \n",
    "    clf_matrix = pd.concat([df2, clf_matrix])\n"
   ]
  },
  {
   "cell_type": "code",
   "execution_count": 20,
   "metadata": {
    "colab": {},
    "colab_type": "code",
    "id": "KKpE21Dod-y_",
    "scrolled": false
   },
   "outputs": [
    {
     "name": "stdout",
     "output_type": "stream",
     "text": [
      "XG\n",
      "RF\n",
      "LGB\n"
     ]
    },
    {
     "data": {
      "image/png": "[encoded data removed]",
      "text/plain": [
       "<Figure size 720x720 with 2 Axes>"
      ]
     },
     "metadata": {
      "needs_background": "light"
     },
     "output_type": "display_data"
    },
    {
     "data": {
      "image/png": "[encoded data removed]",
      "text/plain": [
       "<Figure size 720x720 with 2 Axes>"
      ]
     },
     "metadata": {
      "needs_background": "light"
     },
     "output_type": "display_data"
    },
    {
     "data": {
      "image/png": "[encoded data removed]",
      "text/plain": [
       "<Figure size 720x720 with 2 Axes>"
      ]
     },
     "metadata": {
      "needs_background": "light"
     },
     "output_type": "display_data"
    }
   ],
   "source": [
    "# Draw confusion matrix for each model \n",
    "for classifier in selected_clfs:\n",
    "\n",
    "  # Load model saved\n",
    "  clf = load('{}.joblib'.format(classifier)) \n",
    "\n",
    "  # Predict y based on X_test\n",
    "  y_predict = clf.predict(X_test)\n",
    "\n",
    "  # confusion matrix\n",
    "  cm = confusion_matrix(y_test, y_predict)\n",
    "\n",
    "  # Draw\n",
    "  print(classifier)\n",
    "  draw_conf_mat(cm)\n"
   ]
  },
  {
   "cell_type": "markdown",
   "metadata": {},
   "source": [
    "## Models with Correction Of Imbalanced Data Using Undersampling"
   ]
  },
  {
   "cell_type": "code",
   "execution_count": 21,
   "metadata": {
    "colab": {},
    "colab_type": "code",
    "id": "VAQNTHxyCxqh"
   },
   "outputs": [],
   "source": [
    "# create a dictionary of classifers with the hyperparameters you would like to try \n",
    "classifiers = {'XG_U': XGBClassifier(n_jobs = 1, learning_rate = .1, n_estimators = 100, objective = 'binary:hinge', booster='gbtree', max_depth = 7 ),\n",
    "              'RF_U': RandomForestClassifier(n_estimators= 100, max_depth = 7),\n",
    "              'LGB_U': LGBMClassifier(booster ='gbtree', n_estimators = 100, learning_rate = .1, max_depth = 7, objective ='binary')}"
   ]
  },
  {
   "cell_type": "code",
   "execution_count": 22,
   "metadata": {
    "colab": {},
    "colab_type": "code",
    "id": "Aeu5vtTECxmm"
   },
   "outputs": [],
   "source": [
    "# keys for the classifiers \n",
    "selected_clfs = ['XG_U', 'RF_U', 'LGB_U']"
   ]
  },
  {
   "cell_type": "markdown",
   "metadata": {},
   "source": [
    "new train test split for imbalanced data. Undersampling Data!"
   ]
  },
  {
   "cell_type": "code",
   "execution_count": 23,
   "metadata": {},
   "outputs": [],
   "source": [
    "X_train_U, y_train_U = resampling_unbalanced(X_train, y_train, \"under\")"
   ]
  },
  {
   "cell_type": "code",
   "execution_count": 24,
   "metadata": {},
   "outputs": [
    {
     "data": {
      "text/plain": [
       "((12664, 453), (12664, 1))"
      ]
     },
     "execution_count": 24,
     "metadata": {},
     "output_type": "execute_result"
    }
   ],
   "source": [
    "X_train_U.shape, y_train_U.shape"
   ]
  },
  {
   "cell_type": "code",
   "execution_count": 25,
   "metadata": {},
   "outputs": [
    {
     "name": "stdout",
     "output_type": "stream",
     "text": [
      "-------- classifier being run is XG_U ---------\n",
      "-------- saving the the model ---------\n",
      "-------- computing y_predict, y_prob, y_train_predict ---------\n",
      "-------- creating the confusion matrix ---------\n",
      "-------- calculating the metrics ---------\n",
      "Cross Validation is on 4 folds.\n",
      "-------- append values to the model matrix  ---------\n",
      "-------- classifier being run is RF_U ---------\n",
      "-------- saving the the model ---------\n",
      "-------- computing y_predict, y_prob, y_train_predict ---------\n",
      "-------- creating the confusion matrix ---------\n",
      "-------- calculating the metrics ---------\n",
      "Cross Validation is on 4 folds.\n",
      "-------- append values to the model matrix  ---------\n",
      "-------- classifier being run is LGB_U ---------\n",
      "-------- saving the the model ---------\n",
      "-------- computing y_predict, y_prob, y_train_predict ---------\n",
      "-------- creating the confusion matrix ---------\n",
      "-------- calculating the metrics ---------\n",
      "Cross Validation is on 4 folds.\n",
      "-------- append values to the model matrix  ---------\n"
     ]
    }
   ],
   "source": [
    "clf_under_matrix = pd.DataFrame(columns = ['model', 'precision_test', 'recall_test', 'FPR_test', 'AUROC_test',\n",
    "                                     'f1_test', 'f1_train', 'f1_CV'])\n",
    "\n",
    "# for every classifer in the selected classifers list\n",
    "for idx, classifier in enumerate(selected_clfs):\n",
    "\n",
    "    # get the classifer and hyperparameters from the model\n",
    "    clf = classifiers[classifier]\n",
    "\n",
    "    # fit the model \n",
    "    clf.fit(X_train_U, y_train_U.values.ravel())\n",
    "    print(f\"-------- classifier being run is {classifier} ---------\")\n",
    "\n",
    "    print(f\"-------- saving the the model ---------\")\n",
    "    # Write the model to file\n",
    "    dump(clf, '{}.joblib'.format(classifier)) \n",
    "\n",
    "    print(f\"-------- computing y_predict, y_prob, y_train_predict ---------\")\n",
    "    # prediction of y based on X_test\n",
    "    y_predict = clf.predict(X_test)\n",
    "    # prediction of y probability based on X_test\n",
    "    y_proba = clf.predict_proba(X_test)[:,1]\n",
    "    # prediction of y based on X_train\n",
    "    y_train_predict = clf.predict(X_train_U)\n",
    "\n",
    "    print(f\"-------- creating the confusion matrix ---------\") \n",
    "    # confusion matrix \n",
    "    cmat = confusion_matrix(y_test.values.ravel(), y_predict)\n",
    "    # tp, fn, fp, tn\n",
    "    tp = cmat[1,1]\n",
    "    fn = cmat[1,0]\n",
    "    fp = cmat[0,1]\n",
    "    tn = cmat[0,0]\n",
    "\n",
    "    print(f\"-------- calculating the metrics ---------\") \n",
    "    #precision score on test\n",
    "    p_score_test = precision_score(y_test.values.ravel(), y_predict)\n",
    "\n",
    "    #recall score on test\n",
    "    r_score_test = tp/(tp+fn) \n",
    "\n",
    "    #FPR score on test\n",
    "    fpr_test = fp/(fp+tn)\n",
    "\n",
    "    #AUROC score on test\n",
    "    auroc_test = roc_auc_score(y_test.values.ravel(), y_proba)\n",
    "\n",
    "    #f1 score on test\n",
    "    f1_test = f1_score(y_test.values.ravel(), y_predict)\n",
    "\n",
    "    #f1 score on train\n",
    "    f1_train = f1_score(y_train_U.values.ravel(), y_train_predict)\n",
    "\n",
    "    #f1 score on cross validation \n",
    "    k_fold = 4\n",
    "    f1_cv = cross_val_score(clf, X_train_U, y_train_U.values.ravel(), cv=k_fold, scoring = 'f1')\n",
    "    print(f\"Cross Validation is on {k_fold} folds.\")\n",
    "\n",
    "    print(f\"-------- append values to the model matrix  ---------\") \n",
    "\n",
    "    # append to matrix\n",
    "    df2 = pd.DataFrame([[classifier,p_score_test,r_score_test, fpr_test, auroc_test, f1_test, f1_train, f1_cv]], \n",
    "                       columns=['model', 'precision_test', 'recall_test', 'FPR_test', 'AUROC_test',\n",
    "                                     'f1_test', 'f1_train', 'f1_CV'])\n",
    "    \n",
    "    clf_under_matrix = pd.concat([df2, clf_under_matrix])\n"
   ]
  },
  {
   "cell_type": "code",
   "execution_count": 26,
   "metadata": {
    "scrolled": false
   },
   "outputs": [
    {
     "name": "stdout",
     "output_type": "stream",
     "text": [
      "XG_U\n",
      "RF_U\n",
      "LGB_U\n"
     ]
    },
    {
     "data": {
      "image/png": "[encoded data removed]",
      "text/plain": [
       "<Figure size 720x720 with 2 Axes>"
      ]
     },
     "metadata": {
      "needs_background": "light"
     },
     "output_type": "display_data"
    },
    {
     "data": {
      "image/png": "[encoded data removed]",
      "text/plain": [
       "<Figure size 720x720 with 2 Axes>"
      ]
     },
     "metadata": {
      "needs_background": "light"
     },
     "output_type": "display_data"
    },
    {
     "data": {
      "image/png": "[encoded data removed]",
      "text/plain": [
       "<Figure size 720x720 with 2 Axes>"
      ]
     },
     "metadata": {
      "needs_background": "light"
     },
     "output_type": "display_data"
    }
   ],
   "source": [
    "# Draw confusion matrix for each model \n",
    "for classifier in selected_clfs:\n",
    "\n",
    "  # Load model saved\n",
    "  clf = load('{}.joblib'.format(classifier)) \n",
    "\n",
    "  # Predict y based on X_test\n",
    "  y_predict = clf.predict(X_test)\n",
    "\n",
    "  # confusion matrix\n",
    "  cm = confusion_matrix(y_test, y_predict)\n",
    "\n",
    "  # Draw\n",
    "  print(classifier)\n",
    "  draw_conf_mat(cm)"
   ]
  },
  {
   "cell_type": "code",
   "execution_count": 27,
   "metadata": {
    "scrolled": true
   },
   "outputs": [
    {
     "data": {
      "text/html": [
       "<div>\n",
       "<style scoped>\n",
       "    .dataframe tbody tr th:only-of-type {\n",
       "        vertical-align: middle;\n",
       "    }\n",
       "\n",
       "    .dataframe tbody tr th {\n",
       "        vertical-align: top;\n",
       "    }\n",
       "\n",
       "    .dataframe thead th {\n",
       "        text-align: right;\n",
       "    }\n",
       "</style>\n",
       "<table border=\"1\" class=\"dataframe\">\n",
       "  <thead>\n",
       "    <tr style=\"text-align: right;\">\n",
       "      <th></th>\n",
       "      <th>model</th>\n",
       "      <th>precision_test</th>\n",
       "      <th>recall_test</th>\n",
       "      <th>FPR_test</th>\n",
       "      <th>AUROC_test</th>\n",
       "      <th>f1_test</th>\n",
       "      <th>f1_train</th>\n",
       "      <th>f1_CV</th>\n",
       "    </tr>\n",
       "  </thead>\n",
       "  <tbody>\n",
       "    <tr>\n",
       "      <th>0</th>\n",
       "      <td>LGB_U</td>\n",
       "      <td>0.289427</td>\n",
       "      <td>0.830069</td>\n",
       "      <td>0.192482</td>\n",
       "      <td>0.898103</td>\n",
       "      <td>0.429201</td>\n",
       "      <td>0.910949</td>\n",
       "      <td>[0.8040842373962988, 0.8138147566718995, 0.805...</td>\n",
       "    </tr>\n",
       "    <tr>\n",
       "      <th>0</th>\n",
       "      <td>RF_U</td>\n",
       "      <td>0.293678</td>\n",
       "      <td>0.745420</td>\n",
       "      <td>0.169332</td>\n",
       "      <td>0.874837</td>\n",
       "      <td>0.421353</td>\n",
       "      <td>0.807130</td>\n",
       "      <td>[0.772, 0.7759526938239159, 0.7684210526315789...</td>\n",
       "    </tr>\n",
       "    <tr>\n",
       "      <th>0</th>\n",
       "      <td>XG_U</td>\n",
       "      <td>0.271331</td>\n",
       "      <td>0.803538</td>\n",
       "      <td>0.203819</td>\n",
       "      <td>0.799859</td>\n",
       "      <td>0.405677</td>\n",
       "      <td>0.948073</td>\n",
       "      <td>[0.7842761265580057, 0.7992507024664377, 0.785...</td>\n",
       "    </tr>\n",
       "  </tbody>\n",
       "</table>\n",
       "</div>"
      ],
      "text/plain": [
       "   model  precision_test  recall_test  FPR_test  AUROC_test   f1_test  \\\n",
       "0  LGB_U        0.289427     0.830069  0.192482    0.898103  0.429201   \n",
       "0   RF_U        0.293678     0.745420  0.169332    0.874837  0.421353   \n",
       "0   XG_U        0.271331     0.803538  0.203819    0.799859  0.405677   \n",
       "\n",
       "   f1_train                                              f1_CV  \n",
       "0  0.910949  [0.8040842373962988, 0.8138147566718995, 0.805...  \n",
       "0  0.807130  [0.772, 0.7759526938239159, 0.7684210526315789...  \n",
       "0  0.948073  [0.7842761265580057, 0.7992507024664377, 0.785...  "
      ]
     },
     "execution_count": 27,
     "metadata": {},
     "output_type": "execute_result"
    }
   ],
   "source": [
    "clf_under_matrix"
   ]
  },
  {
   "cell_type": "markdown",
   "metadata": {
    "colab": {},
    "colab_type": "code",
    "id": "AGQ9M93zCxz3"
   },
   "source": [
    "## Models with Correction Of Imbalanced Data Using Oversampling SMOTE "
   ]
  },
  {
   "cell_type": "code",
   "execution_count": 28,
   "metadata": {
    "colab": {},
    "colab_type": "code",
    "id": "PrZrc_zgCx6t"
   },
   "outputs": [],
   "source": [
    "# create a dictionary of classifers with the hyperparameters you would like to try \n",
    "classifiers = {'XG_O': XGBClassifier(n_jobs = 1, learning_rate = .1, n_estimators = 100, objective = 'binary:hinge', booster='gbtree', max_depth = 7 ),\n",
    "              'RF_O': RandomForestClassifier(n_estimators= 100, max_depth = 7),\n",
    "              'LGB_O': LGBMClassifier(booster ='gbtree', n_estimators = 100, learning_rate = .1, max_depth = 7, objective ='binary')}"
   ]
  },
  {
   "cell_type": "code",
   "execution_count": 29,
   "metadata": {
    "colab": {},
    "colab_type": "code",
    "id": "iF9wdNYVCx3T"
   },
   "outputs": [],
   "source": [
    "selected_clfs = ['XG_O', 'RF_O', 'LGB_O']"
   ]
  },
  {
   "cell_type": "code",
   "execution_count": 30,
   "metadata": {},
   "outputs": [],
   "source": [
    "X_train_O, y_train_O = resampling_unbalanced(X_train, y_train, \"over\")"
   ]
  },
  {
   "cell_type": "code",
   "execution_count": 31,
   "metadata": {},
   "outputs": [
    {
     "data": {
      "text/plain": [
       "((134076, 453), (134076, 1))"
      ]
     },
     "execution_count": 31,
     "metadata": {},
     "output_type": "execute_result"
    }
   ],
   "source": [
    "X_train_O.shape, y_train_O.shape"
   ]
  },
  {
   "cell_type": "code",
   "execution_count": 32,
   "metadata": {
    "colab": {},
    "colab_type": "code",
    "id": "pJmp0nhGCx-T"
   },
   "outputs": [
    {
     "name": "stdout",
     "output_type": "stream",
     "text": [
      "XG_O\n",
      "-------- classifier being run is XG_O ---------\n",
      "-------- saving the the model ---------\n",
      "-------- computing y_predict, y_prob, y_train_predict ---------\n",
      "-------- creating the confusion matrix ---------\n",
      "-------- calculating the metrics ---------\n",
      "Cross Validation is on 4 folds.\n",
      "-------- append values to the model matrix  ---------\n",
      "RF_O\n",
      "-------- classifier being run is RF_O ---------\n",
      "-------- saving the the model ---------\n",
      "-------- computing y_predict, y_prob, y_train_predict ---------\n",
      "-------- creating the confusion matrix ---------\n",
      "-------- calculating the metrics ---------\n",
      "Cross Validation is on 4 folds.\n",
      "-------- append values to the model matrix  ---------\n",
      "LGB_O\n",
      "-------- classifier being run is LGB_O ---------\n",
      "-------- saving the the model ---------\n",
      "-------- computing y_predict, y_prob, y_train_predict ---------\n",
      "-------- creating the confusion matrix ---------\n",
      "-------- calculating the metrics ---------\n",
      "Cross Validation is on 4 folds.\n",
      "-------- append values to the model matrix  ---------\n"
     ]
    }
   ],
   "source": [
    "clf_over_matrix = pd.DataFrame(columns = ['model', 'precision_test', 'recall_test', 'FPR_test', 'AUROC_test',\n",
    "                                     'f1_test', 'f1_train', 'f1_CV'])\n",
    "\n",
    "# for every classifer in the selected classifers list\n",
    "for idx, classifier in enumerate(selected_clfs):\n",
    "    print(classifier)\n",
    "    # get the classifer and hyperparameters from the model\n",
    "    clf = classifiers[classifier]\n",
    "\n",
    "    # fit the model \n",
    "    clf.fit(X_train_O,y_train_O.values.ravel())\n",
    "    print(f\"-------- classifier being run is {classifier} ---------\")\n",
    "\n",
    "    print(f\"-------- saving the the model ---------\")\n",
    "    # Write the model to file\n",
    "    dump(clf, '{}.joblib'.format(classifier)) \n",
    "\n",
    "    print(f\"-------- computing y_predict, y_prob, y_train_predict ---------\")\n",
    "    # prediction of y based on X_test\n",
    "    y_predict = clf.predict(X_test)\n",
    "    # prediction of y probability based on X_test\n",
    "    y_proba = clf.predict_proba(X_test)[:,1]\n",
    "    # prediction of y based on X_train_O\n",
    "    y_train_predict = clf.predict(X_train_O)\n",
    "\n",
    "    print(f\"-------- creating the confusion matrix ---------\") \n",
    "    # confusion matrix \n",
    "    cmat = confusion_matrix(y_test.values.ravel(), y_predict)\n",
    "    # tp, fn, fp, tn\n",
    "    tp = cmat[1,1]\n",
    "    fn = cmat[1,0]\n",
    "    fp = cmat[0,1]\n",
    "    tn = cmat[0,0]\n",
    "\n",
    "    print(f\"-------- calculating the metrics ---------\") \n",
    "    #precision score on test\n",
    "    p_score_test = precision_score(y_test.values.ravel(), y_predict)\n",
    "\n",
    "    #recall score on test\n",
    "    r_score_test = tp/(tp+fn) \n",
    "\n",
    "    #FPR score on test\n",
    "    fpr_test = fp/(fp+tn)\n",
    "\n",
    "    #AUROC score on test\n",
    "    auroc_test = roc_auc_score(y_test.values.ravel(), y_proba)\n",
    "\n",
    "    #f1 score on test\n",
    "    f1_test = f1_score(y_test.values.ravel(), y_predict)\n",
    "\n",
    "    #f1 score on train\n",
    "    f1_train = f1_score(y_train_O.values.ravel(), y_train_predict)\n",
    "\n",
    "    #f1 score on cross validation \n",
    "    k_fold = 4\n",
    "    f1_cv = cross_val_score(clf, X_train_O, y_train_O.values.ravel(), cv=k_fold, scoring = 'f1')\n",
    "    print(f\"Cross Validation is on {k_fold} folds.\")\n",
    "\n",
    "    print(f\"-------- append values to the model matrix  ---------\") \n",
    "\n",
    "    # append to matrix\n",
    "    df2 = pd.DataFrame([[classifier,p_score_test,r_score_test, fpr_test, auroc_test, f1_test, f1_train, f1_cv]], \n",
    "                       columns=['model', 'precision_test', 'recall_test', 'FPR_test', 'AUROC_test',\n",
    "                                     'f1_test', 'f1_train', 'f1_CV'])\n",
    "    \n",
    "    clf_over_matrix = pd.concat([df2, clf_over_matrix])\n"
   ]
  },
  {
   "cell_type": "code",
   "execution_count": 33,
   "metadata": {
    "colab": {},
    "colab_type": "code",
    "id": "xluRawugCyB2",
    "scrolled": false
   },
   "outputs": [
    {
     "name": "stdout",
     "output_type": "stream",
     "text": [
      "XG_O\n",
      "RF_O\n",
      "LGB_O\n"
     ]
    },
    {
     "data": {
      "image/png": "[encoded data removed]",
      "text/plain": [
       "<Figure size 720x720 with 2 Axes>"
      ]
     },
     "metadata": {
      "needs_background": "light"
     },
     "output_type": "display_data"
    },
    {
     "data": {
      "image/png": "[encoded data removed]",
      "text/plain": [
       "<Figure size 720x720 with 2 Axes>"
      ]
     },
     "metadata": {
      "needs_background": "light"
     },
     "output_type": "display_data"
    },
    {
     "data": {
      "image/png": "[encoded data removed]",
      "text/plain": [
       "<Figure size 720x720 with 2 Axes>"
      ]
     },
     "metadata": {
      "needs_background": "light"
     },
     "output_type": "display_data"
    }
   ],
   "source": [
    "# Draw confusion matrix for each model \n",
    "for classifier in selected_clfs:\n",
    "\n",
    "  # Load model saved\n",
    "  clf = load('{}.joblib'.format(classifier)) \n",
    "\n",
    "  # Predict y based on X_test\n",
    "  y_predict = clf.predict(X_test)\n",
    "\n",
    "  # confusion matrix\n",
    "  cm = confusion_matrix(y_test, y_predict)\n",
    "\n",
    "  # Draw\n",
    "  print(classifier)\n",
    "  draw_conf_mat(cm)"
   ]
  },
  {
   "cell_type": "code",
   "execution_count": 34,
   "metadata": {
    "colab": {},
    "colab_type": "code",
    "id": "SZwOF1IzCyFL"
   },
   "outputs": [
    {
     "data": {
      "text/html": [
       "<div>\n",
       "<style scoped>\n",
       "    .dataframe tbody tr th:only-of-type {\n",
       "        vertical-align: middle;\n",
       "    }\n",
       "\n",
       "    .dataframe tbody tr th {\n",
       "        vertical-align: top;\n",
       "    }\n",
       "\n",
       "    .dataframe thead th {\n",
       "        text-align: right;\n",
       "    }\n",
       "</style>\n",
       "<table border=\"1\" class=\"dataframe\">\n",
       "  <thead>\n",
       "    <tr style=\"text-align: right;\">\n",
       "      <th></th>\n",
       "      <th>model</th>\n",
       "      <th>precision_test</th>\n",
       "      <th>recall_test</th>\n",
       "      <th>FPR_test</th>\n",
       "      <th>AUROC_test</th>\n",
       "      <th>f1_test</th>\n",
       "      <th>f1_train</th>\n",
       "      <th>f1_CV</th>\n",
       "    </tr>\n",
       "  </thead>\n",
       "  <tbody>\n",
       "    <tr>\n",
       "      <th>0</th>\n",
       "      <td>LGB_O</td>\n",
       "      <td>0.657109</td>\n",
       "      <td>0.347442</td>\n",
       "      <td>0.017124</td>\n",
       "      <td>0.893171</td>\n",
       "      <td>0.454545</td>\n",
       "      <td>0.965755</td>\n",
       "      <td>0.770061</td>\n",
       "    </tr>\n",
       "    <tr>\n",
       "      <th>0</th>\n",
       "      <td>LGB_O</td>\n",
       "      <td>0.657109</td>\n",
       "      <td>0.347442</td>\n",
       "      <td>0.017124</td>\n",
       "      <td>0.893171</td>\n",
       "      <td>0.454545</td>\n",
       "      <td>0.965755</td>\n",
       "      <td>0.988723</td>\n",
       "    </tr>\n",
       "    <tr>\n",
       "      <th>0</th>\n",
       "      <td>LGB_O</td>\n",
       "      <td>0.657109</td>\n",
       "      <td>0.347442</td>\n",
       "      <td>0.017124</td>\n",
       "      <td>0.893171</td>\n",
       "      <td>0.454545</td>\n",
       "      <td>0.965755</td>\n",
       "      <td>0.988337</td>\n",
       "    </tr>\n",
       "    <tr>\n",
       "      <th>0</th>\n",
       "      <td>LGB_O</td>\n",
       "      <td>0.657109</td>\n",
       "      <td>0.347442</td>\n",
       "      <td>0.017124</td>\n",
       "      <td>0.893171</td>\n",
       "      <td>0.454545</td>\n",
       "      <td>0.965755</td>\n",
       "      <td>0.98744</td>\n",
       "    </tr>\n",
       "    <tr>\n",
       "      <th>0</th>\n",
       "      <td>RF_O</td>\n",
       "      <td>0.338144</td>\n",
       "      <td>0.621605</td>\n",
       "      <td>0.114916</td>\n",
       "      <td>0.862134</td>\n",
       "      <td>0.438015</td>\n",
       "      <td>0.889686</td>\n",
       "      <td>0.836811</td>\n",
       "    </tr>\n",
       "    <tr>\n",
       "      <th>0</th>\n",
       "      <td>RF_O</td>\n",
       "      <td>0.338144</td>\n",
       "      <td>0.621605</td>\n",
       "      <td>0.114916</td>\n",
       "      <td>0.862134</td>\n",
       "      <td>0.438015</td>\n",
       "      <td>0.889686</td>\n",
       "      <td>0.899293</td>\n",
       "    </tr>\n",
       "    <tr>\n",
       "      <th>0</th>\n",
       "      <td>RF_O</td>\n",
       "      <td>0.338144</td>\n",
       "      <td>0.621605</td>\n",
       "      <td>0.114916</td>\n",
       "      <td>0.862134</td>\n",
       "      <td>0.438015</td>\n",
       "      <td>0.889686</td>\n",
       "      <td>0.897386</td>\n",
       "    </tr>\n",
       "    <tr>\n",
       "      <th>0</th>\n",
       "      <td>RF_O</td>\n",
       "      <td>0.338144</td>\n",
       "      <td>0.621605</td>\n",
       "      <td>0.114916</td>\n",
       "      <td>0.862134</td>\n",
       "      <td>0.438015</td>\n",
       "      <td>0.889686</td>\n",
       "      <td>0.893335</td>\n",
       "    </tr>\n",
       "    <tr>\n",
       "      <th>0</th>\n",
       "      <td>XG_O</td>\n",
       "      <td>0.702247</td>\n",
       "      <td>0.315856</td>\n",
       "      <td>0.012649</td>\n",
       "      <td>0.651603</td>\n",
       "      <td>0.435730</td>\n",
       "      <td>0.972835</td>\n",
       "      <td>0.771913</td>\n",
       "    </tr>\n",
       "    <tr>\n",
       "      <th>0</th>\n",
       "      <td>XG_O</td>\n",
       "      <td>0.702247</td>\n",
       "      <td>0.315856</td>\n",
       "      <td>0.012649</td>\n",
       "      <td>0.651603</td>\n",
       "      <td>0.435730</td>\n",
       "      <td>0.972835</td>\n",
       "      <td>0.990304</td>\n",
       "    </tr>\n",
       "    <tr>\n",
       "      <th>0</th>\n",
       "      <td>XG_O</td>\n",
       "      <td>0.702247</td>\n",
       "      <td>0.315856</td>\n",
       "      <td>0.012649</td>\n",
       "      <td>0.651603</td>\n",
       "      <td>0.435730</td>\n",
       "      <td>0.972835</td>\n",
       "      <td>0.990308</td>\n",
       "    </tr>\n",
       "    <tr>\n",
       "      <th>0</th>\n",
       "      <td>XG_O</td>\n",
       "      <td>0.702247</td>\n",
       "      <td>0.315856</td>\n",
       "      <td>0.012649</td>\n",
       "      <td>0.651603</td>\n",
       "      <td>0.435730</td>\n",
       "      <td>0.972835</td>\n",
       "      <td>0.989311</td>\n",
       "    </tr>\n",
       "  </tbody>\n",
       "</table>\n",
       "</div>"
      ],
      "text/plain": [
       "   model  precision_test  recall_test  FPR_test  AUROC_test   f1_test  \\\n",
       "0  LGB_O        0.657109     0.347442  0.017124    0.893171  0.454545   \n",
       "0  LGB_O        0.657109     0.347442  0.017124    0.893171  0.454545   \n",
       "0  LGB_O        0.657109     0.347442  0.017124    0.893171  0.454545   \n",
       "0  LGB_O        0.657109     0.347442  0.017124    0.893171  0.454545   \n",
       "0   RF_O        0.338144     0.621605  0.114916    0.862134  0.438015   \n",
       "0   RF_O        0.338144     0.621605  0.114916    0.862134  0.438015   \n",
       "0   RF_O        0.338144     0.621605  0.114916    0.862134  0.438015   \n",
       "0   RF_O        0.338144     0.621605  0.114916    0.862134  0.438015   \n",
       "0   XG_O        0.702247     0.315856  0.012649    0.651603  0.435730   \n",
       "0   XG_O        0.702247     0.315856  0.012649    0.651603  0.435730   \n",
       "0   XG_O        0.702247     0.315856  0.012649    0.651603  0.435730   \n",
       "0   XG_O        0.702247     0.315856  0.012649    0.651603  0.435730   \n",
       "\n",
       "   f1_train     f1_CV  \n",
       "0  0.965755  0.770061  \n",
       "0  0.965755  0.988723  \n",
       "0  0.965755  0.988337  \n",
       "0  0.965755   0.98744  \n",
       "0  0.889686  0.836811  \n",
       "0  0.889686  0.899293  \n",
       "0  0.889686  0.897386  \n",
       "0  0.889686  0.893335  \n",
       "0  0.972835  0.771913  \n",
       "0  0.972835  0.990304  \n",
       "0  0.972835  0.990308  \n",
       "0  0.972835  0.989311  "
      ]
     },
     "execution_count": 34,
     "metadata": {},
     "output_type": "execute_result"
    }
   ],
   "source": [
    "clf_over_matrix.explode('f1_CV')"
   ]
  },
  {
   "cell_type": "code",
   "execution_count": 35,
   "metadata": {},
   "outputs": [
    {
     "data": {
      "text/html": [
       "<div>\n",
       "<style scoped>\n",
       "    .dataframe tbody tr th:only-of-type {\n",
       "        vertical-align: middle;\n",
       "    }\n",
       "\n",
       "    .dataframe tbody tr th {\n",
       "        vertical-align: top;\n",
       "    }\n",
       "\n",
       "    .dataframe thead th {\n",
       "        text-align: right;\n",
       "    }\n",
       "</style>\n",
       "<table border=\"1\" class=\"dataframe\">\n",
       "  <thead>\n",
       "    <tr style=\"text-align: right;\">\n",
       "      <th></th>\n",
       "      <th>model</th>\n",
       "      <th>precision_test</th>\n",
       "      <th>recall_test</th>\n",
       "      <th>FPR_test</th>\n",
       "      <th>AUROC_test</th>\n",
       "      <th>f1_test</th>\n",
       "      <th>f1_train</th>\n",
       "      <th>f1_CV</th>\n",
       "    </tr>\n",
       "  </thead>\n",
       "  <tbody>\n",
       "    <tr>\n",
       "      <th>0</th>\n",
       "      <td>LGB_U</td>\n",
       "      <td>0.289427</td>\n",
       "      <td>0.830069</td>\n",
       "      <td>0.192482</td>\n",
       "      <td>0.898103</td>\n",
       "      <td>0.429201</td>\n",
       "      <td>0.910949</td>\n",
       "      <td>0.804084</td>\n",
       "    </tr>\n",
       "    <tr>\n",
       "      <th>0</th>\n",
       "      <td>LGB_U</td>\n",
       "      <td>0.289427</td>\n",
       "      <td>0.830069</td>\n",
       "      <td>0.192482</td>\n",
       "      <td>0.898103</td>\n",
       "      <td>0.429201</td>\n",
       "      <td>0.910949</td>\n",
       "      <td>0.813815</td>\n",
       "    </tr>\n",
       "    <tr>\n",
       "      <th>0</th>\n",
       "      <td>LGB_U</td>\n",
       "      <td>0.289427</td>\n",
       "      <td>0.830069</td>\n",
       "      <td>0.192482</td>\n",
       "      <td>0.898103</td>\n",
       "      <td>0.429201</td>\n",
       "      <td>0.910949</td>\n",
       "      <td>0.805146</td>\n",
       "    </tr>\n",
       "    <tr>\n",
       "      <th>0</th>\n",
       "      <td>LGB_U</td>\n",
       "      <td>0.289427</td>\n",
       "      <td>0.830069</td>\n",
       "      <td>0.192482</td>\n",
       "      <td>0.898103</td>\n",
       "      <td>0.429201</td>\n",
       "      <td>0.910949</td>\n",
       "      <td>0.799117</td>\n",
       "    </tr>\n",
       "    <tr>\n",
       "      <th>0</th>\n",
       "      <td>RF_U</td>\n",
       "      <td>0.293678</td>\n",
       "      <td>0.745420</td>\n",
       "      <td>0.169332</td>\n",
       "      <td>0.874837</td>\n",
       "      <td>0.421353</td>\n",
       "      <td>0.807130</td>\n",
       "      <td>0.772</td>\n",
       "    </tr>\n",
       "    <tr>\n",
       "      <th>0</th>\n",
       "      <td>RF_U</td>\n",
       "      <td>0.293678</td>\n",
       "      <td>0.745420</td>\n",
       "      <td>0.169332</td>\n",
       "      <td>0.874837</td>\n",
       "      <td>0.421353</td>\n",
       "      <td>0.807130</td>\n",
       "      <td>0.775953</td>\n",
       "    </tr>\n",
       "    <tr>\n",
       "      <th>0</th>\n",
       "      <td>RF_U</td>\n",
       "      <td>0.293678</td>\n",
       "      <td>0.745420</td>\n",
       "      <td>0.169332</td>\n",
       "      <td>0.874837</td>\n",
       "      <td>0.421353</td>\n",
       "      <td>0.807130</td>\n",
       "      <td>0.768421</td>\n",
       "    </tr>\n",
       "    <tr>\n",
       "      <th>0</th>\n",
       "      <td>RF_U</td>\n",
       "      <td>0.293678</td>\n",
       "      <td>0.745420</td>\n",
       "      <td>0.169332</td>\n",
       "      <td>0.874837</td>\n",
       "      <td>0.421353</td>\n",
       "      <td>0.807130</td>\n",
       "      <td>0.77547</td>\n",
       "    </tr>\n",
       "    <tr>\n",
       "      <th>0</th>\n",
       "      <td>XG_U</td>\n",
       "      <td>0.271331</td>\n",
       "      <td>0.803538</td>\n",
       "      <td>0.203819</td>\n",
       "      <td>0.799859</td>\n",
       "      <td>0.405677</td>\n",
       "      <td>0.948073</td>\n",
       "      <td>0.784276</td>\n",
       "    </tr>\n",
       "    <tr>\n",
       "      <th>0</th>\n",
       "      <td>XG_U</td>\n",
       "      <td>0.271331</td>\n",
       "      <td>0.803538</td>\n",
       "      <td>0.203819</td>\n",
       "      <td>0.799859</td>\n",
       "      <td>0.405677</td>\n",
       "      <td>0.948073</td>\n",
       "      <td>0.799251</td>\n",
       "    </tr>\n",
       "    <tr>\n",
       "      <th>0</th>\n",
       "      <td>XG_U</td>\n",
       "      <td>0.271331</td>\n",
       "      <td>0.803538</td>\n",
       "      <td>0.203819</td>\n",
       "      <td>0.799859</td>\n",
       "      <td>0.405677</td>\n",
       "      <td>0.948073</td>\n",
       "      <td>0.785195</td>\n",
       "    </tr>\n",
       "    <tr>\n",
       "      <th>0</th>\n",
       "      <td>XG_U</td>\n",
       "      <td>0.271331</td>\n",
       "      <td>0.803538</td>\n",
       "      <td>0.203819</td>\n",
       "      <td>0.799859</td>\n",
       "      <td>0.405677</td>\n",
       "      <td>0.948073</td>\n",
       "      <td>0.791653</td>\n",
       "    </tr>\n",
       "  </tbody>\n",
       "</table>\n",
       "</div>"
      ],
      "text/plain": [
       "   model  precision_test  recall_test  FPR_test  AUROC_test   f1_test  \\\n",
       "0  LGB_U        0.289427     0.830069  0.192482    0.898103  0.429201   \n",
       "0  LGB_U        0.289427     0.830069  0.192482    0.898103  0.429201   \n",
       "0  LGB_U        0.289427     0.830069  0.192482    0.898103  0.429201   \n",
       "0  LGB_U        0.289427     0.830069  0.192482    0.898103  0.429201   \n",
       "0   RF_U        0.293678     0.745420  0.169332    0.874837  0.421353   \n",
       "0   RF_U        0.293678     0.745420  0.169332    0.874837  0.421353   \n",
       "0   RF_U        0.293678     0.745420  0.169332    0.874837  0.421353   \n",
       "0   RF_U        0.293678     0.745420  0.169332    0.874837  0.421353   \n",
       "0   XG_U        0.271331     0.803538  0.203819    0.799859  0.405677   \n",
       "0   XG_U        0.271331     0.803538  0.203819    0.799859  0.405677   \n",
       "0   XG_U        0.271331     0.803538  0.203819    0.799859  0.405677   \n",
       "0   XG_U        0.271331     0.803538  0.203819    0.799859  0.405677   \n",
       "\n",
       "   f1_train     f1_CV  \n",
       "0  0.910949  0.804084  \n",
       "0  0.910949  0.813815  \n",
       "0  0.910949  0.805146  \n",
       "0  0.910949  0.799117  \n",
       "0  0.807130     0.772  \n",
       "0  0.807130  0.775953  \n",
       "0  0.807130  0.768421  \n",
       "0  0.807130   0.77547  \n",
       "0  0.948073  0.784276  \n",
       "0  0.948073  0.799251  \n",
       "0  0.948073  0.785195  \n",
       "0  0.948073  0.791653  "
      ]
     },
     "execution_count": 35,
     "metadata": {},
     "output_type": "execute_result"
    }
   ],
   "source": [
    "clf_under_matrix.explode('f1_CV')"
   ]
  },
  {
   "cell_type": "code",
   "execution_count": 36,
   "metadata": {},
   "outputs": [
    {
     "data": {
      "text/html": [
       "<div>\n",
       "<style scoped>\n",
       "    .dataframe tbody tr th:only-of-type {\n",
       "        vertical-align: middle;\n",
       "    }\n",
       "\n",
       "    .dataframe tbody tr th {\n",
       "        vertical-align: top;\n",
       "    }\n",
       "\n",
       "    .dataframe thead th {\n",
       "        text-align: right;\n",
       "    }\n",
       "</style>\n",
       "<table border=\"1\" class=\"dataframe\">\n",
       "  <thead>\n",
       "    <tr style=\"text-align: right;\">\n",
       "      <th></th>\n",
       "      <th>model</th>\n",
       "      <th>precision_test</th>\n",
       "      <th>recall_test</th>\n",
       "      <th>FPR_test</th>\n",
       "      <th>AUROC_test</th>\n",
       "      <th>f1_test</th>\n",
       "      <th>f1_train</th>\n",
       "      <th>f1_CV</th>\n",
       "    </tr>\n",
       "  </thead>\n",
       "  <tbody>\n",
       "    <tr>\n",
       "      <th>0</th>\n",
       "      <td>LGB</td>\n",
       "      <td>0.695153</td>\n",
       "      <td>0.344283</td>\n",
       "      <td>0.014260</td>\n",
       "      <td>0.900028</td>\n",
       "      <td>0.460499</td>\n",
       "      <td>0.591588</td>\n",
       "      <td>0.4394</td>\n",
       "    </tr>\n",
       "    <tr>\n",
       "      <th>0</th>\n",
       "      <td>LGB</td>\n",
       "      <td>0.695153</td>\n",
       "      <td>0.344283</td>\n",
       "      <td>0.014260</td>\n",
       "      <td>0.900028</td>\n",
       "      <td>0.460499</td>\n",
       "      <td>0.591588</td>\n",
       "      <td>0.453767</td>\n",
       "    </tr>\n",
       "    <tr>\n",
       "      <th>0</th>\n",
       "      <td>LGB</td>\n",
       "      <td>0.695153</td>\n",
       "      <td>0.344283</td>\n",
       "      <td>0.014260</td>\n",
       "      <td>0.900028</td>\n",
       "      <td>0.460499</td>\n",
       "      <td>0.591588</td>\n",
       "      <td>0.456633</td>\n",
       "    </tr>\n",
       "    <tr>\n",
       "      <th>0</th>\n",
       "      <td>LGB</td>\n",
       "      <td>0.695153</td>\n",
       "      <td>0.344283</td>\n",
       "      <td>0.014260</td>\n",
       "      <td>0.900028</td>\n",
       "      <td>0.460499</td>\n",
       "      <td>0.591588</td>\n",
       "      <td>0.475789</td>\n",
       "    </tr>\n",
       "    <tr>\n",
       "      <th>0</th>\n",
       "      <td>RF</td>\n",
       "      <td>0.750000</td>\n",
       "      <td>0.191409</td>\n",
       "      <td>0.006026</td>\n",
       "      <td>0.870985</td>\n",
       "      <td>0.304982</td>\n",
       "      <td>0.358146</td>\n",
       "      <td>0.305681</td>\n",
       "    </tr>\n",
       "    <tr>\n",
       "      <th>0</th>\n",
       "      <td>RF</td>\n",
       "      <td>0.750000</td>\n",
       "      <td>0.191409</td>\n",
       "      <td>0.006026</td>\n",
       "      <td>0.870985</td>\n",
       "      <td>0.304982</td>\n",
       "      <td>0.358146</td>\n",
       "      <td>0.30529</td>\n",
       "    </tr>\n",
       "    <tr>\n",
       "      <th>0</th>\n",
       "      <td>RF</td>\n",
       "      <td>0.750000</td>\n",
       "      <td>0.191409</td>\n",
       "      <td>0.006026</td>\n",
       "      <td>0.870985</td>\n",
       "      <td>0.304982</td>\n",
       "      <td>0.358146</td>\n",
       "      <td>0.301563</td>\n",
       "    </tr>\n",
       "    <tr>\n",
       "      <th>0</th>\n",
       "      <td>RF</td>\n",
       "      <td>0.750000</td>\n",
       "      <td>0.191409</td>\n",
       "      <td>0.006026</td>\n",
       "      <td>0.870985</td>\n",
       "      <td>0.304982</td>\n",
       "      <td>0.358146</td>\n",
       "      <td>0.330184</td>\n",
       "    </tr>\n",
       "    <tr>\n",
       "      <th>0</th>\n",
       "      <td>XG</td>\n",
       "      <td>0.689855</td>\n",
       "      <td>0.300695</td>\n",
       "      <td>0.012768</td>\n",
       "      <td>0.643963</td>\n",
       "      <td>0.418830</td>\n",
       "      <td>0.648413</td>\n",
       "      <td>0.410325</td>\n",
       "    </tr>\n",
       "    <tr>\n",
       "      <th>0</th>\n",
       "      <td>XG</td>\n",
       "      <td>0.689855</td>\n",
       "      <td>0.300695</td>\n",
       "      <td>0.012768</td>\n",
       "      <td>0.643963</td>\n",
       "      <td>0.418830</td>\n",
       "      <td>0.648413</td>\n",
       "      <td>0.405514</td>\n",
       "    </tr>\n",
       "    <tr>\n",
       "      <th>0</th>\n",
       "      <td>XG</td>\n",
       "      <td>0.689855</td>\n",
       "      <td>0.300695</td>\n",
       "      <td>0.012768</td>\n",
       "      <td>0.643963</td>\n",
       "      <td>0.418830</td>\n",
       "      <td>0.648413</td>\n",
       "      <td>0.409071</td>\n",
       "    </tr>\n",
       "    <tr>\n",
       "      <th>0</th>\n",
       "      <td>XG</td>\n",
       "      <td>0.689855</td>\n",
       "      <td>0.300695</td>\n",
       "      <td>0.012768</td>\n",
       "      <td>0.643963</td>\n",
       "      <td>0.418830</td>\n",
       "      <td>0.648413</td>\n",
       "      <td>0.432945</td>\n",
       "    </tr>\n",
       "  </tbody>\n",
       "</table>\n",
       "</div>"
      ],
      "text/plain": [
       "  model  precision_test  recall_test  FPR_test  AUROC_test   f1_test  \\\n",
       "0   LGB        0.695153     0.344283  0.014260    0.900028  0.460499   \n",
       "0   LGB        0.695153     0.344283  0.014260    0.900028  0.460499   \n",
       "0   LGB        0.695153     0.344283  0.014260    0.900028  0.460499   \n",
       "0   LGB        0.695153     0.344283  0.014260    0.900028  0.460499   \n",
       "0    RF        0.750000     0.191409  0.006026    0.870985  0.304982   \n",
       "0    RF        0.750000     0.191409  0.006026    0.870985  0.304982   \n",
       "0    RF        0.750000     0.191409  0.006026    0.870985  0.304982   \n",
       "0    RF        0.750000     0.191409  0.006026    0.870985  0.304982   \n",
       "0    XG        0.689855     0.300695  0.012768    0.643963  0.418830   \n",
       "0    XG        0.689855     0.300695  0.012768    0.643963  0.418830   \n",
       "0    XG        0.689855     0.300695  0.012768    0.643963  0.418830   \n",
       "0    XG        0.689855     0.300695  0.012768    0.643963  0.418830   \n",
       "\n",
       "   f1_train     f1_CV  \n",
       "0  0.591588    0.4394  \n",
       "0  0.591588  0.453767  \n",
       "0  0.591588  0.456633  \n",
       "0  0.591588  0.475789  \n",
       "0  0.358146  0.305681  \n",
       "0  0.358146   0.30529  \n",
       "0  0.358146  0.301563  \n",
       "0  0.358146  0.330184  \n",
       "0  0.648413  0.410325  \n",
       "0  0.648413  0.405514  \n",
       "0  0.648413  0.409071  \n",
       "0  0.648413  0.432945  "
      ]
     },
     "execution_count": 36,
     "metadata": {},
     "output_type": "execute_result"
    }
   ],
   "source": [
    "clf_matrix.explode('f1_CV')"
   ]
  },
  {
   "cell_type": "code",
   "execution_count": 37,
   "metadata": {},
   "outputs": [],
   "source": [
    "## Warnings seen on terminal\n",
    "\n",
    "### [LightGBM] [Warning] Unknown parameter: booster\n",
    "### [LightGBM] [Warning] Accuracy may be bad since you didn't set num_leaves and 2^max_depth > num_leaves"
   ]
  },
  {
   "cell_type": "code",
   "execution_count": null,
   "metadata": {},
   "outputs": [],
   "source": []
  },
  {
   "cell_type": "code",
   "execution_count": null,
   "metadata": {},
   "outputs": [],
   "source": []
  }
 ],
 "metadata": {
  "colab": {
   "collapsed_sections": [],
   "name": "Modeling_Iterations.ipynb",
   "provenance": []
  },
  "kernelspec": {
   "display_name": "Python 3",
   "language": "python",
   "name": "python3"
  },
  "language_info": {
   "codemirror_mode": {
    "name": "ipython",
    "version": 3
   },
   "file_extension": ".py",
   "mimetype": "text/x-python",
   "name": "python",
   "nbconvert_exporter": "python",
   "pygments_lexer": "ipython3",
   "version": "3.7.3"
  }
 },
 "nbformat": 4,
 "nbformat_minor": 1
}
